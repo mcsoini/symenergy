version https://git-lfs.github.com/spec/v1
oid sha256:127d4925065f39a68661f830bc0c7b60d4b3d9db0d233073cbe5231a0425281e
size 8840
