{
 "cells": [
  {
   "cell_type": "code",
   "execution_count": 3,
   "metadata": {},
   "outputs": [
    {
     "data": {
      "text/html": [
       "        <script type=\"text/javascript\">\n",
       "        window.PlotlyConfig = {MathJaxConfig: 'local'};\n",
       "        if (window.MathJax) {MathJax.Hub.Config({SVG: {font: \"STIX-Web\"}});}\n",
       "        if (typeof require !== 'undefined') {\n",
       "        require.undef(\"plotly\");\n",
       "        requirejs.config({\n",
       "            paths: {\n",
       "                'plotly': ['https://cdn.plot.ly/plotly-latest.min']\n",
       "            }\n",
       "        });\n",
       "        require(['plotly'], function(Plotly) {\n",
       "            window._Plotly = Plotly;\n",
       "        });\n",
       "        }\n",
       "        </script>\n",
       "        "
      ]
     },
     "metadata": {},
     "output_type": "display_data"
    },
    {
     "name": "stderr",
     "output_type": "stream",
     "text": [
      "/mnt/data/miniconda/envs/symenergy_new/lib/python3.6/site-packages/plotly/graph_objs/_deprecations.py:40: DeprecationWarning:\n",
      "\n",
      "plotly.graph_objs.Data is deprecated.\n",
      "Please replace it with a list or tuple of instances of the following types\n",
      "  - plotly.graph_objs.Scatter\n",
      "  - plotly.graph_objs.Bar\n",
      "  - plotly.graph_objs.Area\n",
      "  - plotly.graph_objs.Histogram\n",
      "  - etc.\n",
      "\n",
      "\n"
     ]
    },
    {
     "data": {
      "application/vnd.plotly.v1+json": {
       "config": {
        "linkText": "Export to plot.ly",
        "plotlyServerURL": "https://plot.ly",
        "showLink": false
       },
       "data": [
        {
         "type": "scatter",
         "x": [
          1,
          2,
          3,
          4
         ],
         "y": [
          10,
          15,
          13,
          17
         ]
        },
        {
         "type": "scatter",
         "x": [
          1,
          2,
          3,
          4
         ],
         "y": [
          16,
          5,
          11,
          9
         ]
        }
       ],
       "layout": {
        "template": {
         "data": {
          "bar": [
           {
            "error_x": {
             "color": "#2a3f5f"
            },
            "error_y": {
             "color": "#2a3f5f"
            },
            "marker": {
             "line": {
              "color": "#E5ECF6",
              "width": 0.5
             }
            },
            "type": "bar"
           }
          ],
          "barpolar": [
           {
            "marker": {
             "line": {
              "color": "#E5ECF6",
              "width": 0.5
             }
            },
            "type": "barpolar"
           }
          ],
          "carpet": [
           {
            "aaxis": {
             "endlinecolor": "#2a3f5f",
             "gridcolor": "white",
             "linecolor": "white",
             "minorgridcolor": "white",
             "startlinecolor": "#2a3f5f"
            },
            "baxis": {
             "endlinecolor": "#2a3f5f",
             "gridcolor": "white",
             "linecolor": "white",
             "minorgridcolor": "white",
             "startlinecolor": "#2a3f5f"
            },
            "type": "carpet"
           }
          ],
          "choropleth": [
           {
            "colorbar": {
             "outlinewidth": 0,
             "ticks": ""
            },
            "type": "choropleth"
           }
          ],
          "contour": [
           {
            "colorbar": {
             "outlinewidth": 0,
             "ticks": ""
            },
            "colorscale": [
             [
              0,
              "#0d0887"
             ],
             [
              0.1111111111111111,
              "#46039f"
             ],
             [
              0.2222222222222222,
              "#7201a8"
             ],
             [
              0.3333333333333333,
              "#9c179e"
             ],
             [
              0.4444444444444444,
              "#bd3786"
             ],
             [
              0.5555555555555556,
              "#d8576b"
             ],
             [
              0.6666666666666666,
              "#ed7953"
             ],
             [
              0.7777777777777778,
              "#fb9f3a"
             ],
             [
              0.8888888888888888,
              "#fdca26"
             ],
             [
              1,
              "#f0f921"
             ]
            ],
            "type": "contour"
           }
          ],
          "contourcarpet": [
           {
            "colorbar": {
             "outlinewidth": 0,
             "ticks": ""
            },
            "type": "contourcarpet"
           }
          ],
          "heatmap": [
           {
            "colorbar": {
             "outlinewidth": 0,
             "ticks": ""
            },
            "colorscale": [
             [
              0,
              "#0d0887"
             ],
             [
              0.1111111111111111,
              "#46039f"
             ],
             [
              0.2222222222222222,
              "#7201a8"
             ],
             [
              0.3333333333333333,
              "#9c179e"
             ],
             [
              0.4444444444444444,
              "#bd3786"
             ],
             [
              0.5555555555555556,
              "#d8576b"
             ],
             [
              0.6666666666666666,
              "#ed7953"
             ],
             [
              0.7777777777777778,
              "#fb9f3a"
             ],
             [
              0.8888888888888888,
              "#fdca26"
             ],
             [
              1,
              "#f0f921"
             ]
            ],
            "type": "heatmap"
           }
          ],
          "heatmapgl": [
           {
            "colorbar": {
             "outlinewidth": 0,
             "ticks": ""
            },
            "colorscale": [
             [
              0,
              "#0d0887"
             ],
             [
              0.1111111111111111,
              "#46039f"
             ],
             [
              0.2222222222222222,
              "#7201a8"
             ],
             [
              0.3333333333333333,
              "#9c179e"
             ],
             [
              0.4444444444444444,
              "#bd3786"
             ],
             [
              0.5555555555555556,
              "#d8576b"
             ],
             [
              0.6666666666666666,
              "#ed7953"
             ],
             [
              0.7777777777777778,
              "#fb9f3a"
             ],
             [
              0.8888888888888888,
              "#fdca26"
             ],
             [
              1,
              "#f0f921"
             ]
            ],
            "type": "heatmapgl"
           }
          ],
          "histogram": [
           {
            "marker": {
             "colorbar": {
              "outlinewidth": 0,
              "ticks": ""
             }
            },
            "type": "histogram"
           }
          ],
          "histogram2d": [
           {
            "colorbar": {
             "outlinewidth": 0,
             "ticks": ""
            },
            "colorscale": [
             [
              0,
              "#0d0887"
             ],
             [
              0.1111111111111111,
              "#46039f"
             ],
             [
              0.2222222222222222,
              "#7201a8"
             ],
             [
              0.3333333333333333,
              "#9c179e"
             ],
             [
              0.4444444444444444,
              "#bd3786"
             ],
             [
              0.5555555555555556,
              "#d8576b"
             ],
             [
              0.6666666666666666,
              "#ed7953"
             ],
             [
              0.7777777777777778,
              "#fb9f3a"
             ],
             [
              0.8888888888888888,
              "#fdca26"
             ],
             [
              1,
              "#f0f921"
             ]
            ],
            "type": "histogram2d"
           }
          ],
          "histogram2dcontour": [
           {
            "colorbar": {
             "outlinewidth": 0,
             "ticks": ""
            },
            "colorscale": [
             [
              0,
              "#0d0887"
             ],
             [
              0.1111111111111111,
              "#46039f"
             ],
             [
              0.2222222222222222,
              "#7201a8"
             ],
             [
              0.3333333333333333,
              "#9c179e"
             ],
             [
              0.4444444444444444,
              "#bd3786"
             ],
             [
              0.5555555555555556,
              "#d8576b"
             ],
             [
              0.6666666666666666,
              "#ed7953"
             ],
             [
              0.7777777777777778,
              "#fb9f3a"
             ],
             [
              0.8888888888888888,
              "#fdca26"
             ],
             [
              1,
              "#f0f921"
             ]
            ],
            "type": "histogram2dcontour"
           }
          ],
          "mesh3d": [
           {
            "colorbar": {
             "outlinewidth": 0,
             "ticks": ""
            },
            "type": "mesh3d"
           }
          ],
          "parcoords": [
           {
            "line": {
             "colorbar": {
              "outlinewidth": 0,
              "ticks": ""
             }
            },
            "type": "parcoords"
           }
          ],
          "scatter": [
           {
            "marker": {
             "colorbar": {
              "outlinewidth": 0,
              "ticks": ""
             }
            },
            "type": "scatter"
           }
          ],
          "scatter3d": [
           {
            "line": {
             "colorbar": {
              "outlinewidth": 0,
              "ticks": ""
             }
            },
            "marker": {
             "colorbar": {
              "outlinewidth": 0,
              "ticks": ""
             }
            },
            "type": "scatter3d"
           }
          ],
          "scattercarpet": [
           {
            "marker": {
             "colorbar": {
              "outlinewidth": 0,
              "ticks": ""
             }
            },
            "type": "scattercarpet"
           }
          ],
          "scattergeo": [
           {
            "marker": {
             "colorbar": {
              "outlinewidth": 0,
              "ticks": ""
             }
            },
            "type": "scattergeo"
           }
          ],
          "scattergl": [
           {
            "marker": {
             "colorbar": {
              "outlinewidth": 0,
              "ticks": ""
             }
            },
            "type": "scattergl"
           }
          ],
          "scattermapbox": [
           {
            "marker": {
             "colorbar": {
              "outlinewidth": 0,
              "ticks": ""
             }
            },
            "type": "scattermapbox"
           }
          ],
          "scatterpolar": [
           {
            "marker": {
             "colorbar": {
              "outlinewidth": 0,
              "ticks": ""
             }
            },
            "type": "scatterpolar"
           }
          ],
          "scatterpolargl": [
           {
            "marker": {
             "colorbar": {
              "outlinewidth": 0,
              "ticks": ""
             }
            },
            "type": "scatterpolargl"
           }
          ],
          "scatterternary": [
           {
            "marker": {
             "colorbar": {
              "outlinewidth": 0,
              "ticks": ""
             }
            },
            "type": "scatterternary"
           }
          ],
          "surface": [
           {
            "colorbar": {
             "outlinewidth": 0,
             "ticks": ""
            },
            "colorscale": [
             [
              0,
              "#0d0887"
             ],
             [
              0.1111111111111111,
              "#46039f"
             ],
             [
              0.2222222222222222,
              "#7201a8"
             ],
             [
              0.3333333333333333,
              "#9c179e"
             ],
             [
              0.4444444444444444,
              "#bd3786"
             ],
             [
              0.5555555555555556,
              "#d8576b"
             ],
             [
              0.6666666666666666,
              "#ed7953"
             ],
             [
              0.7777777777777778,
              "#fb9f3a"
             ],
             [
              0.8888888888888888,
              "#fdca26"
             ],
             [
              1,
              "#f0f921"
             ]
            ],
            "type": "surface"
           }
          ],
          "table": [
           {
            "cells": {
             "fill": {
              "color": "#EBF0F8"
             },
             "line": {
              "color": "white"
             }
            },
            "header": {
             "fill": {
              "color": "#C8D4E3"
             },
             "line": {
              "color": "white"
             }
            },
            "type": "table"
           }
          ]
         },
         "layout": {
          "annotationdefaults": {
           "arrowcolor": "#2a3f5f",
           "arrowhead": 0,
           "arrowwidth": 1
          },
          "colorscale": {
           "diverging": [
            [
             0,
             "#8e0152"
            ],
            [
             0.1,
             "#c51b7d"
            ],
            [
             0.2,
             "#de77ae"
            ],
            [
             0.3,
             "#f1b6da"
            ],
            [
             0.4,
             "#fde0ef"
            ],
            [
             0.5,
             "#f7f7f7"
            ],
            [
             0.6,
             "#e6f5d0"
            ],
            [
             0.7,
             "#b8e186"
            ],
            [
             0.8,
             "#7fbc41"
            ],
            [
             0.9,
             "#4d9221"
            ],
            [
             1,
             "#276419"
            ]
           ],
           "sequential": [
            [
             0,
             "#0d0887"
            ],
            [
             0.1111111111111111,
             "#46039f"
            ],
            [
             0.2222222222222222,
             "#7201a8"
            ],
            [
             0.3333333333333333,
             "#9c179e"
            ],
            [
             0.4444444444444444,
             "#bd3786"
            ],
            [
             0.5555555555555556,
             "#d8576b"
            ],
            [
             0.6666666666666666,
             "#ed7953"
            ],
            [
             0.7777777777777778,
             "#fb9f3a"
            ],
            [
             0.8888888888888888,
             "#fdca26"
            ],
            [
             1,
             "#f0f921"
            ]
           ],
           "sequentialminus": [
            [
             0,
             "#0d0887"
            ],
            [
             0.1111111111111111,
             "#46039f"
            ],
            [
             0.2222222222222222,
             "#7201a8"
            ],
            [
             0.3333333333333333,
             "#9c179e"
            ],
            [
             0.4444444444444444,
             "#bd3786"
            ],
            [
             0.5555555555555556,
             "#d8576b"
            ],
            [
             0.6666666666666666,
             "#ed7953"
            ],
            [
             0.7777777777777778,
             "#fb9f3a"
            ],
            [
             0.8888888888888888,
             "#fdca26"
            ],
            [
             1,
             "#f0f921"
            ]
           ]
          },
          "colorway": [
           "#636efa",
           "#EF553B",
           "#00cc96",
           "#ab63fa",
           "#FFA15A",
           "#19d3f3",
           "#FF6692",
           "#B6E880",
           "#FF97FF",
           "#FECB52"
          ],
          "font": {
           "color": "#2a3f5f"
          },
          "geo": {
           "bgcolor": "white",
           "lakecolor": "white",
           "landcolor": "#E5ECF6",
           "showlakes": true,
           "showland": true,
           "subunitcolor": "white"
          },
          "hoverlabel": {
           "align": "left"
          },
          "hovermode": "closest",
          "mapbox": {
           "style": "light"
          },
          "paper_bgcolor": "white",
          "plot_bgcolor": "#E5ECF6",
          "polar": {
           "angularaxis": {
            "gridcolor": "white",
            "linecolor": "white",
            "ticks": ""
           },
           "bgcolor": "#E5ECF6",
           "radialaxis": {
            "gridcolor": "white",
            "linecolor": "white",
            "ticks": ""
           }
          },
          "scene": {
           "xaxis": {
            "backgroundcolor": "#E5ECF6",
            "gridcolor": "white",
            "gridwidth": 2,
            "linecolor": "white",
            "showbackground": true,
            "ticks": "",
            "zerolinecolor": "white"
           },
           "yaxis": {
            "backgroundcolor": "#E5ECF6",
            "gridcolor": "white",
            "gridwidth": 2,
            "linecolor": "white",
            "showbackground": true,
            "ticks": "",
            "zerolinecolor": "white"
           },
           "zaxis": {
            "backgroundcolor": "#E5ECF6",
            "gridcolor": "white",
            "gridwidth": 2,
            "linecolor": "white",
            "showbackground": true,
            "ticks": "",
            "zerolinecolor": "white"
           }
          },
          "shapedefaults": {
           "line": {
            "color": "#2a3f5f"
           }
          },
          "ternary": {
           "aaxis": {
            "gridcolor": "white",
            "linecolor": "white",
            "ticks": ""
           },
           "baxis": {
            "gridcolor": "white",
            "linecolor": "white",
            "ticks": ""
           },
           "bgcolor": "#E5ECF6",
           "caxis": {
            "gridcolor": "white",
            "linecolor": "white",
            "ticks": ""
           }
          },
          "title": {
           "x": 0.05
          },
          "xaxis": {
           "automargin": true,
           "gridcolor": "white",
           "linecolor": "white",
           "ticks": "",
           "zerolinecolor": "white",
           "zerolinewidth": 2
          },
          "yaxis": {
           "automargin": true,
           "gridcolor": "white",
           "linecolor": "white",
           "ticks": "",
           "zerolinecolor": "white",
           "zerolinewidth": 2
          }
         }
        }
       }
      },
      "text/html": [
       "<div>\n",
       "        \n",
       "        \n",
       "            <div id=\"45920ab6-d348-423c-a6ee-82857ab42337\" class=\"plotly-graph-div\" style=\"height:525px; width:100%;\"></div>\n",
       "            <script type=\"text/javascript\">\n",
       "                require([\"plotly\"], function(Plotly) {\n",
       "                    window.PLOTLYENV=window.PLOTLYENV || {};\n",
       "                    \n",
       "                if (document.getElementById(\"45920ab6-d348-423c-a6ee-82857ab42337\")) {\n",
       "                    Plotly.newPlot(\n",
       "                        '45920ab6-d348-423c-a6ee-82857ab42337',\n",
       "                        [{\"type\": \"scatter\", \"x\": [1, 2, 3, 4], \"y\": [10, 15, 13, 17]}, {\"type\": \"scatter\", \"x\": [1, 2, 3, 4], \"y\": [16, 5, 11, 9]}],\n",
       "                        {\"template\": {\"data\": {\"bar\": [{\"error_x\": {\"color\": \"#2a3f5f\"}, \"error_y\": {\"color\": \"#2a3f5f\"}, \"marker\": {\"line\": {\"color\": \"#E5ECF6\", \"width\": 0.5}}, \"type\": \"bar\"}], \"barpolar\": [{\"marker\": {\"line\": {\"color\": \"#E5ECF6\", \"width\": 0.5}}, \"type\": \"barpolar\"}], \"carpet\": [{\"aaxis\": {\"endlinecolor\": \"#2a3f5f\", \"gridcolor\": \"white\", \"linecolor\": \"white\", \"minorgridcolor\": \"white\", \"startlinecolor\": \"#2a3f5f\"}, \"baxis\": {\"endlinecolor\": \"#2a3f5f\", \"gridcolor\": \"white\", \"linecolor\": \"white\", \"minorgridcolor\": \"white\", \"startlinecolor\": \"#2a3f5f\"}, \"type\": \"carpet\"}], \"choropleth\": [{\"colorbar\": {\"outlinewidth\": 0, \"ticks\": \"\"}, \"type\": \"choropleth\"}], \"contour\": [{\"colorbar\": {\"outlinewidth\": 0, \"ticks\": \"\"}, \"colorscale\": [[0.0, \"#0d0887\"], [0.1111111111111111, \"#46039f\"], [0.2222222222222222, \"#7201a8\"], [0.3333333333333333, \"#9c179e\"], [0.4444444444444444, \"#bd3786\"], [0.5555555555555556, \"#d8576b\"], [0.6666666666666666, \"#ed7953\"], [0.7777777777777778, \"#fb9f3a\"], [0.8888888888888888, \"#fdca26\"], [1.0, \"#f0f921\"]], \"type\": \"contour\"}], \"contourcarpet\": [{\"colorbar\": {\"outlinewidth\": 0, \"ticks\": \"\"}, \"type\": \"contourcarpet\"}], \"heatmap\": [{\"colorbar\": {\"outlinewidth\": 0, \"ticks\": \"\"}, \"colorscale\": [[0.0, \"#0d0887\"], [0.1111111111111111, \"#46039f\"], [0.2222222222222222, \"#7201a8\"], [0.3333333333333333, \"#9c179e\"], [0.4444444444444444, \"#bd3786\"], [0.5555555555555556, \"#d8576b\"], [0.6666666666666666, \"#ed7953\"], [0.7777777777777778, \"#fb9f3a\"], [0.8888888888888888, \"#fdca26\"], [1.0, \"#f0f921\"]], \"type\": \"heatmap\"}], \"heatmapgl\": [{\"colorbar\": {\"outlinewidth\": 0, \"ticks\": \"\"}, \"colorscale\": [[0.0, \"#0d0887\"], [0.1111111111111111, \"#46039f\"], [0.2222222222222222, \"#7201a8\"], [0.3333333333333333, \"#9c179e\"], [0.4444444444444444, \"#bd3786\"], [0.5555555555555556, \"#d8576b\"], [0.6666666666666666, \"#ed7953\"], [0.7777777777777778, \"#fb9f3a\"], [0.8888888888888888, \"#fdca26\"], [1.0, \"#f0f921\"]], \"type\": \"heatmapgl\"}], \"histogram\": [{\"marker\": {\"colorbar\": {\"outlinewidth\": 0, \"ticks\": \"\"}}, \"type\": \"histogram\"}], \"histogram2d\": [{\"colorbar\": {\"outlinewidth\": 0, \"ticks\": \"\"}, \"colorscale\": [[0.0, \"#0d0887\"], [0.1111111111111111, \"#46039f\"], [0.2222222222222222, \"#7201a8\"], [0.3333333333333333, \"#9c179e\"], [0.4444444444444444, \"#bd3786\"], [0.5555555555555556, \"#d8576b\"], [0.6666666666666666, \"#ed7953\"], [0.7777777777777778, \"#fb9f3a\"], [0.8888888888888888, \"#fdca26\"], [1.0, \"#f0f921\"]], \"type\": \"histogram2d\"}], \"histogram2dcontour\": [{\"colorbar\": {\"outlinewidth\": 0, \"ticks\": \"\"}, \"colorscale\": [[0.0, \"#0d0887\"], [0.1111111111111111, \"#46039f\"], [0.2222222222222222, \"#7201a8\"], [0.3333333333333333, \"#9c179e\"], [0.4444444444444444, \"#bd3786\"], [0.5555555555555556, \"#d8576b\"], [0.6666666666666666, \"#ed7953\"], [0.7777777777777778, \"#fb9f3a\"], [0.8888888888888888, \"#fdca26\"], [1.0, \"#f0f921\"]], \"type\": \"histogram2dcontour\"}], \"mesh3d\": [{\"colorbar\": {\"outlinewidth\": 0, \"ticks\": \"\"}, \"type\": \"mesh3d\"}], \"parcoords\": [{\"line\": {\"colorbar\": {\"outlinewidth\": 0, \"ticks\": \"\"}}, \"type\": \"parcoords\"}], \"scatter\": [{\"marker\": {\"colorbar\": {\"outlinewidth\": 0, \"ticks\": \"\"}}, \"type\": \"scatter\"}], \"scatter3d\": [{\"line\": {\"colorbar\": {\"outlinewidth\": 0, \"ticks\": \"\"}}, \"marker\": {\"colorbar\": {\"outlinewidth\": 0, \"ticks\": \"\"}}, \"type\": \"scatter3d\"}], \"scattercarpet\": [{\"marker\": {\"colorbar\": {\"outlinewidth\": 0, \"ticks\": \"\"}}, \"type\": \"scattercarpet\"}], \"scattergeo\": [{\"marker\": {\"colorbar\": {\"outlinewidth\": 0, \"ticks\": \"\"}}, \"type\": \"scattergeo\"}], \"scattergl\": [{\"marker\": {\"colorbar\": {\"outlinewidth\": 0, \"ticks\": \"\"}}, \"type\": \"scattergl\"}], \"scattermapbox\": [{\"marker\": {\"colorbar\": {\"outlinewidth\": 0, \"ticks\": \"\"}}, \"type\": \"scattermapbox\"}], \"scatterpolar\": [{\"marker\": {\"colorbar\": {\"outlinewidth\": 0, \"ticks\": \"\"}}, \"type\": \"scatterpolar\"}], \"scatterpolargl\": [{\"marker\": {\"colorbar\": {\"outlinewidth\": 0, \"ticks\": \"\"}}, \"type\": \"scatterpolargl\"}], \"scatterternary\": [{\"marker\": {\"colorbar\": {\"outlinewidth\": 0, \"ticks\": \"\"}}, \"type\": \"scatterternary\"}], \"surface\": [{\"colorbar\": {\"outlinewidth\": 0, \"ticks\": \"\"}, \"colorscale\": [[0.0, \"#0d0887\"], [0.1111111111111111, \"#46039f\"], [0.2222222222222222, \"#7201a8\"], [0.3333333333333333, \"#9c179e\"], [0.4444444444444444, \"#bd3786\"], [0.5555555555555556, \"#d8576b\"], [0.6666666666666666, \"#ed7953\"], [0.7777777777777778, \"#fb9f3a\"], [0.8888888888888888, \"#fdca26\"], [1.0, \"#f0f921\"]], \"type\": \"surface\"}], \"table\": [{\"cells\": {\"fill\": {\"color\": \"#EBF0F8\"}, \"line\": {\"color\": \"white\"}}, \"header\": {\"fill\": {\"color\": \"#C8D4E3\"}, \"line\": {\"color\": \"white\"}}, \"type\": \"table\"}]}, \"layout\": {\"annotationdefaults\": {\"arrowcolor\": \"#2a3f5f\", \"arrowhead\": 0, \"arrowwidth\": 1}, \"colorscale\": {\"diverging\": [[0, \"#8e0152\"], [0.1, \"#c51b7d\"], [0.2, \"#de77ae\"], [0.3, \"#f1b6da\"], [0.4, \"#fde0ef\"], [0.5, \"#f7f7f7\"], [0.6, \"#e6f5d0\"], [0.7, \"#b8e186\"], [0.8, \"#7fbc41\"], [0.9, \"#4d9221\"], [1, \"#276419\"]], \"sequential\": [[0.0, \"#0d0887\"], [0.1111111111111111, \"#46039f\"], [0.2222222222222222, \"#7201a8\"], [0.3333333333333333, \"#9c179e\"], [0.4444444444444444, \"#bd3786\"], [0.5555555555555556, \"#d8576b\"], [0.6666666666666666, \"#ed7953\"], [0.7777777777777778, \"#fb9f3a\"], [0.8888888888888888, \"#fdca26\"], [1.0, \"#f0f921\"]], \"sequentialminus\": [[0.0, \"#0d0887\"], [0.1111111111111111, \"#46039f\"], [0.2222222222222222, \"#7201a8\"], [0.3333333333333333, \"#9c179e\"], [0.4444444444444444, \"#bd3786\"], [0.5555555555555556, \"#d8576b\"], [0.6666666666666666, \"#ed7953\"], [0.7777777777777778, \"#fb9f3a\"], [0.8888888888888888, \"#fdca26\"], [1.0, \"#f0f921\"]]}, \"colorway\": [\"#636efa\", \"#EF553B\", \"#00cc96\", \"#ab63fa\", \"#FFA15A\", \"#19d3f3\", \"#FF6692\", \"#B6E880\", \"#FF97FF\", \"#FECB52\"], \"font\": {\"color\": \"#2a3f5f\"}, \"geo\": {\"bgcolor\": \"white\", \"lakecolor\": \"white\", \"landcolor\": \"#E5ECF6\", \"showlakes\": true, \"showland\": true, \"subunitcolor\": \"white\"}, \"hoverlabel\": {\"align\": \"left\"}, \"hovermode\": \"closest\", \"mapbox\": {\"style\": \"light\"}, \"paper_bgcolor\": \"white\", \"plot_bgcolor\": \"#E5ECF6\", \"polar\": {\"angularaxis\": {\"gridcolor\": \"white\", \"linecolor\": \"white\", \"ticks\": \"\"}, \"bgcolor\": \"#E5ECF6\", \"radialaxis\": {\"gridcolor\": \"white\", \"linecolor\": \"white\", \"ticks\": \"\"}}, \"scene\": {\"xaxis\": {\"backgroundcolor\": \"#E5ECF6\", \"gridcolor\": \"white\", \"gridwidth\": 2, \"linecolor\": \"white\", \"showbackground\": true, \"ticks\": \"\", \"zerolinecolor\": \"white\"}, \"yaxis\": {\"backgroundcolor\": \"#E5ECF6\", \"gridcolor\": \"white\", \"gridwidth\": 2, \"linecolor\": \"white\", \"showbackground\": true, \"ticks\": \"\", \"zerolinecolor\": \"white\"}, \"zaxis\": {\"backgroundcolor\": \"#E5ECF6\", \"gridcolor\": \"white\", \"gridwidth\": 2, \"linecolor\": \"white\", \"showbackground\": true, \"ticks\": \"\", \"zerolinecolor\": \"white\"}}, \"shapedefaults\": {\"line\": {\"color\": \"#2a3f5f\"}}, \"ternary\": {\"aaxis\": {\"gridcolor\": \"white\", \"linecolor\": \"white\", \"ticks\": \"\"}, \"baxis\": {\"gridcolor\": \"white\", \"linecolor\": \"white\", \"ticks\": \"\"}, \"bgcolor\": \"#E5ECF6\", \"caxis\": {\"gridcolor\": \"white\", \"linecolor\": \"white\", \"ticks\": \"\"}}, \"title\": {\"x\": 0.05}, \"xaxis\": {\"automargin\": true, \"gridcolor\": \"white\", \"linecolor\": \"white\", \"ticks\": \"\", \"zerolinecolor\": \"white\", \"zerolinewidth\": 2}, \"yaxis\": {\"automargin\": true, \"gridcolor\": \"white\", \"linecolor\": \"white\", \"ticks\": \"\", \"zerolinecolor\": \"white\", \"zerolinewidth\": 2}}}},\n",
       "                        {\"responsive\": true}\n",
       "                    ).then(function(){\n",
       "                            \n",
       "var gd = document.getElementById('45920ab6-d348-423c-a6ee-82857ab42337');\n",
       "var x = new MutationObserver(function (mutations, observer) {{\n",
       "        var display = window.getComputedStyle(gd).display;\n",
       "        if (!display || display === 'none') {{\n",
       "            console.log([gd, 'removed!']);\n",
       "            Plotly.purge(gd);\n",
       "            observer.disconnect();\n",
       "        }}\n",
       "}});\n",
       "\n",
       "// Listen for the removal of the full notebook cells\n",
       "var notebookContainer = gd.closest('#notebook-container');\n",
       "if (notebookContainer) {{\n",
       "    x.observe(notebookContainer, {childList: true});\n",
       "}}\n",
       "\n",
       "// Listen for the clearing of the current output cell\n",
       "var outputEl = gd.closest('.output');\n",
       "if (outputEl) {{\n",
       "    x.observe(outputEl, {childList: true});\n",
       "}}\n",
       "\n",
       "                        })\n",
       "                };\n",
       "                });\n",
       "            </script>\n",
       "        </div>"
      ]
     },
     "metadata": {},
     "output_type": "display_data"
    }
   ],
   "source": [
    "from plotly.offline import init_notebook_mode, iplot\n",
    "from plotly.graph_objs import *\n",
    "\n",
    "init_notebook_mode(connected=True)         # initiate notebook for offline plot\n",
    "\n",
    "trace0 = Scatter(\n",
    "  x=[1, 2, 3, 4],\n",
    "  y=[10, 15, 13, 17]\n",
    ")\n",
    "trace1 = Scatter(\n",
    "  x=[1, 2, 3, 4],\n",
    "  y=[16, 5, 11, 9]\n",
    ")\n",
    "data = Data([trace0, trace1])\n",
    "\n",
    "iplot(data)               # use plotly.offline.iplot for offline plot"
   ]
  },
  {
   "cell_type": "markdown",
   "metadata": {},
   "source": [
    "# Cookbook"
   ]
  },
  {
   "cell_type": "code",
   "execution_count": 1,
   "metadata": {},
   "outputs": [
    {
     "name": "stderr",
     "output_type": "stream",
     "text": [
      "> 12:16:50 - WARNING - symenergy.core.model - !!! Monkey-patching sympy.linsolve !!!\n"
     ]
    }
   ],
   "source": [
    "from symenergy.core import model"
   ]
  },
  {
   "cell_type": "markdown",
   "metadata": {},
   "source": [
    "## Simple example\n",
    "\n",
    "We set up a simple model with two time slots, gas power plants with a linear cost supply curve, and pumped-hydro storage (PHS) plants."
   ]
  },
  {
   "cell_type": "code",
   "execution_count": 48,
   "metadata": {
    "scrolled": true
   },
   "outputs": [
    {
     "name": "stderr",
     "output_type": "stream",
     "text": [
      "> 12:47:05 - INFO - symenergy.core.asset - Variable pchg has time dependence True\n",
      "> 12:47:05 - INFO - symenergy.core.asset - Variable pdch has time dependence True\n",
      "> 12:47:05 - INFO - symenergy.core.asset - Variable e has time dependence True\n",
      "> 12:47:05 - INFO - symenergy.core.asset - Variable pchg has time dependence True\n",
      "> 12:47:05 - INFO - symenergy.core.asset - Variable pdch has time dependence True\n",
      "> 12:47:05 - INFO - symenergy.core.asset - Variable e has time dependence True\n",
      "> 12:47:05 - INFO - symenergy.core.asset - Variable p has time dependence True\n",
      "> 12:47:05 - INFO - symenergy.core.asset - Variable p has time dependence True\n",
      "> 12:47:05 - DEBUG - symenergy.core.component - Generating component hash.\n",
      "> 12:47:05 - DEBUG - symenergy.core.slot - Generating time slot hash.\n",
      "> 12:47:05 - DEBUG - symenergy.core.component - Generating component hash.\n",
      "> 12:47:05 - DEBUG - symenergy.core.slot - Generating time slot hash.\n",
      "> 12:47:05 - DEBUG - symenergy.core.component - Generating component hash.\n",
      "> 12:47:05 - DEBUG - symenergy.core.asset - Generating asset hash.\n",
      "> 12:47:05 - DEBUG - symenergy.assets.storage - Generating storage hash.\n",
      "> 12:47:05 - DEBUG - symenergy.core.component - Generating component hash.\n",
      "> 12:47:05 - DEBUG - symenergy.core.asset - Generating asset hash.\n",
      "> 12:47:05 - INFO - symenergy.core.asset - Variable p has time dependence True\n",
      "> 12:47:05 - INFO - symenergy.core.asset - Variable p has time dependence True\n",
      "> 12:47:05 - INFO - symenergy.core.asset - Variable p has time dependence True\n",
      "> 12:47:05 - INFO - symenergy.core.asset - Variable p has time dependence True\n",
      "> 12:47:05 - DEBUG - symenergy.core.component - Generating component hash.\n",
      "> 12:47:05 - DEBUG - symenergy.core.asset - Generating asset hash.\n",
      "> 12:47:05 - DEBUG - symenergy.core.component - Generating component hash.\n",
      "> 12:47:05 - DEBUG - symenergy.core.slot - Generating time slot hash.\n",
      "> 12:47:05 - DEBUG - symenergy.core.component - Generating component hash.\n",
      "> 12:47:05 - DEBUG - symenergy.core.slot - Generating time slot hash.\n",
      "> 12:47:05 - DEBUG - symenergy.core.component - Generating component hash.\n",
      "> 12:47:05 - DEBUG - symenergy.core.asset - Generating asset hash.\n",
      "> 12:47:05 - DEBUG - symenergy.assets.storage - Generating storage hash.\n",
      "> 12:47:05 - DEBUG - symenergy.core.component - Generating component hash.\n",
      "> 12:47:05 - DEBUG - symenergy.core.asset - Generating asset hash.\n",
      "> 12:47:05 - INFO - symenergy.auxiliary.io - File doesn't exist. Could not remove symenergy/cache/2E0674EFD2F7.pickle\n",
      "> 12:47:06 - INFO - symenergy.auxiliary.constrcomb - Init CstrCombBase \"Power plant output not simult. max end zero\"\n",
      "> 12:47:06 - WARNING - symenergy.auxiliary.constrcomb - Aborting gen_col_combs: missing constraints ('p_cap_C',)\n",
      "> 12:47:06 - INFO - symenergy.core.component - ******************************gas******************************\n",
      "> 12:47:06 - INFO - symenergy.core.component - Component gas: Generating df_comb with length 4...\n",
      "> 12:47:06 - INFO - symenergy.core.component - ...done.\n",
      "> 12:47:06 - INFO - symenergy.core.component - ******************************night******************************\n",
      "> 12:47:06 - INFO - symenergy.core.component - Component night: Generating df_comb with length 1...\n",
      "> 12:47:06 - INFO - symenergy.core.component - ...done.\n",
      "> 12:47:06 - INFO - symenergy.core.component - ******************************day******************************\n",
      "> 12:47:06 - INFO - symenergy.core.component - Component day: Generating df_comb with length 1...\n",
      "> 12:47:06 - INFO - symenergy.core.component - ...done.\n",
      "> 12:47:06 - INFO - symenergy.auxiliary.constrcomb - Init CstrCombBase \"Full storage can`t charge\"\n",
      "> 12:47:06 - WARNING - symenergy.auxiliary.constrcomb - Aborting gen_col_combs: missing constraints ('e_cap_E',)\n",
      "> 12:47:06 - INFO - symenergy.auxiliary.constrcomb - Init CstrCombBase \"No simultaneous non-zero charging and non-zero discharging\"\n",
      "> 12:47:06 - DEBUG - symenergy.auxiliary.constrcomb - {'this'}\n",
      "> 12:47:06 - INFO - symenergy.auxiliary.constrcomb - ... expanded to 2 column combinations: [(('act_lb_phs_pos_pchg_night', False), ('act_lb_phs_pos_pdch_night', False)), (('act_lb_phs_pos_pchg_day', False), ('act_lb_phs_pos_pdch_day', False))]\n",
      "> 12:47:06 - INFO - symenergy.auxiliary.constrcomb - Init CstrCombBase \"No simultaneous full-power charging and full-power discharging\"\n",
      "> 12:47:06 - WARNING - symenergy.auxiliary.constrcomb - Aborting gen_col_combs: missing constraints ('pchg_cap_C', 'pdch_cap_C')\n",
      "> 12:47:06 - INFO - symenergy.auxiliary.constrcomb - Init CstrCombBase \"Storage energy not simult. full and empty\"\n",
      "> 12:47:06 - WARNING - symenergy.auxiliary.constrcomb - Aborting gen_col_combs: missing constraints ('e_cap_E',)\n",
      "> 12:47:06 - INFO - symenergy.auxiliary.constrcomb - Init CstrCombBase \"Storage charging not simult. max end zero\"\n",
      "> 12:47:06 - WARNING - symenergy.auxiliary.constrcomb - Aborting gen_col_combs: missing constraints ('pchg_cap_C',)\n",
      "> 12:47:06 - INFO - symenergy.auxiliary.constrcomb - Init CstrCombBase \"Storage discharging not simult. max end zero\"\n",
      "> 12:47:06 - WARNING - symenergy.auxiliary.constrcomb - Aborting gen_col_combs: missing constraints ('pdch_cap_C',)\n",
      "> 12:47:06 - INFO - symenergy.auxiliary.constrcomb - Init CstrCombBase \"All charging zero -> each discharging cannot be non-zero\"\n",
      "> 12:47:06 - DEBUG - symenergy.auxiliary.constrcomb - {'this', 'all'}\n",
      "> 12:47:06 - INFO - symenergy.auxiliary.constrcomb - ... expanded to 2 column combinations: [[('act_lb_phs_pos_pchg_night', True), ('act_lb_phs_pos_pchg_day', True), ('act_lb_phs_pos_pdch_night', False)], [('act_lb_phs_pos_pchg_day', True), ('act_lb_phs_pos_pchg_night', True), ('act_lb_phs_pos_pdch_day', False)]]\n",
      "> 12:47:06 - INFO - symenergy.auxiliary.constrcomb - Init CstrCombBase \"All discharging zero -> each charging cannot be non-zero\"\n",
      "> 12:47:06 - DEBUG - symenergy.auxiliary.constrcomb - {'this', 'all'}\n",
      "> 12:47:06 - INFO - symenergy.auxiliary.constrcomb - ... expanded to 2 column combinations: [[('act_lb_phs_pos_pdch_night', True), ('act_lb_phs_pos_pdch_day', True), ('act_lb_phs_pos_pchg_night', False)], [('act_lb_phs_pos_pdch_day', True), ('act_lb_phs_pos_pdch_night', True), ('act_lb_phs_pos_pchg_day', False)]]\n",
      "> 12:47:06 - INFO - symenergy.auxiliary.constrcomb - Init CstrCombBase \"All charging zero -> each energy cannot be non-zero\"\n",
      "> 12:47:06 - DEBUG - symenergy.auxiliary.constrcomb - {'this', 'all'}\n",
      "> 12:47:06 - INFO - symenergy.auxiliary.constrcomb - ... expanded to 2 column combinations: [[('act_lb_phs_pos_pchg_night', True), ('act_lb_phs_pos_pchg_day', True), ('act_lb_phs_pos_e_night', False)], [('act_lb_phs_pos_pchg_day', True), ('act_lb_phs_pos_pchg_night', True), ('act_lb_phs_pos_e_day', False)]]\n",
      "> 12:47:06 - INFO - symenergy.auxiliary.constrcomb - Init CstrCombBase \"All discharging zero -> each energy cannot be non-zero\"\n",
      "> 12:47:06 - DEBUG - symenergy.auxiliary.constrcomb - {'this', 'all'}\n",
      "> 12:47:06 - INFO - symenergy.auxiliary.constrcomb - ... expanded to 2 column combinations: [[('act_lb_phs_pos_pdch_night', True), ('act_lb_phs_pos_pdch_day', True), ('act_lb_phs_pos_e_night', False)], [('act_lb_phs_pos_pdch_day', True), ('act_lb_phs_pos_pdch_night', True), ('act_lb_phs_pos_e_day', False)]]\n",
      "> 12:47:06 - INFO - symenergy.auxiliary.constrcomb - Init CstrCombBase \"Empty storage stays empty w/o charging_0\"\n",
      "> 12:47:06 - DEBUG - symenergy.auxiliary.constrcomb - {'anyprev', 'lasts', 'this'}\n",
      "> 12:47:06 - INFO - symenergy.auxiliary.constrcomb - ... expanded to 2 column combinations: [[('act_lb_phs_pos_e_day', True), ('act_lb_phs_pos_pchg_night', True), ('act_lb_phs_pos_e_night', False)], [('act_lb_phs_pos_e_night', True), ('act_lb_phs_pos_pchg_day', True), ('act_lb_phs_pos_e_day', False)]]\n",
      "> 12:47:06 - INFO - symenergy.auxiliary.constrcomb - Init CstrCombBase \"Empty storage stays empty w/o charging_1\"\n",
      "> 12:47:06 - DEBUG - symenergy.auxiliary.constrcomb - {'anyprev', 'lasts', 'this'}\n",
      "> 12:47:06 - INFO - symenergy.auxiliary.constrcomb - ... expanded to 2 column combinations: [[('act_lb_phs_pos_e_day', True), ('act_lb_phs_pos_pchg_night', False), ('act_lb_phs_pos_e_night', True)], [('act_lb_phs_pos_e_night', True), ('act_lb_phs_pos_pchg_day', False), ('act_lb_phs_pos_e_day', True)]]\n"
     ]
    },
    {
     "name": "stderr",
     "output_type": "stream",
     "text": [
      "> 12:47:06 - INFO - symenergy.auxiliary.constrcomb - Init CstrCombBase \"Full storage stays full w/o discharging_0\"\n",
      "> 12:47:06 - WARNING - symenergy.auxiliary.constrcomb - Aborting gen_col_combs: missing constraints ('e_cap_E', 'e_cap_E')\n",
      "> 12:47:06 - INFO - symenergy.auxiliary.constrcomb - Init CstrCombBase \"Full storage stays full w/o discharging_1\"\n",
      "> 12:47:06 - WARNING - symenergy.auxiliary.constrcomb - Aborting gen_col_combs: missing constraints ('e_cap_E', 'e_cap_E')\n",
      "> 12:47:06 - INFO - symenergy.auxiliary.constrcomb - Init CstrCombBase \"Empty storage can`t discharge\"\n",
      "> 12:47:06 - DEBUG - symenergy.auxiliary.constrcomb - {'this', 'last'}\n",
      "> 12:47:06 - INFO - symenergy.auxiliary.constrcomb - ... expanded to 2 column combinations: [[('act_lb_phs_pos_e_day', True), ('act_lb_phs_pos_pdch_night', False)], [('act_lb_phs_pos_e_night', True), ('act_lb_phs_pos_pdch_day', False)]]\n",
      "> 12:47:06 - INFO - symenergy.auxiliary.constrcomb - Init CstrCombBase \"All energy zero -> each charging cannot be non-zero\"\n",
      "> 12:47:06 - DEBUG - symenergy.auxiliary.constrcomb - {'this', 'all'}\n",
      "> 12:47:06 - INFO - symenergy.auxiliary.constrcomb - ... expanded to 2 column combinations: [[('act_lb_phs_pos_e_night', True), ('act_lb_phs_pos_e_day', True), ('act_lb_phs_pos_pchg_night', False)], [('act_lb_phs_pos_e_day', True), ('act_lb_phs_pos_e_night', True), ('act_lb_phs_pos_pchg_day', False)]]\n",
      "> 12:47:06 - INFO - symenergy.auxiliary.constrcomb - Init CstrCombBase \"All energy zero -> each discharging cannot be non-zero\"\n",
      "> 12:47:06 - DEBUG - symenergy.auxiliary.constrcomb - {'this', 'all'}\n",
      "> 12:47:06 - INFO - symenergy.auxiliary.constrcomb - ... expanded to 2 column combinations: [[('act_lb_phs_pos_e_night', True), ('act_lb_phs_pos_e_day', True), ('act_lb_phs_pos_pdch_night', False)], [('act_lb_phs_pos_e_day', True), ('act_lb_phs_pos_e_night', True), ('act_lb_phs_pos_pdch_day', False)]]\n",
      "> 12:47:06 - INFO - symenergy.core.component - ******************************phs******************************\n",
      "> 12:47:06 - INFO - symenergy.core.component - Component phs: Generating df_comb with length 64...\n",
      "> 12:47:06 - INFO - symenergy.core.component - ...done.\n",
      "> 12:47:06 - INFO - symenergy.auxiliary.constrcomb - Deleting constraint combination: (('act_lb_phs_pos_pchg_night', False), ('act_lb_phs_pos_pdch_night', False))\n",
      "> 12:47:06 - INFO - symenergy.auxiliary.constrcomb - ... total deleted: 16 (25.0%), remaining: 48\n",
      "> 12:47:06 - INFO - symenergy.auxiliary.constrcomb - Deleting constraint combination: (('act_lb_phs_pos_pchg_day', False), ('act_lb_phs_pos_pdch_day', False))\n",
      "> 12:47:06 - INFO - symenergy.auxiliary.constrcomb - ... total deleted: 12 (18.8%), remaining: 36\n",
      "> 12:47:06 - INFO - symenergy.auxiliary.constrcomb - Deleting constraint combination: [('act_lb_phs_pos_pchg_night', True), ('act_lb_phs_pos_pchg_day', True), ('act_lb_phs_pos_pdch_night', False)]\n",
      "> 12:47:06 - INFO - symenergy.auxiliary.constrcomb - ... total deleted: 8 (12.5%), remaining: 28\n",
      "> 12:47:06 - INFO - symenergy.auxiliary.constrcomb - Deleting constraint combination: [('act_lb_phs_pos_pchg_day', True), ('act_lb_phs_pos_pchg_night', True), ('act_lb_phs_pos_pdch_day', False)]\n",
      "> 12:47:06 - INFO - symenergy.auxiliary.constrcomb - ... total deleted: 4 (6.2%), remaining: 24\n",
      "> 12:47:06 - INFO - symenergy.auxiliary.constrcomb - Deleting constraint combination: [('act_lb_phs_pos_pdch_night', True), ('act_lb_phs_pos_pdch_day', True), ('act_lb_phs_pos_pchg_night', False)]\n",
      "> 12:47:06 - INFO - symenergy.auxiliary.constrcomb - ... total deleted: 8 (12.5%), remaining: 16\n",
      "> 12:47:06 - INFO - symenergy.auxiliary.constrcomb - Deleting constraint combination: [('act_lb_phs_pos_pdch_day', True), ('act_lb_phs_pos_pdch_night', True), ('act_lb_phs_pos_pchg_day', False)]\n",
      "> 12:47:06 - INFO - symenergy.auxiliary.constrcomb - ... total deleted: 4 (6.2%), remaining: 12\n",
      "> 12:47:06 - INFO - symenergy.auxiliary.constrcomb - Deleting constraint combination: [('act_lb_phs_pos_pchg_night', True), ('act_lb_phs_pos_pchg_day', True), ('act_lb_phs_pos_e_night', False)]\n",
      "> 12:47:06 - INFO - symenergy.auxiliary.constrcomb - ... total deleted: 2 (3.1%), remaining: 10\n",
      "> 12:47:06 - INFO - symenergy.auxiliary.constrcomb - Deleting constraint combination: [('act_lb_phs_pos_pchg_day', True), ('act_lb_phs_pos_pchg_night', True), ('act_lb_phs_pos_e_day', False)]\n",
      "> 12:47:06 - INFO - symenergy.auxiliary.constrcomb - ... total deleted: 1 (1.6%), remaining: 9\n",
      "> 12:47:06 - INFO - symenergy.auxiliary.constrcomb - Deleting constraint combination: [('act_lb_phs_pos_pdch_night', True), ('act_lb_phs_pos_pdch_day', True), ('act_lb_phs_pos_e_night', False)]\n",
      "> 12:47:06 - INFO - symenergy.auxiliary.constrcomb - ... total deleted: 0 (0.0%), remaining: 9\n",
      "> 12:47:06 - INFO - symenergy.auxiliary.constrcomb - Deleting constraint combination: [('act_lb_phs_pos_pdch_day', True), ('act_lb_phs_pos_pdch_night', True), ('act_lb_phs_pos_e_day', False)]\n",
      "> 12:47:06 - INFO - symenergy.auxiliary.constrcomb - ... total deleted: 0 (0.0%), remaining: 9\n",
      "> 12:47:06 - INFO - symenergy.auxiliary.constrcomb - Deleting constraint combination: [('act_lb_phs_pos_e_day', True), ('act_lb_phs_pos_pchg_night', True), ('act_lb_phs_pos_e_night', False)]\n",
      "> 12:47:06 - INFO - symenergy.auxiliary.constrcomb - ... total deleted: 1 (1.6%), remaining: 8\n",
      "> 12:47:06 - INFO - symenergy.auxiliary.constrcomb - Deleting constraint combination: [('act_lb_phs_pos_e_night', True), ('act_lb_phs_pos_pchg_day', True), ('act_lb_phs_pos_e_day', False)]\n",
      "> 12:47:06 - INFO - symenergy.auxiliary.constrcomb - ... total deleted: 1 (1.6%), remaining: 7\n",
      "> 12:47:06 - INFO - symenergy.auxiliary.constrcomb - Deleting constraint combination: [('act_lb_phs_pos_e_day', True), ('act_lb_phs_pos_pchg_night', False), ('act_lb_phs_pos_e_night', True)]\n",
      "> 12:47:06 - INFO - symenergy.auxiliary.constrcomb - ... total deleted: 1 (1.6%), remaining: 6\n",
      "> 12:47:06 - INFO - symenergy.auxiliary.constrcomb - Deleting constraint combination: [('act_lb_phs_pos_e_night', True), ('act_lb_phs_pos_pchg_day', False), ('act_lb_phs_pos_e_day', True)]\n",
      "> 12:47:06 - INFO - symenergy.auxiliary.constrcomb - ... total deleted: 1 (1.6%), remaining: 5\n",
      "> 12:47:06 - INFO - symenergy.auxiliary.constrcomb - Deleting constraint combination: [('act_lb_phs_pos_e_day', True), ('act_lb_phs_pos_pdch_night', False)]\n",
      "> 12:47:06 - INFO - symenergy.auxiliary.constrcomb - ... total deleted: 0 (0.0%), remaining: 5\n",
      "> 12:47:06 - INFO - symenergy.auxiliary.constrcomb - Deleting constraint combination: [('act_lb_phs_pos_e_night', True), ('act_lb_phs_pos_pdch_day', False)]\n",
      "> 12:47:06 - INFO - symenergy.auxiliary.constrcomb - ... total deleted: 0 (0.0%), remaining: 5\n",
      "> 12:47:06 - INFO - symenergy.auxiliary.constrcomb - Deleting constraint combination: [('act_lb_phs_pos_e_night', True), ('act_lb_phs_pos_e_day', True), ('act_lb_phs_pos_pchg_night', False)]\n",
      "> 12:47:06 - INFO - symenergy.auxiliary.constrcomb - ... total deleted: 0 (0.0%), remaining: 5\n",
      "> 12:47:06 - INFO - symenergy.auxiliary.constrcomb - Deleting constraint combination: [('act_lb_phs_pos_e_day', True), ('act_lb_phs_pos_e_night', True), ('act_lb_phs_pos_pchg_day', False)]\n",
      "> 12:47:06 - INFO - symenergy.auxiliary.constrcomb - ... total deleted: 0 (0.0%), remaining: 5\n",
      "> 12:47:06 - INFO - symenergy.auxiliary.constrcomb - Deleting constraint combination: [('act_lb_phs_pos_e_night', True), ('act_lb_phs_pos_e_day', True), ('act_lb_phs_pos_pdch_night', False)]\n",
      "> 12:47:06 - INFO - symenergy.auxiliary.constrcomb - ... total deleted: 0 (0.0%), remaining: 5\n",
      "> 12:47:06 - INFO - symenergy.auxiliary.constrcomb - Deleting constraint combination: [('act_lb_phs_pos_e_day', True), ('act_lb_phs_pos_e_night', True), ('act_lb_phs_pos_pdch_day', False)]\n",
      "> 12:47:06 - INFO - symenergy.auxiliary.constrcomb - ... total deleted: 0 (0.0%), remaining: 5\n",
      "> 12:47:06 - INFO - symenergy.core.component - ******************************curt******************************\n",
      "> 12:47:06 - INFO - symenergy.core.component - Component curt: Generating df_comb with length 4...\n",
      "> 12:47:06 - INFO - symenergy.core.component - ...done.\n",
      "> 12:47:06 - INFO - symenergy.core.model - Length of merged df_comb: 80\n",
      "> 12:47:06 - INFO - symenergy.core.model - ******************************model filtering******************************\n"
     ]
    },
    {
     "name": "stderr",
     "output_type": "stream",
     "text": [
      "> 12:47:06 - INFO - symenergy.auxiliary.constrcomb - Deleting constraint combination: (('act_lb_gas_pos_p_night', False), ('act_lb_curt_pos_p_night', False))\n",
      "> 12:47:06 - INFO - symenergy.auxiliary.constrcomb - ... total deleted: 20 (25.0%), remaining: 60\n",
      "> 12:47:06 - INFO - symenergy.auxiliary.constrcomb - Deleting constraint combination: (('act_lb_gas_pos_p_day', False), ('act_lb_curt_pos_p_day', False))\n",
      "> 12:47:06 - INFO - symenergy.auxiliary.constrcomb - ... total deleted: 15 (18.8%), remaining: 45\n",
      "> 12:47:06 - INFO - symenergy.auxiliary.constrcomb - Deleting constraint combination: (('act_lb_phs_pos_pdch_night', False), ('act_lb_curt_pos_p_night', False))\n",
      "> 12:47:06 - INFO - symenergy.auxiliary.constrcomb - ... total deleted: 6 (7.5%), remaining: 39\n",
      "> 12:47:06 - INFO - symenergy.auxiliary.constrcomb - Deleting constraint combination: (('act_lb_phs_pos_pdch_day', False), ('act_lb_curt_pos_p_day', False))\n",
      "> 12:47:06 - INFO - symenergy.auxiliary.constrcomb - ... total deleted: 6 (7.5%), remaining: 33\n",
      "> 12:47:06 - INFO - symenergy.core.model - Defining lagrangians...\n",
      "> 12:47:07 - INFO - symenergy.auxiliary.parallelization - Construct lagrange: 18/33 (54.5%), chunksize 3, tavg=7.4ms, tcur=7.3ms\n",
      "> 12:47:07 - INFO - symenergy.auxiliary.parallelization - Construct lagrange: 18/33 (54.5%), chunksize 2, tavg=11.0ms, tcur=10.7ms\n",
      "> 12:47:07 - INFO - symenergy.auxiliary.parallelization - Construct lagrange: 10/33 (30.3%), chunksize 3, tavg=7.3ms, tcur=7.9ms\n",
      "> 12:47:07 - INFO - symenergy.auxiliary.parallelization - Construct lagrange: 11/33 (33.3%), chunksize 3, tavg=7.3ms, tcur=7.4ms\n",
      "> 12:47:07 - INFO - symenergy.auxiliary.parallelization - Construct lagrange: 19/33 (57.6%), chunksize 2, tavg=11.1ms, tcur=15.1ms\n",
      "> 12:47:07 - INFO - symenergy.auxiliary.parallelization - Construct lagrange: 6/33 (18.2%), chunksize 3, tavg=7.3ms, tcur=7.3ms\n",
      "> 12:47:07 - INFO - symenergy.auxiliary.parallelization - Construct lagrange: 12/33 (36.4%), chunksize 3, tavg=7.4ms, tcur=8.3ms\n",
      "> 12:47:07 - INFO - symenergy.auxiliary.parallelization - Construct lagrange: 24/33 (72.7%), chunksize 2, tavg=11.0ms, tcur=9.9ms\n",
      "> 12:47:07 - INFO - symenergy.auxiliary.parallelization - Construct lagrange: 23/33 (69.7%), chunksize 2, tavg=11.0ms, tcur=6.3ms\n",
      "> 12:47:07 - INFO - symenergy.auxiliary.parallelization - Construct lagrange: 33/33 (100.0%), chunksize 2, tavg=11.0ms, tcur=8.5ms\n",
      "> 12:47:07 - INFO - symenergy.auxiliary.parallelization - Construct lagrange: 27/33 (81.8%), chunksize 2, tavg=11.0ms, tcur=12.9ms\n",
      "> 12:47:07 - INFO - symenergy.auxiliary.parallelization - Construct lagrange: 29/33 (87.9%), chunksize 2, tavg=11.1ms, tcur=14.9ms\n",
      "> 12:47:07 - INFO - symenergy.auxiliary.parallelization - Construct lagrange: 31/33 (93.9%), chunksize 2, tavg=11.0ms, tcur=7.4ms\n",
      "> 12:47:07 - INFO - symenergy.auxiliary.parallelization - Construct lagrange: 32/33 (97.0%), chunksize 2, tavg=11.1ms, tcur=13.4ms\n",
      "> 12:47:07 - INFO - symenergy.auxiliary.parallelization - parallelize_df: concatenating ... \n",
      "> 12:47:07 - INFO - symenergy.auxiliary.parallelization - done.\n",
      "> 12:47:07 - INFO - symenergy.core.model - Getting selected variables/multipliers...\n",
      "> 12:47:07 - INFO - symenergy.auxiliary.parallelization - Get variabs/multipliers: 18/33 (54.5%), chunksize 2, tavg=13.1ms, tcur=14.1ms\n",
      "> 12:47:07 - INFO - symenergy.auxiliary.parallelization - Get variabs/multipliers: 19/33 (57.6%), chunksize 2, tavg=13.1ms, tcur=14.8ms\n",
      "> 12:47:07 - INFO - symenergy.auxiliary.parallelization - Get variabs/multipliers: 21/33 (63.6%), chunksize 3, tavg=8.8ms, tcur=10.4ms\n",
      "> 12:47:07 - INFO - symenergy.auxiliary.parallelization - Get variabs/multipliers: 19/33 (57.6%), chunksize 3, tavg=8.7ms, tcur=10.2ms\n",
      "> 12:47:07 - INFO - symenergy.auxiliary.parallelization - Get variabs/multipliers: 19/33 (57.6%), chunksize 3, tavg=8.7ms, tcur=9.1ms\n",
      "> 12:47:07 - INFO - symenergy.auxiliary.parallelization - Get variabs/multipliers: 18/33 (54.5%), chunksize 3, tavg=8.7ms, tcur=8.7ms\n",
      "> 12:47:07 - INFO - symenergy.auxiliary.parallelization - Get variabs/multipliers: 19/33 (57.6%), chunksize 3, tavg=8.8ms, tcur=9.8ms\n",
      "> 12:47:07 - INFO - symenergy.auxiliary.parallelization - Get variabs/multipliers: 28/33 (84.8%), chunksize 2, tavg=13.2ms, tcur=13.8ms\n",
      "> 12:47:07 - INFO - symenergy.auxiliary.parallelization - Get variabs/multipliers: 29/33 (87.9%), chunksize 2, tavg=13.2ms, tcur=16.0ms\n",
      "> 12:47:07 - INFO - symenergy.auxiliary.parallelization - Get variabs/multipliers: 31/33 (93.9%), chunksize 2, tavg=13.2ms, tcur=13.9ms\n",
      "> 12:47:07 - INFO - symenergy.auxiliary.parallelization - Get variabs/multipliers: 33/33 (100.0%), chunksize 2, tavg=13.2ms, tcur=14.8ms\n",
      "> 12:47:07 - INFO - symenergy.auxiliary.parallelization - Get variabs/multipliers: 33/33 (100.0%), chunksize 2, tavg=13.3ms, tcur=16.4ms\n",
      "> 12:47:07 - INFO - symenergy.auxiliary.parallelization - Get variabs/multipliers: 33/33 (100.0%), chunksize 2, tavg=13.3ms, tcur=15.5ms\n",
      "> 12:47:07 - INFO - symenergy.auxiliary.parallelization - Get variabs/multipliers: 33/33 (100.0%), chunksize 2, tavg=13.4ms, tcur=21.6ms\n",
      "> 12:47:07 - INFO - symenergy.auxiliary.parallelization - parallelize_df: concatenating ... \n",
      "> 12:47:07 - INFO - symenergy.auxiliary.parallelization - done.\n",
      "> 12:47:07 - INFO - symenergy.core.model - Solving\n",
      "> 12:47:10 - INFO - symenergy.auxiliary.parallelization - Solve: 12/33 (36.4%), chunksize 2, tavg=633.1ms, tcur=633.1ms\n",
      "> 12:47:10 - INFO - symenergy.auxiliary.parallelization - Solve: 12/33 (36.4%), chunksize 2, tavg=633.6ms, tcur=687.3ms\n",
      "> 12:47:11 - INFO - symenergy.auxiliary.parallelization - Solve: 18/33 (54.5%), chunksize 3, tavg=421.6ms, tcur=345.1ms\n",
      "> 12:47:11 - INFO - symenergy.auxiliary.parallelization - Solve: 21/33 (63.6%), chunksize 3, tavg=421.3ms, tcur=389.7ms\n",
      "> 12:47:11 - INFO - symenergy.auxiliary.parallelization - Solve: 21/33 (63.6%), chunksize 3, tavg=421.0ms, tcur=392.6ms\n",
      "> 12:47:11 - INFO - symenergy.auxiliary.parallelization - Solve: 23/33 (69.7%), chunksize 3, tavg=421.2ms, tcur=440.4ms\n",
      "> 12:47:12 - INFO - symenergy.auxiliary.parallelization - Solve: 25/33 (75.8%), chunksize 2, tavg=629.3ms, tcur=379.4ms\n",
      "> 12:47:12 - INFO - symenergy.auxiliary.parallelization - Solve: 25/33 (75.8%), chunksize 2, tavg=626.5ms, tcur=343.8ms\n",
      "> 12:47:12 - INFO - symenergy.auxiliary.parallelization - Solve: 32/33 (97.0%), chunksize 2, tavg=623.4ms, tcur=323.5ms\n",
      "> 12:47:13 - INFO - symenergy.auxiliary.parallelization - Solve: 33/33 (100.0%), chunksize 2, tavg=620.8ms, tcur=362.6ms\n",
      "> 12:47:13 - INFO - symenergy.auxiliary.parallelization - Solve: 33/33 (100.0%), chunksize 3, tavg=416.1ms, tcur=633.5ms\n",
      "> 12:47:13 - INFO - symenergy.auxiliary.parallelization - Solve: 33/33 (100.0%), chunksize 2, tavg=624.6ms, tcur=668.5ms\n",
      "> 12:47:14 - INFO - symenergy.auxiliary.parallelization - Solve: 33/33 (100.0%), chunksize 2, tavg=623.1ms, tcur=483.4ms\n",
      "> 12:47:14 - INFO - symenergy.auxiliary.parallelization - Solve: 33/33 (100.0%), chunksize 2, tavg=623.1ms, tcur=615.6ms\n",
      "> 12:47:14 - INFO - symenergy.auxiliary.parallelization - parallelize_df: concatenating ... \n",
      "> 12:47:14 - INFO - symenergy.auxiliary.parallelization - done.\n",
      "> 12:47:14 - INFO - symenergy.core.model - Number of empty solutions: 19 (57.6%)\n",
      "> 12:47:14 - WARNING - symenergy.core.model - Number of solutions with linear dependencies: Key 1: 4 (28.6%), Key 2: 0 (0.0%), Key 3: 0 (0.0%)\n",
      "> 12:47:14 - INFO - symenergy.auxiliary.parallelization - Fix linear dependencies: 1/14 (7.1%), chunksize 1, tavg=23.7ms, tcur=23.7ms\n",
      "> 12:47:14 - INFO - symenergy.auxiliary.parallelization - Fix linear dependencies: 2/14 (14.3%), chunksize 1, tavg=23.7ms, tcur=23.6ms\n",
      "> 12:47:14 - INFO - symenergy.auxiliary.parallelization - Fix linear dependencies: 5/14 (35.7%), chunksize 1, tavg=23.7ms, tcur=18.1ms\n",
      "> 12:47:14 - INFO - symenergy.auxiliary.parallelization - Fix linear dependencies: 6/14 (42.9%), chunksize 1, tavg=23.7ms, tcur=24.0ms\n",
      "> 12:47:14 - INFO - symenergy.auxiliary.parallelization - Fix linear dependencies: 4/14 (28.6%), chunksize 1, tavg=23.7ms, tcur=21.4ms\n",
      "> 12:47:14 - INFO - symenergy.auxiliary.parallelization - Fix linear dependencies: 9/14 (64.3%), chunksize 1, tavg=23.5ms, tcur=9.1ms\n",
      "> 12:47:14 - INFO - symenergy.auxiliary.parallelization - Fix linear dependencies: 9/14 (64.3%), chunksize 1, tavg=23.4ms, tcur=7.8ms\n"
     ]
    },
    {
     "name": "stderr",
     "output_type": "stream",
     "text": [
      "> 12:47:14 - INFO - symenergy.auxiliary.parallelization - Fix linear dependencies: 10/14 (71.4%), chunksize 1, tavg=23.2ms, tcur=8.2ms\n",
      "> 12:47:14 - INFO - symenergy.auxiliary.parallelization - Fix linear dependencies: 12/14 (85.7%), chunksize 1, tavg=23.0ms, tcur=7.7ms\n",
      "> 12:47:14 - INFO - symenergy.auxiliary.parallelization - Fix linear dependencies: 13/14 (92.9%), chunksize 1, tavg=22.9ms, tcur=8.1ms\n",
      "> 12:47:14 - DEBUG - symenergy.core.model - idx=4\n",
      "> 12:47:14 - DEBUG - symenergy.core.model -      Solution for lb_phs_pos_e_day contained variabs pi_phs_pwrerg_day, pi_phs_pwrerg_night.\n",
      "> 12:47:14 - DEBUG - symenergy.core.model -      Solution for lb_phs_pos_e_night contained variabs pi_phs_pwrerg_day, pi_phs_pwrerg_night.\n",
      "> 12:47:14 - DEBUG - symenergy.core.model -      Solution for lb_phs_pos_pchg_day contained variabs pi_phs_pwrerg_day.\n",
      "> 12:47:14 - DEBUG - symenergy.core.model - idx=19\n",
      "> 12:47:14 - DEBUG - symenergy.core.model -      Solution for lb_phs_pos_pchg_night contained variabs pi_phs_pwrerg_night.\n",
      "> 12:47:14 - DEBUG - symenergy.core.model -      Solution for lb_phs_pos_e_day contained variabs pi_phs_pwrerg_day, pi_phs_pwrerg_night.\n",
      "> 12:47:14 - DEBUG - symenergy.core.model - idx=11\n",
      "> 12:47:14 - DEBUG - symenergy.core.model -      Solution for lb_phs_pos_e_night contained variabs pi_phs_pwrerg_day, pi_phs_pwrerg_night.\n",
      "> 12:47:14 - DEBUG - symenergy.core.model -      Solution for lb_phs_pos_pdch_day contained variabs pi_phs_pwrerg_day.\n",
      "> 12:47:14 - DEBUG - symenergy.core.model -      Solution for lb_phs_pos_e_day contained variabs pi_phs_pwrerg_day, pi_phs_pwrerg_night.\n",
      "> 12:47:14 - DEBUG - symenergy.core.model -      Solution for lb_phs_pos_pchg_day contained variabs pi_phs_pwrerg_day.\n",
      "> 12:47:14 - DEBUG - symenergy.core.model -      Solution for lb_phs_pos_e_night contained variabs pi_phs_pwrerg_day, pi_phs_pwrerg_night.\n",
      "> 12:47:14 - DEBUG - symenergy.core.model -      Solution for lb_phs_pos_pchg_night contained variabs pi_phs_pwrerg_night.\n",
      "> 12:47:14 - DEBUG - symenergy.core.model -      Solution for lb_phs_pos_pdch_night contained variabs pi_phs_pwrerg_night.\n",
      "> 12:47:14 - DEBUG - symenergy.core.model -      Solution for lb_phs_pos_pdch_day contained variabs pi_phs_pwrerg_day.\n",
      "> 12:47:14 - DEBUG - symenergy.core.model -      Solution for pi_phs_pwrerg_day contained variabs pi_phs_pwrerg_day.\n",
      "> 12:47:14 - DEBUG - symenergy.core.model -      Solution for lb_phs_pos_pchg_day contained variabs pi_phs_pwrerg_day.\n",
      "> 12:47:14 - DEBUG - symenergy.core.model - idx=29\n",
      "> 12:47:14 - DEBUG - symenergy.core.model -      Solution for pi_phs_pwrerg_night contained variabs pi_phs_pwrerg_night.\n",
      "> 12:47:14 - DEBUG - symenergy.core.model -      Solution for lb_phs_pos_pdch_night contained variabs pi_phs_pwrerg_night.\n",
      "> 12:47:14 - DEBUG - symenergy.core.model -      Solution for lb_phs_pos_e_day contained variabs pi_phs_pwrerg_day, pi_phs_pwrerg_night.\n",
      "> 12:47:14 - DEBUG - symenergy.core.model -      Solution for pi_phs_pwrerg_day contained variabs pi_phs_pwrerg_day.\n",
      "> 12:47:14 - DEBUG - symenergy.core.model -      Solution for lb_phs_pos_pchg_night contained variabs pi_phs_pwrerg_night.\n",
      "> 12:47:14 - INFO - symenergy.auxiliary.parallelization - Fix linear dependencies: 14/14 (100.0%), chunksize 1, tavg=25.2ms, tcur=251.6ms\n",
      "> 12:47:14 - DEBUG - symenergy.core.model -      Solution for lb_phs_pos_pdch_day contained variabs pi_phs_pwrerg_day.\n",
      "> 12:47:14 - DEBUG - symenergy.core.model -      Solution for lb_phs_pos_pdch_night contained variabs pi_phs_pwrerg_night.\n",
      "> 12:47:14 - DEBUG - symenergy.core.model -      Solution for lb_phs_pos_e_night contained variabs pi_phs_pwrerg_day, pi_phs_pwrerg_night.\n",
      "> 12:47:14 - DEBUG - symenergy.core.model -      Solution for pi_phs_pwrerg_day contained variabs pi_phs_pwrerg_day.\n",
      "> 12:47:14 - DEBUG - symenergy.core.model -      Solution for lb_phs_pos_pchg_day contained variabs pi_phs_pwrerg_day.\n",
      "> 12:47:14 - DEBUG - symenergy.core.model -      Solution for pi_phs_pwrerg_night contained variabs pi_phs_pwrerg_night.\n",
      "> 12:47:14 - DEBUG - symenergy.core.model -      Solution for pi_phs_pwrerg_night contained variabs pi_phs_pwrerg_night.\n",
      "> 12:47:14 - INFO - symenergy.auxiliary.parallelization - Fix linear dependencies: 14/14 (100.0%), chunksize 1, tavg=26.5ms, tcur=158.0ms\n",
      "> 12:47:14 - DEBUG - symenergy.core.model -      Solution for lb_phs_pos_pchg_night contained variabs pi_phs_pwrerg_night.\n",
      "> 12:47:14 - INFO - symenergy.auxiliary.parallelization - Fix linear dependencies: 14/14 (100.0%), chunksize 1, tavg=28.6ms, tcur=232.2ms\n",
      "> 12:47:14 - DEBUG - symenergy.core.model -      Solution for lb_phs_pos_pdch_day contained variabs pi_phs_pwrerg_day.\n",
      "> 12:47:14 - DEBUG - symenergy.core.model -      Solution for lb_phs_pos_pdch_night contained variabs pi_phs_pwrerg_night.\n",
      "> 12:47:14 - DEBUG - symenergy.core.model -      Solution for pi_phs_pwrerg_day contained variabs pi_phs_pwrerg_day.\n",
      "> 12:47:14 - DEBUG - symenergy.core.model -      Solution for pi_phs_pwrerg_night contained variabs pi_phs_pwrerg_night.\n",
      "> 12:47:14 - INFO - symenergy.auxiliary.parallelization - Fix linear dependencies: 14/14 (100.0%), chunksize 1, tavg=29.6ms, tcur=136.4ms\n",
      "> 12:47:14 - INFO - symenergy.auxiliary.parallelization - parallelize_df: concatenating ... \n",
      "> 12:47:14 - INFO - symenergy.auxiliary.parallelization - done.\n",
      "> 12:47:15 - INFO - symenergy.auxiliary.parallelization - Substituting total cost: 7/14 (50.0%), chunksize 1, tavg=201.6ms, tcur=166.7ms\n",
      "> 12:47:15 - INFO - symenergy.auxiliary.parallelization - Substituting total cost: 7/14 (50.0%), chunksize 1, tavg=202.0ms, tcur=202.0ms\n",
      "> 12:47:15 - INFO - symenergy.auxiliary.parallelization - Substituting total cost: 9/14 (64.3%), chunksize 1, tavg=203.8ms, tcur=414.4ms\n",
      "> 12:47:15 - INFO - symenergy.auxiliary.parallelization - Substituting total cost: 9/14 (64.3%), chunksize 1, tavg=208.3ms, tcur=421.6ms\n",
      "> 12:47:15 - INFO - symenergy.auxiliary.parallelization - Substituting total cost: 9/14 (64.3%), chunksize 1, tavg=206.1ms, tcur=439.4ms\n",
      "> 12:47:15 - INFO - symenergy.auxiliary.parallelization - Substituting total cost: 12/14 (85.7%), chunksize 1, tavg=206.7ms, tcur=56.4ms\n",
      "> 12:47:15 - INFO - symenergy.auxiliary.parallelization - Substituting total cost: 12/14 (85.7%), chunksize 1, tavg=208.2ms, tcur=353.7ms\n",
      "> 12:47:15 - INFO - symenergy.auxiliary.parallelization - Substituting total cost: 14/14 (100.0%), chunksize 1, tavg=208.1ms, tcur=194.6ms\n",
      "> 12:47:15 - INFO - symenergy.auxiliary.parallelization - Substituting total cost: 14/14 (100.0%), chunksize 1, tavg=206.7ms, tcur=68.2ms\n",
      "> 12:47:15 - INFO - symenergy.auxiliary.parallelization - Substituting total cost: 14/14 (100.0%), chunksize 1, tavg=205.0ms, tcur=41.5ms\n",
      "> 12:47:15 - INFO - symenergy.auxiliary.parallelization - Substituting total cost: 14/14 (100.0%), chunksize 1, tavg=208.4ms, tcur=539.9ms\n",
      "> 12:47:15 - INFO - symenergy.auxiliary.parallelization - Substituting total cost: 14/14 (100.0%), chunksize 1, tavg=210.4ms, tcur=405.7ms\n",
      "> 12:47:16 - INFO - symenergy.auxiliary.parallelization - Substituting total cost: 14/14 (100.0%), chunksize 1, tavg=225.5ms, tcur=1724.3ms\n",
      "> 12:47:17 - INFO - symenergy.auxiliary.parallelization - Substituting total cost: 14/14 (100.0%), chunksize 1, tavg=243.3ms, tcur=2006.0ms\n",
      "> 12:47:17 - INFO - symenergy.auxiliary.parallelization - parallelize_df: concatenating ... \n",
      "> 12:47:17 - INFO - symenergy.auxiliary.parallelization - done.\n"
     ]
    }
   ],
   "source": [
    "m = model.Model(curtailment=True)\n",
    "\n",
    "m.add_slot(name='night', load=10, vre=1)\n",
    "m.add_slot(name='day', load=10, vre=1)\n",
    "\n",
    "m.add_storage(name='phs', eff=0.8)\n",
    "m.add_plant(name='gas', vc0=0, vc1=1)\n",
    "\n",
    "m.cache.delete_cached()\n",
    "m.generate_solve()"
   ]
  },
  {
   "cell_type": "markdown",
   "metadata": {},
   "source": [
    "## Investigate closed-form numerical solutions\n",
    "\n",
    "All results are stored in the model attribute `df_comb`. This `pandas.DataFrame` is indexed by the inequality constraint combinations. The column names corresponding to the active/inactive constraints can be listed through the model's `constraints` collection: "
   ]
  },
  {
   "cell_type": "code",
   "execution_count": 50,
   "metadata": {},
   "outputs": [
    {
     "data": {
      "text/plain": [
       "['act_lb_gas_pos_p_night',\n",
       " 'act_lb_gas_pos_p_day',\n",
       " 'act_lb_phs_pos_pchg_night',\n",
       " 'act_lb_phs_pos_pchg_day',\n",
       " 'act_lb_phs_pos_pdch_night',\n",
       " 'act_lb_phs_pos_pdch_day',\n",
       " 'act_lb_phs_pos_e_night',\n",
       " 'act_lb_phs_pos_e_day',\n",
       " 'act_lb_curt_pos_p_night',\n",
       " 'act_lb_curt_pos_p_day']"
      ]
     },
     "execution_count": 50,
     "metadata": {},
     "output_type": "execute_result"
    }
   ],
   "source": [
    " m.constraints('col', is_equality_constraint=False)"
   ]
  },
  {
   "cell_type": "markdown",
   "metadata": {},
   "source": [
    "For example, to select the constraint combination where storage is inactive and all power is supplied from gas plants, we would select all columns where the positivity constraints of storage operation are active (`True`) and positivity constraints of gas power plant operation are inactive (`False`):"
   ]
  },
  {
   "cell_type": "code",
   "execution_count": 51,
   "metadata": {},
   "outputs": [
    {
     "data": {
      "text/html": [
       "<div>\n",
       "<style scoped>\n",
       "    .dataframe tbody tr th:only-of-type {\n",
       "        vertical-align: middle;\n",
       "    }\n",
       "\n",
       "    .dataframe tbody tr th {\n",
       "        vertical-align: top;\n",
       "    }\n",
       "\n",
       "    .dataframe thead th {\n",
       "        text-align: right;\n",
       "    }\n",
       "</style>\n",
       "<table border=\"1\" class=\"dataframe\">\n",
       "  <thead>\n",
       "    <tr style=\"text-align: right;\">\n",
       "      <th>idx</th>\n",
       "      <th>4</th>\n",
       "    </tr>\n",
       "  </thead>\n",
       "  <tbody>\n",
       "    <tr>\n",
       "      <th>act_lb_gas_pos_p_night</th>\n",
       "      <td>False</td>\n",
       "    </tr>\n",
       "    <tr>\n",
       "      <th>act_lb_gas_pos_p_day</th>\n",
       "      <td>False</td>\n",
       "    </tr>\n",
       "    <tr>\n",
       "      <th>act_lb_phs_pos_pchg_night</th>\n",
       "      <td>True</td>\n",
       "    </tr>\n",
       "    <tr>\n",
       "      <th>act_lb_phs_pos_pchg_day</th>\n",
       "      <td>True</td>\n",
       "    </tr>\n",
       "    <tr>\n",
       "      <th>act_lb_phs_pos_pdch_night</th>\n",
       "      <td>True</td>\n",
       "    </tr>\n",
       "    <tr>\n",
       "      <th>act_lb_phs_pos_pdch_day</th>\n",
       "      <td>True</td>\n",
       "    </tr>\n",
       "    <tr>\n",
       "      <th>act_lb_phs_pos_e_night</th>\n",
       "      <td>True</td>\n",
       "    </tr>\n",
       "    <tr>\n",
       "      <th>act_lb_phs_pos_e_day</th>\n",
       "      <td>True</td>\n",
       "    </tr>\n",
       "    <tr>\n",
       "      <th>act_lb_curt_pos_p_night</th>\n",
       "      <td>True</td>\n",
       "    </tr>\n",
       "    <tr>\n",
       "      <th>act_lb_curt_pos_p_day</th>\n",
       "      <td>True</td>\n",
       "    </tr>\n",
       "    <tr>\n",
       "      <th>lagrange</th>\n",
       "      <td>curt_p_day*lb_curt_pos_p_day + curt_p_night*lb...</td>\n",
       "    </tr>\n",
       "    <tr>\n",
       "      <th>variabs_multips</th>\n",
       "      <td>[curt_p_day, curt_p_night, gas_p_day, gas_p_ni...</td>\n",
       "    </tr>\n",
       "    <tr>\n",
       "      <th>result</th>\n",
       "      <td>[0, 0, l_day - vre_day*vre_scale_none, l_night...</td>\n",
       "    </tr>\n",
       "    <tr>\n",
       "      <th>code_lindep</th>\n",
       "      <td>1</td>\n",
       "    </tr>\n",
       "    <tr>\n",
       "      <th>tc</th>\n",
       "      <td>w_none*(2*vc0_gas_none*(l_day - vre_day*vre_sc...</td>\n",
       "    </tr>\n",
       "  </tbody>\n",
       "</table>\n",
       "</div>"
      ],
      "text/plain": [
       "idx                                                                        4\n",
       "act_lb_gas_pos_p_night                                                 False\n",
       "act_lb_gas_pos_p_day                                                   False\n",
       "act_lb_phs_pos_pchg_night                                               True\n",
       "act_lb_phs_pos_pchg_day                                                 True\n",
       "act_lb_phs_pos_pdch_night                                               True\n",
       "act_lb_phs_pos_pdch_day                                                 True\n",
       "act_lb_phs_pos_e_night                                                  True\n",
       "act_lb_phs_pos_e_day                                                    True\n",
       "act_lb_curt_pos_p_night                                                 True\n",
       "act_lb_curt_pos_p_day                                                   True\n",
       "lagrange                   curt_p_day*lb_curt_pos_p_day + curt_p_night*lb...\n",
       "variabs_multips            [curt_p_day, curt_p_night, gas_p_day, gas_p_ni...\n",
       "result                     [0, 0, l_day - vre_day*vre_scale_none, l_night...\n",
       "code_lindep                                                                1\n",
       "tc                         w_none*(2*vc0_gas_none*(l_day - vre_day*vre_sc..."
      ]
     },
     "metadata": {},
     "output_type": "display_data"
    }
   ],
   "source": [
    "df_slct = m.df_comb.set_index('idx').query('act_lb_phs_pos_pchg_night and act_lb_phs_pos_pchg_day'\n",
    "                                           ' and act_lb_phs_pos_pdch_night and act_lb_phs_pos_pdch_day'\n",
    "                                           ' and not act_lb_gas_pos_p_night and not act_lb_gas_pos_p_day')\n",
    "display(df_slct.T)"
   ]
  },
  {
   "cell_type": "markdown",
   "metadata": {},
   "source": [
    "Not that the only valid solution also has zero curtailment (active `act_lb_curt_pos_p_...` constraints). This is because simultaneous non-zero generator output and non-zero curtailment is excluded a-priori throught the definition of mutually exclusive constraints in the model class.\n",
    "\n",
    "The filtered tablel above tells us the index of the relevant constraint combination. The model class provides a convenience method `print_results` to print the corresponding closed-form solutions for a given index."
   ]
  },
  {
   "cell_type": "code",
   "execution_count": 11,
   "metadata": {},
   "outputs": [
    {
     "name": "stdout",
     "output_type": "stream",
     "text": [
      "******************** gas_p_day ********************\n",
      "l_day - vre_day*vre_scale_none\n",
      "******************** gas_p_night ********************\n",
      "l_night - vre_night*vre_scale_none\n",
      "******************** lb_phs_pos_e_day ********************\n",
      "0\n",
      "******************** lb_phs_pos_e_night ********************\n",
      "0\n",
      "******************** lb_phs_pos_pchg_day ********************\n",
      "0\n",
      "******************** lb_phs_pos_pchg_night ********************\n",
      "0\n",
      "******************** lb_phs_pos_pdch_day ********************\n",
      "0\n",
      "******************** lb_phs_pos_pdch_night ********************\n",
      "0\n",
      "******************** phs_e_day ********************\n",
      "0\n",
      "******************** phs_e_night ********************\n",
      "0\n",
      "******************** phs_pchg_day ********************\n",
      "0\n",
      "******************** phs_pchg_night ********************\n",
      "0\n",
      "******************** phs_pdch_day ********************\n",
      "0\n",
      "******************** phs_pdch_night ********************\n",
      "0\n",
      "******************** pi_phs_pwrerg_day ********************\n",
      "0\n",
      "******************** pi_phs_pwrerg_night ********************\n",
      "0\n",
      "******************** pi_supply_day ********************\n",
      "w_none*(vc0_gas_none + vc1_gas_none*(l_day - vre_day*vre_scale_none))\n",
      "******************** pi_supply_night ********************\n",
      "w_none*(vc0_gas_none + vc1_gas_none*(l_night - vre_night*vre_scale_none))\n"
     ]
    }
   ],
   "source": [
    "m.print_results(m.df_comb, idx=df_slct.index.tolist()[0])"
   ]
  },
  {
   "cell_type": "markdown",
   "metadata": {},
   "source": [
    "As expected, all storage operation is zero (charging `phs_pdch_day`, `phs_pdch_night`, discharging `phs_pdch_day`, `phs_pdch_night`, stored energy `phs_e_day`, `phs_e_night`). The gas power production is used to cover the residual load during the day `l_day - vre_day*vre_scale_none` and at night `l_night - vre_night*vre_scale_none`."
   ]
  },
  {
   "cell_type": "markdown",
   "metadata": {},
   "source": [
    "## Numerical evaluation\n",
    "\n",
    "The :class:`symenergy.evaluator.evaluator.Evaluator` allows to evaluate the model results for certain parameter values"
   ]
  },
  {
   "cell_type": "code",
   "execution_count": 73,
   "metadata": {},
   "outputs": [
    {
     "name": "stderr",
     "output_type": "stream",
     "text": [
      "> 13:09:12 - INFO - evaluator.evaluator - Generating lambda functions for pi_supply_night.\n",
      "> 13:09:12 - INFO - evaluator.evaluator - Generating lambda functions for pi_supply_day.\n",
      "> 13:09:12 - INFO - evaluator.evaluator - Generating lambda functions for gas_p_night.\n",
      "> 13:09:13 - INFO - evaluator.evaluator - Generating lambda functions for gas_p_day.\n",
      "> 13:09:13 - INFO - evaluator.evaluator - Generating lambda functions for phs_pchg_night.\n",
      "> 13:09:13 - INFO - evaluator.evaluator - Generating lambda functions for phs_pchg_day.\n",
      "> 13:09:13 - INFO - evaluator.evaluator - Generating lambda functions for phs_pdch_night.\n",
      "> 13:09:14 - INFO - evaluator.evaluator - Generating lambda functions for phs_pdch_day.\n",
      "> 13:09:14 - INFO - evaluator.evaluator - Generating lambda functions for phs_e_night.\n",
      "> 13:09:14 - INFO - evaluator.evaluator - Generating lambda functions for phs_e_day.\n",
      "> 13:09:14 - INFO - evaluator.evaluator - Generating lambda functions for curt_p_night.\n",
      "> 13:09:14 - INFO - evaluator.evaluator - Generating lambda functions for curt_p_day.\n",
      "> 13:09:15 - INFO - evaluator.evaluator - Generating lambda functions for tc.\n"
     ]
    }
   ],
   "source": [
    "import evaluator.evaluator as evaluator\n",
    "import numpy as np\n",
    "\n",
    "from evaluator.evaluator import logger\n",
    "logger.setLevel('INFO')\n",
    "\n",
    "x_vals = {\n",
    "          m.vre_scale: np.linspace(0, 1.5, 31),\n",
    "          m.slots['day'].vre: np.linspace(1, 9, 9),\n",
    "          m.storages['phs'].eff: np.linspace(0.01, 0.99, 3),\n",
    "         }\n",
    "\n",
    "ev = evaluator.Evaluator(m, x_vals)"
   ]
  },
  {
   "cell_type": "code",
   "execution_count": 74,
   "metadata": {},
   "outputs": [
    {
     "name": "stderr",
     "output_type": "stream",
     "text": [
      "> 13:09:37 - INFO - evaluator.evaluator - 19.768859386444092\n"
     ]
    }
   ],
   "source": [
    "ev.expand_to_x_vals()\n",
    "ev.build_supply_table()"
   ]
  },
  {
   "cell_type": "markdown",
   "metadata": {},
   "source": [
    "The `evaluator.plotting` module provides classes to generate interactive Bokeh plots. Below we show the energy balance as a function of the VRE scaling parameter `'vre_scale_none'`, with horizontal subplots by `'slot'`. The remaining free parameters are added as lists from which values can be selected interactively."
   ]
  },
  {
   "cell_type": "code",
   "execution_count": 75,
   "metadata": {
    "scrolled": false
   },
   "outputs": [
    {
     "data": {
      "text/html": [
       "\n",
       "    <div class=\"bk-root\">\n",
       "        <a href=\"https://bokeh.pydata.org\" target=\"_blank\" class=\"bk-logo bk-logo-small bk-logo-notebook\"></a>\n",
       "        <span id=\"14263\">Loading BokehJS ...</span>\n",
       "    </div>"
      ]
     },
     "metadata": {},
     "output_type": "display_data"
    },
    {
     "data": {
      "application/javascript": [
       "\n",
       "(function(root) {\n",
       "  function now() {\n",
       "    return new Date();\n",
       "  }\n",
       "\n",
       "  var force = true;\n",
       "\n",
       "  if (typeof root._bokeh_onload_callbacks === \"undefined\" || force === true) {\n",
       "    root._bokeh_onload_callbacks = [];\n",
       "    root._bokeh_is_loading = undefined;\n",
       "  }\n",
       "\n",
       "  var JS_MIME_TYPE = 'application/javascript';\n",
       "  var HTML_MIME_TYPE = 'text/html';\n",
       "  var EXEC_MIME_TYPE = 'application/vnd.bokehjs_exec.v0+json';\n",
       "  var CLASS_NAME = 'output_bokeh rendered_html';\n",
       "\n",
       "  /**\n",
       "   * Render data to the DOM node\n",
       "   */\n",
       "  function render(props, node) {\n",
       "    var script = document.createElement(\"script\");\n",
       "    node.appendChild(script);\n",
       "  }\n",
       "\n",
       "  /**\n",
       "   * Handle when an output is cleared or removed\n",
       "   */\n",
       "  function handleClearOutput(event, handle) {\n",
       "    var cell = handle.cell;\n",
       "\n",
       "    var id = cell.output_area._bokeh_element_id;\n",
       "    var server_id = cell.output_area._bokeh_server_id;\n",
       "    // Clean up Bokeh references\n",
       "    if (id != null && id in Bokeh.index) {\n",
       "      Bokeh.index[id].model.document.clear();\n",
       "      delete Bokeh.index[id];\n",
       "    }\n",
       "\n",
       "    if (server_id !== undefined) {\n",
       "      // Clean up Bokeh references\n",
       "      var cmd = \"from bokeh.io.state import curstate; print(curstate().uuid_to_server['\" + server_id + \"'].get_sessions()[0].document.roots[0]._id)\";\n",
       "      cell.notebook.kernel.execute(cmd, {\n",
       "        iopub: {\n",
       "          output: function(msg) {\n",
       "            var id = msg.content.text.trim();\n",
       "            if (id in Bokeh.index) {\n",
       "              Bokeh.index[id].model.document.clear();\n",
       "              delete Bokeh.index[id];\n",
       "            }\n",
       "          }\n",
       "        }\n",
       "      });\n",
       "      // Destroy server and session\n",
       "      var cmd = \"import bokeh.io.notebook as ion; ion.destroy_server('\" + server_id + \"')\";\n",
       "      cell.notebook.kernel.execute(cmd);\n",
       "    }\n",
       "  }\n",
       "\n",
       "  /**\n",
       "   * Handle when a new output is added\n",
       "   */\n",
       "  function handleAddOutput(event, handle) {\n",
       "    var output_area = handle.output_area;\n",
       "    var output = handle.output;\n",
       "\n",
       "    // limit handleAddOutput to display_data with EXEC_MIME_TYPE content only\n",
       "    if ((output.output_type != \"display_data\") || (!output.data.hasOwnProperty(EXEC_MIME_TYPE))) {\n",
       "      return\n",
       "    }\n",
       "\n",
       "    var toinsert = output_area.element.find(\".\" + CLASS_NAME.split(' ')[0]);\n",
       "\n",
       "    if (output.metadata[EXEC_MIME_TYPE][\"id\"] !== undefined) {\n",
       "      toinsert[toinsert.length - 1].firstChild.textContent = output.data[JS_MIME_TYPE];\n",
       "      // store reference to embed id on output_area\n",
       "      output_area._bokeh_element_id = output.metadata[EXEC_MIME_TYPE][\"id\"];\n",
       "    }\n",
       "    if (output.metadata[EXEC_MIME_TYPE][\"server_id\"] !== undefined) {\n",
       "      var bk_div = document.createElement(\"div\");\n",
       "      bk_div.innerHTML = output.data[HTML_MIME_TYPE];\n",
       "      var script_attrs = bk_div.children[0].attributes;\n",
       "      for (var i = 0; i < script_attrs.length; i++) {\n",
       "        toinsert[toinsert.length - 1].firstChild.setAttribute(script_attrs[i].name, script_attrs[i].value);\n",
       "      }\n",
       "      // store reference to server id on output_area\n",
       "      output_area._bokeh_server_id = output.metadata[EXEC_MIME_TYPE][\"server_id\"];\n",
       "    }\n",
       "  }\n",
       "\n",
       "  function register_renderer(events, OutputArea) {\n",
       "\n",
       "    function append_mime(data, metadata, element) {\n",
       "      // create a DOM node to render to\n",
       "      var toinsert = this.create_output_subarea(\n",
       "        metadata,\n",
       "        CLASS_NAME,\n",
       "        EXEC_MIME_TYPE\n",
       "      );\n",
       "      this.keyboard_manager.register_events(toinsert);\n",
       "      // Render to node\n",
       "      var props = {data: data, metadata: metadata[EXEC_MIME_TYPE]};\n",
       "      render(props, toinsert[toinsert.length - 1]);\n",
       "      element.append(toinsert);\n",
       "      return toinsert\n",
       "    }\n",
       "\n",
       "    /* Handle when an output is cleared or removed */\n",
       "    events.on('clear_output.CodeCell', handleClearOutput);\n",
       "    events.on('delete.Cell', handleClearOutput);\n",
       "\n",
       "    /* Handle when a new output is added */\n",
       "    events.on('output_added.OutputArea', handleAddOutput);\n",
       "\n",
       "    /**\n",
       "     * Register the mime type and append_mime function with output_area\n",
       "     */\n",
       "    OutputArea.prototype.register_mime_type(EXEC_MIME_TYPE, append_mime, {\n",
       "      /* Is output safe? */\n",
       "      safe: true,\n",
       "      /* Index of renderer in `output_area.display_order` */\n",
       "      index: 0\n",
       "    });\n",
       "  }\n",
       "\n",
       "  // register the mime type if in Jupyter Notebook environment and previously unregistered\n",
       "  if (root.Jupyter !== undefined) {\n",
       "    var events = require('base/js/events');\n",
       "    var OutputArea = require('notebook/js/outputarea').OutputArea;\n",
       "\n",
       "    if (OutputArea.prototype.mime_types().indexOf(EXEC_MIME_TYPE) == -1) {\n",
       "      register_renderer(events, OutputArea);\n",
       "    }\n",
       "  }\n",
       "\n",
       "  \n",
       "  if (typeof (root._bokeh_timeout) === \"undefined\" || force === true) {\n",
       "    root._bokeh_timeout = Date.now() + 5000;\n",
       "    root._bokeh_failed_load = false;\n",
       "  }\n",
       "\n",
       "  var NB_LOAD_WARNING = {'data': {'text/html':\n",
       "     \"<div style='background-color: #fdd'>\\n\"+\n",
       "     \"<p>\\n\"+\n",
       "     \"BokehJS does not appear to have successfully loaded. If loading BokehJS from CDN, this \\n\"+\n",
       "     \"may be due to a slow or bad network connection. Possible fixes:\\n\"+\n",
       "     \"</p>\\n\"+\n",
       "     \"<ul>\\n\"+\n",
       "     \"<li>re-rerun `output_notebook()` to attempt to load from CDN again, or</li>\\n\"+\n",
       "     \"<li>use INLINE resources instead, as so:</li>\\n\"+\n",
       "     \"</ul>\\n\"+\n",
       "     \"<code>\\n\"+\n",
       "     \"from bokeh.resources import INLINE\\n\"+\n",
       "     \"output_notebook(resources=INLINE)\\n\"+\n",
       "     \"</code>\\n\"+\n",
       "     \"</div>\"}};\n",
       "\n",
       "  function display_loaded() {\n",
       "    var el = document.getElementById(\"14263\");\n",
       "    if (el != null) {\n",
       "      el.textContent = \"BokehJS is loading...\";\n",
       "    }\n",
       "    if (root.Bokeh !== undefined) {\n",
       "      if (el != null) {\n",
       "        el.textContent = \"BokehJS \" + root.Bokeh.version + \" successfully loaded.\";\n",
       "      }\n",
       "    } else if (Date.now() < root._bokeh_timeout) {\n",
       "      setTimeout(display_loaded, 100)\n",
       "    }\n",
       "  }\n",
       "\n",
       "\n",
       "  function run_callbacks() {\n",
       "    try {\n",
       "      root._bokeh_onload_callbacks.forEach(function(callback) {\n",
       "        if (callback != null)\n",
       "          callback();\n",
       "      });\n",
       "    } finally {\n",
       "      delete root._bokeh_onload_callbacks\n",
       "    }\n",
       "    console.debug(\"Bokeh: all callbacks have finished\");\n",
       "  }\n",
       "\n",
       "  function load_libs(css_urls, js_urls, callback) {\n",
       "    if (css_urls == null) css_urls = [];\n",
       "    if (js_urls == null) js_urls = [];\n",
       "\n",
       "    root._bokeh_onload_callbacks.push(callback);\n",
       "    if (root._bokeh_is_loading > 0) {\n",
       "      console.debug(\"Bokeh: BokehJS is being loaded, scheduling callback at\", now());\n",
       "      return null;\n",
       "    }\n",
       "    if (js_urls == null || js_urls.length === 0) {\n",
       "      run_callbacks();\n",
       "      return null;\n",
       "    }\n",
       "    console.debug(\"Bokeh: BokehJS not loaded, scheduling load and callback at\", now());\n",
       "    root._bokeh_is_loading = css_urls.length + js_urls.length;\n",
       "\n",
       "    function on_load() {\n",
       "      root._bokeh_is_loading--;\n",
       "      if (root._bokeh_is_loading === 0) {\n",
       "        console.debug(\"Bokeh: all BokehJS libraries/stylesheets loaded\");\n",
       "        run_callbacks()\n",
       "      }\n",
       "    }\n",
       "\n",
       "    function on_error() {\n",
       "      console.error(\"failed to load \" + url);\n",
       "    }\n",
       "\n",
       "    for (var i = 0; i < css_urls.length; i++) {\n",
       "      var url = css_urls[i];\n",
       "      const element = document.createElement(\"link\");\n",
       "      element.onload = on_load;\n",
       "      element.onerror = on_error;\n",
       "      element.rel = \"stylesheet\";\n",
       "      element.type = \"text/css\";\n",
       "      element.href = url;\n",
       "      console.debug(\"Bokeh: injecting link tag for BokehJS stylesheet: \", url);\n",
       "      document.body.appendChild(element);\n",
       "    }\n",
       "\n",
       "    for (var i = 0; i < js_urls.length; i++) {\n",
       "      var url = js_urls[i];\n",
       "      var element = document.createElement('script');\n",
       "      element.onload = on_load;\n",
       "      element.onerror = on_error;\n",
       "      element.async = false;\n",
       "      element.src = url;\n",
       "      console.debug(\"Bokeh: injecting script tag for BokehJS library: \", url);\n",
       "      document.head.appendChild(element);\n",
       "    }\n",
       "  };var element = document.getElementById(\"14263\");\n",
       "  if (element == null) {\n",
       "    console.error(\"Bokeh: ERROR: autoload.js configured with elementid '14263' but no matching script tag was found. \")\n",
       "    return false;\n",
       "  }\n",
       "\n",
       "  function inject_raw_css(css) {\n",
       "    const element = document.createElement(\"style\");\n",
       "    element.appendChild(document.createTextNode(css));\n",
       "    document.body.appendChild(element);\n",
       "  }\n",
       "\n",
       "  var js_urls = [\"https://cdn.pydata.org/bokeh/release/bokeh-1.3.4.min.js\", \"https://cdn.pydata.org/bokeh/release/bokeh-widgets-1.3.4.min.js\", \"https://cdn.pydata.org/bokeh/release/bokeh-tables-1.3.4.min.js\", \"https://cdn.pydata.org/bokeh/release/bokeh-gl-1.3.4.min.js\"];\n",
       "  var css_urls = [];\n",
       "\n",
       "  var inline_js = [\n",
       "    function(Bokeh) {\n",
       "      Bokeh.set_log_level(\"info\");\n",
       "    },\n",
       "    \n",
       "    function(Bokeh) {\n",
       "      \n",
       "    },\n",
       "    function(Bokeh) {} // ensure no trailing comma for IE\n",
       "  ];\n",
       "\n",
       "  function run_inline_js() {\n",
       "    \n",
       "    if ((root.Bokeh !== undefined) || (force === true)) {\n",
       "      for (var i = 0; i < inline_js.length; i++) {\n",
       "        inline_js[i].call(root, root.Bokeh);\n",
       "      }if (force === true) {\n",
       "        display_loaded();\n",
       "      }} else if (Date.now() < root._bokeh_timeout) {\n",
       "      setTimeout(run_inline_js, 100);\n",
       "    } else if (!root._bokeh_failed_load) {\n",
       "      console.log(\"Bokeh: BokehJS failed to load within specified timeout.\");\n",
       "      root._bokeh_failed_load = true;\n",
       "    } else if (force !== true) {\n",
       "      var cell = $(document.getElementById(\"14263\")).parents('.cell').data().cell;\n",
       "      cell.output_area.append_execute_result(NB_LOAD_WARNING)\n",
       "    }\n",
       "\n",
       "  }\n",
       "\n",
       "  if (root._bokeh_is_loading === 0) {\n",
       "    console.debug(\"Bokeh: BokehJS loaded, going straight to plotting\");\n",
       "    run_inline_js();\n",
       "  } else {\n",
       "    load_libs(css_urls, js_urls, function() {\n",
       "      console.debug(\"Bokeh: BokehJS plotting callback run at\", now());\n",
       "      run_inline_js();\n",
       "    });\n",
       "  }\n",
       "}(window));"
      ],
      "application/vnd.bokehjs_load.v0+json": "\n(function(root) {\n  function now() {\n    return new Date();\n  }\n\n  var force = true;\n\n  if (typeof root._bokeh_onload_callbacks === \"undefined\" || force === true) {\n    root._bokeh_onload_callbacks = [];\n    root._bokeh_is_loading = undefined;\n  }\n\n  \n\n  \n  if (typeof (root._bokeh_timeout) === \"undefined\" || force === true) {\n    root._bokeh_timeout = Date.now() + 5000;\n    root._bokeh_failed_load = false;\n  }\n\n  var NB_LOAD_WARNING = {'data': {'text/html':\n     \"<div style='background-color: #fdd'>\\n\"+\n     \"<p>\\n\"+\n     \"BokehJS does not appear to have successfully loaded. If loading BokehJS from CDN, this \\n\"+\n     \"may be due to a slow or bad network connection. Possible fixes:\\n\"+\n     \"</p>\\n\"+\n     \"<ul>\\n\"+\n     \"<li>re-rerun `output_notebook()` to attempt to load from CDN again, or</li>\\n\"+\n     \"<li>use INLINE resources instead, as so:</li>\\n\"+\n     \"</ul>\\n\"+\n     \"<code>\\n\"+\n     \"from bokeh.resources import INLINE\\n\"+\n     \"output_notebook(resources=INLINE)\\n\"+\n     \"</code>\\n\"+\n     \"</div>\"}};\n\n  function display_loaded() {\n    var el = document.getElementById(\"14263\");\n    if (el != null) {\n      el.textContent = \"BokehJS is loading...\";\n    }\n    if (root.Bokeh !== undefined) {\n      if (el != null) {\n        el.textContent = \"BokehJS \" + root.Bokeh.version + \" successfully loaded.\";\n      }\n    } else if (Date.now() < root._bokeh_timeout) {\n      setTimeout(display_loaded, 100)\n    }\n  }\n\n\n  function run_callbacks() {\n    try {\n      root._bokeh_onload_callbacks.forEach(function(callback) {\n        if (callback != null)\n          callback();\n      });\n    } finally {\n      delete root._bokeh_onload_callbacks\n    }\n    console.debug(\"Bokeh: all callbacks have finished\");\n  }\n\n  function load_libs(css_urls, js_urls, callback) {\n    if (css_urls == null) css_urls = [];\n    if (js_urls == null) js_urls = [];\n\n    root._bokeh_onload_callbacks.push(callback);\n    if (root._bokeh_is_loading > 0) {\n      console.debug(\"Bokeh: BokehJS is being loaded, scheduling callback at\", now());\n      return null;\n    }\n    if (js_urls == null || js_urls.length === 0) {\n      run_callbacks();\n      return null;\n    }\n    console.debug(\"Bokeh: BokehJS not loaded, scheduling load and callback at\", now());\n    root._bokeh_is_loading = css_urls.length + js_urls.length;\n\n    function on_load() {\n      root._bokeh_is_loading--;\n      if (root._bokeh_is_loading === 0) {\n        console.debug(\"Bokeh: all BokehJS libraries/stylesheets loaded\");\n        run_callbacks()\n      }\n    }\n\n    function on_error() {\n      console.error(\"failed to load \" + url);\n    }\n\n    for (var i = 0; i < css_urls.length; i++) {\n      var url = css_urls[i];\n      const element = document.createElement(\"link\");\n      element.onload = on_load;\n      element.onerror = on_error;\n      element.rel = \"stylesheet\";\n      element.type = \"text/css\";\n      element.href = url;\n      console.debug(\"Bokeh: injecting link tag for BokehJS stylesheet: \", url);\n      document.body.appendChild(element);\n    }\n\n    for (var i = 0; i < js_urls.length; i++) {\n      var url = js_urls[i];\n      var element = document.createElement('script');\n      element.onload = on_load;\n      element.onerror = on_error;\n      element.async = false;\n      element.src = url;\n      console.debug(\"Bokeh: injecting script tag for BokehJS library: \", url);\n      document.head.appendChild(element);\n    }\n  };var element = document.getElementById(\"14263\");\n  if (element == null) {\n    console.error(\"Bokeh: ERROR: autoload.js configured with elementid '14263' but no matching script tag was found. \")\n    return false;\n  }\n\n  function inject_raw_css(css) {\n    const element = document.createElement(\"style\");\n    element.appendChild(document.createTextNode(css));\n    document.body.appendChild(element);\n  }\n\n  var js_urls = [\"https://cdn.pydata.org/bokeh/release/bokeh-1.3.4.min.js\", \"https://cdn.pydata.org/bokeh/release/bokeh-widgets-1.3.4.min.js\", \"https://cdn.pydata.org/bokeh/release/bokeh-tables-1.3.4.min.js\", \"https://cdn.pydata.org/bokeh/release/bokeh-gl-1.3.4.min.js\"];\n  var css_urls = [];\n\n  var inline_js = [\n    function(Bokeh) {\n      Bokeh.set_log_level(\"info\");\n    },\n    \n    function(Bokeh) {\n      \n    },\n    function(Bokeh) {} // ensure no trailing comma for IE\n  ];\n\n  function run_inline_js() {\n    \n    if ((root.Bokeh !== undefined) || (force === true)) {\n      for (var i = 0; i < inline_js.length; i++) {\n        inline_js[i].call(root, root.Bokeh);\n      }if (force === true) {\n        display_loaded();\n      }} else if (Date.now() < root._bokeh_timeout) {\n      setTimeout(run_inline_js, 100);\n    } else if (!root._bokeh_failed_load) {\n      console.log(\"Bokeh: BokehJS failed to load within specified timeout.\");\n      root._bokeh_failed_load = true;\n    } else if (force !== true) {\n      var cell = $(document.getElementById(\"14263\")).parents('.cell').data().cell;\n      cell.output_area.append_execute_result(NB_LOAD_WARNING)\n    }\n\n  }\n\n  if (root._bokeh_is_loading === 0) {\n    console.debug(\"Bokeh: BokehJS loaded, going straight to plotting\");\n    run_inline_js();\n  } else {\n    load_libs(css_urls, js_urls, function() {\n      console.debug(\"Bokeh: BokehJS plotting callback run at\", now());\n      run_inline_js();\n    });\n  }\n}(window));"
     },
     "metadata": {},
     "output_type": "display_data"
    },
    {
     "data": {
      "text/html": [
       "\n",
       "\n",
       "\n",
       "\n",
       "\n",
       "\n",
       "  <div class=\"bk-root\" id=\"91504ba0-429a-47eb-9c48-3d67dfe64793\" data-root-id=\"14706\"></div>\n"
      ]
     },
     "metadata": {},
     "output_type": "display_data"
    },
    {
     "data": {
      "application/javascript": [
       "(function(root) {\n",
       "  function embed_document(root) {\n",
       "    \n",
       "  var docs_json = {\"30430198-1d31-48f6-9775-8809d89921b2\":{\"roots\":{\"references\":[{\"attributes\":{\"children\":[{\"id\":\"14679\",\"type\":\"Row\"},{\"id\":\"14705\",\"type\":\"Column\"}]},\"id\":\"14706\",\"type\":\"Column\"},{\"attributes\":{\"fill_color\":\"rgba(255, 255, 179, 0.9)\",\"x\":{\"field\":\"vre_scale_none\"},\"y1\":{\"expr\":{\"id\":\"14567\",\"type\":\"Stack\"}},\"y2\":{\"expr\":{\"id\":\"14568\",\"type\":\"Stack\"}}},\"id\":\"14586\",\"type\":\"VArea\"},{\"attributes\":{\"label\":{\"value\":\"vre\"},\"renderers\":[{\"id\":\"14345\",\"type\":\"GlyphRenderer\"}]},\"id\":\"14354\",\"type\":\"LegendItem\"},{\"attributes\":{\"fields\":[\"gas_p\"]},\"id\":\"14312\",\"type\":\"Stack\"},{\"attributes\":{\"fill_alpha\":0.1,\"fill_color\":\"#1f77b4\",\"x\":{\"field\":\"vre_scale_none\"},\"y1\":{\"expr\":{\"id\":\"14567\",\"type\":\"Stack\"}},\"y2\":{\"expr\":{\"id\":\"14568\",\"type\":\"Stack\"}}},\"id\":\"14587\",\"type\":\"VArea\"},{\"attributes\":{\"fill_alpha\":0.1,\"fill_color\":\"#1f77b4\",\"x\":{\"field\":\"vre_scale_none\"},\"y1\":{\"expr\":{\"id\":\"14355\",\"type\":\"Stack\"}},\"y2\":{\"expr\":{\"id\":\"14356\",\"type\":\"Stack\"}}},\"id\":\"14363\",\"type\":\"VArea\"},{\"attributes\":{},\"id\":\"14557\",\"type\":\"HelpTool\"},{\"attributes\":{\"data_source\":{\"id\":\"14266\",\"type\":\"ColumnDataSource\"},\"glyph\":{\"id\":\"14586\",\"type\":\"VArea\"},\"hover_glyph\":null,\"muted_glyph\":null,\"name\":\"phs_pdch\",\"nonselection_glyph\":{\"id\":\"14587\",\"type\":\"VArea\"},\"selection_glyph\":null,\"view\":{\"id\":\"14589\",\"type\":\"CDSView\"},\"visible\":false},\"id\":\"14588\",\"type\":\"GlyphRenderer\"},{\"attributes\":{\"label\":{\"value\":\"phs_pdch\"},\"renderers\":[{\"id\":\"14332\",\"type\":\"GlyphRenderer\"}]},\"id\":\"14341\",\"type\":\"LegendItem\"},{\"attributes\":{\"source\":{\"id\":\"14266\",\"type\":\"ColumnDataSource\"}},\"id\":\"14589\",\"type\":\"CDSView\"},{\"attributes\":{\"label\":{\"value\":\"phs_pdch\"},\"renderers\":[{\"id\":\"14588\",\"type\":\"GlyphRenderer\"}]},\"id\":\"14599\",\"type\":\"LegendItem\"},{\"attributes\":{\"callback\":null,\"data\":{\"curt_p\":{\"__ndarray__\":\"AAAAAAAAAAAAAAAAAAAAAAAAAAAAAAAAAAAAAAAAAAAAAAAAAAAAAAAAAAAAAAAAAAAAAAAAAAAAAAAAAAAAAAAAAAAAAAAAAAAAAAAAAAAAAAAAAAAAAAAAAAAAAAAAAAAAAAAAAAAAAAAAAAAAAAAAAAAAAAAAAAAAAAAAAAAAAAAAAAAAAAAAAAAAAAAAAAAAAAAAAAAAAAAAAAAAAAAAAAAAAAAAAAAAAAAAAAAAAAAAAAAAAAAAAAAAAAAAAAAAAAAAAAAAAAAAAAAAAAAAAAAAAAAAAAAAAAAAAAAAAAAAAAAAAAAAAAAAAAAAAAAAAAAAAAAAAAAAAAAAAAAAAAAAAAAAAAAAAAAAAAAAAAAAAAAAAAAAAAAAAAAAAAAAAAAAAAAAAAAAAAAAAAAAAAAAAAAAAAAAAAAAAAAAAAAAAAAAAAAAAAAAAAAAAAAAAAAAAAAAAAAAAAAAAAAAAAAAAAAAAAAAAAAAAAAAAAAAAAAAAAAAAAAAAAAAAAAAAAAAAAAAAAAAAAAAAAAAAAAAAAAAAAAAAAAAAAAAAAAAAAAAAAAAAAAAAAAAAAAAAAAAAAAAAAAAAAAAAAAAAAAAAAAAAAAAAAAAAAAAAAAAAAAAAAAAAAAAAAAAAAAAAAAAAAAAAAAAAAAAAA==\",\"dtype\":\"float64\",\"shape\":[62]},\"index\":[0,1,2,3,4,5,6,7,8,9,10,11,12,13,14,15,16,17,18,19,20,21,22,23,24,25,26,27,28,29,30,31,32,33,34,35,36,37,38,39,40,41,42,43,44,45,46,47,48,49,50,51,52,53,54,55,56,57,58,59,60,61],\"l\":{\"__ndarray__\":\"AAAAAAAAJMAAAAAAAAAkwAAAAAAAACTAAAAAAAAAJMAAAAAAAAAkwAAAAAAAACTAAAAAAAAAJMAAAAAAAAAkwAAAAAAAACTAAAAAAAAAJMAAAAAAAAAkwAAAAAAAACTAAAAAAAAAJMAAAAAAAAAkwAAAAAAAACTAAAAAAAAAJMAAAAAAAAAkwAAAAAAAACTAAAAAAAAAJMAAAAAAAAAkwAAAAAAAACTAAAAAAAAAJMAAAAAAAAAkwAAAAAAAACTAAAAAAAAAJMAAAAAAAAAkwAAAAAAAACTAAAAAAAAAJMAAAAAAAAAkwAAAAAAAACTAAAAAAAAAJMAAAAAAAAAkwAAAAAAAACTAAAAAAAAAJMAAAAAAAAAkwAAAAAAAACTAAAAAAAAAJMAAAAAAAAAkwAAAAAAAACTAAAAAAAAAJMAAAAAAAAAkwAAAAAAAACTAAAAAAAAAJMAAAAAAAAAkwAAAAAAAACTAAAAAAAAAJMAAAAAAAAAkwAAAAAAAACTAAAAAAAAAJMAAAAAAAAAkwAAAAAAAACTAAAAAAAAAJMAAAAAAAAAkwAAAAAAAACTAAAAAAAAAJMAAAAAAAAAkwAAAAAAAACTAAAAAAAAAJMAAAAAAAAAkwAAAAAAAACTAAAAAAAAAJMAAAAAAAAAkwA==\",\"dtype\":\"float64\",\"shape\":[62]},\"phs_pchg\":{\"__ndarray__\":\"AAAAAAAAAAAAAAAAAAAAAAAAAAAAAAAAAAAAAAAAAAAAAAAAAAAAAAAAAAAAAAAAAAAAAAAAAAAAAAAAAAAAAAAAAAAAAAAAAAAAAAAAAAAAAAAAAAAAAAAAAAAAAAAAAAAAAAAAAAAAAAAAAAAAAAAAAAAAAAAAAAAAAAAAAAAAAAAAAAAAAAAAAAAAAAAAAAAAAAAAAAAAAAAAAAAAAAAAAAAAAAAAAAAAAAAAAAAAAAAAAAAAAAAAAAAAAAAAAAAAAAAAAAAAAAAAAAAAAAAAAAAAAAAAAAAAAAAAAAAAAAAAAAAAAAAAAAAAAAAAAAAAAAAAAAAAAAAAAAAAAAAAAAAAAAAAAAAAAAAAAAAAAAAAAAAAAAAAAAAAAAAAAAAAAAAAAAAAAAAAAAAAAAAAAAAAAAAAAAAAAAAAAAAAAAAAAAAAAAAAAAAAAAAAAAAAAAAAAAAAAAAAAAAAAAAAAAAAAAAAAAAAAAAAAAAAAAAAAAAAAAAAAAAAAAAAAAAAAAAAAAAAAAAAAAAAAAAAAAAAAAAAAAAAAAAAAAAAAAAAAAAAAAAAAAAAAAAAAAAAAAAAAAAAAAAAAAAAAAAAAAAAAAAAAAAAAAAAAAAAAAAAAAAAAAAAAAAAAAAAAAAAAAAAAAAAAAAAAAAAAA==\",\"dtype\":\"float64\",\"shape\":[62]},\"slot\":[\"day\",\"day\",\"day\",\"day\",\"day\",\"day\",\"day\",\"day\",\"day\",\"day\",\"day\",\"day\",\"day\",\"day\",\"day\",\"day\",\"day\",\"day\",\"day\",\"day\",\"day\",\"day\",\"day\",\"day\",\"day\",\"day\",\"day\",\"day\",\"day\",\"day\",\"day\",\"night\",\"night\",\"night\",\"night\",\"night\",\"night\",\"night\",\"night\",\"night\",\"night\",\"night\",\"night\",\"night\",\"night\",\"night\",\"night\",\"night\",\"night\",\"night\",\"night\",\"night\",\"night\",\"night\",\"night\",\"night\",\"night\",\"night\",\"night\",\"night\",\"night\",\"night\"],\"vre_scale_none\":{\"__ndarray__\":\"AAAAAAAAAACamZmZmZmpP5qZmZmZmbk/NDMzMzMzwz+amZmZmZnJPwAAAAAAANA/NDMzMzMz0z9nZmZmZmbWP5qZmZmZmdk/zczMzMzM3D8AAAAAAADgP5qZmZmZmeE/NDMzMzMz4z/NzMzMzMzkP2dmZmZmZuY/AAAAAAAA6D+amZmZmZnpPzQzMzMzM+s/zczMzMzM7D9nZmZmZmbuPwAAAAAAAPA/zczMzMzM8D+amZmZmZnxP2dmZmZmZvI/NDMzMzMz8z8AAAAAAAD0P83MzMzMzPQ/mpmZmZmZ9T9nZmZmZmb2PzQzMzMzM/c/AAAAAAAA+D8AAAAAAAAAAJqZmZmZmak/mpmZmZmZuT80MzMzMzPDP5qZmZmZmck/AAAAAAAA0D80MzMzMzPTP2dmZmZmZtY/mpmZmZmZ2T/NzMzMzMzcPwAAAAAAAOA/mpmZmZmZ4T80MzMzMzPjP83MzMzMzOQ/Z2ZmZmZm5j8AAAAAAADoP5qZmZmZmek/NDMzMzMz6z/NzMzMzMzsP2dmZmZmZu4/AAAAAAAA8D/NzMzMzMzwP5qZmZmZmfE/Z2ZmZmZm8j80MzMzMzPzPwAAAAAAAPQ/zczMzMzM9D+amZmZmZn1P2dmZmZmZvY/NDMzMzMz9z8AAAAAAAD4Pw==\",\"dtype\":\"float64\",\"shape\":[62]}},\"selected\":{\"id\":\"14386\",\"type\":\"Selection\"},\"selection_policy\":{\"id\":\"14387\",\"type\":\"UnionRenderers\"}},\"id\":\"14267\",\"type\":\"ColumnDataSource\"},{\"attributes\":{\"callback\":null},\"id\":\"14536\",\"type\":\"DataRange1d\"},{\"attributes\":{\"items\":[{\"id\":\"14328\",\"type\":\"LegendItem\"},{\"id\":\"14341\",\"type\":\"LegendItem\"},{\"id\":\"14354\",\"type\":\"LegendItem\"},{\"id\":\"14373\",\"type\":\"LegendItem\"},{\"id\":\"14388\",\"type\":\"LegendItem\"},{\"id\":\"14403\",\"type\":\"LegendItem\"}],\"visible\":false},\"id\":\"14327\",\"type\":\"Legend\"},{\"attributes\":{},\"id\":\"14340\",\"type\":\"UnionRenderers\"},{\"attributes\":{\"data_source\":{\"id\":\"14267\",\"type\":\"ColumnDataSource\"},\"glyph\":{\"id\":\"14637\",\"type\":\"VArea\"},\"hover_glyph\":null,\"muted_glyph\":null,\"name\":\"l\",\"nonselection_glyph\":{\"id\":\"14638\",\"type\":\"VArea\"},\"selection_glyph\":null,\"view\":{\"id\":\"14640\",\"type\":\"CDSView\"},\"visible\":false},\"id\":\"14639\",\"type\":\"GlyphRenderer\"},{\"attributes\":{\"filters\":[{\"id\":\"14268\",\"type\":\"GroupFilter\"}],\"source\":{\"id\":\"14266\",\"type\":\"ColumnDataSource\"}},\"id\":\"14269\",\"type\":\"CDSView\"},{\"attributes\":{\"fill_color\":\"rgba(190, 186, 218, 0.9)\",\"x\":{\"field\":\"vre_scale_none\"},\"y1\":{\"expr\":{\"id\":\"14569\",\"type\":\"Stack\"}},\"y2\":{\"expr\":{\"id\":\"14570\",\"type\":\"Stack\"}}},\"id\":\"14601\",\"type\":\"VArea\"},{\"attributes\":{\"fields\":[\"gas_p\"]},\"id\":\"14567\",\"type\":\"Stack\"},{\"attributes\":{\"callback\":null,\"js_property_callbacks\":{\"change:value\":[{\"id\":\"14276\",\"type\":\"CustomJS\"}]},\"options\":[\"1.0\",\"2.0\",\"3.0\",\"4.0\",\"5.0\",\"6.0\",\"7.0\",\"8.0\",\"9.0\"],\"size\":1,\"title\":\"vre_day\",\"value\":[\"1.0\"]},\"id\":\"14531\",\"type\":\"MultiSelect\"},{\"attributes\":{\"fill_alpha\":0.1,\"fill_color\":\"#1f77b4\",\"x\":{\"field\":\"vre_scale_none\"},\"y1\":{\"expr\":{\"id\":\"14315\",\"type\":\"Stack\"}},\"y2\":{\"expr\":{\"id\":\"14316\",\"type\":\"Stack\"}}},\"id\":\"14344\",\"type\":\"VArea\"},{\"attributes\":{\"fields\":[\"gas_p\",\"phs_pdch\"]},\"id\":\"14315\",\"type\":\"Stack\"},{\"attributes\":{\"fill_alpha\":0.1,\"fill_color\":\"#1f77b4\",\"x\":{\"field\":\"vre_scale_none\"},\"y1\":{\"expr\":{\"id\":\"14569\",\"type\":\"Stack\"}},\"y2\":{\"expr\":{\"id\":\"14570\",\"type\":\"Stack\"}}},\"id\":\"14602\",\"type\":\"VArea\"},{\"attributes\":{\"callback\":null},\"id\":\"14280\",\"type\":\"DataRange1d\"},{\"attributes\":{\"fields\":[\"gas_p\",\"phs_pdch\"]},\"id\":\"14568\",\"type\":\"Stack\"},{\"attributes\":{\"fill_color\":\"rgba(255, 255, 179, 0.9)\",\"x\":{\"field\":\"vre_scale_none\"},\"y1\":{\"expr\":{\"id\":\"14440\",\"type\":\"Stack\"}},\"y2\":{\"expr\":{\"id\":\"14441\",\"type\":\"Stack\"}}},\"id\":\"14457\",\"type\":\"VArea\"},{\"attributes\":{\"data_source\":{\"id\":\"14266\",\"type\":\"ColumnDataSource\"},\"glyph\":{\"id\":\"14601\",\"type\":\"VArea\"},\"hover_glyph\":null,\"muted_glyph\":null,\"name\":\"vre\",\"nonselection_glyph\":{\"id\":\"14602\",\"type\":\"VArea\"},\"selection_glyph\":null,\"view\":{\"id\":\"14604\",\"type\":\"CDSView\"},\"visible\":false},\"id\":\"14603\",\"type\":\"GlyphRenderer\"},{\"attributes\":{\"active_drag\":\"auto\",\"active_inspect\":\"auto\",\"active_multi\":null,\"active_scroll\":\"auto\",\"active_tap\":\"auto\",\"logo\":null,\"tools\":[{\"id\":\"14552\",\"type\":\"PanTool\"},{\"id\":\"14553\",\"type\":\"WheelZoomTool\"},{\"id\":\"14554\",\"type\":\"BoxZoomTool\"},{\"id\":\"14555\",\"type\":\"SaveTool\"},{\"id\":\"14556\",\"type\":\"ResetTool\"},{\"id\":\"14557\",\"type\":\"HelpTool\"}]},\"id\":\"14558\",\"type\":\"Toolbar\"},{\"attributes\":{\"source\":{\"id\":\"14266\",\"type\":\"ColumnDataSource\"}},\"id\":\"14604\",\"type\":\"CDSView\"},{\"attributes\":{},\"id\":\"14538\",\"type\":\"LinearScale\"},{\"attributes\":{\"column_name\":\"slot\",\"group\":\"day\"},\"id\":\"14270\",\"type\":\"GroupFilter\"},{\"attributes\":{\"label\":{\"value\":\"vre\"},\"renderers\":[{\"id\":\"14603\",\"type\":\"GlyphRenderer\"}]},\"id\":\"14614\",\"type\":\"LegendItem\"},{\"attributes\":{\"callback\":null},\"id\":\"14534\",\"type\":\"DataRange1d\"},{\"attributes\":{\"fields\":[]},\"id\":\"14615\",\"type\":\"Stack\"},{\"attributes\":{},\"id\":\"14540\",\"type\":\"LinearScale\"},{\"attributes\":{\"callback\":null,\"js_property_callbacks\":{\"change:value\":[{\"id\":\"14276\",\"type\":\"CustomJS\"}]},\"options\":[\"0.01\",\"0.5\",\"0.99\"],\"size\":1,\"title\":\"eff_phs_none\",\"value\":[\"0.01\"]},\"id\":\"14532\",\"type\":\"MultiSelect\"},{\"attributes\":{\"fields\":[\"curt_p\"]},\"id\":\"14616\",\"type\":\"Stack\"},{\"attributes\":{\"filters\":[{\"id\":\"14270\",\"type\":\"GroupFilter\"}],\"source\":{\"id\":\"14267\",\"type\":\"ColumnDataSource\"}},\"id\":\"14271\",\"type\":\"CDSView\"},{\"attributes\":{\"fill_color\":\"rgba(190, 186, 218, 0.9)\",\"x\":{\"field\":\"vre_scale_none\"},\"y1\":{\"expr\":{\"id\":\"14315\",\"type\":\"Stack\"}},\"y2\":{\"expr\":{\"id\":\"14316\",\"type\":\"Stack\"}}},\"id\":\"14343\",\"type\":\"VArea\"},{\"attributes\":{\"fields\":[\"curt_p\"]},\"id\":\"14617\",\"type\":\"Stack\"},{\"attributes\":{},\"id\":\"14556\",\"type\":\"ResetTool\"},{\"attributes\":{\"data_source\":{\"id\":\"14266\",\"type\":\"ColumnDataSource\"},\"glyph\":{\"id\":\"14343\",\"type\":\"VArea\"},\"hover_glyph\":null,\"muted_glyph\":null,\"name\":\"vre\",\"nonselection_glyph\":{\"id\":\"14344\",\"type\":\"VArea\"},\"selection_glyph\":null,\"view\":{\"id\":\"14269\",\"type\":\"CDSView\"}},\"id\":\"14345\",\"type\":\"GlyphRenderer\"},{\"attributes\":{\"fields\":[\"curt_p\",\"l\"]},\"id\":\"14618\",\"type\":\"Stack\"},{\"attributes\":{},\"id\":\"14555\",\"type\":\"SaveTool\"},{\"attributes\":{\"formatter\":{\"id\":\"14581\",\"type\":\"BasicTickFormatter\"},\"ticker\":{\"id\":\"14543\",\"type\":\"BasicTicker\"},\"visible\":false},\"id\":\"14542\",\"type\":\"LinearAxis\"},{\"attributes\":{\"fields\":[\"curt_p\",\"l\"]},\"id\":\"14619\",\"type\":\"Stack\"},{\"attributes\":{\"callback\":null,\"data\":{\"gas_p\":{\"__ndarray__\":\"AAAAAAAAJEBmZmZmZuYjQM3MzMzMzCNAMzMzMzOzI0CamZmZmZkjQAAAAAAAgCNAZmZmZmZmI0DNzMzMzEwjQDMzMzMzMyNAmpmZmZkZI0AAAAAAAAAjQGZmZmZm5iJAzczMzMzMIkAzMzMzM7MiQJqZmZmZmSJAAAAAAACAIkBmZmZmZmYiQM3MzMzMTCJAMzMzMzMzIkCamZmZmRkiQAAAAAAAACJAZmZmZmbmIUDNzMzMzMwhQDMzMzMzsyFAmpmZmZmZIUAAAAAAAIAhQGZmZmZmZiFAzczMzMxMIUAzMzMzMzMhQJqZmZmZGSFAAAAAAAAAIUAAAAAAAAAkQGZmZmZm5iNAzczMzMzMI0AzMzMzM7MjQJqZmZmZmSNAAAAAAACAI0BmZmZmZmYjQM3MzMzMTCNAMzMzMzMzI0CamZmZmRkjQAAAAAAAACNAZmZmZmbmIkDNzMzMzMwiQDMzMzMzsyJAmpmZmZmZIkAAAAAAAIAiQGZmZmZmZiJAzczMzMxMIkAzMzMzMzMiQJqZmZmZGSJAAAAAAAAAIkBmZmZmZuYhQM3MzMzMzCFAMzMzMzOzIUCamZmZmZkhQAAAAAAAgCFAZmZmZmZmIUDNzMzMzEwhQDMzMzMzMyFAmpmZmZkZIUAAAAAAAAAhQA==\",\"dtype\":\"float64\",\"shape\":[62]},\"index\":[0,1,2,3,4,5,6,7,8,9,10,11,12,13,14,15,16,17,18,19,20,21,22,23,24,25,26,27,28,29,30,31,32,33,34,35,36,37,38,39,40,41,42,43,44,45,46,47,48,49,50,51,52,53,54,55,56,57,58,59,60,61],\"phs_pdch\":{\"__ndarray__\":\"AAAAAAAAAAAAAAAAAAAAAAAAAAAAAAAAAAAAAAAAAAAAAAAAAAAAAAAAAAAAAAAAAAAAAAAAAAAAAAAAAAAAAAAAAAAAAAAAAAAAAAAAAAAAAAAAAAAAAAAAAAAAAAAAAAAAAAAAAAAAAAAAAAAAAAAAAAAAAAAAAAAAAAAAAAAAAAAAAAAAAAAAAAAAAAAAAAAAAAAAAAAAAAAAAAAAAAAAAAAAAAAAAAAAAAAAAAAAAAAAAAAAAAAAAAAAAAAAAAAAAAAAAAAAAAAAAAAAAAAAAAAAAAAAAAAAAAAAAAAAAAAAAAAAAAAAAAAAAAAAAAAAAAAAAAAAAAAAAAAAAAAAAAAAAAAAAAAAAAAAAAAAAAAAAAAAAAAAAAAAAAAAAAAAAAAAAAAAAAAAAAAAAAAAAAAAAAAAAAAAAAAAAAAAAAAAAAAAAAAAAAAAAAAAAAAAAAAAAAAAAAAAAAAAAAAAAAAAAAAAAAAAAAAAAAAAAAAAAAAAAAAAAAAAAAAAAAAAAAAAAAAAAAAAAAAAAAAAAAAAAAAAAAAAAAAAAAAAAAAAAAAAAAAAAAAAAAAAAAAAAAAAAAAAAAAAAAAAAAAAAAAAAAAAAAAAAAAAAAAAAAAAAAAAAAAAAAAAAAAAAAAAAAAAAAAAAAAAAAAAAA==\",\"dtype\":\"float64\",\"shape\":[62]},\"slot\":[\"day\",\"day\",\"day\",\"day\",\"day\",\"day\",\"day\",\"day\",\"day\",\"day\",\"day\",\"day\",\"day\",\"day\",\"day\",\"day\",\"day\",\"day\",\"day\",\"day\",\"day\",\"day\",\"day\",\"day\",\"day\",\"day\",\"day\",\"day\",\"day\",\"day\",\"day\",\"night\",\"night\",\"night\",\"night\",\"night\",\"night\",\"night\",\"night\",\"night\",\"night\",\"night\",\"night\",\"night\",\"night\",\"night\",\"night\",\"night\",\"night\",\"night\",\"night\",\"night\",\"night\",\"night\",\"night\",\"night\",\"night\",\"night\",\"night\",\"night\",\"night\",\"night\"],\"vre\":{\"__ndarray__\":\"AAAAAAAAAACamZmZmZmpP5qZmZmZmbk/NDMzMzMzwz+amZmZmZnJPwAAAAAAANA/NDMzMzMz0z9nZmZmZmbWP5qZmZmZmdk/zczMzMzM3D8AAAAAAADgP5qZmZmZmeE/NDMzMzMz4z/NzMzMzMzkP2dmZmZmZuY/AAAAAAAA6D+amZmZmZnpPzQzMzMzM+s/zczMzMzM7D9nZmZmZmbuPwAAAAAAAPA/zczMzMzM8D+amZmZmZnxP2dmZmZmZvI/NDMzMzMz8z8AAAAAAAD0P83MzMzMzPQ/mpmZmZmZ9T9nZmZmZmb2PzQzMzMzM/c/AAAAAAAA+D8AAAAAAAAAAJqZmZmZmak/mpmZmZmZuT80MzMzMzPDP5qZmZmZmck/AAAAAAAA0D80MzMzMzPTP2dmZmZmZtY/mpmZmZmZ2T/NzMzMzMzcPwAAAAAAAOA/mpmZmZmZ4T80MzMzMzPjP83MzMzMzOQ/Z2ZmZmZm5j8AAAAAAADoP5qZmZmZmek/NDMzMzMz6z/NzMzMzMzsP2dmZmZmZu4/AAAAAAAA8D/NzMzMzMzwP5qZmZmZmfE/Z2ZmZmZm8j80MzMzMzPzPwAAAAAAAPQ/zczMzMzM9D+amZmZmZn1P2dmZmZmZvY/NDMzMzMz9z8AAAAAAAD4Pw==\",\"dtype\":\"float64\",\"shape\":[62]},\"vre_scale_none\":{\"__ndarray__\":\"AAAAAAAAAACamZmZmZmpP5qZmZmZmbk/NDMzMzMzwz+amZmZmZnJPwAAAAAAANA/NDMzMzMz0z9nZmZmZmbWP5qZmZmZmdk/zczMzMzM3D8AAAAAAADgP5qZmZmZmeE/NDMzMzMz4z/NzMzMzMzkP2dmZmZmZuY/AAAAAAAA6D+amZmZmZnpPzQzMzMzM+s/zczMzMzM7D9nZmZmZmbuPwAAAAAAAPA/zczMzMzM8D+amZmZmZnxP2dmZmZmZvI/NDMzMzMz8z8AAAAAAAD0P83MzMzMzPQ/mpmZmZmZ9T9nZmZmZmb2PzQzMzMzM/c/AAAAAAAA+D8AAAAAAAAAAJqZmZmZmak/mpmZmZmZuT80MzMzMzPDP5qZmZmZmck/AAAAAAAA0D80MzMzMzPTP2dmZmZmZtY/mpmZmZmZ2T/NzMzMzMzcPwAAAAAAAOA/mpmZmZmZ4T80MzMzMzPjP83MzMzMzOQ/Z2ZmZmZm5j8AAAAAAADoP5qZmZmZmek/NDMzMzMz6z/NzMzMzMzsP2dmZmZmZu4/AAAAAAAA8D/NzMzMzMzwP5qZmZmZmfE/Z2ZmZmZm8j80MzMzMzPzPwAAAAAAAPQ/zczMzMzM9D+amZmZmZn1P2dmZmZmZvY/NDMzMzMz9z8AAAAAAAD4Pw==\",\"dtype\":\"float64\",\"shape\":[62]}},\"selected\":{\"id\":\"14339\",\"type\":\"Selection\"},\"selection_policy\":{\"id\":\"14340\",\"type\":\"UnionRenderers\"}},\"id\":\"14266\",\"type\":\"ColumnDataSource\"},{\"attributes\":{},\"id\":\"14543\",\"type\":\"BasicTicker\"},{\"attributes\":{\"fields\":[\"curt_p\",\"l\",\"phs_pchg\"]},\"id\":\"14620\",\"type\":\"Stack\"},{\"attributes\":{\"fill_alpha\":0.1,\"fill_color\":\"#1f77b4\",\"x\":{\"field\":\"vre_scale_none\"},\"y1\":{\"expr\":{\"id\":\"14313\",\"type\":\"Stack\"}},\"y2\":{\"expr\":{\"id\":\"14314\",\"type\":\"Stack\"}}},\"id\":\"14331\",\"type\":\"VArea\"},{\"attributes\":{\"fields\":[\"gas_p\"]},\"id\":\"14313\",\"type\":\"Stack\"},{\"attributes\":{\"ticker\":{\"id\":\"14543\",\"type\":\"BasicTicker\"},\"visible\":false},\"id\":\"14546\",\"type\":\"Grid\"},{\"attributes\":{\"fill_alpha\":0.1,\"fill_color\":\"#1f77b4\",\"x\":{\"field\":\"vre_scale_none\"},\"y1\":{\"expr\":{\"id\":\"14617\",\"type\":\"Stack\"}},\"y2\":{\"expr\":{\"id\":\"14618\",\"type\":\"Stack\"}}},\"id\":\"14638\",\"type\":\"VArea\"},{\"attributes\":{\"fields\":[]},\"id\":\"14355\",\"type\":\"Stack\"},{\"attributes\":{\"formatter\":{\"id\":\"14579\",\"type\":\"BasicTickFormatter\"},\"ticker\":{\"id\":\"14548\",\"type\":\"BasicTicker\"},\"visible\":false},\"id\":\"14547\",\"type\":\"LinearAxis\"},{\"attributes\":{\"fill_color\":\"rgba(128, 177, 211, 0.9)\",\"x\":{\"field\":\"vre_scale_none\"},\"y1\":{\"expr\":{\"id\":\"14615\",\"type\":\"Stack\"}},\"y2\":{\"expr\":{\"id\":\"14616\",\"type\":\"Stack\"}}},\"id\":\"14622\",\"type\":\"VArea\"},{\"attributes\":{},\"id\":\"14299\",\"type\":\"WheelZoomTool\"},{\"attributes\":{\"axis_label\":\"vre_scale_none\",\"formatter\":{\"id\":\"14325\",\"type\":\"BasicTickFormatter\"},\"ticker\":{\"id\":\"14289\",\"type\":\"BasicTicker\"}},\"id\":\"14288\",\"type\":\"LinearAxis\"},{\"attributes\":{},\"id\":\"14548\",\"type\":\"BasicTicker\"},{\"attributes\":{\"fill_alpha\":0.1,\"fill_color\":\"#1f77b4\",\"x\":{\"field\":\"vre_scale_none\"},\"y1\":{\"expr\":{\"id\":\"14615\",\"type\":\"Stack\"}},\"y2\":{\"expr\":{\"id\":\"14616\",\"type\":\"Stack\"}}},\"id\":\"14623\",\"type\":\"VArea\"},{\"attributes\":{},\"id\":\"14289\",\"type\":\"BasicTicker\"},{\"attributes\":{\"fill_color\":\"rgba(128, 177, 211, 0.9)\",\"x\":{\"field\":\"vre_scale_none\"},\"y1\":{\"expr\":{\"id\":\"14355\",\"type\":\"Stack\"}},\"y2\":{\"expr\":{\"id\":\"14356\",\"type\":\"Stack\"}}},\"id\":\"14362\",\"type\":\"VArea\"},{\"attributes\":{\"data_source\":{\"id\":\"14267\",\"type\":\"ColumnDataSource\"},\"glyph\":{\"id\":\"14622\",\"type\":\"VArea\"},\"hover_glyph\":null,\"muted_glyph\":null,\"name\":\"curt_p\",\"nonselection_glyph\":{\"id\":\"14623\",\"type\":\"VArea\"},\"selection_glyph\":null,\"view\":{\"id\":\"14625\",\"type\":\"CDSView\"},\"visible\":false},\"id\":\"14624\",\"type\":\"GlyphRenderer\"},{\"attributes\":{\"overlay\":{\"id\":\"14582\",\"type\":\"BoxAnnotation\"}},\"id\":\"14554\",\"type\":\"BoxZoomTool\"},{\"attributes\":{\"data_source\":{\"id\":\"14266\",\"type\":\"ColumnDataSource\"},\"glyph\":{\"id\":\"14330\",\"type\":\"VArea\"},\"hover_glyph\":null,\"muted_glyph\":null,\"name\":\"phs_pdch\",\"nonselection_glyph\":{\"id\":\"14331\",\"type\":\"VArea\"},\"selection_glyph\":null,\"view\":{\"id\":\"14269\",\"type\":\"CDSView\"}},\"id\":\"14332\",\"type\":\"GlyphRenderer\"},{\"attributes\":{\"source\":{\"id\":\"14267\",\"type\":\"ColumnDataSource\"}},\"id\":\"14625\",\"type\":\"CDSView\"},{\"attributes\":{\"label\":{\"value\":\"curt_p\"},\"renderers\":[{\"id\":\"14364\",\"type\":\"GlyphRenderer\"}]},\"id\":\"14373\",\"type\":\"LegendItem\"},{\"attributes\":{\"fill_color\":\"rgba(253, 180, 98, 0.9)\",\"x\":{\"field\":\"vre_scale_none\"},\"y1\":{\"expr\":{\"id\":\"14617\",\"type\":\"Stack\"}},\"y2\":{\"expr\":{\"id\":\"14618\",\"type\":\"Stack\"}}},\"id\":\"14637\",\"type\":\"VArea\"},{\"attributes\":{\"fields\":[\"gas_p\",\"phs_pdch\"]},\"id\":\"14569\",\"type\":\"Stack\"},{\"attributes\":{\"fill_alpha\":0.1,\"fill_color\":\"#1f77b4\",\"x\":{\"field\":\"vre_scale_none\"},\"y1\":{\"expr\":{\"id\":\"14311\",\"type\":\"Stack\"}},\"y2\":{\"expr\":{\"id\":\"14312\",\"type\":\"Stack\"}}},\"id\":\"14319\",\"type\":\"VArea\"},{\"attributes\":{\"fields\":[\"gas_p\",\"phs_pdch\"]},\"id\":\"14314\",\"type\":\"Stack\"},{\"attributes\":{\"source\":{\"id\":\"14267\",\"type\":\"ColumnDataSource\"}},\"id\":\"14640\",\"type\":\"CDSView\"},{\"attributes\":{\"fields\":[\"gas_p\",\"phs_pdch\",\"vre\"]},\"id\":\"14570\",\"type\":\"Stack\"},{\"attributes\":{\"fields\":[\"gas_p\",\"phs_pdch\",\"vre\"]},\"id\":\"14316\",\"type\":\"Stack\"},{\"attributes\":{\"fill_alpha\":0.1,\"fill_color\":\"#1f77b4\",\"x\":{\"field\":\"vre_scale_none\"},\"y1\":{\"expr\":{\"id\":\"14440\",\"type\":\"Stack\"}},\"y2\":{\"expr\":{\"id\":\"14441\",\"type\":\"Stack\"}}},\"id\":\"14458\",\"type\":\"VArea\"},{\"attributes\":{\"label\":{\"value\":\"l\"},\"renderers\":[{\"id\":\"14639\",\"type\":\"GlyphRenderer\"}]},\"id\":\"14652\",\"type\":\"LegendItem\"},{\"attributes\":{\"fields\":[\"curt_p\"]},\"id\":\"14356\",\"type\":\"Stack\"},{\"attributes\":{\"callback\":null,\"data\":{\"eff_phs_none\":{\"__ndarray__\":\"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\",\"dtype\":\"float64\",\"shape\":[1674]},\"gas_p\":{\"__ndarray__\":\"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\",\"dtype\":\"float64\",\"shape\":[1674]},\"index\":[0,1,2,3,4,5,6,7,8,9,10,11,12,13,14,15,16,17,18,19,20,21,22,23,24,25,26,27,28,29,30,31,32,33,34,35,36,37,38,39,40,41,42,43,44,45,46,47,48,49,50,51,52,53,54,55,56,57,58,59,60,61,62,63,64,65,66,67,68,69,70,71,72,73,74,75,76,77,78,79,80,81,82,83,84,85,86,87,88,89,90,91,92,93,94,95,96,97,98,99,100,101,102,103,104,105,106,107,108,109,110,111,112,113,114,115,116,117,118,119,120,121,122,123,124,125,126,127,128,129,130,131,132,133,134,135,136,137,138,139,140,141,142,143,144,145,146,147,148,149,150,151,152,153,154,155,156,157,158,159,160,161,162,163,164,165,166,167,168,169,170,171,172,173,174,175,176,177,178,179,180,181,182,183,184,185,186,187,188,189,190,191,192,193,194,195,196,197,198,199,200,201,202,203,204,205,206,207,208,209,210,211,212,213,214,215,216,217,218,219,220,221,222,223,224,225,226,227,228,229,230,231,232,233,234,235,236,237,238,239,240,241,242,243,244,245,246,247,248,249,250,251,252,253,254,255,256,257,258,259,260,261,262,263,264,265,266,267,268,269,270,271,272,273,274,275,276,277,278,279,280,281,282,283,284,285,286,287,288,289,290,291,292,293,294,295,296,297,298,299,300,301,302,303,304,305,306,307,308,309,310,311,312,313,314,315,316,317,318,319,320,321,322,323,324,325,326,327,328,329,330,331,332,333,334,335,336,337,338,339,340,341,342,343,344,345,346,347,348,349,350,351,352,353,354,355,356,357,358,359,360,361,362,363,364,365,366,367,368,369,370,371,372,373,374,375,376,377,378,379,380,381,382,383,384,385,386,387,388,389,390,391,392,393,394,395,396,397,398,399,400,401,402,403,404,405,406,407,408,409,410,411,412,413,414,415,416,417,418,419,420,421,422,423,424,425,426,427,428,429,430,431,432,433,434,435,436,437,438,439,440,441,442,443,444,445,446,447,448,449,450,451,452,453,454,455,456,457,458,459,460,461,462,463,464,465,466,467,468,469,470,471,472,473,474,475,476,477,478,479,480,481,482,483,484,485,486,487,488,489,490,491,492,493,494,495,496,497,498,499,500,501,502,503,504,505,506,507,508,509,510,511,512,513,514,515,516,517,518,519,520,521,522,523,524,525,526,527,528,529,530,531,532,533,534,535,536,537,538,539,540,541,542,543,544,545,546,547,548,549,550,551,552,553,554,555,556,557,558,559,560,561,562,563,564,565,566,567,568,569,570,571,572,573,574,575,576,577,578,579,580,581,582,583,584,585,586,587,588,589,590,591,592,593,594,595,596,597,598,599,600,601,602,603,604,605,606,607,608,609,610,611,612,613,614,615,616,617,618,619,620,621,622,623,624,625,626,627,628,629,630,631,632,633,634,635,636,637,638,639,640,641,642,643,644,645,646,647,648,649,650,651,652,653,654,655,656,657,658,659,660,661,662,663,664,665,666,667,668,669,670,671,672,673,674,675,676,677,678,679,680,681,682,683,684,685,686,687,688,689,690,691,692,693,694,695,696,697,698,699,700,701,702,703,704,705,706,707,708,709,710,711,712,713,714,715,716,717,718,719,720,721,722,723,724,725,726,727,728,729,730,731,732,733,734,735,736,737,738,739,740,741,742,743,744,745,746,747,748,749,750,751,752,753,754,755,756,757,758,759,760,761,762,763,764,765,766,767,768,769,770,771,772,773,774,775,776,777,778,779,780,781,782,783,784,785,786,787,788,789,790,791,792,793,794,795,796,797,798,799,800,801,802,803,804,805,806,807,808,809,810,811,812,813,814,815,816,817,818,819,820,821,822,823,824,825,826,827,828,829,830,831,832,833,834,835,836,837,838,839,840,841,842,843,844,845,846,847,848,849,850,851,852,853,854,855,856,857,858,859,860,861,862,863,864,865,866,867,868,869,870,871,872,873,874,875,876,877,878,879,880,881,882,883,884,885,886,887,888,889,890,891,892,893,894,895,896,897,898,899,900,901,902,903,904,905,906,907,908,909,910,911,912,913,914,915,916,917,918,919,920,921,922,923,924,925,926,927,928,929,930,931,932,933,934,935,936,937,938,939,940,941,942,943,944,945,946,947,948,949,950,951,952,953,954,955,956,957,958,959,960,961,962,963,964,965,966,967,968,969,970,971,972,973,974,975,976,977,978,979,980,981,982,983,984,985,986,987,988,989,990,991,992,993,994,995,996,997,998,999,1000,1001,1002,1003,1004,1005,1006,1007,1008,1009,1010,1011,1012,1013,1014,1015,1016,1017,1018,1019,1020,1021,1022,1023,1024,1025,1026,1027,1028,1029,1030,1031,1032,1033,1034,1035,1036,1037,1038,1039,1040,1041,1042,1043,1044,1045,1046,1047,1048,1049,1050,1051,1052,1053,1054,1055,1056,1057,1058,1059,1060,1061,1062,1063,1064,1065,1066,1067,1068,1069,1070,1071,1072,1073,1074,1075,1076,1077,1078,1079,1080,1081,1082,1083,1084,1085,1086,1087,1088,1089,1090,1091,1092,1093,1094,1095,1096,1097,1098,1099,1100,1101,1102,1103,1104,1105,1106,1107,1108,1109,1110,1111,1112,1113,1114,1115,1116,1117,1118,1119,1120,1121,1122,1123,1124,1125,1126,1127,1128,1129,1130,1131,1132,1133,1134,1135,1136,1137,1138,1139,1140,1141,1142,1143,1144,1145,1146,1147,1148,1149,1150,1151,1152,1153,1154,1155,1156,1157,1158,1159,1160,1161,1162,1163,1164,1165,1166,1167,1168,1169,1170,1171,1172,1173,1174,1175,1176,1177,1178,1179,1180,1181,1182,1183,1184,1185,1186,1187,1188,1189,1190,1191,1192,1193,1194,1195,1196,1197,1198,1199,1200,1201,1202,1203,1204,1205,1206,1207,1208,1209,1210,1211,1212,1213,1214,1215,1216,1217,1218,1219,1220,1221,1222,1223,1224,1225,1226,1227,1228,1229,1230,1231,1232,1233,1234,1235,1236,1237,1238,1239,1240,1241,1242,1243,1244,1245,1246,1247,1248,1249,1250,1251,1252,1253,1254,1255,1256,1257,1258,1259,1260,1261,1262,1263,1264,1265,1266,1267,1268,1269,1270,1271,1272,1273,1274,1275,1276,1277,1278,1279,1280,1281,1282,1283,1284,1285,1286,1287,1288,1289,1290,1291,1292,1293,1294,1295,1296,1297,1298,1299,1300,1301,1302,1303,1304,1305,1306,1307,1308,1309,1310,1311,1312,1313,1314,1315,1316,1317,1318,1319,1320,1321,1322,1323,1324,1325,1326,1327,1328,1329,1330,1331,1332,1333,1334,1335,1336,1337,1338,1339,1340,1341,1342,1343,1344,1345,1346,1347,1348,1349,1350,1351,1352,1353,1354,1355,1356,1357,1358,1359,1360,1361,1362,1363,1364,1365,1366,1367,1368,1369,1370,1371,1372,1373,1374,1375,1376,1377,1378,1379,1380,1381,1382,1383,1384,1385,1386,1387,1388,1389,1390,1391,1392,1393,1394,1395,1396,1397,1398,1399,1400,1401,1402,1403,1404,1405,1406,1407,1408,1409,1410,1411,1412,1413,1414,1415,1416,1417,1418,1419,1420,1421,1422,1423,1424,1425,1426,1427,1428,1429,1430,1431,1432,1433,1434,1435,1436,1437,1438,1439,1440,1441,1442,1443,1444,1445,1446,1447,1448,1449,1450,1451,1452,1453,1454,1455,1456,1457,1458,1459,1460,1461,1462,1463,1464,1465,1466,1467,1468,1469,1470,1471,1472,1473,1474,1475,1476,1477,1478,1479,1480,1481,1482,1483,1484,1485,1486,1487,1488,1489,1490,1491,1492,1493,1494,1495,1496,1497,1498,1499,1500,1501,1502,1503,1504,1505,1506,1507,1508,1509,1510,1511,1512,1513,1514,1515,1516,1517,1518,1519,1520,1521,1522,1523,1524,1525,1526,1527,1528,1529,1530,1531,1532,1533,1534,1535,1536,1537,1538,1539,1540,1541,1542,1543,1544,1545,1546,1547,1548,1549,1550,1551,1552,1553,1554,1555,1556,1557,1558,1559,1560,1561,1562,1563,1564,1565,1566,1567,1568,1569,1570,1571,1572,1573,1574,1575,1576,1577,1578,1579,1580,1581,1582,1583,1584,1585,1586,1587,1588,1589,1590,1591,1592,1593,1594,1595,1596,1597,1598,1599,1600,1601,1602,1603,1604,1605,1606,1607,1608,1609,1610,1611,1612,1613,1614,1615,1616,1617,1618,1619,1620,1621,1622,1623,1624,1625,1626,1627,1628,1629,1630,1631,1632,1633,1634,1635,1636,1637,1638,1639,1640,1641,1642,1643,1644,1645,1646,1647,1648,1649,1650,1651,1652,1653,1654,1655,1656,1657,1658,1659,1660,1661,1662,1663,1664,1665,1666,1667,1668,1669,1670,1671,1672,1673],\"phs_pdch\":{\"__ndarray__\":\"AAAAAAAAAAAAAAAAAAAAAAAAAAAAAAAAAAAAAAAAAAAAAAAAAAAAAAAAAAAAAAAAAAAAAAAAAAAAAAAAAAAAAAAAAAAAAAAAAAAAAAAAAAAAAAAAAAAAAAAAAAAAAAAAAAAAAAAAAAAAAAAAAAAAAAAAAAAAAAAAAAAAAAAAAAAAAAAAAAAAAAAAAAAAAAAAAAAAAAAAAAAAAAAAAAAAAAAAAAAAAAAAAAAAAAAAAAAAAAAAAAAAAAAAAAAAAAAAAAAAAAAAAAAAAAAAAAAAAAAAAAAAAAAAAAAAAAAAAAAAAAAAAAAAAAAAAAAAAAAAAAAAAAAAAAAAAAAAAAAAAAAAAAAAAAAAAAAAAAAAAAAAAAAAAAAAAAAAAAAAAAAAAAAAAAAAAAAAAAAAAAAAAAAAAAAAAAAAAAAAAAAAAAAAAAAAAAAAAAAAAAAAAAAAAAAAAAAAAAAAAAAAAAAAAAAAAAAAAAAAAAAAAAAAAAAAAAAAAAAAAAAAAAAAAAAAAAAAAAAAAAAAAAAAAAAAAAAAAAAAAAAAAAAAAAAAAAAAAAAAAAAAAAAAAAAAAAAAAAAAAAAAAAAAAAAAAAAAAAAAAAAAAAAAAAAAAAAAAAAAAAAAAAAAAAAAAAAAAAAAAAAAAAAAAAAAAAAAAAAAAAAAAAAAAAAAAAAAAAAAAAAAAAAAAAAAAAAAAAAAAAAAAAAAAAAAAAAAAAAAAAAAAAAAAAAAAAAAAAAAAAAAAAAAAAAAAAAAAAAAAAAAAAAAAAAAAAAAAAAAAAAAAAAAAAAAAAAAAAAAAAAAAAAAAAAAAAAAAAAAAAAAAAAAAAAAAAAAAAAAAAAAAAAAAAAAAAAAAAAAAAAAAAAAAAAAAAAAAAAAAAAAAAAAAAAAAAAAAAAAAAAAAAAAAAAAAAAAAAAAAAAAAAAAAAAAAAAAAAAAAAAAAAAAAAAAAAAAAAAAAAAAAAAAAAAAAAAAAAAAAAAAAAAAAAAAAAAAAAAAAAAAAAAAAAAAAAAAAAAAAAAAAAAAAAAAAAAAAAAAAAAAAAAAAAAAAAAAAAAAAAAAAAAAAAAAAAAAAAAAAAAAAAAAAAAAAAAAAAAAAAAAAAAAAAAAAAAAAAAAAAAAAAAAAAAAAAAAAAAAAAAAAAAAAAAAAAAAAAAAAAAAAAAAAAAAAAAAAAAAAAAAAAAAAAAAAAAAAAAAAAAAAAAAAAAAAAAAAAAAAAAAAAAAAAAAAAAAAAAAAAAAAAAAAAAAAAAAAAAAAAAAAAAAAAAAAAAAAAAAAAAAAAAAAAAAAAAAAAAAAAAAAAAAAAAAAAAAAAAAAAAAAAAAAAAAAAAAAAAAAAAAAAAAAAAAAAAAAAAAAAAAAAAAAAAAAAAAAAAAAAAAAAAAAAAAAAAAAAAAAAAAAAAAAAAAAAAAAAAAAAAAAAAAAAAAAAAAAAAAAAAAAAAAAAAAAAAAAAAAAAAAAAAAAAAAAAAAAAAAAAAAAAAAAAAAAAAAAAAAAAAAAAAAAAAAAAAAAAAAAAAAAAAAAAAAAAAAAAAAAAAAAAAAAAAAAAAAAAAAAAAAAAAAAAAAAAAAAAAAAAAAAAAAAAAAAAAAAAAAAAAAAAAAAAAAAAAAAAAAAAAAAAAAAAAAAAAAAAAAAAAAAAAAAAAAAAAAAAAAAAAAAAAAAAAAAAAAAAAAAAAAAAAAAAAAAAAAAAAAAAAAAAAAAAAAAAAAAAAAAAAAAAAAAAAAAAAAAAAAAAAAAAAAAAAAAAAAAAAAAAAAAAAAAAAAAAAAAAAAAAAAAAAAAAAAAAAAAAAAAAAAAAAAAAAAAAAAAAAAAAAAAAAAAAAAAAAAAAAAAAAAAAAAAAAAAAAAAAAAAAAAAAAAAAAAAAAAAAAAAAAAAAAAAAAAAAAAAAAAAAAAAAAAAAAAAAAAAAAAAAAAAAAAAAAAAAAAAAAAAAAAAAAAAAAAAAAAAAAAAAAAAAAAAAAAAAAAAAAAAAAAAAAAAAAAAAAAAAAAAAAAAAAAAAAAAAAAAAAAAAAAAAAAAAAAAAAAAAAAAAAAAAAAAAAAAAAAAAAAAAAAAAAAAAAAAAAAAAAAAAAAAAAAAAAAAAAAAAAAAAAAAAAAAAAAAAAAAAAAAAAAAAAAAAAAAAAAAAAAAAAAAAAAAAAAAAAAAAAAAAAAAAAAAAAAAAAAAAAAAAAAAAAAAAAAAAAAAAAAAAAAAAAAAAAAAAAAAAAAAAAAAAAAAAAAAAAAAAAAAAAAAAAAAAAAAAAAAAAAAAAAAAAAAAAAAAAAAAAAAAAAAAAAAAAAAAAAAAAAAAAAAAAAAAAAAAAAAAAAAAAAAAAAAAAAAAAAAAAAAAAAAAAAAAAAAAAAAAAAAAAAAAAAAAAAAAAAAAAAAAAAAAAAAAAAAAAAAAAAAAAAAAAAAAAAAAAAAAAAAAAAAAAAAAAAAAAAAAAAAAAAAAAAAAAAAAAAAAAAAAAAAAAAAAAAAAAAAAAAAAAAAAAAAAAAAAAAAAAAAAAAAAAAAAAAAAAAAAAAAAAAAAAAAAAAAAAAAAAAAAAAAAAAAAAAAAAAAAAAAAAAAAAAAAAAAAAAAAAAAAAAAAAAAAAAAAAAAAAAAAAAAAAAAAAAAAAAAAAAAAAAAAAAAAAAAAAAAAAAAAAAAAAAAAAAAAAAAAAAAAAAAAAAAAAAAAAAAAAAAAAAAAAAAAAAAAAAAAAAAAAAAAAAAAAAAAAAAAAAAAAAAAAAAAAAAAAAAAAAAAAAAAAAAAAAAAAAAAAAAAAAAAAAAAAAAAAAAAAAAAAAAAAAAAAAAAAAAAAAAAAAAAAAAAAAAAAAAAAAAAAAAAAAAAAAAAAAAAAAAAAAAAAAAAAAAAAAAAAAAAAAAAAAAAAAAAAAAAAAAAAAAAAAAAAAAAAAAAAAAAAAAAAAAAAAAAAAAAAAAAAAAAAAAAAAAAAAAAAAAAAAAAAAAAAAAAAAAAAAAAAAAAAAAAAAAAAAAAAAAAAAAAAAAAAAAAAAAAAAAAAAAAAAAAAAAAAAAAAAAAAAAAAAAAAAAAAAAAAAAAAAAAAAAAAAAAAAAAAAAAAAAAAAAAAAAAAAAAAAAAAAAAAAAAAAAAAAAAAAAAAAAAAAAAAAAAAAAAAAAAAAAAAAAAAAAAAAAAAAAAAAAAAAAAAAAAAAAAAAAAAAAAAAAAAAAAAAAAAAAAAAAAAAAAAAAAAAAAAAAAAAAAAAAAAAAAAAAAAAAAAAAAAAAAAAAAAAAAAAAAAAAAAAAAAAAAAAAAAAAAAAAAAAAAAAAAAAAAAAAAAAAAAAAAAAAAAAAAAAAAAAAAAAAAAAAAAAAAAAAAAAAAAAAAAAAAAAAAAAAAAAAAAAAAAAAAAAAAAAAAAAAAAAAAAAAAAAAAAAAAAAAAAAAAAAAAAAAAAAAAAAAAAAAAAAAAAAAAAAAAAAAAAAAAAAAAAAAAAAAAAAAAAAAAAAAAAAAAAAAAAAAAAAAAAAAAAAAAAAAAAAAAAAAAAAAAAAAAAAAAAAAAAAAAAAAAAAAAAAAAAAAAAAAAAAAAAAAAAAAAAAAAAAAAAAAAAAAAAAAAAAAAAAAAAAAAAAAAAAAAAAAAAAAAAAAAAAAAAAAAAAAAAAAAAAAAAAAAAAAAAAAAAAAAAAAAAAAAAAAAAAAAAAAAAAAAAAAAAAAAAAAAAAAAAAAAAAAAAAAAAAAAAAAAAAAAAAAAAAAAAAAAAAAAAAAAAAAAAAAAAAAAAAAAAAAAAAAAAAAAAAAAAAAAAAAAAAAAAAAAAAAAAAAAAAAAAAAAAAAAAAAAAAAAAAAAAAAAAAAAAAAAAAAAAAAAAAAAAAAAAAAAAAAAAAAAAAAAAAAAAAAAAAAAAAAAAAAAAAAAAAAAAAAAAAAAAAAAAAAAAAAAAAAAAAAAAAAAAAAAAAAAAAAAAAAAAAAAAAAAAAAAAAAAAAAAAAAAAAAAAAAAAAAAAAAAAAAAAAAAAAAAAAAAAAAAAAAAAAAAAAAAAAAAAAAAAAAAAAAAAAAAAAAAAAAAAAAAAAAAAAAAAAAAAAAAAAAAAAAAAAAAAAAAAAAAAAAAAAAAAAAAAAAAAAAAAAAAAAAAAAAAAAAAAAAAAAAAAAAAAAAAAAAAAAAAAAAAAAAAAAAAAAAAAAAAAAAAAAAAAAAAAAAAAAAAAAAAAAAAAAAAAAAAAAAAAAAAAAAAAAAAAAAAAAAAAAAAAAAAAAAAAAAAAAAAAAAAAAAAAAAAAAAAAAAAAAAAAAAAAAAAAAAAAAAAAAAAAAAAAAAAAAAAAAAAAAAAAAAAAAAAAAAAAAAAAAAAAAAAAAAAAAAAAAAAAAAAAAAAAAAAAAAAAAAAAAAAAAAAAAAAAAAAAAAAAAAAAAAAAAAAAAAAAAAAAAAAAAAAAAAAAAAAAAAAAAAAAAAAAAAAAAAAAAAAAAAAAAAAAAAAAAAAAAAAAAAAAAAAAAAAAAAAAAAAAAAAAAAAAAAAAAAAAAAAAAAAAAAAAAAAAAAAAAAAAAAAAAAAAAAAAAAAAAAAAAAAAAAAAAAAAAAAAAAAAAAAAAAAAAAAAAAAAAAAAAAAAAAAAAAAAAAAAAAAAAAAAAAAAAAAAAAAAAAAAAAAAAAAAAAAAAAAAAAAAAAAAAAAAAAAAAAAAAAAAAAAAAAAAAAAAAAAAAAAAAAAAAAAAAAAAAAAAAAAAAAAAAAAAAAAAAAAAAAAAAAAAAAAAAAAAAAAAAAAAAAAAAAAAAAAAAAAAAAAAAAAAAAAAAAAAAAAAAAAAAAAAAAAAAAAAAAAAAAAAAAAAAAAAAAAAAAAAAAAAAAAAAAAAAAAAAAAAAAAAAAAAAAAAAAAAAAAAAAAAAAAAAAAAAAAAAAAAAAAAAAAAAAAAAAAAAAAAAAAAAAAAAAAAAAAAAAAAAAAAAAAAAAAAAAAAAAAAAAAAAAAAAAAAAAAAAAAAAAAAAAAAAAAAAAAAAAAAAAAAAAAAAAAAAAAAAAAAAAAAAAAAAAAAAAAAAAAAAAAAAAAAAAAAAAAAAAAAAAAAAAAAAAAAAAAAAAAAAAAAAAAAAAAAAAAAAAAAAAAAAAAAAAAAAAAAAAAAAAAAAAAAAAAAAAAAAAAAAAAAAAAAAAAAAAAAAAAAAAAAAAAAAAAAAAAAAAAAAAAAAAAAAAAAAAAAAAAAAAAAAAAAAAAAAAAAAAAAAAAAAAAAAAAAAAAAAAAAAAAAAAAAAAAAAAAAAAAAAAAAAAAAAAAAAAAAAAAAAAAAAAAAAAAAAAAAAAAAAAAAAAAAAAAAAAAAAAAAAAAAAAAAAAAAAAAAAAAAAAAAAAAAAAAAAAAAAAAAAAAAAAAAAAAAAAAAAAAAAAAAAAAAAAAAAAAAAAAAAAAAAAAAAAAAAAAAAAAAAAAAAAAAAAAAAAAAAAAAAAAAAAAAAAAAAAAAAAAAAAAAAAAAAAAAAAAAAAAAAAAAAAAAAAAAAAAAAAAAAAAAAAAAAAAAAAAAAAAAAAAAAAAAAAAAAAAAAAAAAAAAAAAAAAAAAAAAAAAAAAAAAAAAAAAAAAAAAAAAAAAAAAAAAAAAAAAAAAAAAAAAAAAAAAAAAAAAAAAAAAAAAAAAAAAAAAAAAAAAAAAAAAAAAAAAAAAAAAAAAAAAAAAAAAAAAAAAAAAAAAAAAAAAAAAAAAAAAAAAAAAAAAAAAAAAAAAAAAAAAAAAAAAAAAAAAAAAAAAAAAAAAAAAAAAAAAAAAAAAAAAAAAAAAAAAAAAAAAAAAAAAAAAAAAAAAAAAAAAAAAAAAAAAAAAAAAAAAAAAAAAAAAAAAAAAAAAAAAAAAAAAAAAAAAAAAAAAAAAAAAAAAAAAAAAAAAAAAAAAAAAAAAAAAAAAAAAAAAAAAAAAAAAAAAAAAAAAAAAAAAAAAAAAAAAAAAAAAAAAAAAAAAAAAAAAAAAAAAAAAAAAAAAAAAAAAAAAAAAAAAAAAAAAAAAAAAAAAAAAAAAAAAAAAAAAAAAAAAAAAAAAAAAAAAAAAAAAAAAAAAAAAAAAAAAAAAAAAAAAAAAAAAAAAAAAAAAAAAAAAAAAAAAAAAAAAAAAAAAAAAAAAAAAAAAAAAAAAAAAAAAAAAAAAAAAAAAAAAAAAAAAAAAAAAAAAAAAAAAAAAAAAAAAAAAAAAAAAAAAAAAAAAAAAAAAAAAAAAAAAAAAAAAAAAAAAAAAAAAAAAAAAAAAAAAAAAAAAAAAAAAAAAAAAAAAAAAAAAAAAAAAAAAAAAAAAAAAAAAAAAAAAAAAAAAAAAAAAAAAAAAAAAAAAAAAAAAAAAAAAAAAAAAAAAAAAAAAAAAAAAAAAAAAAAAAAAAAAAAAAAAAAAAAAAAAAAAAAAAAAAAAAAAAAAAAAAAAAAAAAAAAAAAAAAAAAAAAAAAAAAAAAAAAAAAAAAAAAAAAAAAAAAAAAAAAAAAAAAAAAAAAAAAAAAAAAAAAAAAAAAAAAAAAAAAAAAAAAAAAAAAAAAAAAAAAAAAAAAAAAAAAAAAAAAAAAAAAAAAAAAAAAAAAAAAAAAAAAAAAAAAAAAAAAAAAAAAAAAAAAAAAAAAAAAAAAAAAAAAAAAAAAAAAAAAAAAAAAAAAAAAAAAAAAAAAAAAAAAAAAAAAAAAAAAAAAAAAAAAAAAAAAAAAAAAAAAAAAAAAAAAAAAAAAAAAAAAAAAAAAAAAAAAAAAAAAAAAAAAAAAAAAAAAAAAAAAAAAAAAAAAAAAAAAAAAAAAAAAAAAAAAAAAAAAAAAAAAAAAAAAAAAAAAAAAAAAAAAAAAAAAAAAAAAAAAAAAAAAAAAAAAAAAAAAAAAAAAAAAAAAAAAAAAAAAAAAAAAAAAAAAAAAAAAAAAAAAAAAAAAAAAAAAAAAAAAAAAAAAAAAAAAAAAAAAAAAAAAAAAAAAAAAAAAAAAAAAAAAAAAAAAAAAAAAAAAAAAAAAAAAAAAAAAAAAAAAAAAAAAAAAAAAAAAAAAAAAAAAAAAAAAAAAAAAAAAAAAAAAAAAAAAAAAAAAAAAAAAAAAAAAAAAAAAAAAAAAAAAAAAAAAAAAAAAAAAAAAAAAAAAAAAAAAAAAAAAAAAAAAAAAAAAAAAAAAAAAAAAAAAAAAAAAAAAAAAAAAAAAAAAAAAAAAAAAAAAAAAAAAAAAAAAAAAAAAAAAAAAAAAAAAAAAAAAAAAAAAAAAAAAAAAAAAAAAAAAAAAAAAAAAAAAAAAAAAAAAAAAAAAAAAAAAAAAAAAAAAAAAAAAAAAAAAAAAAAAAAAAAAAAAAAAAAAAAAAAAAAAAAAAAAAAAAAAAAAAAAAAAAAAAAAAAAAAAAAAAAAAAAAAAAAAAAAAAAAAAAAAAAAAAAAAAAAAAAAAAAAAAAAAAAAAAAAAAAAAAAAAAAAAAAAAAAAAAAAAAAAAAAAAAAAAAAAAAAAAAAAAAAAAAAAAAAAAAAAAAAAAAAAAAAAAAAAAAAAAAAAAAAAAAAAAAAAAAAAAAAAAAAAAAAAAAAAAAAAAAAAAAAAAAAAAAAAAAAAAAAAAAAAAAAAAAAAAAAAAAAAAAAAAAAAAAAAAAAAAAAAAAAAAAAAAAAAAAAAAAAAAAAAAAAAAAAAAAAAAAAAAAAAAAAAAAAAAAAAAAAAAAAAAAAAAAAAAAAAAAAAAAAAAAAAAAAAAAAAAAAAAAAAAAAAAAAAAAAAAAAAAAAAAAAAAAAAAAAAAAAAAAAAAAAAAAAAAAAAAAAAAAAAAAAAAAAAAAAAAAAAAAAAAAAAAAAAAAAAAAAAAAAAAAAAAAAAAAAAAAAAAAAAAAAAAAAAAAAAAAAAAAAAAAAAAAAAAAAAAAAAAAAAAAAAAAAAAAAAAAAAAAAAAAAAAAAAAAAAAAAAAAAAAAAAAAAAAAAAAAAAAAAAAAAAAAAAAAAAAAAAAAAAAAAAAAAAAAAAAAAAAAAAAAAAAAAAAAAAAAAAAAAAAAAAAAAAAAAAAAAAAAAAAAAAAAAAAAAAAAAAAAAAAAAAAAAAAAAAAAAAAAAAAAAAAAAAAAAAAAAAAAAAAAAAAAAAAAAAAAAAAAAAAAAAAAAAAAAAAAAAAAAAAAAAAAAAAAAAAAAAAAAAAAAAAAAAAAAAAAAAAAAAAAAAAAAAAAAAAAAAAAAAAAAAAAAAAAAAAAAAAAAAAAAAAAAAAAAAAAAAAAAAAAAAAAAAAAAAAAAAAAAAAAAAAAAAAAAAAAAAAAAAAAAAAAAAAAAAAAAAAAAAAAAAAAAAAAAAAAAAAAAAAAAAAAAAAAAAAAAAAAAAAAAAAAAAAAAAAAAAAAAAAAAAAAAAAAAAAAAAAAAAAAAAAAAAAAAAAAAAAAAAAAAAAAAAAAAAAAAAAAAAAAAAAAAAAAAAAAAAAAAAAAAAAAAAAAAAAAAAAAAAAAAAAAAAAAAAAAAAAAAAAAAAAAAAAAAAAAAAAAAAAAAAAAAAAAAAAAAAAAAAAAAAAAAAAAAAAAAAAAAAAAAAAAAAAAAAAAAAAAAAAAAAAAAAAAAAAAAAAAAAAAAAAAAAAAAAAAAAAAAAAAAAAAAAAAAAAAAAAAAAAAAAAAAAAAAAAAAAAAAAAAAAAAAAAAAAAAAAAAAAAAAAAAAAAAAAAAAAAAAAAAAAAAAAAAAAAAAAAAAAAAAAAAAAAAAAAAAAAAAAAAAAAAAAAAAAAAAAAAAAAAAAAAAAAAAAAAAAAAAAAAAAAAAAAAAAAAAAAAAAAAAAAAAAAAAAAAAAAAAAAAAAAAAAAAAAAAAAAAAAAAAAAAAAAAAAAAAAAAAAAAAAAAAAAAAAAAAAAAAAAAAAAAAAAAAAAAAAAAAAAAAAAAAAAAAAAAAAAAAAAAAAAAAAAAAAAAAAAAAAAAAAAAAAAAAAAAAAAAAAAAAAAAAAAAAAAAAAAAAAAAAAAAAAAAAAAAAAAAAAAAAAAAAAAAAAAAAAAAAAAAAAAAAAAAAAAAAAAAAAAAAAAAAAAAAAAAAAAAAAAAAAAAAAAAAAAAAAAAAAAAAAAAAAAAAAAAAAAAAAAAAAAAAAAAAAAAAAAAAAAAAAAAAAAAAAAAAAAAAAAAAAAAAAAAAAAAAAAAAAAAAAAAAAAAAAAAAAAAAAAAAAAAAAAAAAAAAAAAAAAAAAAAAAAAAAAAAAAAAAAAAAAAAAAAAAAAAAAAAAAAAAAAAAAAAAAAAAAAAAAAAAAAAAAAAAAAAAAAAAAAAAAAAAAAAAAAAAAAAAAAAAAAAAAAAAAAAAAAAAAAAAAAAAAAAAAAAAAAAAAAAAAAAAAAAAAAAAAAAAAAAAAAAAAAAAAAAAAAAAAAAAAAAAAAAAAAAAAAAAAAAAAAAAAAAAAAAAAAAAAAAAAAAAAAAAAAAAAAAAAAAAAAAAAAAAAAAAAAAAAAAAAAAAAAAAAAAAAAAAAAAAAAAAAAAAAAAAAAAAAAAAAAAAAAAAAAAAAAAAAAAAAAAAAAAAAAAAAAAAAAAAAAAAAAAAAAAAAAAAAAAAAAAAAAAAAAAAAAAAAAAAAAAAAAAAAAAAAAAAAAAAAAAAAAAAAAAAAAAAAAAAAAAAAAAAAAAAAAAAAAAAAAAAAAAAAAAAAAAAAAAAAAAAAAAAAAAAAAAAAAAAAAAAAAAAAAAAAAAAAAAAAAAAAAAAAAAAAAAAAAAAAAAAAAAAAAAAAAAAAAAAAAAAAAAAAAAAAAAAAAAAAAAAAAAAAAAAAAAAAAAAAAAAAAAAAAAAAAAAAAAAAAAAAAAAAAAAAAAAAAAAAAAAAAAAAAAAAAAAAAAAAAAAAAAAAAAAAAAAAAAAAAAAAAAAAAAAAAAAAAAAAAAAAAAAAAAAAAAAAAAAAAAAAAAAAAAAAAAAAAAAAAAAAAAAAAAAAAAAAAAAAAAAAAAAAAAAAAAAAAAAAAAAAAAAAAAAAAAAAAAAAAAAAAAAAAAAAAAAAAAAAAAAAAAAAAAAAAAAAAAAAAAAAAAAAAAAAAAAAAAAAAAAAAAAAAAAAAAAAAAAAAAAAAAAAAAAAAAAAAAAAAAAAAAAAAAAAAAAAAAAAAAAAAAAAAAAAAAAAAAAAAAAAAAAAAAAAAAAAAAAAAAAAAAAAAAAAAAAAAAAAAAAAAAAAAAAAAAAAAAAAAAAAAAAAAAAAAAAAAAAAAAAAAAAAAAAAAAAAAAAAAAAAAAAAAAAAAAAAAAAAAAAAAAAAAAAAAAAAAAAAAAAAAAAAAAAAAAAAAAAAAAAAAAAAAAAAAAAAAAAAAAAAAAAAAAAAAAAAAAAAAAAAAAAAAAAAAAAAAAAAAAAAAAAAAAAAAAAAAAAAAAAAAAAAAAAAAAAAAAAAAAAAAAAAAAAAAAAAAAAAAAAAAAAAAAAAAAAAAAAAAAAAAAAAAAAAAAAAAAAAAAAAAAAAAAAAAAAAAAAAAAAAAAAAAAAAAAAAAAAAAAAAAAAAAAAAAAAAAAAAAAAAAAAAAAAAAAAAAAAAAAAAAAAAAAAAAAAAAAAAAAAAAAAAAAAAAAAAAAAAAAAAAAAAAAAAAAAAAAAAAAAAAAAAAAAAAAAAAAAAAAAAAAAAAAAAAAAAAAAAAAAAAAAAAAAAAAAAAAAAAAAAAAAAAAAAAAAAAAAAAAAAAAAAAAAAAAAAAAAAAAAAAAAAAAAAAAAAAAAAAAAAAAAAAAAAAAAAAAAAAAAAABy1j027QXFPtZnvmx125k/4Y0JVSHbqT/s89n5Q2SzP2UhL0n32rk/MCdCTNUowD/tvezzLmTDP2tUl5uIn8Y/KOtBQ+LayT9mgezqOxbNPxGMS8nKKNA/cNcgnXfG0T+vIvZwJGTTPw1uy0TRAdU/TLmgGH6f1j+LBHbsKj3YP8pPS8DX2tk/KJsglIR42z9H5vVnMRbdP7Uxyzves94/kj7Qh8Uo4D8h5Lrxm/fgP9GJpVtyxuE/gC+QxUiV4j8Q1XovH2TjP756ZZn1MuQ/biBQA8wB5T8NxjptotDlP61rJdd4n+Y/AAAAAAAAAAAAAAAAAAAAAAAAAAAAAAAAAAAAAAAAAAAAAAAAAAAAAAAAAAAAAAAAAAAAAAAAAAAAAAAAAAAAAAAAAAAAAAAAAAAAAAAAAAAAAAAAAAAAAAAAAAAAAAAAAAAAAAAAAAAAAAAAAAAAAAAAAAAAAAAAAAAAAAAAAAAAAAAAAAAAAAAAAAAAAAAAAAAAAAAAAAAAAAAAAAAAAAAAAAAAAAAAAAAAAAAAAAAAAAAAAAAAAAAAAAAAAAAAAAAAAAAAAAAAAAAAAAAAAAAAAAAAAAAAAAAAAAAAAAAAAAAAAAAAAAAAAAAAAAAAAAAAAAAAAAAAAAAAAAAAAAAAAAAAAAAAAAAAAAAAAAAAAAAAAAAAAAAAAAAAAAAAAAAAAAAAAAAAAAAAAAAAAAAAAAAAAAAAAAAAAAAAAAAAAAAAAAAAAAAAAAAAAAAAAAAAAAAAAAAAAAAAAAAAAAAAAAAAAAAAAAAAAAAAAAAAAAAAAAAAAAAAAAAAAAAAAAAAAAAAAAAAAAAAAAAAAAAAAAAAAAAAAAAAAAAAAAAAAAAAAAAAAAAAAAAAAAAAAAAAAAAAAAAAAAAAAAAAAAAAAAAAAAAAAAAAAAAAAAAAAAAAAAAAAAAAAAAAAAAAAAAAAAAAAAAAAAAAAAAAAAAAAAAAAAAAAAAAAAAAAADM3KX2mJmpP5ZcZALRqbk/Y+W6xGpDwz97nEMI7bHJP8kp5qU3ENA/dIWqx3hH0z8A4W7puX7WP208Mwv7tdk/GJj3LDzt3D/C+V2nPhLgP6gnQDjfreE/TlUiyX9J4z8cgwRaIOXkP+qw5urAgOY/oN7Ie2Ec6D9+DKsMArjpPzQ6jZ2iU+s/+mdvLkPv7D/IlVG/44ruP7/hGShCE/A/pviKcBLh8D+FD/y44q7xP2wmbQGzfPI/Sz3eSYNK8z8qVE+SUxj0PxFrwNoj5vQ/8IExI/Sz9T/amKJrxIH2P7avE7SUT/c/AAAAAAAAAAAAAAAAAAAAAAAAAAAAAAAAAAAAAAAAAAAAAAAAAAAAAAAAAAAAAAAAAAAAAAAAAAAAAAAAAAAAAAAAAAAAAAAAAAAAAAAAAAAAAAAAAAAAAAAAAAAAAAAAAAAAAAAAAAAAAAAAAAAAAAAAAAAAAAAAAAAAAAAAAAAAAAAAAAAAAAAAAAAAAAAAAAAAAAAAAAAAAAAAAAAAAAAAAAAAAAAAAAAAAAAAAAAAAAAAAAAAAAAAAAAAAAAAAAAAAAAAAAAAAAAAAAAAAAAAAAAAAAAAAAAAAAAAAAAAAAAAAAAAAAAAAAAAAAAAAAAAAAAAAAAAAAAAAAAAAAAAAAAAAAAAAAAAAAAAAAAAAAAAAAAAAAAAAAAAAAAAAAAAAAAAAAAAAAAAAAAAAAAAAAAAAAAAAAAAAAAAAAAAAAAAAAAAAAAAAAAAAAAAAAAAAAAAAAAAAAAAAAAAAAAAAAAAAAAAAAAAAAAAAAAAAAAAAAAAAAAAAAAAAAAAAAAAAAAAAAAAAAAAAAAAAAAAAAAAAAAAAAAAAAAAAAAAAAAAAAAAAAAAAAAAAAAAAAAAAAAAAAAAAAAAAAAAAAAAAAAAAAAAAAAAAAAAAAAAAAAAAAAAAAAAAAAAAAAAZlS4qixunj8aZ2ZJEIe5PwAAAAAAAAAAqwX3r2RYmT9QcMvqbpm5P9qPzFRibsY/5rMZmgYI0D+fH80J3NjUP1iLgHmxqdk/Mvcz6YZ63j92sXMsrqXhP3JnTeQYDuQ/Ph0nnIN25j8r0wBU7t7oPxiJ2gtZR+s/9D60w8Ov7T9w+sY9FwzwP2bVs5lMQPE/TbCg9YF08j9Ei41Rt6jzPzZmeq3s3PQ/NEFnCSIR9j8eHFRlV0X3PxT3QMGMefg/BtItHcKt+T/9rBp59+H6P++HB9UsFvw/3mL0MGJK/T/QPeGMl37+P8YYzujMsv8/3HldIoFzAEBY51PQmw0BQMxUSn62pwFAAAAAAAAAAAAAAAAAAAAAAAAAAAAAAAAAAAAAAAAAAAAAAAAAAAAAAAAAAAAAAAAAAAAAAAAAAAAAAAAAAAAAAAAAAAAAAAAAAAAAAAAAAAAAAAAAAAAAAAAAAAAAAAAAAAAAAAAAAAAAAAAAAAAAAAAAAAAAAAAAAAAAAAAAAAAAAAAAAAAAAAAAAAAAAAAAAAAAAAAAAAAAAAAAAAAAAAAAAAAAAAAAAAAAAAAAAAAAAAAAAAAAAAAAAAAAAAAAAAAAAAAAAAAAAAAAAAAAAAAAAAAAAAAAAAAAAAAAAAAAAAAAAAAAAAAAAAAAAAAAAAAAAAAAAAAAAAAAAAAAAAAAAAAAAAAAAAAAAAAAAAAAAAAAAAAAAAAAAAAAAAAAAAAAAAAAAAAAAAAAAAAAAAAAAAAAAAAAAAAAAAAAAAAAAAAAAAAAAAAAAAAAAAAAAAAAAAAAAAAAAAAAAAAAAAAAAAAAAAAAAAAAAAAAAAAAAAAAAAAAAAAAAAAAAAAAAAAAAAAAAAAAAAAAAAAAAAAAAAAAAAAAAAAAAAAAAAAAAAAAAAAAAAAAAAAAAAAAZh+FzvvYsT9Ne5SfnHHEP8Bm5le79s8/ICkcCO291T/mHkVkfIDbP1YKN+CFoeA/NoVLjs2C4z8VAGA8FWTmPwAAAAAAAAAAQQR0x9R4qT8d+SGtCDPDP7V4MxTuA9A/2/TV0Vdu1j+icHiPwdjcP2R2jaaVoeE/Z7RehcrW5D9q8i9k/wvoP30wAUM0Qes/gW7SIWl27j9G1lEAz9XwP0x1um9pcPI/TRQj3wML9D9Ps4tOnqX1P1RS9L04QPc/UvFcLdPa+D9XkMWcbXX6P1UvLgwIEPw/X86We6Kq/T9lbf/qPEX/PzMGNK3rbwBAtFXo5Dg9AUA0pZwchgoCQLn0UFTT1wJAN0QFjCClA0C3k7nDbXIEQDrjbfu6PwVAvjIiMwgNBkBAgtZqVdoGQMDRiqKipwdAAAAAAAAAAAAAAAAAAAAAAAAAAAAAAAAAAAAAAAAAAAAAAAAAAAAAAAAAAAAAAAAAAAAAAAAAAAAAAAAAAAAAAAAAAAAAAAAAAAAAAAAAAAAAAAAAAAAAAAAAAAAAAAAAAAAAAAAAAAAAAAAAAAAAAAAAAAAAAAAAAAAAAAAAAAAAAAAAAAAAAAAAAAAAAAAAAAAAAAAAAAAAAAAAAAAAAAAAAAAAAAAAAAAAAAAAAAAAAAAAAAAAAAAAAAAAAAAAAAAAAAAAAAAAAAAAAAAAAAAAAAAAAAAAAAAAAAAAAAAAAAAAAAAAAAAAAAAAAAAAAAAAAAAAAAAAAAAAAAAAAAAAAAAAAAAAAAAAAAAAAAAAAAAAAAAAAAAAAAAAAAAAAAAAAAAAAAAAAAAAAAAAAAAAAAAAAAAAAAAAAAAAAAAAAAAAAAAAAAAAAAAAAAAAAAAAAAAAAAAAAAAAAAAAAAAAAAAAAAAAAAAAAAAAAAAAAAAAAAAAAAAAAAAAAAAAAAAAAAAAAAAAAAAAAAAAAICkcCC097Y/WgCA8VSQyT8z12PpZ9LTP0auB1ql3No/o8JVZXHz4D8trqcdkHjkP66Z+dWu/ec/NYVLjs2C6z++cJ1G7AfvPx6ud3+FRvE/46Og2xQJ8z+kmck3pMv0PwAAAAAAAAAA1kJ2m7sisz8SOt7kWZnJP32pAP6q0NQ/0DWSCanU3D8R4ZGKU2ziPzunWpBSbuY/XW0jllFw6j9vM+ybUHLuP9F82tAnOvE/6d++Uyc78z/7QqPWJjz1Pwumh1kmPfc/GQls3CU++T8tbFBfJT/7P0bPNOIkQP0/TzIZZSRB/z+2yv7zEaEAQD38cLWRoQFAyy3jdhGiAkBRX1U4kaIDQNqQx/kQowRAZcI5u5CjBUDu86t8EKQGQHolHj6QpAdAAVeQ/w+lCECLiALBj6UJQBe6dIIPpgpAm+vmQ4+mC0AoHVkFD6cMQK5Oy8aOpw1AAAAAAAAAAAAAAAAAAAAAAAAAAAAAAAAAAAAAAAAAAAAAAAAAAAAAAAAAAAAAAAAAAAAAAAAAAAAAAAAAAAAAAAAAAAAAAAAAAAAAAAAAAAAAAAAAAAAAAAAAAAAAAAAAAAAAAAAAAAAAAAAAAAAAAAAAAAAAAAAAAAAAAAAAAAAAAAAAAAAAAAAAAAAAAAAAAAAAAAAAAAAAAAAAAAAAAAAAAAAAAAAAAAAAAAAAAAAAAAAAAAAAAAAAAAAAAAAAAAAAAAAAAAAAAAAAAAAAAAAAAAAAAAAAAAAAAAAAAAAAAAAAAAAAADYUlMIzSGM/Mwlt/YH0dz8AAAAAAAAAAAAAAAAAAAAAAAAAAAAAAAAAAAAAAAAAAAAAAAAAAAAAAAAAAAAAAAAAAAAAAAAAAAAAAAAAAAAAAAAAAAAAAAAAAAAAAAAAAAAAAAAAAAAAAAAAAAAAAAAAAAAAAAAAAAAAAAAAAAAAAAAAAAAAAAAAAAAAAAAAAObhevdXaLQ/puH6BQPYyj8aKRwI7b3VP3PhOo3YD94/4swsCeIw4z8KKbzL11nnPzaFS47Ngus/W+HaUMOr7z/HHrWJXOrxP9fM/GrX/vM/63pETFIT9j8CKYwtzSf4PxbX0w5IPPo/LYUb8MJQ/D89M2PRPWX+PwAAAAAAAAAAC4Qy0wyJuT8Ie5ocq//PP2Tazednndk/czunIH2d4T+ziWdNRmzmPwPYJ3oPO+s/IRN0U+wE8D87OtTpUGzyP1thNIC10/Q/f4iUFho79z+rr/SsfqL5P8/WVEPjCfw/6/202Udx/j+Hkgo4VmwAQBmmOoMIoAFAqrlqzrrTAkA+zZoZbQcEQM7gymQfOwVAY/T6r9FuBkDyByv7g6IHQIMbW0Y21ghAGC+LkegJCkCnQrvcmj0LQDtW6ydNcQxAymkbc/+kDUBZfUu+sdgOQHjIvQQyBhBAP9JVKgugEEAK3O1P5DkRQNDlhXW90xFAAAAAAAAAAAAAAAAAAAAAAAAAAAAAAAAAAAAAAAAAAAAAAAAAAAAAAAAAAAAAAAAAAAAAAAAAAAAAAAAAAAAAAAAAAAAAAAAAAAAAAAAAAAAAAAAAAAAAAAAAAAAAAAAAAAAAAAAAAAAAAAAAAAAAAAAAAAAAAAAAAAAAAAAAAAAAAAAAAAAAAAAAAAAAAAAAAAAAAAAAAAAAAAAAAAAAAAAAAAAAAAAAAAAAAAAAAAAAAAAAAAAAAAAAAAAAAAAAAAAAAAAAAABW/3sJ6aJMP75aD4wB8XM/yZp3+9Imgj8ziOcwJVWKP866K7O7QZE/frHjzeRYlT8AAAAAAAAAAAAAAAAAAAAAAAAAAAAAAAAAAAAAAAAAAAAAAAAAAAAAAAAAAAAAAAAAAAAAAAAAAAAAAAAAAAAAAAAAAAAAAAAAAAAAAAAAAAAAAAAAAAAAAAAAAAAAAAAAAAAAAAAAAAAAAAAAAAAAM2dmSRCHuT/AZuZXu/bPP/PMjEX3lNk/RjOTb0iX4T8WAGA8FWTmP+PMLAniMOs/rpn51a797z89M2PRPWXyP6aZyTeky/Q/CwAwngoy9z90ZpYEcZj5P9bM/GrX/vs/PjNj0T1l/j/SzOQb0mUAQAYAGE8FmQFAOjNLgjjMAkBrZn61a/8DQAAAAAAAAAAAQMXuCl7vvz8eXisq/jLTP+wKm9Ekat4/7VuFvKXQ5D9EMj0QOWzqP1WE+jHmA/A/iW/W26/R8j/FWrKFeZ/1P/RFji9Dbfg/JDFq2Qw7+z9YHEaD1gj+P8cDkRZQawBAX/l+6zTSAUD57mzAGTkDQJHkWpX+nwRALNpIauMGBkDGzzY/yG0HQF/FJBSt1AhA/LoS6ZE7CkCVsAC+dqILQC6m7pJbCQ1AxpvcZ0BwDkBgkco8JdcPQH1D3AgFnxBASj5Tc3dSEUAVOcrd6QUSQOQzQUhcuRJAsC64ss5sE0B+KS8dQSAUQEokpoez0xRAAAAAAAAAAAAAAAAAAAAAAAAAAAAAAAAAAAAAAAAAAAAAAAAAAAAAAAAAAAAAAAAAAAAAAAAAAAAAAAAAAAAAAAAAAAAAAAAAAAAAAAAAAAAAAAAAAAAAAAAAAAAAAAAAAAAAAAAAAAAAAAAAAAAAAAAAAAAAAAAAAAAAAAAAAAAAAAAAAAAAAAAAAAAAAAAAAAAAAAAAAAAAAAAAAAAAAAAAAAAAAAAAAAAAAAAAAAAAAAAAAAAAAMKFZ15/9HE/FB4CDLAugj9JedBoIGOLP0Rqz2LIS5I/3Zc2kQDmlj99xZ2/OICbP4t5Anc4DaA/WBA2jlRaoj8AAAAAAAAAAAAAAAAAAAAAAAAAAAAAAAAAAAAAAAAAAAAAAAAAAAAAAAAAAAAAAAAAAAAAAAAAAAAAAAAAAAAAAAAAAAAAAAAAAAAAAAAAAAAAAAAAAAAAAAAAAAAAAACar0enzlWkP6bh+gUD2Mo/s+sRMUlN2D9KM5NvSJfhP7ZwnUbsB+c/Kq6nHZB47D/N9Vj6mfTwP4cU3uXrrPM/PjNj0T1l9j/2Uei8jx35P65wbajh1fs/Zo/ykzOO/j8Q17u/QqMAQGtmfrVr/wFAyfVAq5RbA0AlhQOhvbcEQIIUxpbmEwZA3aOIjA9wB0A5M0uCOMwIQAAAAAAAAAAA+4JVodcqwz+4fgnGJmbWP9odtN1wm+E/eHxjWM4D6D/12hLTK2zuP70c4aZEavI/AMw4ZHOe9T8/e5AhotL4P4Iq6N7QBvw/ydk/nP86/z+CxMsslzcBQCecd4uu0QJAyXMj6sVrBEBrS89I3QUGQAoje6f0nwdArvomBgw6CUBO0tJkI9QKQPCpfsM6bgxAlYEqIlIIDkA0WdaAaaIPQGwYwW9AnhBAPAQXH0xrEUAN8GzOVzgSQN/bwn1jBRNArscYLW/SE0B/s27cep8UQFCfxIuGbBVAIIsaO5I5FkDydnDqnQYXQMJixpmp0xdA\",\"dtype\":\"float64\",\"shape\":[1674]},\"slot\":[\"day\",\"day\",\"day\",\"day\",\"day\",\"day\",\"day\",\"day\",\"day\",\"day\",\"day\",\"day\",\"day\",\"day\",\"day\",\"day\",\"day\",\"day\",\"day\",\"day\",\"day\",\"day\",\"day\",\"day\",\"day\",\"day\",\"day\",\"day\",\"day\",\"day\",\"day\",\"day\",\"day\",\"day\",\"day\",\"day\",\"day\",\"day\",\"day\",\"day\",\"day\",\"day\",\"day\",\"day\",\"day\",\"day\",\"day\",\"day\",\"day\",\"day\",\"day\",\"day\",\"day\",\"day\",\"day\",\"day\",\"day\",\"day\",\"day\",\"day\",\"day\",\"day\",\"day\",\"day\",\"day\",\"day\",\"day\",\"day\",\"day\",\"day\",\"day\",\"day\",\"day\",\"day\",\"day\",\"day\",\"day\",\"day\",\"day\",\"day\",\"day\",\"day\",\"day\",\"day\",\"day\",\"day\",\"day\",\"day\",\"day\",\"day\",\"day\",\"day\",\"day\",\"day\",\"day\",\"day\",\"day\",\"day\",\"day\",\"day\",\"day\",\"day\",\"day\",\"day\",\"day\",\"day\",\"day\",\"day\",\"day\",\"day\",\"day\",\"day\",\"day\",\"day\",\"day\",\"day\",\"day\",\"day\",\"day\",\"day\",\"day\",\"day\",\"day\",\"day\",\"day\",\"day\",\"day\",\"day\",\"day\",\"day\",\"day\",\"day\",\"day\",\"day\",\"day\",\"day\",\"day\",\"day\",\"day\",\"day\",\"day\",\"day\",\"day\",\"day\",\"day\",\"day\",\"day\",\"day\",\"day\",\"day\",\"day\",\"day\",\"day\",\"day\",\"day\",\"day\",\"day\",\"day\",\"day\",\"day\",\"day\",\"day\",\"day\",\"day\",\"day\",\"day\",\"day\",\"day\",\"day\",\"day\",\"day\",\"day\",\"day\",\"day\",\"day\",\"day\",\"day\",\"day\",\"day\",\"day\",\"day\",\"day\",\"day\",\"day\",\"day\",\"day\",\"day\",\"day\",\"day\",\"day\",\"day\",\"day\",\"day\",\"day\",\"day\",\"day\",\"day\",\"day\",\"day\",\"day\",\"day\",\"day\",\"day\",\"day\",\"day\",\"day\",\"day\",\"day\",\"day\",\"day\",\"day\",\"day\",\"day\",\"day\",\"day\",\"day\",\"day\",\"day\",\"day\",\"day\",\"day\",\"day\",\"day\",\"day\",\"day\",\"day\",\"day\",\"day\",\"day\",\"day\",\"day\",\"day\",\"day\",\"day\",\"day\",\"day\",\"day\",\"day\",\"day\",\"day\",\"day\",\"day\",\"day\",\"day\",\"day\",\"day\",\"day\",\"day\",\"day\",\"day\",\"day\",\"day\",\"day\",\"day\",\"day\",\"day\",\"day\",\"day\",\"day\",\"day\",\"day\",\"day\",\"day\",\"day\",\"day\",\"day\",\"day\",\"day\",\"day\",\"day\",\"day\",\"day\",\"day\",\"day\",\"day\",\"day\",\"day\",\"day\",\"day\",\"day\",\"day\",\"day\",\"day\",\"day\",\"day\",\"day\",\"day\",\"day\",\"day\",\"day\",\"day\",\"day\",\"day\",\"day\",\"day\",\"day\",\"day\",\"day\",\"day\",\"day\",\"day\",\"day\",\"day\",\"day\",\"day\",\"day\",\"day\",\"day\",\"day\",\"day\",\"day\",\"day\",\"day\",\"day\",\"day\",\"day\",\"day\",\"day\",\"day\",\"day\",\"day\",\"day\",\"day\",\"day\",\"day\",\"day\",\"day\",\"day\",\"day\",\"day\",\"day\",\"day\",\"day\",\"day\",\"day\",\"day\",\"day\",\"day\",\"day\",\"day\",\"day\",\"day\",\"day\",\"day\",\"day\",\"day\",\"day\",\"day\",\"day\",\"day\",\"day\",\"day\",\"day\",\"day\",\"day\",\"day\",\"day\",\"day\",\"day\",\"day\",\"day\",\"day\",\"day\",\"day\",\"day\",\"day\",\"day\",\"day\",\"day\",\"day\",\"day\",\"day\",\"day\",\"day\",\"day\",\"day\",\"day\",\"day\",\"day\",\"day\",\"day\",\"day\",\"day\",\"day\",\"day\",\"day\",\"day\",\"day\",\"day\",\"day\",\"day\",\"day\",\"day\",\"day\",\"day\",\"day\",\"day\",\"day\",\"day\",\"day\",\"day\",\"day\",\"day\",\"day\",\"day\",\"day\",\"day\",\"day\",\"day\",\"day\",\"day\",\"day\",\"day\",\"day\",\"day\",\"day\",\"day\",\"day\",\"day\",\"day\",\"day\",\"day\",\"day\",\"day\",\"day\",\"day\",\"day\",\"day\",\"day\",\"day\",\"day\",\"day\",\"day\",\"day\",\"day\",\"day\",\"day\",\"day\",\"day\",\"day\",\"day\",\"day\",\"day\",\"day\",\"day\",\"day\",\"day\",\"day\",\"day\",\"day\",\"day\",\"day\",\"day\",\"day\",\"day\",\"day\",\"day\",\"day\",\"day\",\"day\",\"day\",\"day\",\"day\",\"day\",\"day\",\"day\",\"day\",\"day\",\"day\",\"day\",\"day\",\"day\",\"day\",\"day\",\"day\",\"day\",\"day\",\"day\",\"day\",\"day\",\"day\",\"day\",\"day\",\"day\",\"day\",\"day\",\"day\",\"day\",\"day\",\"day\",\"day\",\"day\",\"day\",\"day\",\"day\",\"day\",\"day\",\"day\",\"day\",\"day\",\"day\",\"day\",\"day\",\"day\",\"day\",\"day\",\"day\",\"day\",\"day\",\"day\",\"day\",\"day\",\"day\",\"day\",\"day\",\"day\",\"day\",\"day\",\"day\",\"day\",\"day\",\"day\",\"day\",\"day\",\"day\",\"day\",\"day\",\"day\",\"day\",\"day\",\"day\",\"day\",\"day\",\"day\",\"day\",\"day\",\"day\",\"day\",\"day\",\"day\",\"day\",\"day\",\"day\",\"day\",\"day\",\"day\",\"day\",\"day\",\"day\",\"day\",\"day\",\"day\",\"day\",\"day\",\"day\",\"day\",\"day\",\"day\",\"day\",\"day\",\"day\",\"day\",\"day\",\"day\",\"day\",\"day\",\"day\",\"day\",\"day\",\"day\",\"day\",\"day\",\"day\",\"day\",\"day\",\"day\",\"day\",\"day\",\"day\",\"day\",\"day\",\"day\",\"day\",\"day\",\"day\",\"day\",\"day\",\"day\",\"day\",\"day\",\"day\",\"day\",\"day\",\"day\",\"day\",\"day\",\"day\",\"day\",\"day\",\"day\",\"day\",\"day\",\"day\",\"day\",\"day\",\"day\",\"day\",\"day\",\"day\",\"day\",\"day\",\"day\",\"day\",\"day\",\"day\",\"day\",\"day\",\"day\",\"day\",\"day\",\"day\",\"day\",\"day\",\"day\",\"day\",\"day\",\"day\",\"day\",\"day\",\"day\",\"day\",\"day\",\"day\",\"day\",\"day\",\"day\",\"day\",\"day\",\"day\",\"day\",\"day\",\"day\",\"day\",\"day\",\"day\",\"day\",\"day\",\"day\",\"day\",\"day\",\"day\",\"day\",\"day\",\"day\",\"day\",\"day\",\"day\",\"day\",\"day\",\"day\",\"day\",\"day\",\"day\",\"day\",\"day\",\"day\",\"day\",\"day\",\"day\",\"day\",\"day\",\"day\",\"day\",\"day\",\"day\",\"day\",\"day\",\"day\",\"day\",\"day\",\"day\",\"day\",\"day\",\"day\",\"day\",\"day\",\"day\",\"day\",\"day\",\"day\",\"day\",\"day\",\"day\",\"day\",\"day\",\"day\",\"day\",\"day\",\"day\",\"day\",\"day\",\"day\",\"day\",\"day\",\"day\",\"day\",\"day\",\"day\",\"day\",\"day\",\"day\",\"day\",\"day\",\"day\",\"day\",\"day\",\"day\",\"day\",\"day\",\"day\",\"day\",\"day\",\"day\",\"day\",\"day\",\"day\",\"day\",\"day\",\"day\",\"day\",\"day\",\"day\",\"day\",\"day\",\"day\",\"day\",\"day\",\"day\",\"day\",\"day\",\"day\",\"day\",\"day\",\"day\",\"day\",\"day\",\"day\",\"day\",\"day\",\"day\",\"day\",\"day\",\"day\",\"day\",\"day\",\"day\",\"day\",\"day\",\"day\",\"day\",\"day\",\"day\",\"day\",\"day\",\"day\",\"day\",\"day\",\"day\",\"day\",\"day\",\"day\",\"day\",\"day\",\"day\",\"day\",\"day\",\"day\",\"day\",\"day\",\"day\",\"day\",\"day\",\"day\",\"day\",\"day\",\"day\",\"day\",\"day\",\"day\",\"day\",\"day\",\"day\",\"day\",\"day\",\"day\",\"day\",\"day\",\"day\",\"day\",\"day\",\"day\",\"day\",\"day\",\"day\",\"day\",\"day\",\"day\",\"day\",\"day\",\"day\",\"day\",\"day\",\"day\",\"day\",\"day\",\"day\",\"day\",\"day\",\"day\",\"day\",\"day\",\"day\",\"day\",\"day\",\"day\",\"day\",\"day\",\"day\",\"day\",\"day\",\"day\",\"day\",\"day\",\"day\",\"day\",\"day\",\"day\",\"night\",\"night\",\"night\",\"night\",\"night\",\"night\",\"night\",\"night\",\"night\",\"night\",\"night\",\"night\",\"night\",\"night\",\"night\",\"night\",\"night\",\"night\",\"night\",\"night\",\"night\",\"night\",\"night\",\"night\",\"night\",\"night\",\"night\",\"night\",\"night\",\"night\",\"night\",\"night\",\"night\",\"night\",\"night\",\"night\",\"night\",\"night\",\"night\",\"night\",\"night\",\"night\",\"night\",\"night\",\"night\",\"night\",\"night\",\"night\",\"night\",\"night\",\"night\",\"night\",\"night\",\"night\",\"night\",\"night\",\"night\",\"night\",\"night\",\"night\",\"night\",\"night\",\"night\",\"night\",\"night\",\"night\",\"night\",\"night\",\"night\",\"night\",\"night\",\"night\",\"night\",\"night\",\"night\",\"night\",\"night\",\"night\",\"night\",\"night\",\"night\",\"night\",\"night\",\"night\",\"night\",\"night\",\"night\",\"night\",\"night\",\"night\",\"night\",\"night\",\"night\",\"night\",\"night\",\"night\",\"night\",\"night\",\"night\",\"night\",\"night\",\"night\",\"night\",\"night\",\"night\",\"night\",\"night\",\"night\",\"night\",\"night\",\"night\",\"night\",\"night\",\"night\",\"night\",\"night\",\"night\",\"night\",\"night\",\"night\",\"night\",\"night\",\"night\",\"night\",\"night\",\"night\",\"night\",\"night\",\"night\",\"night\",\"night\",\"night\",\"night\",\"night\",\"night\",\"night\",\"night\",\"night\",\"night\",\"night\",\"night\",\"night\",\"night\",\"night\",\"night\",\"night\",\"night\",\"night\",\"night\",\"night\",\"night\",\"night\",\"night\",\"night\",\"night\",\"night\",\"night\",\"night\",\"night\",\"night\",\"night\",\"night\",\"night\",\"night\",\"night\",\"night\",\"night\",\"night\",\"night\",\"night\",\"night\",\"night\",\"night\",\"night\",\"night\",\"night\",\"night\",\"night\",\"night\",\"night\",\"night\",\"night\",\"night\",\"night\",\"night\",\"night\",\"night\",\"night\",\"night\",\"night\",\"night\",\"night\",\"night\",\"night\",\"night\",\"night\",\"night\",\"night\",\"night\",\"night\",\"night\",\"night\",\"night\",\"night\",\"night\",\"night\",\"night\",\"night\",\"night\",\"night\",\"night\",\"night\",\"night\",\"night\",\"night\",\"night\",\"night\",\"night\",\"night\",\"night\",\"night\",\"night\",\"night\",\"night\",\"night\",\"night\",\"night\",\"night\",\"night\",\"night\",\"night\",\"night\",\"night\",\"night\",\"night\",\"night\",\"night\",\"night\",\"night\",\"night\",\"night\",\"night\",\"night\",\"night\",\"night\",\"night\",\"night\",\"night\",\"night\",\"night\",\"night\",\"night\",\"night\",\"night\",\"night\",\"night\",\"night\",\"night\",\"night\",\"night\",\"night\",\"night\",\"night\",\"night\",\"night\",\"night\",\"night\",\"night\",\"night\",\"night\",\"night\",\"night\",\"night\",\"night\",\"night\",\"night\",\"night\",\"night\",\"night\",\"night\",\"night\",\"night\",\"night\",\"night\",\"night\",\"night\",\"night\",\"night\",\"night\",\"night\",\"night\",\"night\",\"night\",\"night\",\"night\",\"night\",\"night\",\"night\",\"night\",\"night\",\"night\",\"night\",\"night\",\"night\",\"night\",\"night\",\"night\",\"night\",\"night\",\"night\",\"night\",\"night\",\"night\",\"night\",\"night\",\"night\",\"night\",\"night\",\"night\",\"night\",\"night\",\"night\",\"night\",\"night\",\"night\",\"night\",\"night\",\"night\",\"night\",\"night\",\"night\",\"night\",\"night\",\"night\",\"night\",\"night\",\"night\",\"night\",\"night\",\"night\",\"night\",\"night\",\"night\",\"night\",\"night\",\"night\",\"night\",\"night\",\"night\",\"night\",\"night\",\"night\",\"night\",\"night\",\"night\",\"night\",\"night\",\"night\",\"night\",\"night\",\"night\",\"night\",\"night\",\"night\",\"night\",\"night\",\"night\",\"night\",\"night\",\"night\",\"night\",\"night\",\"night\",\"night\",\"night\",\"night\",\"night\",\"night\",\"night\",\"night\",\"night\",\"night\",\"night\",\"night\",\"night\",\"night\",\"night\",\"night\",\"night\",\"night\",\"night\",\"night\",\"night\",\"night\",\"night\",\"night\",\"night\",\"night\",\"night\",\"night\",\"night\",\"night\",\"night\",\"night\",\"night\",\"night\",\"night\",\"night\",\"night\",\"night\",\"night\",\"night\",\"night\",\"night\",\"night\",\"night\",\"night\",\"night\",\"night\",\"night\",\"night\",\"night\",\"night\",\"night\",\"night\",\"night\",\"night\",\"night\",\"night\",\"night\",\"night\",\"night\",\"night\",\"night\",\"night\",\"night\",\"night\",\"night\",\"night\",\"night\",\"night\",\"night\",\"night\",\"night\",\"night\",\"night\",\"night\",\"night\",\"night\",\"night\",\"night\",\"night\",\"night\",\"night\",\"night\",\"night\",\"night\",\"night\",\"night\",\"night\",\"night\",\"night\",\"night\",\"night\",\"night\",\"night\",\"night\",\"night\",\"night\",\"night\",\"night\",\"night\",\"night\",\"night\",\"night\",\"night\",\"night\",\"night\",\"night\",\"night\",\"night\",\"night\",\"night\",\"night\",\"night\",\"night\",\"night\",\"night\",\"night\",\"night\",\"night\",\"night\",\"night\",\"night\",\"night\",\"night\",\"night\",\"night\",\"night\",\"night\",\"night\",\"night\",\"night\",\"night\",\"night\",\"night\",\"night\",\"night\",\"night\",\"night\",\"night\",\"night\",\"night\",\"night\",\"night\",\"night\",\"night\",\"night\",\"night\",\"night\",\"night\",\"night\",\"night\",\"night\",\"night\",\"night\",\"night\",\"night\",\"night\",\"night\",\"night\",\"night\",\"night\",\"night\",\"night\",\"night\",\"night\",\"night\",\"night\",\"night\",\"night\",\"night\",\"night\",\"night\",\"night\",\"night\",\"night\",\"night\",\"night\",\"night\",\"night\",\"night\",\"night\",\"night\",\"night\",\"night\",\"night\",\"night\",\"night\",\"night\",\"night\",\"night\",\"night\",\"night\",\"night\",\"night\",\"night\",\"night\",\"night\",\"night\",\"night\",\"night\",\"night\",\"night\",\"night\",\"night\",\"night\",\"night\",\"night\",\"night\",\"night\",\"night\",\"night\",\"night\",\"night\",\"night\",\"night\",\"night\",\"night\",\"night\",\"night\",\"night\",\"night\",\"night\",\"night\",\"night\",\"night\",\"night\",\"night\",\"night\",\"night\",\"night\",\"night\",\"night\",\"night\",\"night\",\"night\",\"night\",\"night\",\"night\",\"night\",\"night\",\"night\",\"night\",\"night\",\"night\",\"night\",\"night\",\"night\",\"night\",\"night\",\"night\",\"night\",\"night\",\"night\",\"night\",\"night\",\"night\",\"night\",\"night\",\"night\",\"night\",\"night\",\"night\",\"night\",\"night\",\"night\",\"night\",\"night\",\"night\",\"night\",\"night\",\"night\",\"night\",\"night\",\"night\",\"night\",\"night\",\"night\",\"night\",\"night\",\"night\",\"night\",\"night\",\"night\",\"night\",\"night\",\"night\",\"night\",\"night\",\"night\",\"night\",\"night\",\"night\",\"night\",\"night\",\"night\",\"night\",\"night\",\"night\",\"night\",\"night\",\"night\",\"night\",\"night\",\"night\",\"night\",\"night\",\"night\",\"night\",\"night\",\"night\",\"night\",\"night\",\"night\",\"night\",\"night\",\"night\",\"night\",\"night\",\"night\",\"night\",\"night\",\"night\",\"night\",\"night\",\"night\",\"night\",\"night\",\"night\",\"night\",\"night\",\"night\",\"night\",\"night\",\"night\",\"night\",\"night\",\"night\",\"night\",\"night\",\"night\",\"night\",\"night\",\"night\",\"night\",\"night\",\"night\",\"night\",\"night\",\"night\",\"night\",\"night\",\"night\",\"night\",\"night\",\"night\",\"night\",\"night\",\"night\",\"night\",\"night\",\"night\",\"night\",\"night\",\"night\",\"night\",\"night\",\"night\",\"night\",\"night\",\"night\",\"night\",\"night\",\"night\",\"night\",\"night\",\"night\",\"night\",\"night\",\"night\",\"night\",\"night\",\"night\",\"night\",\"night\",\"night\",\"night\",\"night\",\"night\",\"night\",\"night\",\"night\",\"night\",\"night\",\"night\",\"night\",\"night\",\"night\",\"night\",\"night\",\"night\",\"night\",\"night\",\"night\",\"night\",\"night\",\"night\",\"night\",\"night\",\"night\",\"night\",\"night\",\"night\",\"night\",\"night\",\"night\",\"night\",\"night\",\"night\",\"night\",\"night\",\"night\",\"night\",\"night\",\"night\",\"night\",\"night\",\"night\",\"night\",\"night\",\"night\",\"night\",\"night\",\"night\",\"night\",\"night\",\"night\",\"night\",\"night\",\"night\",\"night\",\"night\",\"night\",\"night\",\"night\",\"night\",\"night\",\"night\",\"night\",\"night\",\"night\",\"night\",\"night\",\"night\",\"night\",\"night\",\"night\",\"night\",\"night\",\"night\",\"night\",\"night\",\"night\",\"night\",\"night\",\"night\"],\"vre\":{\"__ndarray__\":\"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\",\"dtype\":\"float64\",\"shape\":[1674]},\"vre_day\":{\"__ndarray__\":\"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\",\"dtype\":\"float64\",\"shape\":[1674]},\"vre_scale_none\":{\"__ndarray__\":\"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\",\"dtype\":\"float64\",\"shape\":[1674]}},\"selected\":{\"id\":\"15174\",\"type\":\"Selection\"},\"selection_policy\":{\"id\":\"15175\",\"type\":\"UnionRenderers\"}},\"id\":\"14264\",\"type\":\"ColumnDataSource\"},{\"attributes\":{},\"id\":\"14325\",\"type\":\"BasicTickFormatter\"},{\"attributes\":{\"fill_color\":\"rgba(141, 211, 199, 0.9)\",\"x\":{\"field\":\"vre_scale_none\"},\"y1\":{\"expr\":{\"id\":\"14565\",\"type\":\"Stack\"}},\"y2\":{\"expr\":{\"id\":\"14566\",\"type\":\"Stack\"}}},\"id\":\"14572\",\"type\":\"VArea\"},{\"attributes\":{},\"id\":\"14301\",\"type\":\"SaveTool\"},{\"attributes\":{\"overlay\":{\"id\":\"14326\",\"type\":\"BoxAnnotation\"}},\"id\":\"14300\",\"type\":\"BoxZoomTool\"},{\"attributes\":{\"column_name\":\"slot\",\"group\":\"day\"},\"id\":\"14268\",\"type\":\"GroupFilter\"},{\"attributes\":{\"fill_alpha\":0.1,\"fill_color\":\"#1f77b4\",\"x\":{\"field\":\"vre_scale_none\"},\"y1\":{\"expr\":{\"id\":\"14565\",\"type\":\"Stack\"}},\"y2\":{\"expr\":{\"id\":\"14566\",\"type\":\"Stack\"}}},\"id\":\"14573\",\"type\":\"VArea\"},{\"attributes\":{\"fill_color\":\"rgba(179, 222, 105, 0.9)\",\"x\":{\"field\":\"vre_scale_none\"},\"y1\":{\"expr\":{\"id\":\"14619\",\"type\":\"Stack\"}},\"y2\":{\"expr\":{\"id\":\"14620\",\"type\":\"Stack\"}}},\"id\":\"14654\",\"type\":\"VArea\"},{\"attributes\":{},\"id\":\"14302\",\"type\":\"ResetTool\"},{\"attributes\":{\"fill_color\":\"rgba(141, 211, 199, 0.9)\",\"x\":{\"field\":\"vre_scale_none\"},\"y1\":{\"expr\":{\"id\":\"14311\",\"type\":\"Stack\"}},\"y2\":{\"expr\":{\"id\":\"14312\",\"type\":\"Stack\"}}},\"id\":\"14318\",\"type\":\"VArea\"},{\"attributes\":{\"args\":{\"cds_all_neg\":{\"id\":\"14265\",\"type\":\"ColumnDataSource\"},\"cds_all_pos\":{\"id\":\"14264\",\"type\":\"ColumnDataSource\"},\"cds_neg\":{\"id\":\"14267\",\"type\":\"ColumnDataSource\"},\"cds_pos\":{\"id\":\"14266\",\"type\":\"ColumnDataSource\"},\"slct_eff_phs_none\":{\"id\":\"14532\",\"type\":\"MultiSelect\"},\"slct_vre_day\":{\"id\":\"14531\",\"type\":\"MultiSelect\"}},\"code\":\"\\n            var vre_day = slct_vre_day.value; var eff_phs_none = slct_eff_phs_none.value;\\n\\n            cds_pos.data['gas_p'] = []; cds_pos.data['phs_pdch'] = []; cds_pos.data['vre'] = []; cds_pos.data['slot'] = []; cds_pos.data['vre_scale_none'] = []; cds_pos.data['index'] = []; cds_neg.data['curt_p'] = []; cds_neg.data['l'] = []; cds_neg.data['phs_pchg'] = []; cds_neg.data['slot'] = []; cds_neg.data['vre_scale_none'] = []; cds_neg.data['index'] = []; \\n            function checkMatch(i, source, vre_day, eff_phs_none) {\\n               return source.data['vre_day'][i] == vre_day && source.data['eff_phs_none'][i] == eff_phs_none;\\n            }\\n            \\n            for (var i = 0; i <= cds_all_pos.get_length(); i++){\\n                if (checkMatch(i, cds_all_pos, vre_day, eff_phs_none)){\\n                cds_pos.data['gas_p'].push(cds_all_pos.data['gas_p'][i]); cds_pos.data['phs_pdch'].push(cds_all_pos.data['phs_pdch'][i]); cds_pos.data['vre'].push(cds_all_pos.data['vre'][i]); cds_pos.data['slot'].push(cds_all_pos.data['slot'][i]); cds_pos.data['vre_scale_none'].push(cds_all_pos.data['vre_scale_none'][i]); cds_pos.data['index'].push(cds_all_pos.data['index'][i]); \\n              }\\n            }\\n            \\n            for (var i = 0; i <= cds_all_neg.get_length(); i++){\\n                if (checkMatch(i, cds_all_neg, vre_day, eff_phs_none)){\\n                cds_neg.data['curt_p'].push(cds_all_neg.data['curt_p'][i]); cds_neg.data['l'].push(cds_all_neg.data['l'][i]); cds_neg.data['phs_pchg'].push(cds_all_neg.data['phs_pchg'][i]); cds_neg.data['slot'].push(cds_all_neg.data['slot'][i]); cds_neg.data['vre_scale_none'].push(cds_all_neg.data['vre_scale_none'][i]); cds_neg.data['index'].push(cds_all_neg.data['index'][i]); \\n              }\\n            }\\n\\n             cds_pos.change.emit();\\n                             cds_neg.change.emit();\\n                            \\n            \"},\"id\":\"14276\",\"type\":\"CustomJS\"},{\"attributes\":{\"fields\":[\"curt_p\",\"l\"]},\"id\":\"14358\",\"type\":\"Stack\"},{\"attributes\":{\"fields\":[\"curt_p\"]},\"id\":\"14357\",\"type\":\"Stack\"},{\"attributes\":{\"data_source\":{\"id\":\"14266\",\"type\":\"ColumnDataSource\"},\"glyph\":{\"id\":\"14572\",\"type\":\"VArea\"},\"hover_glyph\":null,\"muted_glyph\":null,\"name\":\"gas_p\",\"nonselection_glyph\":{\"id\":\"14573\",\"type\":\"VArea\"},\"selection_glyph\":null,\"view\":{\"id\":\"14575\",\"type\":\"CDSView\"},\"visible\":false},\"id\":\"14574\",\"type\":\"GlyphRenderer\"},{\"attributes\":{\"fill_alpha\":0.1,\"fill_color\":\"#1f77b4\",\"x\":{\"field\":\"vre_scale_none\"},\"y1\":{\"expr\":{\"id\":\"14619\",\"type\":\"Stack\"}},\"y2\":{\"expr\":{\"id\":\"14620\",\"type\":\"Stack\"}}},\"id\":\"14655\",\"type\":\"VArea\"},{\"attributes\":{},\"id\":\"14339\",\"type\":\"Selection\"},{\"attributes\":{\"fields\":[\"curt_p\",\"l\",\"phs_pchg\"]},\"id\":\"14360\",\"type\":\"Stack\"},{\"attributes\":{\"bottom_units\":\"screen\",\"fill_alpha\":{\"value\":0.5},\"fill_color\":{\"value\":\"lightgrey\"},\"left_units\":\"screen\",\"level\":\"overlay\",\"line_alpha\":{\"value\":1.0},\"line_color\":{\"value\":\"black\"},\"line_dash\":[4,4],\"line_width\":{\"value\":2},\"render_mode\":\"css\",\"right_units\":\"screen\",\"top_units\":\"screen\"},\"id\":\"14326\",\"type\":\"BoxAnnotation\"},{\"attributes\":{\"data_source\":{\"id\":\"14267\",\"type\":\"ColumnDataSource\"},\"glyph\":{\"id\":\"14654\",\"type\":\"VArea\"},\"hover_glyph\":null,\"muted_glyph\":null,\"name\":\"phs_pchg\",\"nonselection_glyph\":{\"id\":\"14655\",\"type\":\"VArea\"},\"selection_glyph\":null,\"view\":{\"id\":\"14657\",\"type\":\"CDSView\"},\"visible\":false},\"id\":\"14656\",\"type\":\"GlyphRenderer\"},{\"attributes\":{\"source\":{\"id\":\"14266\",\"type\":\"ColumnDataSource\"}},\"id\":\"14575\",\"type\":\"CDSView\"},{\"attributes\":{\"callback\":null,\"data\":{\"curt_p\":{\"__ndarray__\":\"AAAAAAAAAAAAAAAAAAAAAAAAAAAAAAAAAAAAAAAAAAAAAAAAAAAAAAAAAAAAAAAAAAAAAAAAAAAAAAAAAAAAAAAAAAAAAAAAAAAAAAAAAAAAAAAAAAAAAAAAAAAAAAAAAAAAAAAAAAAAAAAAAAAAAAAAAAAAAAAAAAAAAAAAAAAAAAAAAAAAAAAAAAAAAAAAAAAAAAAAAAAAAAAAAAAAAAAAAAAAAAAAAAAAAAAAAAAAAAAAAAAAAAAAAAAAAAAAAAAAAAAAAAAAAAAAAAAAAAAAAAAAAAAAAAAAAAAAAAAAAAAAAAAAAAAAAAAAAAAAAAAAAAAAAAAAAAAAAAAAAAAAAAAAAAAAAAAAAAAAAAAAAAAAAAAAAAAAAAAAAAAAAAAAAAAAAAAAAAAAAAAAAAAAAAAAAAAAAAAAAAAAAAAAAAAAAAAAAAAAAAAAAAAAAAAAAAAAAAAAAAAAAAAAAAAAAAAAAAAAAAAAAAAAAAAAAAAAAAAAAAAAAAAAAAAAAAAAAAAAAAAAAAAAAAAAAAAAAAAAAAAAAAAAAAAAAAAAAAAAAAAAAAAAAAAAAAAAAAAAAAAAAAAAAAAAAAAAAAAAAAAAAAAAAAAAAAAAAAAAAAAAAAAAAAAAAAAAAAAAAAAAAAAAAAAAAAAAAAAAAAAAAAAAAAAAAAAAAAAAAAAAAAAAAAAAAAAAAAAAAAAAAAAAAAAAAAAAAAAAAAAAAAAAAAAAAAAAAAAAAAAAAAAAAAAAAAAAAAAAAAAAAAAAAAAAAAAAAAAAAAAAAAAAAAAAAAAAAAAAAAAAAAAAAAAAAAAAAAAAAAAAAAAAAAAAAAAAAAAAAAAAAAAAAAAAAAAAAAAAAAAAAAAAAAAAAAAAAAAAAAAAAAAAAAAAAAAAAAAAAAAAAAAAAAAAAAAAAAAAAAAAAAAAAAAAAAAAAAAAAAAAAAAAAAAAAAAAAAAAAAAAAAAAAAAAAAAAAAAAAAAAAAAAAAAAAAAAAAAAAAAAAAAAAAAAAAAAAAAAAAAAAAAAAAAAAAAAAAAAAAAAAAAAAAAAAAAAAAAAAAAAAAAAAAAAAAAAAAAAAAAAAAAAAAAAAAAAAAAAAAAAAAAAAAAAAAAAAAAAAAAAAAAAAAAAAAAAAAAAAAAAAAAAAAAAAAAAAAAAAAAAAAAAAAAAAAAAAAAAAAAAAAAAAAAAAAAAAAAAAAAAAAAAAAAAAAAAAAAAAAAAAAAAAAAAAAAAAAAAAAAAAAAAAAAAAAAAAAAAAAAAAAAAAAAAAAAAAAAAAAAAAAAAAAAAAAAAAAAAAAAAAAAAAAAAAAAAAAAAAAAAAAAAAAAAAAAAAAAAAAAAAAAAAAAAAAAAAAAAAAAAAAAAAAAAAAAAAAAAAAAAAAAAAAAAAAAAAAAAAAAAAAAAAAAAAAAAAAAAAAAAAAAAAAAAAAAAAAAAAAAAAAAAAAAAAAAAAAAAAAAAAAAAAAAAAAAAAAAAAAAAAAAAAAAAAAAAAAAAAAAAAAAAAAAAAAAAAAAAAAAAAAAAAAAAAAAAAAAAAAAAAAAAAAAAAAAAAAAAAAAAAAAAAAAAAAAAAAAAAAAAAAAAAAAAAAAAAAAAAAAAAAAAAAAAAAAAAAAAAAAAAAAAAAAAAAAAAAAAAAAAAAAAAAAAAAAAAAAAAAAAAAAAAAAAAAAAAAAAAAAAAAAAAAAAAAAAAAAAAAAAAAAAAAAAAAAAAAAAAAAAAAAAAAAAAAAAAAAAAAAAAAAAAAAAAAAAAAAAAAAAAAAAAAAAAAAAAAAAAAAAAAAAAAAAAAAAAAAAAAAAAAAAAAAAAAAAAAAAAAAAAAAAAAAAAAAAAAAAAAAAAAAAAAAAAAAAAAAAAAAAAAAAAAAAAAAAAAAAAAAAAAAAAAAAAAAAAAAAAAAAAAAAAAAAAAAAAAAAAAAAAAAAAAAAAAAAAAAAAAAAAAAAAAAAAAAAAAAAAAAAAAAAAAAAAAAAAAAAAAAAAAAAAAAAAAAAAAAAAAAAAAAAAAAAAAAAAAAAAAAAAAAAAAAAAAAAAAAAAAAAAAAAAAAAAAAAAAAAAAAAAAAAAAAAAAAAAAAAAAAAAAAAAAAAAAAAAAAAAAAAAAAAAAAAAAAAAAAAAAAAAAAAAAAAAAAAAAAAAAAAAAAAAAAAAAAAAAAAAAAAAAAAAAAAAAAAAAAAAAAAAAAAAAAAAAAAAAAAAAAAAAAAAAAAAAAAAAAAAAAAAAAAAAAAAAAAAAAAAAAAAAAAAAAAAAAAAAAAAAAAAAAAAAAAAAAAAAAAAAAAAAAAAAAAAAAAAAAAAAAAAAAAAAAAAAAAAAAAAAAAAAAAAAAAAAAAAAAAAAAAAAAAAAAAAAAAAAAAAAAAAAAAAAAAAAAAAAAAAAAAAAAAAAAAAAAAAAAAAAAAAAAAAAAAAAAAAAAAAAAAAAAAAAAAAAAAAAAAAAAAAAAAAAAAAAAAAAAAAAAAAAAAAAAAAAAAAAAAAAAAAAAAAAAAAAAAAAAAAAAAAAAAAAAAAAAAAAAAAAAAAAAAAAAAAAAAAAAAAAAAAAAAAAAAAAAAAAAAAAAAAAAAAAAAAAAAAAAAAAAAAAAAAAAAAAAAAAAAAAAAAAAAAAAAAAAAAAAAAAAAAAAAAAAAAAAAAAAAAAAAAAAAAAAAAAAAAAAAAAAAAAAAAAAAAAAAAAAAAAAAAAAAAAAAAAAAAAAAAAAAAAAAAAAAAAAAAAAAAAAAAAAAAAAAAAAAAAAAAAAAAAAAAAAAAAAAAAAAAAAAAAAAAAAAAAAAAAAAAAAAAAAAAAAAAAAAAAAAAAAAAAAAAAAAAAAAAAAAAAAAAAAAAAAAAAAAAAAAAAAAAAAAAAAAAAAAAAAAAAAAAAAAAAAAAAAAAAAAAAAAAAAAAAAAAAAAAAAAAAAAAAAAAAAAAAAAAAAAAAAAAAAAAAAAAAAAAAAAAAAAAAAAAAAAAAAAAAAAAAAAAAAAAAAAAAAAAAAAAAAAAAAAAAAAAAAAAAAAAAAAAAAAAAAAAAAAAAAAAAAAAAAAAAAAAAAAAAAAAAAAAAAAAAAAAAAAAAAAAAAAAAAAAAAAAAAAAAAAAAAAAAAAAAAAAAAAAAAAAAAAAAAAAAAAAAAAAAAAAAAAAAAAAAAAAAAAAAAAAAAAAAAAAAAAAAAAAAAAAAAAAAAAAAAAAAAAAAAAAAAAAAAAAAAAAAAAAAAAAAAAAAAAAAAAAAAAAAAAAAAAAAAAAAAAAAAAAAAAAAAAAAAAAAAAAAAAAAAAAAAAAAAAAAAAAAAAAAAAAAAAAAAAAAAAAAAAAAAAAAAAAAAAAAAAAAAAAAAAAAAAAAAAAAAAAAAAAAAAAAAAAAAAAAAAAAAAAAAAAAAAAAAAAAAAAAAAAAAAAAAAAAAAAAAAAAAAAAAAAAAAAAAAAAAAAAAAAAAAAAAAAAAAAAAAAAAAAAAAAAAAAAAAAAAAAAAAAAAAAAAAAAAAAAAAAAAAAAAAAAAAAAAAAAAAAAAAAAAAAAAAAAAAAAAAAAAAAAAAAAAAAAAAAAAAAAAAAAAAAAAAAAAAAAAAAAAAAAAAAAAAAAAAAAAAAAAAAAAAAAAAAAAAAAAAAAAAAAAAAAAAAAAAAAAAAAAAAAAAAAAAAAAAAAAAAAAAAAAAAAAAAAAAAAAAAAAAAAAAAAAAAAAAAAAAAAAAAAAAAAAAAAAAAAAAAAAAAAAAAAAAAAAAAAAAAAAAAAAAAAAAAAAAAAAAAAAAAAAAAAAAAAAAAAAAAAAAAAAAAAAAAAAAAAAAAAAAAAAAAAAAAAAAAAAAAAAAAAAAAAAAAAAAAAAAAAAAAAAAAAAAAAAAAAAAAAAAAAAAAAAAAAAAAAAAAAAAAAAAAAAAAAAAAAAAAAAAAAAAAAAAAAAAAAAAAAAAAAAAAAAAAAAAAAAAAAAAAAAAAAAAAAAAAAAAAAAAAAAAAAAAAAAAAAAAAAAAAAAAAAAAAAAAAAAAAAAAAAAAAAAAAAAAAAAAAAAAAAAAAAAAAAAAAAAAAAAAAAAAAAAAAAAAAAAAAAAAAAAAAAAAAAAAAAAAAAAAAAAAAAAAAAAAAAAAAAAAAAAAAAAAAAAAAAAAAAAAAAAAAAAAAAAAAAAAAAAAAAAAAAAAAAAAAAAAAAAAAAAAAAAAAAAAAAAAAAAAAAAAAAAAAAAAAAAAAAAAAAAAAAAAAAAAAAAAAAAAAAAAAAAAAAAAAAAAAAAAAAAAAAAAAAAAAAAAAAAAAAAAAAAAAAAAAAAAAAAAAAAAAAAAAAAAAAAAAAAAAAAAAAAAAAAAAAAAAAAAAAAAAAAAAAAAAAAAAAAAAAAAAAAAAAAAAAAAAAAAAAAAAAAAAAAAAAAAAAAAAAAAAAAAAAAAAAAAAAAAAAAAAAAAAAAAAAAAAAAAAAAAAAAAAAAAAAAAAAAAAAAAAAAAAAAAAAAAAAAAAAAAAAAAAAAAAAAAAAAAAAAAAAAAAAAAAAAAAAAAAAAAAAAAAAAAAAAAAAAAAAAAAAAAAAAAAAAAAAAAAAAAAAAAAAAAAAAAAAAAAAAAAAAAAAAAAAAAAAAAAAAAAAAAAAAAAAAAAAAAAAAAAAAAAAAAAAAAAAAAAAAAAAAAAAAAAAAAAAAAAAAAAAAAAAAAAAAAAAAAAAAAAAAAAAAAAAAAAAAAAAAAAAAAAAAAAAAAAAAAAAAAAAAAAAAAAAAAAAAAAAAAAAAAAAAAAAAAAAAAAAAAAAAAAAAAAAAAAAAAAAAAAAAAAAAAAAAAAAAAAAAAAAAAAAAAAAAAAAAAAAAAAAAAAAAAAAAAAAAAAAAAAAAAAAAAAAAAAAAAAAAAAAAAAAAAAAAAAAAAAAAAAAAAAAAAAAAAAAAAAAAAAAAAAAAAAAAAAAAAAAAAAAAAAAAAAAAAAAAAAAAAAAAAAAAAAAAAAAAAAAAAAAAAAAAAAAAAAAAAAAAAAAAAAAAAAAAAAAAAAAAAAAAAAAAAAAAAAAAAAAAAAAAAAAAAAAAAAAAAAAAAAAAAAAAAAAAAAAAAAAAAAAAAAAAAAAAAAAAAAAAAAAAAAAAAAAAAAAAAAAAAAAAAAAAAAAAAAAAAAAAAAAAAAAAAAAAAAAAAAAAAAAAAAAAAAAAAAAAAAAAAAAAAAAAAAAAAAAAAAAAAAAAAAAAAAAAAAAAAAAAAAAAAAAAAAAAAAAAAAAAAAAAAAAAAAAAAAAAAAAAAAAAAAAAAAAAAAAAAAAAAAAAAAAAAAAAAAAAAAAAAAAAAAAAAAAAAAAAAAAAAAAAAAAAAAAAAAAAAAAAAAAAAAAAAAAAAAAAAAAAAAAAAAAAAAAAAAAAAAAAAAAAAAAAAAAAAAAAAAAAAAAAAAAAAAAAAAAAAAAAAAAAAAAAAAAAAAAAAAAAAAAAAAAAAAAAAAAAAAAAAAAAAAAAAAAAAAAAAAAAAAAAAAAAAAAAAAAAAAAAAAAAAAAAAAAAAAAAAAAAAAAAAAAAAAAAAAAAAAAAAAAAAAAAAAAAAAAAAAAAAAAAAAAAAAAAAAAAAAAAAAAAAAAAAAAAAAAAAAAAAAAAAAAAAAAAAAAAAAAAAAAAAAAAAAAAAAAAAAAAAAAAAAAAAAAAAAAAAAAAAAAAAAAAAAAAAAAAAAAAAAAAAAAAAAAAAAAAAAAAAAAAAAAAAAAAAAAAAAAAAAAAAAAAAAAAAAAAAAAAAAAAAAAAAAAAAAAAAAAAAAAAAAAAAAAAAAAAAAAAAAAAAAAAAAAAAAAAAAAAAAAAAAAAAAAAAAAAAAAAAAAAAAAAAAAAAAAAAAAAAAAAAAAAAAAAAAAAAAAAAAAAAAAAAAAAAAAAAAAAAAAAAAAAAAAAAAAAAAAAAAAAAAAAAAAAAAAAAAAAAAAAAAAAAAAAAAAAAAAAAAAAAAAAAAAAAAAAAAAAAAAAAAAAAAAAAAAAAAAAAAAAAAAAAAAAAAAAAAAAAAAAAAAAAAAAAAAAAAAAAAAAAAAAAAAAAAAAAAAAAAAAAAAAAAAAAAAAAAAAAAAAAAAAAAAAAAAAAAAAAAAAAAAAAAAAAAAAAAAAAAAAAAAAAAAAAAAAAAAAAAAAAAAAAAAAAAAAAAAAAAAAAAAAAAAAAAAAAAAAAAAAAAAAAAAAAAAAAAAAAAAAAAAAAAAAAAAAAAAAAAAAAAAAAAAAAAAAAAAAAAAAAAAAAAAAAAAAAAAAAAAAAAAAAAAAAAAAAAAAAAAAAAAAAAAAAAAAAAAAAAAAAAAAAAAAAAAAAAAAAAAAAAAAAAAAAAAAAAAAAAAAAAAAAAAAAAAAAAAAAAAAAAAAAAAAAAAAAAAAAAAAAAAAAAAAAAAAAAAAAAAAAAAAAAAAAAAAAAAAAAAAAAAAAAAAAAAAAAAAAAAAAAAAAAAAAAAAAAAAAAAAAAAAAAAAAAAAAAAAAAAAAAAAAAAAAAAAAAAAAAAAAAAAAAAAAAAAAAAAAAAAAAAAAAAAAAAAAAAAAAAAAAAAAAAAAAAAAAAAAAAAAAAAAAAAAAAAAAAAAAAAAAAAAAAAAAAAAAAAAAAAAAAAAAAAAAAAAAAAAAAAAAAAAAAAAAAAAAAAAAAAAAAAAAAAAAAAAAAAAAAAAAAAAAAAAAAAAAAAAAAAAAAAAAAAAAAAAAAAAAAAAAAAAAAAAAAAAAAAAAAAAAAAAAAAAAAAAAAAAAAAAAAAAAAAAAAAAAAAAAAAAAAAAAAAAAAAAAAAAAAAAAAAAAAAAAAAAAAAAAAAAAAAAAAAAAAAAAAAAAAAAAAAAAAAAAAAAAAAAAAAAAAAAAAAAAAAAAAAAAAAAAAAAAAAAAAAAAAAAAAAAAAAAAAAAAAAAAAAAAAAAAAAAAAAAAAAAAAAAAAAAAAAAAAAAAAAAAAAAAAAAAAAAAAAAAAAAAAAAAAAAAAAAAAAAAAAAAAAAAAAAAAAAAAAAAAAAAAAAAAAAAAAAAAAAAAAAAAAAAAAAAAAAAAAAAAAAAAAAAAAAAAAAAAAAAAAAAAAAAAAAAAAAAAAAAAAAAAAAAAAAAAAAAAAAAAAAAAAAAAAAAAAAAAAAAAAAAAAAAAAAAAAAAAAAAAAAAAAAAAAAAAAAAAAAAAAAAAAAAAAAAAAAAAAAAAAAAAAAAAAAAAAAAAAAAAAAAAAAAAAAAAAAAAAAAAAAAAAAAAAAAAAAAAAAAAAAAAAAAAAAAAAAAAAAAAAAAAAAAAAAAAAAAAAAAAAAAAAAAAAAAAAAAAAAAAAAAAAAAAAAAAAAAAAAAAAAAAAAAAAAAAAAAAAAAAAAAAAAAAAAAAAAAAAAAAAAAAAAAAAAAAAAAAAAAAAAAAAAAAAAAAAAAAAAAAAAAAAAAAAAAAAAAAAAAAAAAAAAAAAAAAAAAAAAAAAAAAAAAAAAAAAAAAAAAAAAAAAAAAAAAAAAAAAAAAAAAAAAAAAAAAAAAAAAAAAAAAAAAAAAAAAAAAAAAAAAAAAAAAAAAAAAAAAAAAAAAAAAAAAAAAAAAAAAAAAAAAAAAAAAAAAAAAAAAAAAAAAAAAAAAAAAAAAAAAAAAAAAAAAAAAAAAAAAAAAAAAAAAAAAAAAAAAAAAAAAAAAAAAAAAAAAAAAAAAAAAAAAAAAAAAAAAAAAAAAAAAAAAAAAAAAAAAAAAAAAAAAAAAAAAAAAAAAAAAAAAAAAAAAAAAAAAAAAAAAAAAAAAAAAAAAAAAAAAAAAAAAAAAAAAAAAAAAAAAAAAAAAAAAAAAAAAAAAAAAAAAAAAAAAAAAAAAAAAAAAAAAAAAAAAAAAAAAAAAAAAAAAAAAAAAAAAAAAAAAAAAAAAAAAAAAAAAAAAAAAAAAAAAAAAAAAAAAAAAAAAAAAAAAAAAAAAAAAAAAAAAAAAAAAAAAAAAAAAAAAAAAAAAAAAAAAAAAAAAAAAAAAAAAAAAAAAAAAAAAAAAAAAAAAAAAAAAAAAAAAAAAAAAAAAAAAAAAAAAAAAAAAAAAAAAAAAAAAAAAAAAAAAAAAAAAAAAAAAAAAAAAAAAAAAAAAAAAAAAAAAAAAAAAAAAAAAAAAAAAAAAAAAAAAAAAAAAAAAAAAAAAAAAAAAAAAAAAAAAAAAAAAAAAAAAAAAAAAAAAAAAAAAAAAAAAAAAAAAAAAAAAAAAAAAAAAAAAAAAAAAAAAAAAAAAAAAAAAAAAAAAAAAAAAAAAAAAAAAAAAAAAAAAAAAAAAAAAAAAAAAAAAAAAAAAAAAAAAAAAAAAAAAAAAAAAAAAAAAAAAAAAAAAAAAAAAAAAAAAAAAAAAAAAAAAAAAAAAAAAAAAAAAAAAAAAAAAAAAAAAAAAAAAAAAAAAAAAAAAAAAAAAAAAAAAAAAAAAAAAAAAAAAAAAAAAAAAAAAAAAAAAAAAAAAAAAAAAAAAAAAAAAAAAAAAAAAAAAAAAAAAAAAAAAAAAAAAAAAAAAAAAAAAAAAAAAAAAAAAAAAAAAAAAAAAAAAAAAAAAAAAAAAAAAAAAAAAAAAAAAAAAAAAAAAAAAAAAAAAAAAAAAAAAAAAAAAAAAAAAAAAAAAAAAAAAAAAAAAAAAAAAAAAAAAAAAAAAAAAAAAAAAAAAAAAAAAAAAAAAAAAAAAAAAAAAAAAAAAAAAAAAAAAAAAAAAAAAAAAAAAAAAAAAAAAAAAAAAAAAAAAAAAAAAAAAAAAAAAAAAAAAAAAAAAAAAAAAAAAAAAAAAAAAAAAAAAAAAAAAAAAAAAAAAAAAAAAAAAAAAAAAAAAAAAAAAAAAAAAAAAAAAAAAAAAAAAAAAAAAAAAAAAAAAAAAAAAAAAAAAAAAAAAAAAAAAAAAAAAAAAAAAAAAAAAAAAAAAAAAAAAAAAAAAAAAAAAAAAAAAAAAAAAAAAAAAAAAAAAAAAAAAAAAAAAAAAAAAAAAAAAAAAAAAAAAAAAAAAAAAAAAAAAAAAAAAAAAAAAAAAAAAAAAAAAAAAAAAAAAAAAAAAAAAAAAAAAAAAAAAAAAAAAAAAAAAAAAAAAAAAAAAAAAAAAAAAAAAAAAAAAAAAAAAAAAAAAAAAAAAAAAAAAAAAAAAAAAAAAAAAAAAAAAAAAAAAAAAAAAAAAAAAAAAAAAAAAAAAAAAAAAAAAAAAAAAAAAAAAAAAAAAAAAAAAAAAAAAAAAAAAAAAAAAAAAAAAAAAAAAAAAAAAAAAAAAAAAAAAAAAAAAAAAAAAAAAAAAAAAAAAAAAAAAAAAAAAAAAAAAAAAAAAAAAAAAAAAAAAAAAAAAAAAAAAAAAAAAAAAAAAAAAAAAAAAAAAAAAAAAAAAAAAAAAAAAAAAAAAAAAAAAAAAAAAAAAAAAAAAAAAAAAAAAAAAAAAAAAAAAAAAAAAAAAAAAAAAAAAAAAAAAAAAAAAAAAAAAAAAAAAAAAAAAAAAAAAAAAAAAAAAAAAAAAAAAAAAAAAAAAAAAAAAAAAAAAAAAAAAAAAAAAAAAAAAAAAAAAAAAAAAAAAAAAAAAAAAAAAAAAAAAAAAAAAAAAAAAAAAAAAAAAAAAAAAAAAAAAAAAAAAAAAAAAAAAAAAAAAAAAAAAAAAAAAAAAAAAAAAAAAAAAAAAAAAAAAAAAAAAAAAAAAAAAAAAAAAAAAAAAAAAAAAAAAAAAAAAAAAAAAAAAAAAAAAAAAAAAAAAAAAAAAAAAAAAAAAAAAAAAAAAAAAAAAAAAAAAAAAAAAAAAAAAAAAAAAAAAAAAAAAAAAAAAAAAAAAAAAAAAAAAAAAAAAAAAAAAAAAAAAAAAAAAAAAAAAAAAAAAAAAAAAAAAAAAAAAAAAAAAAAAAAAAAAAAAAAAAAAAAAAAAAAAAAAAAAAAAAAAAAAAAAAAAAAAAAAAAAAAAAAAAAAAAAAAAAAAAAAAAAAAAAAAAAAAAAAAAAAAAAAAAAAAAAAAAAAAAAAAAAAAAAAAAAAAAAAAAAAAAAAAAAAAAAAAAAAAAAAAAAAAAAAAAAAAAAAAAAAAAAAAAAAAAAAAAAAAAAAAAAAAAAAAAAAAAAAAAAAAAAAAAAAAAAAAAAAAAAAAAAAAAAAAAAAAAAAAAAAAAAAAAAAAAAAAAAAAAAAAAAAAAAAAAAAAAAAAAAAAAAAAAAAAAAAAAAAAAAAAAAAAAAAAAAAAAAAAAAAAAAAAAAAAAAAAAAAAAAAAAAAAAAAAAAAAAAAAAAAAAAAAAAAAAAAAAAAAAAAAAAAAAAAAAAAAAAAAAAAAAAAAAAAAAAAAAAAAAAAAAAAAAAAAAAAAAAAAAAAAAAAAAAAAAAAAAAAAAAAAAAAAAAAAAAAAAAAAAAAAAAAAAAAAAAAAAAAAAAAAAAAAAAAAAAAAAAAAAAAAAAAAAAAAAAAAAAAAAAAAAAAAAAAAAAAAAAAAAAAAAAAAAAAAAAAAAAAAAAAAAAAAAAAAAAAAAAAAAAAAAAAAAAAAAAAAAAAAAAAAAAAAAAAAAAAAAAAAAAAAAAAAAAAAAAAAAAAAAAAAAAAAAAAAAAAAAAAAAAAAAAAAAAAAAAAAAAAAAAAAAAAAAAAAAAAAAAAAAAAAAAAAAAAAAAAAAAAAAAAAAAAAAAAAAAAAAAAAAAAAAAAAAAAAAAAAAAAAAAAAAAAAAAAAAAAAAAAAAAAAAAAAAAAAAAAAAAAAAAAAAAAAAAAAAAAAAAAAAAAAAAAAAAAAAAAAAAAAAAAAAAAAAAAAAAAAAAAAAAAAAAAAAAAAAAAAAAAAAAAAAAAAAAAAAAAAAAAAAAAAAAAAAAAAAAAAAAAAAAAAAAAAAAAAAAAAAAAAAAAAAAAAAAAAAAAAAAAAAAAAAAAAAAAAAAAAAAAAAAAAAAAAAAAAAAAAAAAAAAAAAAAAAAAAAAAAAAAAAAAAAAAAAAAAAAAAAAAAAAAAAAAAAAAAAAAAAAAAAAAAAAAAAAAAAAAAAAAAAAAAAAAAAAAAAAAAAAAAAAAAAAAAAAAAAAAAAAAAAAAAAAAAAAAAAAAAAAAAAAAAAAAAAAAAAAAAAAAAAAAAAAAAAAAAAAAAAAAAAAAAAAAAAAAAAAAAAAAAAAAAAAAAAAAAAAAAAAAAAAAAAAAAAAAAAAAAAAAAAAAAAAAAAAAAAAAAAAAAAAAAAAAAAAAAAAAAAAAAAAAAAAAAAAAAAAAAAAAAAAAAAAAAAAAAAAAAAAAAAAAAAAAAAAAAAAAAAAAAAAAAAAAAAAAAAAAAAAAAAAAAAAAAAAAAAAAAAAAAAAAAAAAAAAAAAAAAAAAAAAAAAAAAAAAAAAAAAAAAAAAAAAAAAAAAAAAAAAAAAAAAAAAAAAAAAAAAAAAAAAAAAAAAAAAAAAAAAAAAAAAAAAAAAAAAAAAAAAAAAAAAAAAAAAAAAAAAAAAAAAAAAAAAAAAAAAAAAAAAAAAAAAAAAAAAAAAAAAAAAAAAAAAAAAAAAAAAAAAAAAAAAAAAAAAAAAAAAAAAAAAAAAAAAAAAAAAAAAAAAAAAAAAAAAAAAAAAAAAAAAAAAAAAAAAAAAAAAAAAAAAAAAAAAAAAAAAAAAAAAAAAAAAAAAAAAAAAAAAAAAAAAAAAAAAAAAAAAAAAAAAAAAAAAAAAAAAAAAAAAAAAAAAAAAAAAAAAAAAAAAAAAAAAAAAAAAAAAAAAAAAAAAAAAAAAAAAAAAAAAAAAAAAAAAAAAAAAAAAAAAAAAAAAAAAAAAAAAAAAAAAAAAAAAAAAAAAAAAAAAAAAAAAAAAAAAAAAAAAAAAAAAAAAAAAAAAAAAAAAAAAAAAAAAAAAAAAAAAAAAAAAAAAAAAAAAAAAAAAAAAAAAAAAAAAAAAAAAAAAAAAAAAAAAAAAAAAAAAAAAAAAAAAAAAAAAAAAAAAAAAAAAAAAAAAAAAAAAAAAAAAAAAAAAAAAAAAAAAAAAAAAAAAAAAAAAAAAAAAAAAAAAAAAAAAAAAAAAAAAAAAAAAAAAAAAAAAAAAAAAAAAAAAAAAAAAAAAAAAAAAAAAAAAAAAAAAAAAAAAAAAAAAAAAAAAAAAAAAAAAAAAAAAAAAAAAAAAAAAAAAAAAAAAAAAAAAAAAAAAAAAAAAAAAAAAAAAAAAAAAAAAAAAAAAAAAAAAAAAAAAAAAAAAAAAAAAAAAAAAAAAAAAAAAAAAAAAAAAAAAAAAAAAAAAAAAAAAAAAAAAAAAAAAAAAAAAAAAAAAAAAAAAAAAAAAAAAAAAAAAAAAAAAAAAAAAAAAAAAAAAAAAAAAAAAAAAAAAAAAAAAAAAAAAAAAAAAAAAAAAAAAAAAAAAAAAAAAAAAAAAAAAAAAAAAAAAAAAAAAAAAAAAAAAAAAAAAAAAAAAAAAAAAAAAAAAAAAAAAAAAAAAAAAAAAAAAAAAAAAAAAAAAAAAAAAAAAAAAAAAAAAAAAAAAAAAAAAAAAAAAAAAAAAAAAAAAAAAAAAAAAAAAAAAAAAAAAAAAAAAAAAAAAAAAAAAAAAAAAAAAAAAAAAAAAAAAAAAAAAAAAAAAAAAAAAAAAAAAAAAAAAAAAAAAAAAAAAAAAAAAAAAAAAAAAAAAAAAAAAAAAAAAAAAAAAAAAAAAAAAAAAAAAAAAAAAAAAAAAAAAAAAAAAAAAAAAAAAAAAAAAAAAAAAAAAAAAAAAAAAAAAAAAAAAAAAAAAAAAAAAAAAAAAAAAAAAAAAAAAAAAAAAAAAAAAAAAAAAAAAAAAAAAAAAAAAAAAAAAAAAAAAAAAAAAAAAAAAAAAAAAAAAAAAAAAAAAAAAAAAAAAAAAAAAAAAAAAAAAAAAAAAAAAAAAAAAAAAAAAAAAAAAAAAAAAAAAAAAAAAAAAAAAAAAAAAAAAAAAAAAAAAAAAAAAAAAAAAAAAAAAAAAAAAAAAAAAAAAAAAAAAAAAAAAAAAAAAAAAAAAAAAAAAAAAAAAAAAAAAAAAAAAAAAAAAAAAAAAAAAAAAAAAAAAAAAAAAAAAAAAAAAAAAAAAAAAAAAAAAAAAAAAAAAAAAAAAAAAAAAAAAAAAAAAAAAAAAAAAAAAAAAAAAAAAAAAAAAAAAAAAAAAAAAAAAAAAAAAAAAAAAAAAAAAAAAAAAAAAAAAAAAAAAAAAAAAAAAAAAAAAAAAAAAAAAAAAAAAAAAAAAAAAAAAAAAAAAAAAAAAAAAAAAAAAAAAAAAAAAAAAAAAAAAAAAAAAAAAAAAAAAAAAAAAAAAAAAAAAAAAAAAAAAAAAAAAAAAAAAAAAAAAAAAAAAAAAAAAAAAAAAAAAAAAAAAAAAAAAAAAAAAAAAAAAAAAAAAAAAAAAAAAAAAAAAAAAAAAAAAAAAAAAAAAAAAAAAAAAAAAAAAAAAAAAAAAAAAAAAAAAAAAAAAAAAAAAAAAAAAAAAAAAAAAAAAAAAAAAAAAAAAAAAAAAAAAAAAAAAAAAAAAAAAAAAAAAAAAAAAAAAAAAAAAAAAAAAAAAAAAAAAAAAAAAAAAAAAAAAAAAAAAAAAAAAAAAAAAAAAAAAAAAAAAAAAAAAAAAAAAAAAAAAAAAAAAAAAAAAAAAAAAAAAAAAAAAAAAAAAAAAAAAAAAAAAAAAAAAAAAAAAAAAAAAAAAAAAAAAAAAAAAAAAAAAAAAAAAAAAAAAAAAAAAAAAAAAAAAAAAAAAAAAAAAAAAAAAAAAAAAAAAAAAAAAAAAAAAAAAAAAAAAAAAAAAAAAAAAAAAAAAAAAAAAAAAAAAAAAAAAAAAAAAAAAAAAAAAAAAAAAAAAAAAAAAAAAAAAAAAAAAAAAAAAAAAAAAAAAAAAAAAAAAAAAAAAAAAAAAAAAAAAAAAAAAAAAAAAAAAAAAAAAAAAAAAAAAAAAAAAAAAAAAAAAAAAAAAAAAAAAAAAAAAAAAAAAAAAAAAAAAAAAAAAAAAAAAAAAAAAAAAAAAAAAAAAAAAAAAAAAAAAAAAAAAAAAAAAAAAAAAAAAAAAAAAAAAAAAAAAAAAAAAAAAAAAAAAAAAAAAAAAAAAAAAAAAAAAAAAAAAAAAAAAAAAAAAAAAAAAAAAAAAAAAAAAAAAAAAAAAAAAAAAAAAAAAAAAAAAAAAAAAAAAAAAAAAAAAAAAAAAAAAAAAAAAAAAAAAAAAAAAAAAAAAAAAAAAAAAAAAAAAAAAAAAAAAAAAAAAAAAAAAAAAAAAAAAAAAAAAAAAAAAAAAAAAAAAAAAAAAAAAAAAAAAAAAAAAAAAAAAAAAAAAAAAAAAAAAAAAAAAAAAAAAAAAAAAAAAAAAAAAAAAAAAAAAAAAAAAAAAAAAAAAAAAAAAAAAAAAAAAAAAAAAAAAAAAAAAAAAAAAAAAAAAAAAAAAAAAAAAAAAAAAAAAAAAAAAAAAAAAAAAAAAAAAAAAAAAAAAAAAAAAAAAAAAAAAAAAAAAAAAAAAAAAAAAAAAAAAAAAAAAAAAAAAAAAAAAAAAAAAAAAAAAAAAAAAAAAAAAAAAAAAAAAAAAAAAAAAAAAAAAAAAAAAAAAAAAAAAAAAAAAAAAAAAAAAAAAAAAAAAAAAAAAAAAAAAAAAAAAAAAAAAAAAAAAAAAAAAAAAAAAAAAAAAAAAAAAAAAAAAAAAAAAAAAAAAAAAAAAAAAAAAAAAAAAAAAAAAAAAAAAAAAAAAAAAAAAAAAAAAAAAAAAAAAAAAAAAAAAAAAAAAAAAAAAAAAAAAAAAAAAAAAAAAAAAAAAAAAAAAAAAAAAAAAAAAAAAAAAAAAAAAAAAAAAAAAAAAAAAAAAAAAAAAAAAAAAAAAAAAAAAAAAAAAAAAAAAAAAAAAAAAAAAAAAAAAAAAAAAAAAAAAAAAAAAAAAAAAAAAAAAAAAAAAAAAAAAAAAAAAAAAAAAAAAAAAAAAAAAAAAAAAAAAAAAAAAAAAAAAAAAAAAAAAAAAAAAAAAAAAAAAAAAAAAAAAAAAAAAAAAAAAAAAAAAAAAAAAAAAAAAAAAAAAAAAAAAAAAAAAAAAAAAAAAAAAAAAAAAAAAAAAAAAAAAAAAAAAAAAAAAAAAAAAAAAAAAAAAAAAAAAAAAAAAAAAAAAAAAAAAAAAAAAAAAAAAAAAAAAAAAAAAAAAAAAAAAAAAAAAAAAAAAAAAAAAAAAAAAAAAAAAAAAAAAAAAAAAAAAAAAAAAAAAAAAAAAAAAAAAAAAAAAAAAAAAAAAAAAAAAAAAAAAAAAAAAAAAAAAAAAAAAAAAAAAAAAAAAAAAAAAAAAAAAAAAAAAAAAAAAAAAAAAAAAAAAAAAAAAAAAAAAAAAAAAAAAAAAAAAAAAAAAAAAAAAAAAAAAAAAAAAAAAAAAAAAAAAAAAAAAAAAAAAAAAAAAAAAAAAAAAAAAAAAAAAAAAAAAAAAAAAAAAAAAAAAAAAAAAAAAAAAAAAAAAAAAAAAAAAAAAAAAAAAAAAAAAAAAAAAAAAAAAAAAAAAAAAAAAAAAAAAAAAAAAAAAAAAAAAAAAAAAAAAAAAAAAAAAAAAAAAAAAAAAAAAAAAAAAAAAAAAAAAAAAAAAAAAAAAAAAAAAAAAAAAAAAAAAAAAAAAAAAAAAAAAAAAAAAAAAAAAAAAAAAAAAAAAAAAAAAAAAAAAAAAAAAAAAAAAAAAAAAAAAAAAAAAAAAAAAAAAAAAAAAAAAAAAAAAAAAAAAAAAAAAAAAAAAAAAAAAAAAAAAAAAAAAAAAAAAAAAAAAAAAAAAAAAAAAAAAAAAAAAAAAAAAAAAAAAAAAAAAAAAAAAAAAAAAAAAAAAAAAAAAAAAAAAAAAAAAAAAAAAAAAAAAAAAAAAAAAAAAAAAAAAAAAAAAAAAAAAAAAAAAAAAAAAAAAAAAAAAAAAAAAAAAAAAAAAAAAAAAAAAAAAAAAAAAAAAAAAAAAAAAAAAAAAAAAAAAAAAAAAAAAAAAAAAAAAAAAAAAAAAAAAAAAAAAAAAAAAAAAAAAAAAAAAAAAAAAAAAAAAAAAAAAAAAAAAAAAAAAAAAAAAAAAAAAAAAAAAAAAAAAAAAAAAAAAAAAAAAAAAAAAAAAAAAAAAAAAAAAAAAAAAAAAAAAAAAAAAAAAAAAAAAAAAAAAAAAAAAAAAAAAAAAAAAAAAAAAAAAAAAAAAAAAAAAAAAAAAAAAAAAAAAAAAAAAAAAAAAAAAAAAAAAAAAAAAAAAAAAAAAAAAAAAAAAAAAAAAAAAAAAAAAAAAAAAAAAAAAAAAAAAAAAAAAAAAAAAAAAAAAAAAAAAAAAAAAAAAAAAAAAAAAAAAAAAAAAAAAAAAAAAAAAAAAAAAAAAAAAAAAAAAAAAAAAAAAAAAAAAAAAAAAAAAAAAAAAAAAAAAAAAAAAAAAAAAAAAAAAAAAAAAAAAAAAAAAAAAAAAAAAAAAAAAAAAAAAAAAAAAAAAAAAAAAAAAAAAAAAAAAAAAAAAAAAAAAAAAAAAAAAAAAAAAAAAAAAAAAAAAAAAAAAAAAAAAAAAAAAAAAAAAAAAAAAAAAAAAAAAAAAAAAAAAAAAAAAAAAAAAAAAAAAAAAAAAAAAAAAAAAAAAAAAAAAAAAAAAAAAAAAAAAAAAAAAAAAAAAAAAAAAAAAAAAAAAAAAAAAAAAAAAAAAAAAAAAAAAAAAAAAAAAAAAAAAAAAAAAAAAAAAAAAAAAAAAAAAAAAAAAAAAAAAAAAAAAAAAAAAAAAAAAAAAAAAAAAAAAAAAAAAAAAAAAAAAAAAAAAAAAAAAAAAAAAAAAAAAAAAAAAAAAAAAAAAAAAAAAAAAAAAAAAAAAAAAAAAAAAAAAAAAAAAAAAAAAAAAAAAAAAAAAAAAAAAAAAAAAAAAAAAAAAAAAAAAAAAAAAAAAAAAAAAAAAAAAAAAAAAAAAAAAAAAAAAAAAAAAAAAAAAAAAAAAAAAAAAAAAAAAAAAAAAAAAAAAAAAAAAAAAAAAAAAAAAAAAAAAAAAAAAAAAAAAAAAAAAAAAAAAAAAAAAAAAAAAAAAAAAAAAAAAAAAAAAAAAAAAAAAAAAAAAAAAAAAAAAAAAAAAAAAAAAAAAAAAAAAAAAAAAAAAAAAAAAAAAAAAAAAAAAAAAAAAAAAAAAAAAAAAAAAAAAAAAAAAAAAAAAAAAAAAAAAAAAAAAAAAAAAAAAAAAAAAAAAAAAAAAAAAAAAAAAAAAAAAAAAAAAAAAAAAAAAAAAAAAAAAAAAAAAAAAAAAAAAAAAAAAAAAAAAAAAAAAAAAAAAAAAAAAAAAAAAAAAAAAAAAAAAAAAAAAAAAAAAAAAAAAAAAAAAAAAAAAAAAAAAAAAAAAAAAAAAAAAAAAAAAAAAAAAAAAAAAAAAAAAAAAAAAAAAAAAAAAAAAAAAAAAAAAAAAAAAAAAAAAAAAAAAAAAAAAAAAAAAAAAAAAAAAAAAAAAAAAAAAAAAAAAAAAAAAAAAAAAAAAAAAAAAAAAAAAAAAAAAAAAAAAAAAAAAAAAAAAAAAAAAAAAAAAAAAAAAAAAAAAAAAAAAAAAAAAAAAAAAAAAAAAAAAAAAAAAAAAAAAAAAAAAAAAAAAAAAAAAAAAAAAAAAAAAAAAAAAAAAAAAAAAAAAAAAAAAAAAAAAAAAAAAAAAAAAAAAAAAAAAAAAAAAAAAAAAAAAAAAAAAAAAAAAAAAAAAAAAAAAAAAAAAAAAAAAAAAAAAAAAAAAAAAAAAAAAAAAAAAAAAAAAAAAAAAAAAAAAAAAAAAAAAAAAAAAAAAAAAAAAAAAAAAAAAAAAAAAAAAAAAAAAAAAAAAAAAAAAAAAAAAAAAAAAAAAAAAAAAAAAAAAAAAAAAAAAAAAAAAAAAAAAAAAAAAAAAAAAAAAAAAAAAAAAAAAAAAAAAAAAAAAAAAAAAAAAAAAAAAAAAAAAAAAAAAAAAAAAAAAAAAAAAAAAAAAAAAAAAAAAAAAAAAAAAAAAAAAAAAAAAAAAAAAAAAAAAAAAAAAAAAAAAAAAAAAAAAAAAAAAAAAAAAAAAAAAAAAAAAAAAAAAAAAAAAAAAAAAAAAAAAAAAAAAAAAAAAAAAAAAAAAAAAAAAAAAAAAAAAAAAAAAAAAAAAA\",\"dtype\":\"float64\",\"shape\":[1674]},\"eff_phs_none\":{\"__ndarray__\":\"exSuR+F6hD97FK5H4XqEP3sUrkfheoQ/exSuR+F6hD97FK5H4XqEP3sUrkfheoQ/exSuR+F6hD97FK5H4XqEP3sUrkfheoQ/exSuR+F6hD97FK5H4XqEP3sUrkfheoQ/exSuR+F6hD97FK5H4XqEP3sUrkfheoQ/exSuR+F6hD97FK5H4XqEP3sUrkfheoQ/exSuR+F6hD97FK5H4XqEP3sUrkfheoQ/exSuR+F6hD97FK5H4XqEP3sUrkfheoQ/exSuR+F6hD97FK5H4XqEP3sUrkfheoQ/exSuR+F6hD97FK5H4XqEP3sUrkfheoQ/exSuR+F6hD8AAAAAAADgPwAAAAAAAOA/AAAAAAAA4D8AAAAAAADgPwAAAAAAAOA/AAAAAAAA4D8AAAAAAADgPwAAAAAAAOA/AAAAAAAA4D8AAAAAAADgPwAAAAAAAOA/AAAAAAAA4D8AAAAAAADgPwAAAAAAAOA/AAAAAAAA4D8AAAAAAADgPwAAAAAAAOA/AAAAAAAA4D8AAAAAAADgPwAAAAAAAOA/AAAAAAAA4D8AAAAAAADgPwAAAAAAAOA/AAAAAAAA4D8AAAAAAADgPwAAAAAAAOA/AAAAAAAA4D8AAAAAAADgPwAAAAAAAOA/AAAAAAAA4D8AAAAAAADgP65H4XoUru8/rkfhehSu7z+uR+F6FK7vP65H4XoUru8/rkfhehSu7z+uR+F6FK7vP65H4XoUru8/rkfhehSu7z+uR+F6FK7vP65H4XoUru8/rkfhehSu7z+uR+F6FK7vP65H4XoUru8/rkfhehSu7z+uR+F6FK7vP65H4XoUru8/rkfhehSu7z+uR+F6FK7vP65H4XoUru8/rkfhehSu7z+uR+F6FK7vP65H4XoUru8/rkfhehSu7z+uR+F6FK7vP65H4XoUru8/rkfhehSu7z+uR+F6FK7vP65H4XoUru8/rkfhehSu7z+uR+F6FK7vP65H4XoUru8/exSuR+F6hD97FK5H4XqEP3sUrkfheoQ/exSuR+F6hD97FK5H4XqEP3sUrkfheoQ/exSuR+F6hD97FK5H4XqEP3sUrkfheoQ/exSuR+F6hD97FK5H4XqEP3sUrkfheoQ/exSuR+F6hD97FK5H4XqEP3sUrkfheoQ/exSuR+F6hD97FK5H4XqEP3sUrkfheoQ/exSuR+F6hD97FK5H4XqEP3sUrkfheoQ/exSuR+F6hD97FK5H4XqEP3sUrkfheoQ/exSuR+F6hD97FK5H4XqEP3sUrkfheoQ/exSuR+F6hD97FK5H4XqEP3sUrkfheoQ/exSuR+F6hD8AAAAAAADgPwAAAAAAAOA/AAAAAAAA4D8AAAAAAADgPwAAAAAAAOA/AAAAAAAA4D8AAAAAAADgPwAAAAAAAOA/AAAAAAAA4D8AAAAAAADgPwAAAAAAAOA/AAAAAAAA4D8AAAAAAADgPwAAAAAAAOA/AAAAAAAA4D8AAAAAAADgPwAAAAAAAOA/AAAAAAAA4D8AAAAAAADgPwAAAAAAAOA/AAAAAAAA4D8AAAAAAADgPwAAAAAAAOA/AAAAAAAA4D8AAAAAAADgPwAAAAAAAOA/AAAAAAAA4D8AAAAAAADgPwAAAAAAAOA/AAAAAAAA4D8AAAAAAADgP65H4XoUru8/rkfhehSu7z+uR+F6FK7vP65H4XoUru8/rkfhehSu7z+uR+F6FK7vP65H4XoUru8/rkfhehSu7z+uR+F6FK7vP65H4XoUru8/rkfhehSu7z+uR+F6FK7vP65H4XoUru8/rkfhehSu7z+uR+F6FK7vP65H4XoUru8/rkfhehSu7z+uR+F6FK7vP65H4XoUru8/rkfhehSu7z+uR+F6FK7vP65H4XoUru8/rkfhehSu7z+uR+F6FK7vP65H4XoUru8/rkfhehSu7z+uR+F6FK7vP65H4XoUru8/rkfhehSu7z+uR+F6FK7vP65H4XoUru8/exSuR+F6hD97FK5H4XqEP3sUrkfheoQ/exSuR+F6hD97FK5H4XqEP3sUrkfheoQ/exSuR+F6hD97FK5H4XqEP3sUrkfheoQ/exSuR+F6hD97FK5H4XqEP3sUrkfheoQ/exSuR+F6hD97FK5H4XqEP3sUrkfheoQ/exSuR+F6hD97FK5H4XqEP3sUrkfheoQ/exSuR+F6hD97FK5H4XqEP3sUrkfheoQ/exSuR+F6hD97FK5H4XqEP3sUrkfheoQ/exSuR+F6hD97FK5H4XqEP3sUrkfheoQ/exSuR+F6hD97FK5H4XqEP3sUrkfheoQ/exSuR+F6hD8AAAAAAADgPwAAAAAAAOA/AAAAAAAA4D8AAAAAAADgPwAAAAAAAOA/AAAAAAAA4D8AAAAAAADgPwAAAAAAAOA/AAAAAAAA4D8AAAAAAADgPwAAAAAAAOA/AAAAAAAA4D8AAAAAAADgPwAAAAAAAOA/AAAAAAAA4D8AAAAAAADgPwAAAAAAAOA/AAAAAAAA4D8AAAAAAADgPwAAAAAAAOA/AAAAAAAA4D8AAAAAAADgPwAAAAAAAOA/AAAAAAAA4D8AAAAAAADgPwAAAAAAAOA/AAAAAAAA4D8AAAAAAADgPwAAAAAAAOA/AAAAAAAA4D8AAAAAAADgP65H4XoUru8/rkfhehSu7z+uR+F6FK7vP65H4XoUru8/rkfhehSu7z+uR+F6FK7vP65H4XoUru8/rkfhehSu7z+uR+F6FK7vP65H4XoUru8/rkfhehSu7z+uR+F6FK7vP65H4XoUru8/rkfhehSu7z+uR+F6FK7vP65H4XoUru8/rkfhehSu7z+uR+F6FK7vP65H4XoUru8/rkfhehSu7z+uR+F6FK7vP65H4XoUru8/rkfhehSu7z+uR+F6FK7vP65H4XoUru8/rkfhehSu7z+uR+F6FK7vP65H4XoUru8/rkfhehSu7z+uR+F6FK7vP65H4XoUru8/exSuR+F6hD97FK5H4XqEP3sUrkfheoQ/exSuR+F6hD97FK5H4XqEP3sUrkfheoQ/exSuR+F6hD97FK5H4XqEP3sUrkfheoQ/exSuR+F6hD97FK5H4XqEP3sUrkfheoQ/exSuR+F6hD97FK5H4XqEP3sUrkfheoQ/exSuR+F6hD97FK5H4XqEP3sUrkfheoQ/exSuR+F6hD97FK5H4XqEP3sUrkfheoQ/exSuR+F6hD97FK5H4XqEP3sUrkfheoQ/exSuR+F6hD97FK5H4XqEP3sUrkfheoQ/exSuR+F6hD97FK5H4XqEP3sUrkfheoQ/exSuR+F6hD8AAAAAAADgPwAAAAAAAOA/AAAAAAAA4D8AAAAAAADgPwAAAAAAAOA/AAAAAAAA4D8AAAAAAADgPwAAAAAAAOA/AAAAAAAA4D8AAAAAAADgPwAAAAAAAOA/AAAAAAAA4D8AAAAAAADgPwAAAAAAAOA/AAAAAAAA4D8AAAAAAADgPwAAAAAAAOA/AAAAAAAA4D8AAAAAAADgPwAAAAAAAOA/AAAAAAAA4D8AAAAAAADgPwAAAAAAAOA/AAAAAAAA4D8AAAAAAADgPwAAAAAAAOA/AAAAAAAA4D8AAAAAAADgPwAAAAAAAOA/AAAAAAAA4D8AAAAAAADgP65H4XoUru8/rkfhehSu7z+uR+F6FK7vP65H4XoUru8/rkfhehSu7z+uR+F6FK7vP65H4XoUru8/rkfhehSu7z+uR+F6FK7vP65H4XoUru8/rkfhehSu7z+uR+F6FK7vP65H4XoUru8/rkfhehSu7z+uR+F6FK7vP65H4XoUru8/rkfhehSu7z+uR+F6FK7vP65H4XoUru8/rkfhehSu7z+uR+F6FK7vP65H4XoUru8/rkfhehSu7z+uR+F6FK7vP65H4XoUru8/rkfhehSu7z+uR+F6FK7vP65H4XoUru8/rkfhehSu7z+uR+F6FK7vP65H4XoUru8/exSuR+F6hD97FK5H4XqEP3sUrkfheoQ/exSuR+F6hD97FK5H4XqEP3sUrkfheoQ/exSuR+F6hD97FK5H4XqEP3sUrkfheoQ/exSuR+F6hD97FK5H4XqEP3sUrkfheoQ/exSuR+F6hD97FK5H4XqEP3sUrkfheoQ/exSuR+F6hD97FK5H4XqEP3sUrkfheoQ/exSuR+F6hD97FK5H4XqEP3sUrkfheoQ/exSuR+F6hD97FK5H4XqEP3sUrkfheoQ/exSuR+F6hD97FK5H4XqEP3sUrkfheoQ/exSuR+F6hD97FK5H4XqEP3sUrkfheoQ/exSuR+F6hD8AAAAAAADgPwAAAAAAAOA/AAAAAAAA4D8AAAAAAADgPwAAAAAAAOA/AAAAAAAA4D8AAAAAAADgPwAAAAAAAOA/AAAAAAAA4D8AAAAAAADgPwAAAAAAAOA/AAAAAAAA4D8AAAAAAADgPwAAAAAAAOA/AAAAAAAA4D8AAAAAAADgPwAAAAAAAOA/AAAAAAAA4D8AAAAAAADgPwAAAAAAAOA/AAAAAAAA4D8AAAAAAADgPwAAAAAAAOA/AAAAAAAA4D8AAAAAAADgPwAAAAAAAOA/AAAAAAAA4D8AAAAAAADgPwAAAAAAAOA/AAAAAAAA4D8AAAAAAADgP65H4XoUru8/rkfhehSu7z+uR+F6FK7vP65H4XoUru8/rkfhehSu7z+uR+F6FK7vP65H4XoUru8/rkfhehSu7z+uR+F6FK7vP65H4XoUru8/rkfhehSu7z+uR+F6FK7vP65H4XoUru8/rkfhehSu7z+uR+F6FK7vP65H4XoUru8/rkfhehSu7z+uR+F6FK7vP65H4XoUru8/rkfhehSu7z+uR+F6FK7vP65H4XoUru8/rkfhehSu7z+uR+F6FK7vP65H4XoUru8/rkfhehSu7z+uR+F6FK7vP65H4XoUru8/rkfhehSu7z+uR+F6FK7vP65H4XoUru8/exSuR+F6hD97FK5H4XqEP3sUrkfheoQ/exSuR+F6hD97FK5H4XqEP3sUrkfheoQ/exSuR+F6hD97FK5H4XqEP3sUrkfheoQ/exSuR+F6hD97FK5H4XqEP3sUrkfheoQ/exSuR+F6hD97FK5H4XqEP3sUrkfheoQ/exSuR+F6hD97FK5H4XqEP3sUrkfheoQ/exSuR+F6hD97FK5H4XqEP3sUrkfheoQ/exSuR+F6hD97FK5H4XqEP3sUrkfheoQ/exSuR+F6hD97FK5H4XqEP3sUrkfheoQ/exSuR+F6hD97FK5H4XqEP3sUrkfheoQ/exSuR+F6hD8AAAAAAADgPwAAAAAAAOA/AAAAAAAA4D8AAAAAAADgPwAAAAAAAOA/AAAAAAAA4D8AAAAAAADgPwAAAAAAAOA/AAAAAAAA4D8AAAAAAADgPwAAAAAAAOA/AAAAAAAA4D8AAAAAAADgPwAAAAAAAOA/AAAAAAAA4D8AAAAAAADgPwAAAAAAAOA/AAAAAAAA4D8AAAAAAADgPwAAAAAAAOA/AAAAAAAA4D8AAAAAAADgPwAAAAAAAOA/AAAAAAAA4D8AAAAAAADgPwAAAAAAAOA/AAAAAAAA4D8AAAAAAADgPwAAAAAAAOA/AAAAAAAA4D8AAAAAAADgP65H4XoUru8/rkfhehSu7z+uR+F6FK7vP65H4XoUru8/rkfhehSu7z+uR+F6FK7vP65H4XoUru8/rkfhehSu7z+uR+F6FK7vP65H4XoUru8/rkfhehSu7z+uR+F6FK7vP65H4XoUru8/rkfhehSu7z+uR+F6FK7vP65H4XoUru8/rkfhehSu7z+uR+F6FK7vP65H4XoUru8/rkfhehSu7z+uR+F6FK7vP65H4XoUru8/rkfhehSu7z+uR+F6FK7vP65H4XoUru8/rkfhehSu7z+uR+F6FK7vP65H4XoUru8/rkfhehSu7z+uR+F6FK7vP65H4XoUru8/exSuR+F6hD97FK5H4XqEP3sUrkfheoQ/exSuR+F6hD97FK5H4XqEP3sUrkfheoQ/exSuR+F6hD97FK5H4XqEP3sUrkfheoQ/exSuR+F6hD97FK5H4XqEP3sUrkfheoQ/exSuR+F6hD97FK5H4XqEP3sUrkfheoQ/exSuR+F6hD97FK5H4XqEP3sUrkfheoQ/exSuR+F6hD97FK5H4XqEP3sUrkfheoQ/exSuR+F6hD97FK5H4XqEP3sUrkfheoQ/exSuR+F6hD97FK5H4XqEP3sUrkfheoQ/exSuR+F6hD97FK5H4XqEP3sUrkfheoQ/exSuR+F6hD8AAAAAAADgPwAAAAAAAOA/AAAAAAAA4D8AAAAAAADgPwAAAAAAAOA/AAAAAAAA4D8AAAAAAADgPwAAAAAAAOA/AAAAAAAA4D8AAAAAAADgPwAAAAAAAOA/AAAAAAAA4D8AAAAAAADgPwAAAAAAAOA/AAAAAAAA4D8AAAAAAADgPwAAAAAAAOA/AAAAAAAA4D8AAAAAAADgPwAAAAAAAOA/AAAAAAAA4D8AAAAAAADgPwAAAAAAAOA/AAAAAAAA4D8AAAAAAADgPwAAAAAAAOA/AAAAAAAA4D8AAAAAAADgPwAAAAAAAOA/AAAAAAAA4D8AAAAAAADgP65H4XoUru8/rkfhehSu7z+uR+F6FK7vP65H4XoUru8/rkfhehSu7z+uR+F6FK7vP65H4XoUru8/rkfhehSu7z+uR+F6FK7vP65H4XoUru8/rkfhehSu7z+uR+F6FK7vP65H4XoUru8/rkfhehSu7z+uR+F6FK7vP65H4XoUru8/rkfhehSu7z+uR+F6FK7vP65H4XoUru8/rkfhehSu7z+uR+F6FK7vP65H4XoUru8/rkfhehSu7z+uR+F6FK7vP65H4XoUru8/rkfhehSu7z+uR+F6FK7vP65H4XoUru8/rkfhehSu7z+uR+F6FK7vP65H4XoUru8/exSuR+F6hD97FK5H4XqEP3sUrkfheoQ/exSuR+F6hD97FK5H4XqEP3sUrkfheoQ/exSuR+F6hD97FK5H4XqEP3sUrkfheoQ/exSuR+F6hD97FK5H4XqEP3sUrkfheoQ/exSuR+F6hD97FK5H4XqEP3sUrkfheoQ/exSuR+F6hD97FK5H4XqEP3sUrkfheoQ/exSuR+F6hD97FK5H4XqEP3sUrkfheoQ/exSuR+F6hD97FK5H4XqEP3sUrkfheoQ/exSuR+F6hD97FK5H4XqEP3sUrkfheoQ/exSuR+F6hD97FK5H4XqEP3sUrkfheoQ/exSuR+F6hD8AAAAAAADgPwAAAAAAAOA/AAAAAAAA4D8AAAAAAADgPwAAAAAAAOA/AAAAAAAA4D8AAAAAAADgPwAAAAAAAOA/AAAAAAAA4D8AAAAAAADgPwAAAAAAAOA/AAAAAAAA4D8AAAAAAADgPwAAAAAAAOA/AAAAAAAA4D8AAAAAAADgPwAAAAAAAOA/AAAAAAAA4D8AAAAAAADgPwAAAAAAAOA/AAAAAAAA4D8AAAAAAADgPwAAAAAAAOA/AAAAAAAA4D8AAAAAAADgPwAAAAAAAOA/AAAAAAAA4D8AAAAAAADgPwAAAAAAAOA/AAAAAAAA4D8AAAAAAADgP65H4XoUru8/rkfhehSu7z+uR+F6FK7vP65H4XoUru8/rkfhehSu7z+uR+F6FK7vP65H4XoUru8/rkfhehSu7z+uR+F6FK7vP65H4XoUru8/rkfhehSu7z+uR+F6FK7vP65H4XoUru8/rkfhehSu7z+uR+F6FK7vP65H4XoUru8/rkfhehSu7z+uR+F6FK7vP65H4XoUru8/rkfhehSu7z+uR+F6FK7vP65H4XoUru8/rkfhehSu7z+uR+F6FK7vP65H4XoUru8/rkfhehSu7z+uR+F6FK7vP65H4XoUru8/rkfhehSu7z+uR+F6FK7vP65H4XoUru8/exSuR+F6hD97FK5H4XqEP3sUrkfheoQ/exSuR+F6hD97FK5H4XqEP3sUrkfheoQ/exSuR+F6hD97FK5H4XqEP3sUrkfheoQ/exSuR+F6hD97FK5H4XqEP3sUrkfheoQ/exSuR+F6hD97FK5H4XqEP3sUrkfheoQ/exSuR+F6hD97FK5H4XqEP3sUrkfheoQ/exSuR+F6hD97FK5H4XqEP3sUrkfheoQ/exSuR+F6hD97FK5H4XqEP3sUrkfheoQ/exSuR+F6hD97FK5H4XqEP3sUrkfheoQ/exSuR+F6hD97FK5H4XqEP3sUrkfheoQ/exSuR+F6hD8AAAAAAADgPwAAAAAAAOA/AAAAAAAA4D8AAAAAAADgPwAAAAAAAOA/AAAAAAAA4D8AAAAAAADgPwAAAAAAAOA/AAAAAAAA4D8AAAAAAADgPwAAAAAAAOA/AAAAAAAA4D8AAAAAAADgPwAAAAAAAOA/AAAAAAAA4D8AAAAAAADgPwAAAAAAAOA/AAAAAAAA4D8AAAAAAADgPwAAAAAAAOA/AAAAAAAA4D8AAAAAAADgPwAAAAAAAOA/AAAAAAAA4D8AAAAAAADgPwAAAAAAAOA/AAAAAAAA4D8AAAAAAADgPwAAAAAAAOA/AAAAAAAA4D8AAAAAAADgP65H4XoUru8/rkfhehSu7z+uR+F6FK7vP65H4XoUru8/rkfhehSu7z+uR+F6FK7vP65H4XoUru8/rkfhehSu7z+uR+F6FK7vP65H4XoUru8/rkfhehSu7z+uR+F6FK7vP65H4XoUru8/rkfhehSu7z+uR+F6FK7vP65H4XoUru8/rkfhehSu7z+uR+F6FK7vP65H4XoUru8/rkfhehSu7z+uR+F6FK7vP65H4XoUru8/rkfhehSu7z+uR+F6FK7vP65H4XoUru8/rkfhehSu7z+uR+F6FK7vP65H4XoUru8/rkfhehSu7z+uR+F6FK7vP65H4XoUru8/exSuR+F6hD97FK5H4XqEP3sUrkfheoQ/exSuR+F6hD97FK5H4XqEP3sUrkfheoQ/exSuR+F6hD97FK5H4XqEP3sUrkfheoQ/exSuR+F6hD97FK5H4XqEP3sUrkfheoQ/exSuR+F6hD97FK5H4XqEP3sUrkfheoQ/exSuR+F6hD97FK5H4XqEP3sUrkfheoQ/exSuR+F6hD97FK5H4XqEP3sUrkfheoQ/exSuR+F6hD97FK5H4XqEP3sUrkfheoQ/exSuR+F6hD97FK5H4XqEP3sUrkfheoQ/exSuR+F6hD97FK5H4XqEP3sUrkfheoQ/exSuR+F6hD8AAAAAAADgPwAAAAAAAOA/AAAAAAAA4D8AAAAAAADgPwAAAAAAAOA/AAAAAAAA4D8AAAAAAADgPwAAAAAAAOA/AAAAAAAA4D8AAAAAAADgPwAAAAAAAOA/AAAAAAAA4D8AAAAAAADgPwAAAAAAAOA/AAAAAAAA4D8AAAAAAADgPwAAAAAAAOA/AAAAAAAA4D8AAAAAAADgPwAAAAAAAOA/AAAAAAAA4D8AAAAAAADgPwAAAAAAAOA/AAAAAAAA4D8AAAAAAADgPwAAAAAAAOA/AAAAAAAA4D8AAAAAAADgPwAAAAAAAOA/AAAAAAAA4D8AAAAAAADgP65H4XoUru8/rkfhehSu7z+uR+F6FK7vP65H4XoUru8/rkfhehSu7z+uR+F6FK7vP65H4XoUru8/rkfhehSu7z+uR+F6FK7vP65H4XoUru8/rkfhehSu7z+uR+F6FK7vP65H4XoUru8/rkfhehSu7z+uR+F6FK7vP65H4XoUru8/rkfhehSu7z+uR+F6FK7vP65H4XoUru8/rkfhehSu7z+uR+F6FK7vP65H4XoUru8/rkfhehSu7z+uR+F6FK7vP65H4XoUru8/rkfhehSu7z+uR+F6FK7vP65H4XoUru8/rkfhehSu7z+uR+F6FK7vP65H4XoUru8/exSuR+F6hD97FK5H4XqEP3sUrkfheoQ/exSuR+F6hD97FK5H4XqEP3sUrkfheoQ/exSuR+F6hD97FK5H4XqEP3sUrkfheoQ/exSuR+F6hD97FK5H4XqEP3sUrkfheoQ/exSuR+F6hD97FK5H4XqEP3sUrkfheoQ/exSuR+F6hD97FK5H4XqEP3sUrkfheoQ/exSuR+F6hD97FK5H4XqEP3sUrkfheoQ/exSuR+F6hD97FK5H4XqEP3sUrkfheoQ/exSuR+F6hD97FK5H4XqEP3sUrkfheoQ/exSuR+F6hD97FK5H4XqEP3sUrkfheoQ/exSuR+F6hD8AAAAAAADgPwAAAAAAAOA/AAAAAAAA4D8AAAAAAADgPwAAAAAAAOA/AAAAAAAA4D8AAAAAAADgPwAAAAAAAOA/AAAAAAAA4D8AAAAAAADgPwAAAAAAAOA/AAAAAAAA4D8AAAAAAADgPwAAAAAAAOA/AAAAAAAA4D8AAAAAAADgPwAAAAAAAOA/AAAAAAAA4D8AAAAAAADgPwAAAAAAAOA/AAAAAAAA4D8AAAAAAADgPwAAAAAAAOA/AAAAAAAA4D8AAAAAAADgPwAAAAAAAOA/AAAAAAAA4D8AAAAAAADgPwAAAAAAAOA/AAAAAAAA4D8AAAAAAADgP65H4XoUru8/rkfhehSu7z+uR+F6FK7vP65H4XoUru8/rkfhehSu7z+uR+F6FK7vP65H4XoUru8/rkfhehSu7z+uR+F6FK7vP65H4XoUru8/rkfhehSu7z+uR+F6FK7vP65H4XoUru8/rkfhehSu7z+uR+F6FK7vP65H4XoUru8/rkfhehSu7z+uR+F6FK7vP65H4XoUru8/rkfhehSu7z+uR+F6FK7vP65H4XoUru8/rkfhehSu7z+uR+F6FK7vP65H4XoUru8/rkfhehSu7z+uR+F6FK7vP65H4XoUru8/rkfhehSu7z+uR+F6FK7vP65H4XoUru8/exSuR+F6hD97FK5H4XqEP3sUrkfheoQ/exSuR+F6hD97FK5H4XqEP3sUrkfheoQ/exSuR+F6hD97FK5H4XqEP3sUrkfheoQ/exSuR+F6hD97FK5H4XqEP3sUrkfheoQ/exSuR+F6hD97FK5H4XqEP3sUrkfheoQ/exSuR+F6hD97FK5H4XqEP3sUrkfheoQ/exSuR+F6hD97FK5H4XqEP3sUrkfheoQ/exSuR+F6hD97FK5H4XqEP3sUrkfheoQ/exSuR+F6hD97FK5H4XqEP3sUrkfheoQ/exSuR+F6hD97FK5H4XqEP3sUrkfheoQ/exSuR+F6hD8AAAAAAADgPwAAAAAAAOA/AAAAAAAA4D8AAAAAAADgPwAAAAAAAOA/AAAAAAAA4D8AAAAAAADgPwAAAAAAAOA/AAAAAAAA4D8AAAAAAADgPwAAAAAAAOA/AAAAAAAA4D8AAAAAAADgPwAAAAAAAOA/AAAAAAAA4D8AAAAAAADgPwAAAAAAAOA/AAAAAAAA4D8AAAAAAADgPwAAAAAAAOA/AAAAAAAA4D8AAAAAAADgPwAAAAAAAOA/AAAAAAAA4D8AAAAAAADgPwAAAAAAAOA/AAAAAAAA4D8AAAAAAADgPwAAAAAAAOA/AAAAAAAA4D8AAAAAAADgP65H4XoUru8/rkfhehSu7z+uR+F6FK7vP65H4XoUru8/rkfhehSu7z+uR+F6FK7vP65H4XoUru8/rkfhehSu7z+uR+F6FK7vP65H4XoUru8/rkfhehSu7z+uR+F6FK7vP65H4XoUru8/rkfhehSu7z+uR+F6FK7vP65H4XoUru8/rkfhehSu7z+uR+F6FK7vP65H4XoUru8/rkfhehSu7z+uR+F6FK7vP65H4XoUru8/rkfhehSu7z+uR+F6FK7vP65H4XoUru8/rkfhehSu7z+uR+F6FK7vP65H4XoUru8/rkfhehSu7z+uR+F6FK7vP65H4XoUru8/exSuR+F6hD97FK5H4XqEP3sUrkfheoQ/exSuR+F6hD97FK5H4XqEP3sUrkfheoQ/exSuR+F6hD97FK5H4XqEP3sUrkfheoQ/exSuR+F6hD97FK5H4XqEP3sUrkfheoQ/exSuR+F6hD97FK5H4XqEP3sUrkfheoQ/exSuR+F6hD97FK5H4XqEP3sUrkfheoQ/exSuR+F6hD97FK5H4XqEP3sUrkfheoQ/exSuR+F6hD97FK5H4XqEP3sUrkfheoQ/exSuR+F6hD97FK5H4XqEP3sUrkfheoQ/exSuR+F6hD97FK5H4XqEP3sUrkfheoQ/exSuR+F6hD8AAAAAAADgPwAAAAAAAOA/AAAAAAAA4D8AAAAAAADgPwAAAAAAAOA/AAAAAAAA4D8AAAAAAADgPwAAAAAAAOA/AAAAAAAA4D8AAAAAAADgPwAAAAAAAOA/AAAAAAAA4D8AAAAAAADgPwAAAAAAAOA/AAAAAAAA4D8AAAAAAADgPwAAAAAAAOA/AAAAAAAA4D8AAAAAAADgPwAAAAAAAOA/AAAAAAAA4D8AAAAAAADgPwAAAAAAAOA/AAAAAAAA4D8AAAAAAADgPwAAAAAAAOA/AAAAAAAA4D8AAAAAAADgPwAAAAAAAOA/AAAAAAAA4D8AAAAAAADgP65H4XoUru8/rkfhehSu7z+uR+F6FK7vP65H4XoUru8/rkfhehSu7z+uR+F6FK7vP65H4XoUru8/rkfhehSu7z+uR+F6FK7vP65H4XoUru8/rkfhehSu7z+uR+F6FK7vP65H4XoUru8/rkfhehSu7z+uR+F6FK7vP65H4XoUru8/rkfhehSu7z+uR+F6FK7vP65H4XoUru8/rkfhehSu7z+uR+F6FK7vP65H4XoUru8/rkfhehSu7z+uR+F6FK7vP65H4XoUru8/rkfhehSu7z+uR+F6FK7vP65H4XoUru8/rkfhehSu7z+uR+F6FK7vP65H4XoUru8/exSuR+F6hD97FK5H4XqEP3sUrkfheoQ/exSuR+F6hD97FK5H4XqEP3sUrkfheoQ/exSuR+F6hD97FK5H4XqEP3sUrkfheoQ/exSuR+F6hD97FK5H4XqEP3sUrkfheoQ/exSuR+F6hD97FK5H4XqEP3sUrkfheoQ/exSuR+F6hD97FK5H4XqEP3sUrkfheoQ/exSuR+F6hD97FK5H4XqEP3sUrkfheoQ/exSuR+F6hD97FK5H4XqEP3sUrkfheoQ/exSuR+F6hD97FK5H4XqEP3sUrkfheoQ/exSuR+F6hD97FK5H4XqEP3sUrkfheoQ/exSuR+F6hD8AAAAAAADgPwAAAAAAAOA/AAAAAAAA4D8AAAAAAADgPwAAAAAAAOA/AAAAAAAA4D8AAAAAAADgPwAAAAAAAOA/AAAAAAAA4D8AAAAAAADgPwAAAAAAAOA/AAAAAAAA4D8AAAAAAADgPwAAAAAAAOA/AAAAAAAA4D8AAAAAAADgPwAAAAAAAOA/AAAAAAAA4D8AAAAAAADgPwAAAAAAAOA/AAAAAAAA4D8AAAAAAADgPwAAAAAAAOA/AAAAAAAA4D8AAAAAAADgPwAAAAAAAOA/AAAAAAAA4D8AAAAAAADgPwAAAAAAAOA/AAAAAAAA4D8AAAAAAADgP65H4XoUru8/rkfhehSu7z+uR+F6FK7vP65H4XoUru8/rkfhehSu7z+uR+F6FK7vP65H4XoUru8/rkfhehSu7z+uR+F6FK7vP65H4XoUru8/rkfhehSu7z+uR+F6FK7vP65H4XoUru8/rkfhehSu7z+uR+F6FK7vP65H4XoUru8/rkfhehSu7z+uR+F6FK7vP65H4XoUru8/rkfhehSu7z+uR+F6FK7vP65H4XoUru8/rkfhehSu7z+uR+F6FK7vP65H4XoUru8/rkfhehSu7z+uR+F6FK7vP65H4XoUru8/rkfhehSu7z+uR+F6FK7vP65H4XoUru8/exSuR+F6hD97FK5H4XqEP3sUrkfheoQ/exSuR+F6hD97FK5H4XqEP3sUrkfheoQ/exSuR+F6hD97FK5H4XqEP3sUrkfheoQ/exSuR+F6hD97FK5H4XqEP3sUrkfheoQ/exSuR+F6hD97FK5H4XqEP3sUrkfheoQ/exSuR+F6hD97FK5H4XqEP3sUrkfheoQ/exSuR+F6hD97FK5H4XqEP3sUrkfheoQ/exSuR+F6hD97FK5H4XqEP3sUrkfheoQ/exSuR+F6hD97FK5H4XqEP3sUrkfheoQ/exSuR+F6hD97FK5H4XqEP3sUrkfheoQ/exSuR+F6hD8AAAAAAADgPwAAAAAAAOA/AAAAAAAA4D8AAAAAAADgPwAAAAAAAOA/AAAAAAAA4D8AAAAAAADgPwAAAAAAAOA/AAAAAAAA4D8AAAAAAADgPwAAAAAAAOA/AAAAAAAA4D8AAAAAAADgPwAAAAAAAOA/AAAAAAAA4D8AAAAAAADgPwAAAAAAAOA/AAAAAAAA4D8AAAAAAADgPwAAAAAAAOA/AAAAAAAA4D8AAAAAAADgPwAAAAAAAOA/AAAAAAAA4D8AAAAAAADgPwAAAAAAAOA/AAAAAAAA4D8AAAAAAADgPwAAAAAAAOA/AAAAAAAA4D8AAAAAAADgP65H4XoUru8/rkfhehSu7z+uR+F6FK7vP65H4XoUru8/rkfhehSu7z+uR+F6FK7vP65H4XoUru8/rkfhehSu7z+uR+F6FK7vP65H4XoUru8/rkfhehSu7z+uR+F6FK7vP65H4XoUru8/rkfhehSu7z+uR+F6FK7vP65H4XoUru8/rkfhehSu7z+uR+F6FK7vP65H4XoUru8/rkfhehSu7z+uR+F6FK7vP65H4XoUru8/rkfhehSu7z+uR+F6FK7vP65H4XoUru8/rkfhehSu7z+uR+F6FK7vP65H4XoUru8/rkfhehSu7z+uR+F6FK7vP65H4XoUru8/exSuR+F6hD97FK5H4XqEP3sUrkfheoQ/exSuR+F6hD97FK5H4XqEP3sUrkfheoQ/exSuR+F6hD97FK5H4XqEP3sUrkfheoQ/exSuR+F6hD97FK5H4XqEP3sUrkfheoQ/exSuR+F6hD97FK5H4XqEP3sUrkfheoQ/exSuR+F6hD97FK5H4XqEP3sUrkfheoQ/exSuR+F6hD97FK5H4XqEP3sUrkfheoQ/exSuR+F6hD97FK5H4XqEP3sUrkfheoQ/exSuR+F6hD97FK5H4XqEP3sUrkfheoQ/exSuR+F6hD97FK5H4XqEP3sUrkfheoQ/exSuR+F6hD8AAAAAAADgPwAAAAAAAOA/AAAAAAAA4D8AAAAAAADgPwAAAAAAAOA/AAAAAAAA4D8AAAAAAADgPwAAAAAAAOA/AAAAAAAA4D8AAAAAAADgPwAAAAAAAOA/AAAAAAAA4D8AAAAAAADgPwAAAAAAAOA/AAAAAAAA4D8AAAAAAADgPwAAAAAAAOA/AAAAAAAA4D8AAAAAAADgPwAAAAAAAOA/AAAAAAAA4D8AAAAAAADgPwAAAAAAAOA/AAAAAAAA4D8AAAAAAADgPwAAAAAAAOA/AAAAAAAA4D8AAAAAAADgPwAAAAAAAOA/AAAAAAAA4D8AAAAAAADgP65H4XoUru8/rkfhehSu7z+uR+F6FK7vP65H4XoUru8/rkfhehSu7z+uR+F6FK7vP65H4XoUru8/rkfhehSu7z+uR+F6FK7vP65H4XoUru8/rkfhehSu7z+uR+F6FK7vP65H4XoUru8/rkfhehSu7z+uR+F6FK7vP65H4XoUru8/rkfhehSu7z+uR+F6FK7vP65H4XoUru8/rkfhehSu7z+uR+F6FK7vP65H4XoUru8/rkfhehSu7z+uR+F6FK7vP65H4XoUru8/rkfhehSu7z+uR+F6FK7vP65H4XoUru8/rkfhehSu7z+uR+F6FK7vP65H4XoUru8/exSuR+F6hD97FK5H4XqEP3sUrkfheoQ/exSuR+F6hD97FK5H4XqEP3sUrkfheoQ/exSuR+F6hD97FK5H4XqEP3sUrkfheoQ/exSuR+F6hD97FK5H4XqEP3sUrkfheoQ/exSuR+F6hD97FK5H4XqEP3sUrkfheoQ/exSuR+F6hD97FK5H4XqEP3sUrkfheoQ/exSuR+F6hD97FK5H4XqEP3sUrkfheoQ/exSuR+F6hD97FK5H4XqEP3sUrkfheoQ/exSuR+F6hD97FK5H4XqEP3sUrkfheoQ/exSuR+F6hD97FK5H4XqEP3sUrkfheoQ/exSuR+F6hD8AAAAAAADgPwAAAAAAAOA/AAAAAAAA4D8AAAAAAADgPwAAAAAAAOA/AAAAAAAA4D8AAAAAAADgPwAAAAAAAOA/AAAAAAAA4D8AAAAAAADgPwAAAAAAAOA/AAAAAAAA4D8AAAAAAADgPwAAAAAAAOA/AAAAAAAA4D8AAAAAAADgPwAAAAAAAOA/AAAAAAAA4D8AAAAAAADgPwAAAAAAAOA/AAAAAAAA4D8AAAAAAADgPwAAAAAAAOA/AAAAAAAA4D8AAAAAAADgPwAAAAAAAOA/AAAAAAAA4D8AAAAAAADgPwAAAAAAAOA/AAAAAAAA4D8AAAAAAADgP65H4XoUru8/rkfhehSu7z+uR+F6FK7vP65H4XoUru8/rkfhehSu7z+uR+F6FK7vP65H4XoUru8/rkfhehSu7z+uR+F6FK7vP65H4XoUru8/rkfhehSu7z+uR+F6FK7vP65H4XoUru8/rkfhehSu7z+uR+F6FK7vP65H4XoUru8/rkfhehSu7z+uR+F6FK7vP65H4XoUru8/rkfhehSu7z+uR+F6FK7vP65H4XoUru8/rkfhehSu7z+uR+F6FK7vP65H4XoUru8/rkfhehSu7z+uR+F6FK7vP65H4XoUru8/rkfhehSu7z+uR+F6FK7vP65H4XoUru8/exSuR+F6hD97FK5H4XqEP3sUrkfheoQ/exSuR+F6hD97FK5H4XqEP3sUrkfheoQ/exSuR+F6hD97FK5H4XqEP3sUrkfheoQ/exSuR+F6hD97FK5H4XqEP3sUrkfheoQ/exSuR+F6hD97FK5H4XqEP3sUrkfheoQ/exSuR+F6hD97FK5H4XqEP3sUrkfheoQ/exSuR+F6hD97FK5H4XqEP3sUrkfheoQ/exSuR+F6hD97FK5H4XqEP3sUrkfheoQ/exSuR+F6hD97FK5H4XqEP3sUrkfheoQ/exSuR+F6hD97FK5H4XqEP3sUrkfheoQ/exSuR+F6hD8AAAAAAADgPwAAAAAAAOA/AAAAAAAA4D8AAAAAAADgPwAAAAAAAOA/AAAAAAAA4D8AAAAAAADgPwAAAAAAAOA/AAAAAAAA4D8AAAAAAADgPwAAAAAAAOA/AAAAAAAA4D8AAAAAAADgPwAAAAAAAOA/AAAAAAAA4D8AAAAAAADgPwAAAAAAAOA/AAAAAAAA4D8AAAAAAADgPwAAAAAAAOA/AAAAAAAA4D8AAAAAAADgPwAAAAAAAOA/AAAAAAAA4D8AAAAAAADgPwAAAAAAAOA/AAAAAAAA4D8AAAAAAADgPwAAAAAAAOA/AAAAAAAA4D8AAAAAAADgP65H4XoUru8/rkfhehSu7z+uR+F6FK7vP65H4XoUru8/rkfhehSu7z+uR+F6FK7vP65H4XoUru8/rkfhehSu7z+uR+F6FK7vP65H4XoUru8/rkfhehSu7z+uR+F6FK7vP65H4XoUru8/rkfhehSu7z+uR+F6FK7vP65H4XoUru8/rkfhehSu7z+uR+F6FK7vP65H4XoUru8/rkfhehSu7z+uR+F6FK7vP65H4XoUru8/rkfhehSu7z+uR+F6FK7vP65H4XoUru8/rkfhehSu7z+uR+F6FK7vP65H4XoUru8/rkfhehSu7z+uR+F6FK7vP65H4XoUru8/\",\"dtype\":\"float64\",\"shape\":[1674]},\"index\":[0,1,2,3,4,5,6,7,8,9,10,11,12,13,14,15,16,17,18,19,20,21,22,23,24,25,26,27,28,29,30,31,32,33,34,35,36,37,38,39,40,41,42,43,44,45,46,47,48,49,50,51,52,53,54,55,56,57,58,59,60,61,62,63,64,65,66,67,68,69,70,71,72,73,74,75,76,77,78,79,80,81,82,83,84,85,86,87,88,89,90,91,92,93,94,95,96,97,98,99,100,101,102,103,104,105,106,107,108,109,110,111,112,113,114,115,116,117,118,119,120,121,122,123,124,125,126,127,128,129,130,131,132,133,134,135,136,137,138,139,140,141,142,143,144,145,146,147,148,149,150,151,152,153,154,155,156,157,158,159,160,161,162,163,164,165,166,167,168,169,170,171,172,173,174,175,176,177,178,179,180,181,182,183,184,185,186,187,188,189,190,191,192,193,194,195,196,197,198,199,200,201,202,203,204,205,206,207,208,209,210,211,212,213,214,215,216,217,218,219,220,221,222,223,224,225,226,227,228,229,230,231,232,233,234,235,236,237,238,239,240,241,242,243,244,245,246,247,248,249,250,251,252,253,254,255,256,257,258,259,260,261,262,263,264,265,266,267,268,269,270,271,272,273,274,275,276,277,278,279,280,281,282,283,284,285,286,287,288,289,290,291,292,293,294,295,296,297,298,299,300,301,302,303,304,305,306,307,308,309,310,311,312,313,314,315,316,317,318,319,320,321,322,323,324,325,326,327,328,329,330,331,332,333,334,335,336,337,338,339,340,341,342,343,344,345,346,347,348,349,350,351,352,353,354,355,356,357,358,359,360,361,362,363,364,365,366,367,368,369,370,371,372,373,374,375,376,377,378,379,380,381,382,383,384,385,386,387,388,389,390,391,392,393,394,395,396,397,398,399,400,401,402,403,404,405,406,407,408,409,410,411,412,413,414,415,416,417,418,419,420,421,422,423,424,425,426,427,428,429,430,431,432,433,434,435,436,437,438,439,440,441,442,443,444,445,446,447,448,449,450,451,452,453,454,455,456,457,458,459,460,461,462,463,464,465,466,467,468,469,470,471,472,473,474,475,476,477,478,479,480,481,482,483,484,485,486,487,488,489,490,491,492,493,494,495,496,497,498,499,500,501,502,503,504,505,506,507,508,509,510,511,512,513,514,515,516,517,518,519,520,521,522,523,524,525,526,527,528,529,530,531,532,533,534,535,536,537,538,539,540,541,542,543,544,545,546,547,548,549,550,551,552,553,554,555,556,557,558,559,560,561,562,563,564,565,566,567,568,569,570,571,572,573,574,575,576,577,578,579,580,581,582,583,584,585,586,587,588,589,590,591,592,593,594,595,596,597,598,599,600,601,602,603,604,605,606,607,608,609,610,611,612,613,614,615,616,617,618,619,620,621,622,623,624,625,626,627,628,629,630,631,632,633,634,635,636,637,638,639,640,641,642,643,644,645,646,647,648,649,650,651,652,653,654,655,656,657,658,659,660,661,662,663,664,665,666,667,668,669,670,671,672,673,674,675,676,677,678,679,680,681,682,683,684,685,686,687,688,689,690,691,692,693,694,695,696,697,698,699,700,701,702,703,704,705,706,707,708,709,710,711,712,713,714,715,716,717,718,719,720,721,722,723,724,725,726,727,728,729,730,731,732,733,734,735,736,737,738,739,740,741,742,743,744,745,746,747,748,749,750,751,752,753,754,755,756,757,758,759,760,761,762,763,764,765,766,767,768,769,770,771,772,773,774,775,776,777,778,779,780,781,782,783,784,785,786,787,788,789,790,791,792,793,794,795,796,797,798,799,800,801,802,803,804,805,806,807,808,809,810,811,812,813,814,815,816,817,818,819,820,821,822,823,824,825,826,827,828,829,830,831,832,833,834,835,836,837,838,839,840,841,842,843,844,845,846,847,848,849,850,851,852,853,854,855,856,857,858,859,860,861,862,863,864,865,866,867,868,869,870,871,872,873,874,875,876,877,878,879,880,881,882,883,884,885,886,887,888,889,890,891,892,893,894,895,896,897,898,899,900,901,902,903,904,905,906,907,908,909,910,911,912,913,914,915,916,917,918,919,920,921,922,923,924,925,926,927,928,929,930,931,932,933,934,935,936,937,938,939,940,941,942,943,944,945,946,947,948,949,950,951,952,953,954,955,956,957,958,959,960,961,962,963,964,965,966,967,968,969,970,971,972,973,974,975,976,977,978,979,980,981,982,983,984,985,986,987,988,989,990,991,992,993,994,995,996,997,998,999,1000,1001,1002,1003,1004,1005,1006,1007,1008,1009,1010,1011,1012,1013,1014,1015,1016,1017,1018,1019,1020,1021,1022,1023,1024,1025,1026,1027,1028,1029,1030,1031,1032,1033,1034,1035,1036,1037,1038,1039,1040,1041,1042,1043,1044,1045,1046,1047,1048,1049,1050,1051,1052,1053,1054,1055,1056,1057,1058,1059,1060,1061,1062,1063,1064,1065,1066,1067,1068,1069,1070,1071,1072,1073,1074,1075,1076,1077,1078,1079,1080,1081,1082,1083,1084,1085,1086,1087,1088,1089,1090,1091,1092,1093,1094,1095,1096,1097,1098,1099,1100,1101,1102,1103,1104,1105,1106,1107,1108,1109,1110,1111,1112,1113,1114,1115,1116,1117,1118,1119,1120,1121,1122,1123,1124,1125,1126,1127,1128,1129,1130,1131,1132,1133,1134,1135,1136,1137,1138,1139,1140,1141,1142,1143,1144,1145,1146,1147,1148,1149,1150,1151,1152,1153,1154,1155,1156,1157,1158,1159,1160,1161,1162,1163,1164,1165,1166,1167,1168,1169,1170,1171,1172,1173,1174,1175,1176,1177,1178,1179,1180,1181,1182,1183,1184,1185,1186,1187,1188,1189,1190,1191,1192,1193,1194,1195,1196,1197,1198,1199,1200,1201,1202,1203,1204,1205,1206,1207,1208,1209,1210,1211,1212,1213,1214,1215,1216,1217,1218,1219,1220,1221,1222,1223,1224,1225,1226,1227,1228,1229,1230,1231,1232,1233,1234,1235,1236,1237,1238,1239,1240,1241,1242,1243,1244,1245,1246,1247,1248,1249,1250,1251,1252,1253,1254,1255,1256,1257,1258,1259,1260,1261,1262,1263,1264,1265,1266,1267,1268,1269,1270,1271,1272,1273,1274,1275,1276,1277,1278,1279,1280,1281,1282,1283,1284,1285,1286,1287,1288,1289,1290,1291,1292,1293,1294,1295,1296,1297,1298,1299,1300,1301,1302,1303,1304,1305,1306,1307,1308,1309,1310,1311,1312,1313,1314,1315,1316,1317,1318,1319,1320,1321,1322,1323,1324,1325,1326,1327,1328,1329,1330,1331,1332,1333,1334,1335,1336,1337,1338,1339,1340,1341,1342,1343,1344,1345,1346,1347,1348,1349,1350,1351,1352,1353,1354,1355,1356,1357,1358,1359,1360,1361,1362,1363,1364,1365,1366,1367,1368,1369,1370,1371,1372,1373,1374,1375,1376,1377,1378,1379,1380,1381,1382,1383,1384,1385,1386,1387,1388,1389,1390,1391,1392,1393,1394,1395,1396,1397,1398,1399,1400,1401,1402,1403,1404,1405,1406,1407,1408,1409,1410,1411,1412,1413,1414,1415,1416,1417,1418,1419,1420,1421,1422,1423,1424,1425,1426,1427,1428,1429,1430,1431,1432,1433,1434,1435,1436,1437,1438,1439,1440,1441,1442,1443,1444,1445,1446,1447,1448,1449,1450,1451,1452,1453,1454,1455,1456,1457,1458,1459,1460,1461,1462,1463,1464,1465,1466,1467,1468,1469,1470,1471,1472,1473,1474,1475,1476,1477,1478,1479,1480,1481,1482,1483,1484,1485,1486,1487,1488,1489,1490,1491,1492,1493,1494,1495,1496,1497,1498,1499,1500,1501,1502,1503,1504,1505,1506,1507,1508,1509,1510,1511,1512,1513,1514,1515,1516,1517,1518,1519,1520,1521,1522,1523,1524,1525,1526,1527,1528,1529,1530,1531,1532,1533,1534,1535,1536,1537,1538,1539,1540,1541,1542,1543,1544,1545,1546,1547,1548,1549,1550,1551,1552,1553,1554,1555,1556,1557,1558,1559,1560,1561,1562,1563,1564,1565,1566,1567,1568,1569,1570,1571,1572,1573,1574,1575,1576,1577,1578,1579,1580,1581,1582,1583,1584,1585,1586,1587,1588,1589,1590,1591,1592,1593,1594,1595,1596,1597,1598,1599,1600,1601,1602,1603,1604,1605,1606,1607,1608,1609,1610,1611,1612,1613,1614,1615,1616,1617,1618,1619,1620,1621,1622,1623,1624,1625,1626,1627,1628,1629,1630,1631,1632,1633,1634,1635,1636,1637,1638,1639,1640,1641,1642,1643,1644,1645,1646,1647,1648,1649,1650,1651,1652,1653,1654,1655,1656,1657,1658,1659,1660,1661,1662,1663,1664,1665,1666,1667,1668,1669,1670,1671,1672,1673],\"l\":{\"__ndarray__\":\"AAAAAAAAJMAAAAAAAAAkwAAAAAAAACTAAAAAAAAAJMAAAAAAAAAkwAAAAAAAACTAAAAAAAAAJMAAAAAAAAAkwAAAAAAAACTAAAAAAAAAJMAAAAAAAAAkwAAAAAAAACTAAAAAAAAAJMAAAAAAAAAkwAAAAAAAACTAAAAAAAAAJMAAAAAAAAAkwAAAAAAAACTAAAAAAAAAJMAAAAAAAAAkwAAAAAAAACTAAAAAAAAAJMAAAAAAAAAkwAAAAAAAACTAAAAAAAAAJMAAAAAAAAAkwAAAAAAAACTAAAAAAAAAJMAAAAAAAAAkwAAAAAAAACTAAAAAAAAAJMAAAAAAAAAkwAAAAAAAACTAAAAAAAAAJMAAAAAAAAAkwAAAAAAAACTAAAAAAAAAJMAAAAAAAAAkwAAAAAAAACTAAAAAAAAAJMAAAAAAAAAkwAAAAAAAACTAAAAAAAAAJMAAAAAAAAAkwAAAAAAAACTAAAAAAAAAJMAAAAAAAAAkwAAAAAAAACTAAAAAAAAAJMAAAAAAAAAkwAAAAAAAACTAAAAAAAAAJMAAAAAAAAAkwAAAAAAAACTAAAAAAAAAJMAAAAAAAAAkwAAAAAAAACTAAAAAAAAAJMAAAAAAAAAkwAAAAAAAACTAAAAAAAAAJMAAAAAAAAAkwAAAAAAAACTAAAAAAAAAJMAAAAAAAAAkwAAAAAAAACTAAAAAAAAAJMAAAAAAAAAkwAAAAAAAACTAAAAAAAAAJMAAAAAAAAAkwAAAAAAAACTAAAAAAAAAJMAAAAAAAAAkwAAAAAAAACTAAAAAAAAAJMAAAAAAAAAkwAAAAAAAACTAAAAAAAAAJMAAAAAAAAAkwAAAAAAAACTAAAAAAAAAJMAAAAAAAAAkwAAAAAAAACTAAAAAAAAAJMAAAAAAAAAkwAAAAAAAACTAAAAAAAAAJMAAAAAAAAAkwAAAAAAAACTAAAAAAAAAJMAAAAAAAAAkwAAAAAAAACTAAAAAAAAAJMAAAAAAAAAkwAAAAAAAACTAAAAAAAAAJMAAAAAAAAAkwAAAAAAAACTAAAAAAAAAJMAAAAAAAAAkwAAAAAAAACTAAAAAAAAAJMAAAAAAAAAkwAAAAAAAACTAAAAAAAAAJMAAAAAAAAAkwAAAAAAAACTAAAAAAAAAJMAAAAAAAAAkwAAAAAAAACTAAAAAAAAAJMAAAAAAAAAkwAAAAAAAACTAAAAAAAAAJMAAAAAAAAAkwAAAAAAAACTAAAAAAAAAJMAAAAAAAAAkwAAAAAAAACTAAAAAAAAAJMAAAAAAAAAkwAAAAAAAACTAAAAAAAAAJMAAAAAAAAAkwAAAAAAAACTAAAAAAAAAJMAAAAAAAAAkwAAAAAAAACTAAAAAAAAAJMAAAAAAAAAkwAAAAAAAACTAAAAAAAAAJMAAAAAAAAAkwAAAAAAAACTAAAAAAAAAJMAAAAAAAAAkwAAAAAAAACTAAAAAAAAAJMAAAAAAAAAkwAAAAAAAACTAAAAAAAAAJMAAAAAAAAAkwAAAAAAAACTAAAAAAAAAJMAAAAAAAAAkwAAAAAAAACTAAAAAAAAAJMAAAAAAAAAkwAAAAAAAACTAAAAAAAAAJMAAAAAAAAAkwAAAAAAAACTAAAAAAAAAJMAAAAAAAAAkwAAAAAAAACTAAAAAAAAAJMAAAAAAAAAkwAAAAAAAACTAAAAAAAAAJMAAAAAAAAAkwAAAAAAAACTAAAAAAAAAJMAAAAAAAAAkwAAAAAAAACTAAAAAAAAAJMAAAAAAAAAkwAAAAAAAACTAAAAAAAAAJMAAAAAAAAAkwAAAAAAAACTAAAAAAAAAJMAAAAAAAAAkwAAAAAAAACTAAAAAAAAAJMAAAAAAAAAkwAAAAAAAACTAAAAAAAAAJMAAAAAAAAAkwAAAAAAAACTAAAAAAAAAJMAAAAAAAAAkwAAAAAAAACTAAAAAAAAAJMAAAAAAAAAkwAAAAAAAACTAAAAAAAAAJMAAAAAAAAAkwAAAAAAAACTAAAAAAAAAJMAAAAAAAAAkwAAAAAAAACTAAAAAAAAAJMAAAAAAAAAkwAAAAAAAACTAAAAAAAAAJMAAAAAAAAAkwAAAAAAAACTAAAAAAAAAJMAAAAAAAAAkwAAAAAAAACTAAAAAAAAAJMAAAAAAAAAkwAAAAAAAACTAAAAAAAAAJMAAAAAAAAAkwAAAAAAAACTAAAAAAAAAJMAAAAAAAAAkwAAAAAAAACTAAAAAAAAAJMAAAAAAAAAkwAAAAAAAACTAAAAAAAAAJMAAAAAAAAAkwAAAAAAAACTAAAAAAAAAJMAAAAAAAAAkwAAAAAAAACTAAAAAAAAAJMAAAAAAAAAkwAAAAAAAACTAAAAAAAAAJMAAAAAAAAAkwAAAAAAAACTAAAAAAAAAJMAAAAAAAAAkwAAAAAAAACTAAAAAAAAAJMAAAAAAAAAkwAAAAAAAACTAAAAAAAAAJMAAAAAAAAAkwAAAAAAAACTAAAAAAAAAJMAAAAAAAAAkwAAAAAAAACTAAAAAAAAAJMAAAAAAAAAkwAAAAAAAACTAAAAAAAAAJMAAAAAAAAAkwAAAAAAAACTAAAAAAAAAJMAAAAAAAAAkwAAAAAAAACTAAAAAAAAAJMAAAAAAAAAkwAAAAAAAACTAAAAAAAAAJMAAAAAAAAAkwAAAAAAAACTAAAAAAAAAJMAAAAAAAAAkwAAAAAAAACTAAAAAAAAAJMAAAAAAAAAkwAAAAAAAACTAAAAAAAAAJMAAAAAAAAAkwAAAAAAAACTAAAAAAAAAJMAAAAAAAAAkwAAAAAAAACTAAAAAAAAAJMAAAAAAAAAkwAAAAAAAACTAAAAAAAAAJMAAAAAAAAAkwAAAAAAAACTAAAAAAAAAJMAAAAAAAAAkwAAAAAAAACTAAAAAAAAAJMAAAAAAAAAkwAAAAAAAACTAAAAAAAAAJMAAAAAAAAAkwAAAAAAAACTAAAAAAAAAJMAAAAAAAAAkwAAAAAAAACTAAAAAAAAAJMAAAAAAAAAkwAAAAAAAACTAAAAAAAAAJMAAAAAAAAAkwAAAAAAAACTAAAAAAAAAJMAAAAAAAAAkwAAAAAAAACTAAAAAAAAAJMAAAAAAAAAkwAAAAAAAACTAAAAAAAAAJMAAAAAAAAAkwAAAAAAAACTAAAAAAAAAJMAAAAAAAAAkwAAAAAAAACTAAAAAAAAAJMAAAAAAAAAkwAAAAAAAACTAAAAAAAAAJMAAAAAAAAAkwAAAAAAAACTAAAAAAAAAJMAAAAAAAAAkwAAAAAAAACTAAAAAAAAAJMAAAAAAAAAkwAAAAAAAACTAAAAAAAAAJMAAAAAAAAAkwAAAAAAAACTAAAAAAAAAJMAAAAAAAAAkwAAAAAAAACTAAAAAAAAAJMAAAAAAAAAkwAAAAAAAACTAAAAAAAAAJMAAAAAAAAAkwAAAAAAAACTAAAAAAAAAJMAAAAAAAAAkwAAAAAAAACTAAAAAAAAAJMAAAAAAAAAkwAAAAAAAACTAAAAAAAAAJMAAAAAAAAAkwAAAAAAAACTAAAAAAAAAJMAAAAAAAAAkwAAAAAAAACTAAAAAAAAAJMAAAAAAAAAkwAAAAAAAACTAAAAAAAAAJMAAAAAAAAAkwAAAAAAAACTAAAAAAAAAJMAAAAAAAAAkwAAAAAAAACTAAAAAAAAAJMAAAAAAAAAkwAAAAAAAACTAAAAAAAAAJMAAAAAAAAAkwAAAAAAAACTAAAAAAAAAJMAAAAAAAAAkwAAAAAAAACTAAAAAAAAAJMAAAAAAAAAkwAAAAAAAACTAAAAAAAAAJMAAAAAAAAAkwAAAAAAAACTAAAAAAAAAJMAAAAAAAAAkwAAAAAAAACTAAAAAAAAAJMAAAAAAAAAkwAAAAAAAACTAAAAAAAAAJMAAAAAAAAAkwAAAAAAAACTAAAAAAAAAJMAAAAAAAAAkwAAAAAAAACTAAAAAAAAAJMAAAAAAAAAkwAAAAAAAACTAAAAAAAAAJMAAAAAAAAAkwAAAAAAAACTAAAAAAAAAJMAAAAAAAAAkwAAAAAAAACTAAAAAAAAAJMAAAAAAAAAkwAAAAAAAACTAAAAAAAAAJMAAAAAAAAAkwAAAAAAAACTAAAAAAAAAJMAAAAAAAAAkwAAAAAAAACTAAAAAAAAAJMAAAAAAAAAkwAAAAAAAACTAAAAAAAAAJMAAAAAAAAAkwAAAAAAAACTAAAAAAAAAJMAAAAAAAAAkwAAAAAAAACTAAAAAAAAAJMAAAAAAAAAkwAAAAAAAACTAAAAAAAAAJMAAAAAAAAAkwAAAAAAAACTAAAAAAAAAJMAAAAAAAAAkwAAAAAAAACTAAAAAAAAAJMAAAAAAAAAkwAAAAAAAACTAAAAAAAAAJMAAAAAAAAAkwAAAAAAAACTAAAAAAAAAJMAAAAAAAAAkwAAAAAAAACTAAAAAAAAAJMAAAAAAAAAkwAAAAAAAACTAAAAAAAAAJMAAAAAAAAAkwAAAAAAAACTAAAAAAAAAJMAAAAAAAAAkwAAAAAAAACTAAAAAAAAAJMAAAAAAAAAkwAAAAAAAACTAAAAAAAAAJMAAAAAAAAAkwAAAAAAAACTAAAAAAAAAJMAAAAAAAAAkwAAAAAAAACTAAAAAAAAAJMAAAAAAAAAkwAAAAAAAACTAAAAAAAAAJMAAAAAAAAAkwAAAAAAAACTAAAAAAAAAJMAAAAAAAAAkwAAAAAAAACTAAAAAAAAAJMAAAAAAAAAkwAAAAAAAACTAAAAAAAAAJMAAAAAAAAAkwAAAAAAAACTAAAAAAAAAJMAAAAAAAAAkwAAAAAAAACTAAAAAAAAAJMAAAAAAAAAkwAAAAAAAACTAAAAAAAAAJMAAAAAAAAAkwAAAAAAAACTAAAAAAAAAJMAAAAAAAAAkwAAAAAAAACTAAAAAAAAAJMAAAAAAAAAkwAAAAAAAACTAAAAAAAAAJMAAAAAAAAAkwAAAAAAAACTAAAAAAAAAJMAAAAAAAAAkwAAAAAAAACTAAAAAAAAAJMAAAAAAAAAkwAAAAAAAACTAAAAAAAAAJMAAAAAAAAAkwAAAAAAAACTAAAAAAAAAJMAAAAAAAAAkwAAAAAAAACTAAAAAAAAAJMAAAAAAAAAkwAAAAAAAACTAAAAAAAAAJMAAAAAAAAAkwAAAAAAAACTAAAAAAAAAJMAAAAAAAAAkwAAAAAAAACTAAAAAAAAAJMAAAAAAAAAkwAAAAAAAACTAAAAAAAAAJMAAAAAAAAAkwAAAAAAAACTAAAAAAAAAJMAAAAAAAAAkwAAAAAAAACTAAAAAAAAAJMAAAAAAAAAkwAAAAAAAACTAAAAAAAAAJMAAAAAAAAAkwAAAAAAAACTAAAAAAAAAJMAAAAAAAAAkwAAAAAAAACTAAAAAAAAAJMAAAAAAAAAkwAAAAAAAACTAAAAAAAAAJMAAAAAAAAAkwAAAAAAAACTAAAAAAAAAJMAAAAAAAAAkwAAAAAAAACTAAAAAAAAAJMAAAAAAAAAkwAAAAAAAACTAAAAAAAAAJMAAAAAAAAAkwAAAAAAAACTAAAAAAAAAJMAAAAAAAAAkwAAAAAAAACTAAAAAAAAAJMAAAAAAAAAkwAAAAAAAACTAAAAAAAAAJMAAAAAAAAAkwAAAAAAAACTAAAAAAAAAJMAAAAAAAAAkwAAAAAAAACTAAAAAAAAAJMAAAAAAAAAkwAAAAAAAACTAAAAAAAAAJMAAAAAAAAAkwAAAAAAAACTAAAAAAAAAJMAAAAAAAAAkwAAAAAAAACTAAAAAAAAAJMAAAAAAAAAkwAAAAAAAACTAAAAAAAAAJMAAAAAAAAAkwAAAAAAAACTAAAAAAAAAJMAAAAAAAAAkwAAAAAAAACTAAAAAAAAAJMAAAAAAAAAkwAAAAAAAACTAAAAAAAAAJMAAAAAAAAAkwAAAAAAAACTAAAAAAAAAJMAAAAAAAAAkwAAAAAAAACTAAAAAAAAAJMAAAAAAAAAkwAAAAAAAACTAAAAAAAAAJMAAAAAAAAAkwAAAAAAAACTAAAAAAAAAJMAAAAAAAAAkwAAAAAAAACTAAAAAAAAAJMAAAAAAAAAkwAAAAAAAACTAAAAAAAAAJMAAAAAAAAAkwAAAAAAAACTAAAAAAAAAJMAAAAAAAAAkwAAAAAAAACTAAAAAAAAAJMAAAAAAAAAkwAAAAAAAACTAAAAAAAAAJMAAAAAAAAAkwAAAAAAAACTAAAAAAAAAJMAAAAAAAAAkwAAAAAAAACTAAAAAAAAAJMAAAAAAAAAkwAAAAAAAACTAAAAAAAAAJMAAAAAAAAAkwAAAAAAAACTAAAAAAAAAJMAAAAAAAAAkwAAAAAAAACTAAAAAAAAAJMAAAAAAAAAkwAAAAAAAACTAAAAAAAAAJMAAAAAAAAAkwAAAAAAAACTAAAAAAAAAJMAAAAAAAAAkwAAAAAAAACTAAAAAAAAAJMAAAAAAAAAkwAAAAAAAACTAAAAAAAAAJMAAAAAAAAAkwAAAAAAAACTAAAAAAAAAJMAAAAAAAAAkwAAAAAAAACTAAAAAAAAAJMAAAAAAAAAkwAAAAAAAACTAAAAAAAAAJMAAAAAAAAAkwAAAAAAAACTAAAAAAAAAJMAAAAAAAAAkwAAAAAAAACTAAAAAAAAAJMAAAAAAAAAkwAAAAAAAACTAAAAAAAAAJMAAAAAAAAAkwAAAAAAAACTAAAAAAAAAJMAAAAAAAAAkwAAAAAAAACTAAAAAAAAAJMAAAAAAAAAkwAAAAAAAACTAAAAAAAAAJMAAAAAAAAAkwAAAAAAAACTAAAAAAAAAJMAAAAAAAAAkwAAAAAAAACTAAAAAAAAAJMAAAAAAAAAkwAAAAAAAACTAAAAAAAAAJMAAAAAAAAAkwAAAAAAAACTAAAAAAAAAJMAAAAAAAAAkwAAAAAAAACTAAAAAAAAAJMAAAAAAAAAkwAAAAAAAACTAAAAAAAAAJMAAAAAAAAAkwAAAAAAAACTAAAAAAAAAJMAAAAAAAAAkwAAAAAAAACTAAAAAAAAAJMAAAAAAAAAkwAAAAAAAACTAAAAAAAAAJMAAAAAAAAAkwAAAAAAAACTAAAAAAAAAJMAAAAAAAAAkwAAAAAAAACTAAAAAAAAAJMAAAAAAAAAkwAAAAAAAACTAAAAAAAAAJMAAAAAAAAAkwAAAAAAAACTAAAAAAAAAJMAAAAAAAAAkwAAAAAAAACTAAAAAAAAAJMAAAAAAAAAkwAAAAAAAACTAAAAAAAAAJMAAAAAAAAAkwAAAAAAAACTAAAAAAAAAJMAAAAAAAAAkwAAAAAAAACTAAAAAAAAAJMAAAAAAAAAkwAAAAAAAACTAAAAAAAAAJMAAAAAAAAAkwAAAAAAAACTAAAAAAAAAJMAAAAAAAAAkwAAAAAAAACTAAAAAAAAAJMAAAAAAAAAkwAAAAAAAACTAAAAAAAAAJMAAAAAAAAAkwAAAAAAAACTAAAAAAAAAJMAAAAAAAAAkwAAAAAAAACTAAAAAAAAAJMAAAAAAAAAkwAAAAAAAACTAAAAAAAAAJMAAAAAAAAAkwAAAAAAAACTAAAAAAAAAJMAAAAAAAAAkwAAAAAAAACTAAAAAAAAAJMAAAAAAAAAkwAAAAAAAACTAAAAAAAAAJMAAAAAAAAAkwAAAAAAAACTAAAAAAAAAJMAAAAAAAAAkwAAAAAAAACTAAAAAAAAAJMAAAAAAAAAkwAAAAAAAACTAAAAAAAAAJMAAAAAAAAAkwAAAAAAAACTAAAAAAAAAJMAAAAAAAAAkwAAAAAAAACTAAAAAAAAAJMAAAAAAAAAkwAAAAAAAACTAAAAAAAAAJMAAAAAAAAAkwAAAAAAAACTAAAAAAAAAJMAAAAAAAAAkwAAAAAAAACTAAAAAAAAAJMAAAAAAAAAkwAAAAAAAACTAAAAAAAAAJMAAAAAAAAAkwAAAAAAAACTAAAAAAAAAJMAAAAAAAAAkwAAAAAAAACTAAAAAAAAAJMAAAAAAAAAkwAAAAAAAACTAAAAAAAAAJMAAAAAAAAAkwAAAAAAAACTAAAAAAAAAJMAAAAAAAAAkwAAAAAAAACTAAAAAAAAAJMAAAAAAAAAkwAAAAAAAACTAAAAAAAAAJMAAAAAAAAAkwAAAAAAAACTAAAAAAAAAJMAAAAAAAAAkwAAAAAAAACTAAAAAAAAAJMAAAAAAAAAkwAAAAAAAACTAAAAAAAAAJMAAAAAAAAAkwAAAAAAAACTAAAAAAAAAJMAAAAAAAAAkwAAAAAAAACTAAAAAAAAAJMAAAAAAAAAkwAAAAAAAACTAAAAAAAAAJMAAAAAAAAAkwAAAAAAAACTAAAAAAAAAJMAAAAAAAAAkwAAAAAAAACTAAAAAAAAAJMAAAAAAAAAkwAAAAAAAACTAAAAAAAAAJMAAAAAAAAAkwAAAAAAAACTAAAAAAAAAJMAAAAAAAAAkwAAAAAAAACTAAAAAAAAAJMAAAAAAAAAkwAAAAAAAACTAAAAAAAAAJMAAAAAAAAAkwAAAAAAAACTAAAAAAAAAJMAAAAAAAAAkwAAAAAAAACTAAAAAAAAAJMAAAAAAAAAkwAAAAAAAACTAAAAAAAAAJMAAAAAAAAAkwAAAAAAAACTAAAAAAAAAJMAAAAAAAAAkwAAAAAAAACTAAAAAAAAAJMAAAAAAAAAkwAAAAAAAACTAAAAAAAAAJMAAAAAAAAAkwAAAAAAAACTAAAAAAAAAJMAAAAAAAAAkwAAAAAAAACTAAAAAAAAAJMAAAAAAAAAkwAAAAAAAACTAAAAAAAAAJMAAAAAAAAAkwAAAAAAAACTAAAAAAAAAJMAAAAAAAAAkwAAAAAAAACTAAAAAAAAAJMAAAAAAAAAkwAAAAAAAACTAAAAAAAAAJMAAAAAAAAAkwAAAAAAAACTAAAAAAAAAJMAAAAAAAAAkwAAAAAAAACTAAAAAAAAAJMAAAAAAAAAkwAAAAAAAACTAAAAAAAAAJMAAAAAAAAAkwAAAAAAAACTAAAAAAAAAJMAAAAAAAAAkwAAAAAAAACTAAAAAAAAAJMAAAAAAAAAkwAAAAAAAACTAAAAAAAAAJMAAAAAAAAAkwAAAAAAAACTAAAAAAAAAJMAAAAAAAAAkwAAAAAAAACTAAAAAAAAAJMAAAAAAAAAkwAAAAAAAACTAAAAAAAAAJMAAAAAAAAAkwAAAAAAAACTAAAAAAAAAJMAAAAAAAAAkwAAAAAAAACTAAAAAAAAAJMAAAAAAAAAkwAAAAAAAACTAAAAAAAAAJMAAAAAAAAAkwAAAAAAAACTAAAAAAAAAJMAAAAAAAAAkwAAAAAAAACTAAAAAAAAAJMAAAAAAAAAkwAAAAAAAACTAAAAAAAAAJMAAAAAAAAAkwAAAAAAAACTAAAAAAAAAJMAAAAAAAAAkwAAAAAAAACTAAAAAAAAAJMAAAAAAAAAkwAAAAAAAACTAAAAAAAAAJMAAAAAAAAAkwAAAAAAAACTAAAAAAAAAJMAAAAAAAAAkwAAAAAAAACTAAAAAAAAAJMAAAAAAAAAkwAAAAAAAACTAAAAAAAAAJMAAAAAAAAAkwAAAAAAAACTAAAAAAAAAJMAAAAAAAAAkwAAAAAAAACTAAAAAAAAAJMAAAAAAAAAkwAAAAAAAACTAAAAAAAAAJMAAAAAAAAAkwAAAAAAAACTAAAAAAAAAJMAAAAAAAAAkwAAAAAAAACTAAAAAAAAAJMAAAAAAAAAkwAAAAAAAACTAAAAAAAAAJMAAAAAAAAAkwAAAAAAAACTAAAAAAAAAJMAAAAAAAAAkwAAAAAAAACTAAAAAAAAAJMAAAAAAAAAkwAAAAAAAACTAAAAAAAAAJMAAAAAAAAAkwAAAAAAAACTAAAAAAAAAJMAAAAAAAAAkwAAAAAAAACTAAAAAAAAAJMAAAAAAAAAkwAAAAAAAACTAAAAAAAAAJMAAAAAAAAAkwAAAAAAAACTAAAAAAAAAJMAAAAAAAAAkwAAAAAAAACTAAAAAAAAAJMAAAAAAAAAkwAAAAAAAACTAAAAAAAAAJMAAAAAAAAAkwAAAAAAAACTAAAAAAAAAJMAAAAAAAAAkwAAAAAAAACTAAAAAAAAAJMAAAAAAAAAkwAAAAAAAACTAAAAAAAAAJMAAAAAAAAAkwAAAAAAAACTAAAAAAAAAJMAAAAAAAAAkwAAAAAAAACTAAAAAAAAAJMAAAAAAAAAkwAAAAAAAACTAAAAAAAAAJMAAAAAAAAAkwAAAAAAAACTAAAAAAAAAJMAAAAAAAAAkwAAAAAAAACTAAAAAAAAAJMAAAAAAAAAkwAAAAAAAACTAAAAAAAAAJMAAAAAAAAAkwAAAAAAAACTAAAAAAAAAJMAAAAAAAAAkwAAAAAAAACTAAAAAAAAAJMAAAAAAAAAkwAAAAAAAACTAAAAAAAAAJMAAAAAAAAAkwAAAAAAAACTAAAAAAAAAJMAAAAAAAAAkwAAAAAAAACTAAAAAAAAAJMAAAAAAAAAkwAAAAAAAACTAAAAAAAAAJMAAAAAAAAAkwAAAAAAAACTAAAAAAAAAJMAAAAAAAAAkwAAAAAAAACTAAAAAAAAAJMAAAAAAAAAkwAAAAAAAACTAAAAAAAAAJMAAAAAAAAAkwAAAAAAAACTAAAAAAAAAJMAAAAAAAAAkwAAAAAAAACTAAAAAAAAAJMAAAAAAAAAkwAAAAAAAACTAAAAAAAAAJMAAAAAAAAAkwAAAAAAAACTAAAAAAAAAJMAAAAAAAAAkwAAAAAAAACTAAAAAAAAAJMAAAAAAAAAkwAAAAAAAACTAAAAAAAAAJMAAAAAAAAAkwAAAAAAAACTAAAAAAAAAJMAAAAAAAAAkwAAAAAAAACTAAAAAAAAAJMAAAAAAAAAkwAAAAAAAACTAAAAAAAAAJMAAAAAAAAAkwAAAAAAAACTAAAAAAAAAJMAAAAAAAAAkwAAAAAAAACTAAAAAAAAAJMAAAAAAAAAkwAAAAAAAACTAAAAAAAAAJMAAAAAAAAAkwAAAAAAAACTAAAAAAAAAJMAAAAAAAAAkwAAAAAAAACTAAAAAAAAAJMAAAAAAAAAkwAAAAAAAACTAAAAAAAAAJMAAAAAAAAAkwAAAAAAAACTAAAAAAAAAJMAAAAAAAAAkwAAAAAAAACTAAAAAAAAAJMAAAAAAAAAkwAAAAAAAACTAAAAAAAAAJMAAAAAAAAAkwAAAAAAAACTAAAAAAAAAJMAAAAAAAAAkwAAAAAAAACTAAAAAAAAAJMAAAAAAAAAkwAAAAAAAACTAAAAAAAAAJMAAAAAAAAAkwAAAAAAAACTAAAAAAAAAJMAAAAAAAAAkwAAAAAAAACTAAAAAAAAAJMAAAAAAAAAkwAAAAAAAACTAAAAAAAAAJMAAAAAAAAAkwAAAAAAAACTAAAAAAAAAJMAAAAAAAAAkwAAAAAAAACTAAAAAAAAAJMAAAAAAAAAkwAAAAAAAACTAAAAAAAAAJMAAAAAAAAAkwAAAAAAAACTAAAAAAAAAJMAAAAAAAAAkwAAAAAAAACTAAAAAAAAAJMAAAAAAAAAkwAAAAAAAACTAAAAAAAAAJMAAAAAAAAAkwAAAAAAAACTAAAAAAAAAJMAAAAAAAAAkwAAAAAAAACTAAAAAAAAAJMAAAAAAAAAkwAAAAAAAACTAAAAAAAAAJMAAAAAAAAAkwAAAAAAAACTAAAAAAAAAJMAAAAAAAAAkwAAAAAAAACTAAAAAAAAAJMAAAAAAAAAkwAAAAAAAACTAAAAAAAAAJMAAAAAAAAAkwAAAAAAAACTAAAAAAAAAJMAAAAAAAAAkwAAAAAAAACTAAAAAAAAAJMAAAAAAAAAkwAAAAAAAACTAAAAAAAAAJMAAAAAAAAAkwAAAAAAAACTAAAAAAAAAJMAAAAAAAAAkwAAAAAAAACTAAAAAAAAAJMAAAAAAAAAkwAAAAAAAACTAAAAAAAAAJMAAAAAAAAAkwAAAAAAAACTAAAAAAAAAJMAAAAAAAAAkwAAAAAAAACTAAAAAAAAAJMAAAAAAAAAkwAAAAAAAACTAAAAAAAAAJMAAAAAAAAAkwAAAAAAAACTAAAAAAAAAJMAAAAAAAAAkwAAAAAAAACTAAAAAAAAAJMAAAAAAAAAkwAAAAAAAACTAAAAAAAAAJMAAAAAAAAAkwAAAAAAAACTAAAAAAAAAJMAAAAAAAAAkwAAAAAAAACTAAAAAAAAAJMAAAAAAAAAkwAAAAAAAACTAAAAAAAAAJMAAAAAAAAAkwAAAAAAAACTAAAAAAAAAJMAAAAAAAAAkwAAAAAAAACTAAAAAAAAAJMAAAAAAAAAkwAAAAAAAACTAAAAAAAAAJMAAAAAAAAAkwAAAAAAAACTAAAAAAAAAJMAAAAAAAAAkwAAAAAAAACTAAAAAAAAAJMAAAAAAAAAkwAAAAAAAACTAAAAAAAAAJMAAAAAAAAAkwAAAAAAAACTAAAAAAAAAJMAAAAAAAAAkwAAAAAAAACTAAAAAAAAAJMAAAAAAAAAkwAAAAAAAACTAAAAAAAAAJMAAAAAAAAAkwAAAAAAAACTAAAAAAAAAJMAAAAAAAAAkwAAAAAAAACTAAAAAAAAAJMAAAAAAAAAkwAAAAAAAACTAAAAAAAAAJMAAAAAAAAAkwAAAAAAAACTAAAAAAAAAJMAAAAAAAAAkwAAAAAAAACTAAAAAAAAAJMAAAAAAAAAkwAAAAAAAACTAAAAAAAAAJMAAAAAAAAAkwAAAAAAAACTAAAAAAAAAJMAAAAAAAAAkwAAAAAAAACTAAAAAAAAAJMAAAAAAAAAkwAAAAAAAACTAAAAAAAAAJMAAAAAAAAAkwAAAAAAAACTAAAAAAAAAJMAAAAAAAAAkwAAAAAAAACTAAAAAAAAAJMAAAAAAAAAkwAAAAAAAACTAAAAAAAAAJMAAAAAAAAAkwAAAAAAAACTAAAAAAAAAJMAAAAAAAAAkwAAAAAAAACTAAAAAAAAAJMAAAAAAAAAkwAAAAAAAACTAAAAAAAAAJMAAAAAAAAAkwAAAAAAAACTAAAAAAAAAJMAAAAAAAAAkwAAAAAAAACTAAAAAAAAAJMAAAAAAAAAkwAAAAAAAACTAAAAAAAAAJMAAAAAAAAAkwAAAAAAAACTAAAAAAAAAJMAAAAAAAAAkwAAAAAAAACTAAAAAAAAAJMAAAAAAAAAkwAAAAAAAACTAAAAAAAAAJMAAAAAAAAAkwAAAAAAAACTAAAAAAAAAJMAAAAAAAAAkwAAAAAAAACTAAAAAAAAAJMAAAAAAAAAkwAAAAAAAACTAAAAAAAAAJMAAAAAAAAAkwAAAAAAAACTAAAAAAAAAJMAAAAAAAAAkwAAAAAAAACTAAAAAAAAAJMAAAAAAAAAkwAAAAAAAACTAAAAAAAAAJMAAAAAAAAAkwAAAAAAAACTAAAAAAAAAJMAAAAAAAAAkwAAAAAAAACTAAAAAAAAAJMAAAAAAAAAkwAAAAAAAACTAAAAAAAAAJMAAAAAAAAAkwAAAAAAAACTAAAAAAAAAJMAAAAAAAAAkwAAAAAAAACTAAAAAAAAAJMAAAAAAAAAkwAAAAAAAACTAAAAAAAAAJMAAAAAAAAAkwAAAAAAAACTAAAAAAAAAJMAAAAAAAAAkwAAAAAAAACTAAAAAAAAAJMAAAAAAAAAkwAAAAAAAACTAAAAAAAAAJMAAAAAAAAAkwAAAAAAAACTAAAAAAAAAJMAAAAAAAAAkwAAAAAAAACTAAAAAAAAAJMAAAAAAAAAkwAAAAAAAACTAAAAAAAAAJMAAAAAAAAAkwAAAAAAAACTAAAAAAAAAJMAAAAAAAAAkwAAAAAAAACTAAAAAAAAAJMAAAAAAAAAkwAAAAAAAACTAAAAAAAAAJMAAAAAAAAAkwAAAAAAAACTAAAAAAAAAJMAAAAAAAAAkwAAAAAAAACTAAAAAAAAAJMAAAAAAAAAkwAAAAAAAACTAAAAAAAAAJMAAAAAAAAAkwAAAAAAAACTAAAAAAAAAJMAAAAAAAAAkwAAAAAAAACTAAAAAAAAAJMAAAAAAAAAkwAAAAAAAACTAAAAAAAAAJMAAAAAAAAAkwAAAAAAAACTAAAAAAAAAJMAAAAAAAAAkwAAAAAAAACTAAAAAAAAAJMAAAAAAAAAkwAAAAAAAACTAAAAAAAAAJMAAAAAAAAAkwAAAAAAAACTAAAAAAAAAJMAAAAAAAAAkwAAAAAAAACTAAAAAAAAAJMAAAAAAAAAkwAAAAAAAACTAAAAAAAAAJMAAAAAAAAAkwAAAAAAAACTAAAAAAAAAJMAAAAAAAAAkwAAAAAAAACTAAAAAAAAAJMAAAAAAAAAkwAAAAAAAACTAAAAAAAAAJMAAAAAAAAAkwAAAAAAAACTAAAAAAAAAJMAAAAAAAAAkwAAAAAAAACTAAAAAAAAAJMAAAAAAAAAkwAAAAAAAACTAAAAAAAAAJMAAAAAAAAAkwAAAAAAAACTAAAAAAAAAJMAAAAAAAAAkwAAAAAAAACTAAAAAAAAAJMAAAAAAAAAkwAAAAAAAACTAAAAAAAAAJMAAAAAAAAAkwAAAAAAAACTAAAAAAAAAJMAAAAAAAAAkwAAAAAAAACTAAAAAAAAAJMAAAAAAAAAkwAAAAAAAACTAAAAAAAAAJMAAAAAAAAAkwAAAAAAAACTAAAAAAAAAJMAAAAAAAAAkwAAAAAAAACTAAAAAAAAAJMAAAAAAAAAkwAAAAAAAACTAAAAAAAAAJMAAAAAAAAAkwAAAAAAAACTAAAAAAAAAJMAAAAAAAAAkwAAAAAAAACTAAAAAAAAAJMAAAAAAAAAkwAAAAAAAACTAAAAAAAAAJMAAAAAAAAAkwAAAAAAAACTAAAAAAAAAJMAAAAAAAAAkwAAAAAAAACTAAAAAAAAAJMAAAAAAAAAkwAAAAAAAACTAAAAAAAAAJMAAAAAAAAAkwAAAAAAAACTAAAAAAAAAJMAAAAAAAAAkwAAAAAAAACTAAAAAAAAAJMAAAAAAAAAkwAAAAAAAACTAAAAAAAAAJMAAAAAAAAAkwAAAAAAAACTAAAAAAAAAJMAAAAAAAAAkwAAAAAAAACTAAAAAAAAAJMAAAAAAAAAkwAAAAAAAACTAAAAAAAAAJMAAAAAAAAAkwAAAAAAAACTAAAAAAAAAJMAAAAAAAAAkwAAAAAAAACTAAAAAAAAAJMAAAAAAAAAkwAAAAAAAACTAAAAAAAAAJMAAAAAAAAAkwAAAAAAAACTAAAAAAAAAJMAAAAAAAAAkwAAAAAAAACTAAAAAAAAAJMAAAAAAAAAkwAAAAAAAACTAAAAAAAAAJMAAAAAAAAAkwAAAAAAAACTAAAAAAAAAJMAAAAAAAAAkwAAAAAAAACTAAAAAAAAAJMAAAAAAAAAkwAAAAAAAACTAAAAAAAAAJMAAAAAAAAAkwAAAAAAAACTAAAAAAAAAJMAAAAAAAAAkwAAAAAAAACTAAAAAAAAAJMAAAAAAAAAkwAAAAAAAACTAAAAAAAAAJMAAAAAAAAAkwAAAAAAAACTAAAAAAAAAJMAAAAAAAAAkwAAAAAAAACTAAAAAAAAAJMAAAAAAAAAkwAAAAAAAACTAAAAAAAAAJMAAAAAAAAAkwAAAAAAAACTAAAAAAAAAJMAAAAAAAAAkwAAAAAAAACTAAAAAAAAAJMAAAAAAAAAkwAAAAAAAACTAAAAAAAAAJMAAAAAAAAAkwAAAAAAAACTAAAAAAAAAJMAAAAAAAAAkwAAAAAAAACTAAAAAAAAAJMAAAAAAAAAkwAAAAAAAACTAAAAAAAAAJMAAAAAAAAAkwAAAAAAAACTAAAAAAAAAJMAAAAAAAAAkwAAAAAAAACTAAAAAAAAAJMAAAAAAAAAkwAAAAAAAACTAAAAAAAAAJMAAAAAAAAAkwAAAAAAAACTAAAAAAAAAJMAAAAAAAAAkwAAAAAAAACTAAAAAAAAAJMAAAAAAAAAkwAAAAAAAACTAAAAAAAAAJMAAAAAAAAAkwAAAAAAAACTAAAAAAAAAJMAAAAAAAAAkwAAAAAAAACTAAAAAAAAAJMAAAAAAAAAkwAAAAAAAACTAAAAAAAAAJMAAAAAAAAAkwAAAAAAAACTAAAAAAAAAJMAAAAAAAAAkwAAAAAAAACTAAAAAAAAAJMAAAAAAAAAkwAAAAAAAACTAAAAAAAAAJMAAAAAAAAAkwAAAAAAAACTAAAAAAAAAJMAAAAAAAAAkwAAAAAAAACTAAAAAAAAAJMAAAAAAAAAkwAAAAAAAACTAAAAAAAAAJMAAAAAAAAAkwAAAAAAAACTAAAAAAAAAJMAAAAAAAAAkwAAAAAAAACTAAAAAAAAAJMAAAAAAAAAkwAAAAAAAACTAAAAAAAAAJMAAAAAAAAAkwAAAAAAAACTAAAAAAAAAJMAAAAAAAAAkwAAAAAAAACTAAAAAAAAAJMAAAAAAAAAkwAAAAAAAACTAAAAAAAAAJMAAAAAAAAAkwAAAAAAAACTAAAAAAAAAJMAAAAAAAAAkwAAAAAAAACTAAAAAAAAAJMAAAAAAAAAkwAAAAAAAACTAAAAAAAAAJMAAAAAAAAAkwAAAAAAAACTAAAAAAAAAJMAAAAAAAAAkwAAAAAAAACTAAAAAAAAAJMAAAAAAAAAkwAAAAAAAACTAAAAAAAAAJMAAAAAAAAAkwAAAAAAAACTAAAAAAAAAJMAAAAAAAAAkwAAAAAAAACTAAAAAAAAAJMAAAAAAAAAkwAAAAAAAACTAAAAAAAAAJMAAAAAAAAAkwAAAAAAAACTAAAAAAAAAJMAAAAAAAAAkwAAAAAAAACTAAAAAAAAAJMAAAAAAAAAkwAAAAAAAACTAAAAAAAAAJMAAAAAAAAAkwAAAAAAAACTAAAAAAAAAJMAAAAAAAAAkwAAAAAAAACTAAAAAAAAAJMAAAAAAAAAkwAAAAAAAACTAAAAAAAAAJMAAAAAAAAAkwAAAAAAAACTAAAAAAAAAJMAAAAAAAAAkwAAAAAAAACTAAAAAAAAAJMAAAAAAAAAkwAAAAAAAACTAAAAAAAAAJMAAAAAAAAAkwAAAAAAAACTAAAAAAAAAJMAAAAAAAAAkwAAAAAAAACTAAAAAAAAAJMAAAAAAAAAkwAAAAAAAACTAAAAAAAAAJMAAAAAAAAAkwAAAAAAAACTAAAAAAAAAJMAAAAAAAAAkwAAAAAAAACTAAAAAAAAAJMAAAAAAAAAkwAAAAAAAACTAAAAAAAAAJMAAAAAAAAAkwAAAAAAAACTAAAAAAAAAJMAAAAAAAAAkwAAAAAAAACTAAAAAAAAAJMAAAAAAAAAkwAAAAAAAACTAAAAAAAAAJMAAAAAAAAAkwAAAAAAAACTAAAAAAAAAJMAAAAAAAAAkwAAAAAAAACTAAAAAAAAAJMAAAAAAAAAkwAAAAAAAACTAAAAAAAAAJMAAAAAAAAAkwAAAAAAAACTAAAAAAAAAJMAAAAAAAAAkwAAAAAAAACTAAAAAAAAAJMAAAAAAAAAkwAAAAAAAACTAAAAAAAAAJMAAAAAAAAAkwAAAAAAAACTAAAAAAAAAJMAAAAAAAAAkwAAAAAAAACTAAAAAAAAAJMAAAAAAAAAkwAAAAAAAACTAAAAAAAAAJMAAAAAAAAAkwAAAAAAAACTAAAAAAAAAJMAAAAAAAAAkwAAAAAAAACTAAAAAAAAAJMAAAAAAAAAkwAAAAAAAACTAAAAAAAAAJMAAAAAAAAAkwAAAAAAAACTAAAAAAAAAJMAAAAAAAAAkwAAAAAAAACTAAAAAAAAAJMAAAAAAAAAkwAAAAAAAACTAAAAAAAAAJMAAAAAAAAAkwAAAAAAAACTA\",\"dtype\":\"float64\",\"shape\":[1674]},\"phs_pchg\":{\"__ndarray__\":\"AAAAAAAAAAAAAAAAAAAAAAAAAAAAAAAAAAAAAAAAAAAAAAAAAAAAAAAAAAAAAAAAAAAAAAAAAAAAAAAAAAAAAAAAAAAAAAAAAAAAAAAAAAAAAAAAAAAAAAAAAAAAAAAAAAAAAAAAAAAAAAAAAAAAAAAAAAAAAAAAAAAAAAAAAAAAAAAAAAAAAAAAAAAAAAAAAAAAAAAAAAAAAAAAAAAAAAAAAAAAAAAAAAAAAAAAAAAAAAAAAAAAAAAAAAAAAAAAAAAAAAAAAAAAAAAAAAAAAAAAAAAAAAAAAAAAAAAAAAAAAAAAAAAAAAAAAAAAAAAAAAAAAAAAAAAAAAAAAAAAAAAAAAAAAAAAAAAAAAAAAAAAAAAAAAAAAAAAAAAAAAAAAAAAAAAAAAAAAAAAAAAAAAAAAAAAAAAAAAAAAAAAAAAAAAAAAAAAAAAAAAAAAAAAAAAAAAAAAAAAAAAAAAAAAAAAAAAAAAAAAAAAAAAAAAAAAAAAAAAAAAAAAAAAAAAAAAAAAAAAAAAAAAAAAAAAAAAAAAAAAAAAAAAAAAAAAAAAAAAAAAAAAAAAAAAAAAAAAAAAAAAAAAAAAAAAAAAAAAAAAAAAAAAAAAAAAAAAAAAAAAAAAAAAAAAAAAAAAAAAAAAAAAAAAAAAAAAAAAAAAAAAAAAAAAAAAAAAAAAAAAAAAAAAAAAAAAAAAAAAAAAAAAAAAAAAAAAAAAAAAAAAAAAAAAAAAAAAAAAAAAAAAAAAAAAAAAAAAAAAAAAAAAAAAAAAAAAAAAAAAAAAAAAAAAAAAAAAAAAAAAAAAAAAAAAAAAAAAAAAAAAAAAAAAAAAAAAAAAAAAAAAAAAAAAAAAAAAAAAAAAAAAAAAAAAAAAAAAAAAAAAAAAAAAAAAAAAAAAAAAAAAAAAAAAAAAAAAAAAAAAAAAAAAAAAAAAAAAAAAAAAAAAAAAAAAAAAAAAAAAAAAAAAAAAAAAAAAAAAAAAAAAAAAAAAAAAAAAAAAAAAAAAAAAAAAAAAAAAAAAAAAAAAAAAAAAAAAAAAAAAAAAAAAAAAAAAAAAAAAAAAAAAAAAAAAAAAAAAAAAAAAAAAAAAAAAAAAAAAAAAAAAAAAAAAAAAAAAAAAAAAAAAAAAAAAAAAAAAAAAAAAAAAAAAAAAAAAAAAAAAAAAAAAAAAAAAAAAAAAAAAAAAAAAAAAAAAAAAAAAAAAAAAAAAAAAAAAAAAAAAAAAAAAAAAAAAAAAAAAAAAAAAAAAAAAAAAAAAAAAAAAAAAAAAAAAAAAAAAAAAAAAAAAAAAAAAAAAAAAAAAAAAAAAAAAAAAAAAAAAAAAAAAAAAAAAAAAAAAAAAAAAAAAAAAAAAAAAAAAAAAAAAAAAAAAAAAAAAAAAAAAAAAAAAAAAAAAAAAAAAAAAAAAAAAAAAAAAAAAAAAAAAAAAAAAAAAAAAAAAAAAAAAAAAAAAAAAAAAAAAAAAAAAAAAAAAAAAAAAAAAAAAAAAAAAAAAAAAAAAAAAAAAAAAAAAAAAAAAAAAAAAAAAAAAAAAAAAAAAAAAAAAAAAAAAAAAAAAAAAAAAAAAAAAAAAAAAAAAAAAAAAAAAAAAAAAAAAAAAAAAAAAAAAAAAAAAAAAAAAAAAAAAAAAAAAAAAAAAAAAAAAAAAAAAAAAAAAAAAAAAAAAAAAAAAAADaEOUcSjzFvnulq2hSHpq/6i+Dd/0dqr8KR1jdaJazvx/27v7SHbq/mtJCkJ5SwL8mKg6hU5bDv7CB2bEI2sa/u9ikwr0dyr8GMHDTcmHNv8jDHfKTUtC/rm+Dem700b80G+kCSZbTvzjHTosjONW/vnK0E/7Z1r9jHhqc2HvYvynKfySzHdq/D3blrI2/27+UIUs1aGHdv1nNsL1CA9+/mDwLo45S4L9aEj7neyPhv1TocCtp9OG/ML6jb1bF4r/yk9azQ5bjv91pCfgwZ+S/yD88PB445b+aFW+ACwnmv23rocT42ea/AAAAAAAAAAAAAAAAAAAAAAAAAAAAAAAAAAAAAAAAAAAAAAAAAAAAAAAAAAAAAAAAAAAAAAAAAAAAAAAAAAAAAAAAAAAAAAAAAAAAAAAAAAAAAAAAAAAAAAAAAAAAAAAAAAAAAAAAAAAAAAAAAAAAAAAAAAAAAAAAAAAAAAAAAAAAAAAAAAAAAAAAAAAAAAAAAAAAAAAAAAAAAAAAAAAAAAAAAAAAAAAAAAAAAAAAAAAAAAAAAAAAAAAAAAAAAAAAAAAAAAAAAAAAAAAAAAAAAAAAAAAAAAAAAAAAAAAAAAAAAAAAAAAAAAAAAAAAAAAAAAAAAAAAAAAAAAAAAAAAAAAAAAAAAAAAAAAAAAAAAAAAAAAAAAAAAAAAAAAAAAAAAAAAAAAAAAAAAAAAAAAAAAAAAAAAAAAAAAAAAAAAAAAAAAAAAAAAAAAAAAAAAAAAAAAAAAAAAAAAAAAAAAAAAAAAAAAAAAAAAAAAAAAAAAAAAAAAAAAAAAAAAAAAAAAAAAAAAAAAAAAAAAAAAAAAAAAAAAAAAAAAAAAAAAAAAAAAAAAAAAAAAAAAAAAAAAAAAAAAAAAAAAAAAAAAAAAAAAAAAAAAAAAAAAAAAAAAAAAAAAAAAAAAAAAAAAAAAAAAAAAAAAAAAAAAAAAAAAAAAAAAAAAAAAAAAAAAAAAAAAD+U86jy9upvzBQJ6At7Lm/77sztzp1w79Iz1OeXvTJv3DxuULBOdC//PpJNlN507/IBNop5bjWv7MOah13+Nm/gBj6EAk43b/2EEWCzTvgv+wVDXyW2+G/whrVdV9747+YH51vKBvlv3YkZWnxuua/RCktY7pa6L8yLvVcg/rpvwgzvVZMmuu/5jeFUBU67b+8PE1K3tnuv82gCqLTPPC/PaPuHrgM8b+rpdKbnNzxvxqothiBrPK/gaqalWV887/wrH4SSkz0v1+vYo8uHPW/yrFGDBPs9b9BtCqJ97v2v6S2Dgbci/e/AAAAAAAAAAAAAAAAAAAAAAAAAAAAAAAAAAAAAAAAAAAAAAAAAAAAAAAAAAAAAAAAAAAAAAAAAAAAAAAAAAAAAAAAAAAAAAAAAAAAAAAAAAAAAAAAAAAAAAAAAAAAAAAAAAAAAAAAAAAAAAAAAAAAAAAAAAAAAAAAAAAAAAAAAAAAAAAAAAAAAAAAAAAAAAAAAAAAAAAAAAAAAAAAAAAAAAAAAAAAAAAAAAAAAAAAAAAAAAAAAAAAAAAAAAAAAAAAAAAAAAAAAAAAAAAAAAAAAAAAAAAAAAAAAAAAAAAAAAAAAAAAAAAAAAAAAAAAAAAAAAAAAAAAAAAAAAAAAAAAAAAAAAAAAAAAAAAAAAAAAAAAAAAAAAAAAAAAAAAAAAAAAAAAAAAAAAAAAAAAAAAAAAAAAAAAAAAAAAAAAAAAAAAAAAAAAAAAAAAAAAAAAAAAAAAAAAAAAAAAAAAAAAAAAAAAAAAAAAAAAAAAAAAAAAAAAAAAAAAAAAAAAAAAAAAAAAAAAAAAAAAAAAAAAAAAAAAAAAAAAAAAAAAAAAAAAAAAAAAAAAAAAAAAAAAAAAAAAAAAAAAAAAAAAAAAAAAAAAAAAAAAAAAAAAAAAAAAAAAAAAAAAAAAAAAAAAAAAAAAi1S4qixurr8XZ2ZJEIfJvwAAAAAAAAAApetBwe6Zmb+0GTorodu5v0DcEVNjqMa/ElZDCHsx0L+lvf1mxA7Vv1gluMUN7Nm/Ko1yJFfJ3r9fepZBUNPhv0iu8/D0QeS/IeJQoJmw5r/zFa5PPh/pv9RJC//ijeu/ln1orof87b+/2OIuljXwv7BykYbobPG/mAxA3jqk8r+Fpu41jdvzv3ZAnY3fEvW/ZtpL5TFK9r9PdPo8hIH3v0QOqZTWuPi/LKhX7Cjw+b8dQgZEeyf7vwrctJvNXvy/9nVj8x+W/b/jDxJLcs3+v+pUYFFiAgDA4KE3fQueAMDZ7g6ptDkBwMs75tRd1QHAAAAAAAAAAAAAAAAAAAAAAAAAAAAAAAAAAAAAAAAAAAAAAAAAAAAAAAAAAAAAAAAAAAAAAAAAAAAAAAAAAAAAAAAAAAAAAAAAAAAAAAAAAAAAAAAAAAAAAAAAAAAAAAAAAAAAAAAAAAAAAAAAAAAAAAAAAAAAAAAAAAAAAAAAAAAAAAAAAAAAAAAAAAAAAAAAAAAAAAAAAAAAAAAAAAAAAAAAAAAAAAAAAAAAAAAAAAAAAAAAAAAAAAAAAAAAAAAAAAAAAAAAAAAAAAAAAAAAAAAAAAAAAAAAAAAAAAAAAAAAAAAAAAAAAAAAAAAAAAAAAAAAAAAAAAAAAAAAAAAAAAAAAAAAAAAAAAAAAAAAAAAAAAAAAAAAAAAAAAAAAAAAAAAAAAAAAAAAAAAAAAAAAAAAAAAAAAAAAAAAAAAAAAAAAAAAAAAAAAAAAAAAAAAAAAAAAAAAAAAAAAAAAAAAAAAAAAAAAAAAAAAAAAAAAAAAAAAAAAAAAAAAAAAAAAAAAAAAAAAAAAAAAAAAAAAAAAAAAAAAAAAAAAAAAAAAAAAAAAAAAAAAAAAAAAAAAAAAbR+FzvvYwb9He5SfnHHUv71m5le79t+/HikcCO295b/iHkVkfIDrv1cKN+CFofC/N4VLjs2C878XAGA8FWT2vwAAAAAAAAAACOXzubK6qb/0hEZCrmTDvzQICOtXLdC/7M3stFio1r+Gk9F+WSPdv6AsWyQtz+G/fI9Nia0M5b9J8j/uLUrovy5VMlOuh+u/+rckuC7F7r90jYuOVwHxv92+BMEXoPK/UPB989c+9L+3IfclmN31vyRTcFhYfPe/i4Tpihgb+b8CtmK92Ln6v2fn2++YWPy/3hhVIln3/b9NSs5UGZb/v9y9o8NsmgDAkFbg3MxpAcBH7xz2LDkCwP+HWQ+NCAPAtiCWKO3XA8BqudJBTacEwCJSD1utdgXA2upLdA1GBsCQg4iNbRUHwEgcxabN5AfAAAAAAAAAAAAAAAAAAAAAAAAAAAAAAAAAAAAAAAAAAAAAAAAAAAAAAAAAAAAAAAAAAAAAAAAAAAAAAAAAAAAAAAAAAAAAAAAAAAAAAAAAAAAAAAAAAAAAAAAAAAAAAAAAAAAAAAAAAAAAAAAAAAAAAAAAAAAAAAAAAAAAAAAAAAAAAAAAAAAAAAAAAAAAAAAAAAAAAAAAAAAAAAAAAAAAAAAAAAAAAAAAAAAAAAAAAAAAAAAAAAAAAAAAAAAAAAAAAAAAAAAAAAAAAAAAAAAAAAAAAAAAAAAAAAAAAAAAAAAAAAAAAAAAAAAAAAAAAAAAAAAAAAAAAAAAAAAAAAAAAAAAAAAAAAAAAAAAAAAAAAAAAAAAAAAAAAAAAAAAAAAAAAAAAAAAAAAAAAAAAAAAAAAAAAAAAAAAAAAAAAAAAAAAAAAAAAAAAAAAAAAAAAAAAAAAAAAAAAAAAAAAAAAAAAAAAAAAAAAAAAAAAAAAAAAAAAAAAAAAAAAAAAAAAAAAAAAAAAAAAAAAAAAAAAAAAHakcCC098a/UgCA8VSQ2b8012PpZ9Ljv02uB1ql3Oq/osJVZXHz8L8vrqcdkHj0v7KZ+dWu/fe/OIVLjs2C+7/CcJ1G7Af/vyCud3+FRgHA5aOg2xQJA8Cmmck3pMsEwAAAAAAAAAAAn2qjCTdUs7/P/O/ui9vJv0cihyx+BtW/50WWYTYf3b/TtFJL95viv6RG2mVTqOa/c9hhgK+06r9DaumaC8HuvxV+uNqzZvG/Akf85+Fs87/qD0D1D3P1v9nYgwI+efe/wqHHD2x/+b+uagsdmoX7v50zTyrIi/2/gvySN/aR/7+7YmsiEswAwC9HDSkpzwHAqiuvL0DSAsAcEFE2V9UDwJX08jxu2ATADtmUQ4XbBcCCvTZKnN4GwPyh2FCz4QfAboZ6V8rkCMDmahxe4ecJwF1PvmT46grAzzNgaw/uC8BJGAJyJvEMwLz8o3g99A3AAAAAAAAAAAAAAAAAAAAAAAAAAAAAAAAAAAAAAAAAAAAAAAAAAAAAAAAAAAAAAAAAAAAAAAAAAAAAAAAAAAAAAAAAAAAAAAAAAAAAAAAAAAAAAAAAAAAAAAAAAAAAAAAAAAAAAAAAAAAAAAAAAAAAAAAAAAAAAAAAAAAAAAAAAAAAAAAAAAAAAAAAAAAAAAAAAAAAAAAAAAAAAAAAAAAAAAAAAAAAAAAAAAAAAAAAAAAAAAAAAAAAAAAAAAAAAAAAAAAAAAAAAAAAAAAAAAAAAAAAAAAAAAAAAAAAAAAAAAAAAAAAAAAAAI1fB+DQIM6/LS/9jQW34r8AAAAAAAAAAAAAAAAAAAAAAAAAAAAAAAAAAAAAAAAAAAAAAAAAAAAAAAAAAAAAAAAAAAAAAAAAAAAAAAAAAAAAAAAAAAAAAAAAAAAAAAAAAAAAAAAAAAAAAAAAAAAAAAAAAAAAAAAAAAAAAAAAAAAAAAAAAAAAAAAAAAAAAAAAAOnhevdXaMS/s+H6BQPY2r8eKRwI7b3lv3rhOo3YD+6/48wsCeIw878MKbzL11n3vziFS47Ngvu/XeHaUMOr/7/JHrWJXOoBwNrM/GrX/gPA7npETFITBsADKYwtzScIwBbX0w5IPArALoUb8MJQDMBAM2PRPWUOwAAAAAAAAAAAuOJMthTLub91uszNNCnQvxs8Bm6k39m/8d4fBwrL4b/EnzzXQabmv6BgWad5geu/vRC7u1gu8L8bccmj9Jvyv4jR14uQCfW/8jHmcyx3979nkvRbyOT5v9XyAkRkUvy/O1MRLADA/r/U2Q8KzpYAwAwKF/6bzQHAPjoe8mkEA8B3aiXmNzsEwKuaLNoFcgXA5sozztOoBsAZ+zrCod8HwFArQrZvFgnAiFtJqj1NCsC7i1CeC4QLwPK7V5LZugzAKOxehqfxDcBaHGZ6dSgPwEqmNrehLxDAZT46sQjLEMCB1j2rb2YRwJtuQaXWARLAAAAAAAAAAAAAAAAAAAAAAAAAAAAAAAAAAAAAAAAAAAAAAAAAAAAAAAAAAAAAAAAAAAAAAAAAAAAAAAAAAAAAAAAAAAAAAAAAAAAAAAAAAAAAAAAAAAAAAAAAAAAAAAAAAAAAAAAAAAAAAAAAAAAAAAAAAAAAAAAAAAAAAAAAAAAAAAAAAAAAAAAAAAAAAAAAAAAAAAAAAAAAAAAAAAAAAAAAAAAAAAAAAAAAAAAAAAAAAAAAAAAAAAAAAAAAAAAAAAAAAAAAAABq32gPRl+2v8b912qSKN+/2eHqqKlc7L9n4jQOhZL0v+JT9Ee19vq/quLZwHKtAMAAAAAAAAAAAAAAAAAAAAAAAAAAAAAAAAAAAAAAAAAAAAAAAAAAAAAAAAAAAAAAAAAAAAAAAAAAAAAAAAAAAAAAAAAAAAAAAAAAAAAAAAAAAAAAAAAAAAAAAAAAAAAAAAAAAAAAAAAAAAAAAAAAAAAATWdmSRCHyb+9ZuZXu/bfv/PMjEX3lOm/SjOTb0iX8b8aAGA8FWT2v+bMLAniMPu/spn51a79/78+M2PRPWUCwKaZyTekywTADAAwngoyB8B2ZpYEcZgJwNrM/GrX/gvAQDNj0T1lDsDSzOQb0mUQwAcAGE8FmRHAOjNLgjjMEsBuZn61a/8TwAAAAAAAAAAAai17MfkgwL+CdiGko2TTv+9Vha/KuN6/7pp03XgG5b/EiiZjjLDqv0U9bPRPLfC/LTVFt1kC878gLR56Y9f1vwsl9zxtrPi/7xzQ/3aB+7/aFKnCgFb+v2QGwULFlQDAWIItJEoAAsBS/pkFz2oDwER6BudT1QTAPfZyyNg/BsAzct+pXaoHwCfuS4viFAnAH2q4bGd/CsAX5iRO7OkLwApikS9xVA3A/939EPa+DsD7LDV5vRQQwPdq6+n/yRDA8KihWkJ/EcDq5lfLhDQSwOYkDjzH6RLA4GLErAmfE8DcoHodTFQUwNbeMI6OCRXAAAAAAAAAAAAAAAAAAAAAAAAAAAAAAAAAAAAAAAAAAAAAAAAAAAAAAAAAAAAAAAAAAAAAAAAAAAAAAAAAAAAAAAAAAAAAAAAAAAAAAAAAAAAAAAAAAAAAAAAAAAAAAAAAAAAAAAAAAAAAAAAAAAAAAAAAAAAAAAAAAAAAAAAAAAAAAAAAAAAAAAAAAAAAAAAAAAAAAAAAAAAAAAAAAAAAAAAAAAAAAAAAAAAAAAAAAAAAAAAAAAAAAPrAgQMHDty//k7DEvNo7L/A3uJRcWX1vwgWZBpplvy/paZycbDjAcBJQrNVLHwFwOnd8zmoFAnAiXk0HiStDMAAAAAAAAAAAAAAAAAAAAAAAAAAAAAAAAAAAAAAAAAAAAAAAAAAAAAAAAAAAAAAAAAAAAAAAAAAAAAAAAAAAAAAAAAAAAAAAAAAAAAAAAAAAAAAAAAAAAAAAAAAAAAAAACqr0enzlW0v6vh+gUD2Nq/tesRMUlN6L9IM5NvSJfxv7hwnUbsB/e/La6nHZB4/L/O9Vj6mfQAwIkU3uXrrAPAPzNj0T1lBsD5Uei8jx0JwLBwbajh1QvAaI/ykzOODsAR17u/QqMQwGxmfrVr/xHAyvVAq5RbE8AmhQOhvbcUwIIUxpbmExbA3qOIjA9wF8A5M0uCOMwYwAAAAAAAAAAAN+nPB2hcw7+OMnZ6EqDWvxI4gnj4yOG/7FbJs+dB6L+9dRDv1rruv0PKKxXjmfK/tVnPslrW9b8V6XJQ0hL5v4J4Fu5JT/y/7Ae6i8GL/7+qy66UHGQBwGCTgGNYAgPAF1tSMpSgBMDNIiQB0D4GwIHq9c8L3QfAOLLHnkd7CcDteZltgxkLwKFBazy/twzAWgk9C/tVDsAO0Q7aNvQPwGNMcFQ5yRDAPTDZO1eYEcAYFEIjdWcSwPX3qgqTNhPAzNsT8rAFFMCnv3zZztQUwIKj5cDsoxXAXYdOqApzFsA4a7ePKEIXwBFPIHdGERjAAAAAAAAAAAAAAAAAAAAAAAAAAAAAAAAAAAAAAAAAAAAAAAAAAAAAAAAAAAAAAAAAAAAAAAAAAAAAAAAAAAAAAAAAAAAAAAAAAAAAAAAAAAAAAAAAAAAAAAAAAAAAAAAAAAAAAAAAAAAAAAAAAAAAAAAAAAAAAAAAAAAAAAAAAAAAAAAAAAAAAAAAAAAAAAAAAAAAAAAAAAAAAAAAAAAAAAAAAAAAAAAAAAAAAAAAAAAAAAAAAAAAAAAAAAAAAAAAAAAAAAAAAAAAAAAAAAAAAAAAAAAAAAAAAAAAAAAAAAAAAAAAAAAAAAAAAAAAAAAAAAAAAAAAAAAAAAAAAAAAAAAAAAAAAAAAAAAAAAAAAAAAAAAAAAAAAAAAAAAAAAAAAAAAAAAAAAAAAAAAAAAAAAAAAAAAAAAAAAAAAAAAAAAAAAAAAAAAAAAAAAAAAAAAAAAAAAAAAAAAAAAAAAAAAAAAAAAAAAAAAAAAAAAAAAAAAAAAAAAAAAAAAAAAAAAAAAAAAAAAAAAAAAAAAAAAAAAAAAAAAAAAAAAAAAAAAAAAAAAAAAAAAAAAAAAAAAAAAAAAAAAAAAAAAAAAAAAAAAAAAAAAAAAAAAAAAAAAAAAAAAAAAAAAAAAAAAAAAAAAAAAAAAAAAAAAAAAAAAAAAAAAAAAAAAAAAAAAAAAAAAAAAAAAAAAAAAAAAAAAAAAAAAAAAAAAAAAAAAAAAAAAAAAAAAAAAAAAAAAAAAAAAAAAAAAAAAAAAAAAAAAAAAAAAAAAAAAAAAAAAAAAAAAAAAAAAAAAAAAAAAAAAAAAAAAAAAAAAAAAAAAAAAAAAAAAAAAAAAAAAAAAAAAAAAAAAAAAAAAAAAAAAAAAAAAAAAAAAAAAAAAAAAAAAAAAAAAAAAAAAAAAAAAAAAAAAAAAAAAAAAAAAAAAAAAAAAAAAAAAAAAAAAAAAAAAAAAAAAAAAAAAAAAAAAAAAAAAAAAAAAAAAAAAAAAAAAAAAAAAAAAAAAAAAAAAAAAAAAAAAAAAAAAAAAAAAAAAAAAAAAAAAAAAAAAAAAAAAAAAAAAAAAAAAAAAAAAAAAAAAAAAAAAAAAAAAAAAAAAAAAAAAAAAAAAAAAAAAAAAAAAAAAAAAAAAAAAAAAAAAAAAAAAAAAAAAAAAAAAAAAAAAAAAAAAAAAAAAAAAAAAAAAAAAAAAAAAAAAAAAAAAAAAAAAAAAAAAAAAAAAAAAAAAAAAAAAAAAAAAAAAAAAAAAAAAAAAAAAAAAAAAAAAAAAAAAAAAAAAAAAAAAAAAAAAAAAAAAAAAAAAAAAAAAAAAAAAAAAAAAAAAAAAAAAAAAAAAAAAAAAAAAAAAAAAAAAAAAAAAAAAAAAAAAAAAAAAAAAAAAAAAAAAAAAAAAAAAAAAAAAAAAAAAAAAAAAAAAAAAAAAAAAAAAAAAAAAAAAAAAAAAAAAAAAAAAAAAAAAAAAAAAAAAAAAAAAAAAAAAAAAAAAAAAAAAAAAAAAAAAAAAAAAAAAAAAAAAAAAAAAAAAAAAAAAAAAAAAAAAAAAAAAAAAAAAAAAAAAAAAAAAAAAAAAAAAAAAAAAAAAAAAAAAAAAAAAAAAAAAAAAAAAAAAAAAAAAAAAAAAAAAAAAAAAAAAAAAAAAAAAAAAAAAAAAAAAAAAAAAAAAAAAAAAAAAAAAAAAAAAAAAAAAAAAAAAAAAAAAAAAAAAAAAAAAAAAAAAAAAAAAAAAAAAAAAAAAAAAAAAAAAAAAAAAAAAAAAAAAAAAAAAAAAAAAAAAAAAAAAAAAAAAAAAAAAAAAAAAAAAAAAAAAAAAAAAAAAAAAAAAAAAAAAAAAAAAAAAAAAAAAAAAAAAAAAAAAAAAAAAAAAAAAAAAAAAAAAAAAAAAAAAAAAAAAAAAAAAAAAAAAAAAAAAAAAAAAAAAAAAAAAAAAAAAAAAAAAAAAAAAAAAAAAAAAAAAAAAAAAAAAAAAAAAAAAAAAAAAAAAAAAAAAAAAAAAAAAAAAAAAAAAAAAAAAAAAAAAAAAAAAAAAAAAAAAAAAAAAAAAAAAAAAAAAAAAAAAAAAAAAAAAAAAAAAAAAAAAAAAAAAAAAAAAAAAAAAAAAAAAAAAAAAAAAAAAAAAAAAAAAAAAAAAAAAAAAAAAAAAAAAAAAAAAAAAAAAAAAAAAAAAAAAAAAAAAAAAAAAAAAAAAAAAAAAAAAAAAAAAAAAAAAAAAAAAAAAAAAAAAAAAAAAAAAAAAAAAAAAAAAAAAAAAAAAAAAAAAAAAAAAAAAAAAAAAAAAAAAAAAAAAAAAAAAAAAAAAAAAAAAAAAAAAAAAAAAAAAAAAAAAAAAAAAAAAAAAAAAAAAAAAAAAAAAAAAAAAAAAAAAAAAAAAAAAAAAAAAAAAAAAAAAAAAAAAAAAAAAAAAAAAAAAAAAAAAAAAAAAAAAAAAAAAAAAAAAAAAAAAAAAAAAAAAAAAAAAAAAAAAAAAAAAAAAAAAAAAAAAAAAAAAAAAAAAAAAAAAAAAAAAAAAAAAAAAAAAAAAAAAAAAAAAAAAAAAAAAAAAAAAAAAAAAAAAAAAAAAAAAAAAAAAAAAAAAAAAAAAAAAAAAAAAAAAAAAAAAAAAAAAAAAAAAAAAAAAAAAAAAAAAAAAAAAAAAAAAAAAAAAAAAAAAAAAAAAAAAAAAAAAAAAAAAAAAAAAAAAAAAAAAAAAAAAAAAAAAAAAAAAAAAAAAAAAAAAAAAAAAAAAAAAAAAAAAAAAAAAAAAAAAAAAAAAAAAAAAAAAAAAAAAAAAAAAAAAAAAAAAAAAAAAAAAAAAAAAAAAAAAAAAAAAAAAAAAAAAAAAAAAAAAAAAAAAAAAAAAAAAAAAAAAAAAAAAAAAAAAAAAAAAAAAAAAAAAAAAAAAAAAAAAAAAAAAAAAAAAAAAAAAAAAAAAAAAAAAAAAAAAAAAAAAAAAAAAAAAAAAAAAAAAAAAAAAAAAAAAAAAAAAAAAAAAAAAAAAAAAAAAAAAAAAAAAAAAAAAAAAAAAAAAAAAAAAAAAAAAAAAAAAAAAAAAAAAAAAAAAAAAAAAAAAAAAAAAAAAAAAAAAAAAAAAAAAAAAAAAAAAAAAAAAAAAAAAAAAAAAAAAAAAAAAAAAAAAAAAAAAAAAAAAAAAAAAAAAAAAAAAAAAAAAAAAAAAAAAAAAAAAAAAAAAAAAAAAAAAAAAAAAAAAAAAAAAAAAAAAAAAAAAAAAAAAAAAAAAAAAAAAAAAAAAAAAAAAAAAAAAAAAAAAAAAAAAAAAAAAAAAAAAAAAAAAAAAAAAAAAAAAAAAAAAAAAAAAAAAAAAAAAAAAAAAAAAAAAAAAAAAAAAAAAAAAAAAAAAAAAAAAAAAAAAAAAAAAAAAAAAAAAAAAAAAAAAAAAAAAAAAAAAAAAAAAAAAAAAAAAAAAAAAAAAAAAAAAAAAAAAAAAAAAAAAAAAAAAAAAAAAAAAAAAAAAAAAAAAAAAAAAAAAAAAAAAAAAAAAAAAAAAAAAAAAAAAAAAAAAAAAAAAAAAAAAAAAAAAAAAAAAAAAAAAAAAAAAAAAAAAAAAAAAAAAAAAAAAAAAAAAAAAAAAAAAAAAAAAAAAAAAAAAAAAAAAAAAAAAAAAAAAAAAAAAAAAAAAAAAAAAAAAAAAAAAAAAAAAAAAAAAAAAAAAAAAAAAAAAAAAAAAAAAAAAAAAAAAAAAAAAAAAAAAAAAAAAAAAAAAAAAAAAAAAAAAAAAAAAAAAAAAAAAAAAAAAAAAAAAAAAAAAAAAAAAAAAAAAAAAAAAAAAAAAAAAAAAAAAAAAAAAAAAAAAAAAAAAAAAAAAAAAAAAAAAAAAAAAAAAAAAAAAAAAAAAAAAAAAAAAAAAAAAAAAAAAAAAAAAAAAAAAAAAAAAAAAAAAAAAAAAAAAAAAAAAAAAAAAAAAAAAAAAAAAAAAAAAAAAAAAAAAAAAAAAAAAAAAAAAAAAAAAAAAAAAAAAAAAAAAAAAAAAAAAAAAAAAAAAAAAAAAAAAAAAAAAAAAAAAAAAAAAAAAAAAAAAAAAAAAAAAAAAAAAAAAAAAAAAAAAAAAAAAAAAAAAAAAAAAAAAAAAAAAAAAAAAAAAAAAAAAAAAAAAAAAAAAAAAAAAAAAAAAAAAAAAAAAAAAAAAAAAAAAAAAAAAAAAAAAAAAAAAAAAAAAAAAAAAAAAAAAAAAAAAAAAAAAAAAAAAAAAAAAAAAAAAAAAAAAAAAAAAAAAAAAAAAAAAAAAAAAAAAAAAAAAAAAAAAAAAAAAAAAAAAAAAAAAAAAAAAAAAAAAAAAAAAAAAAAAAAAAAAAAAAAAAAAAAAAAAAAAAAAAAAAAAAAAAAAAAAAAAAAAAAAAAAAAAAAAAAAAAAAAAAAAAAAAAAAAAAAAAAAAAAAAAAAAAAAAAAAAAAAAAAAAAAAAAAAAAAAAAAAAAAAAAAAAAAAAAAAAAAAAAAAAAAAAAAAAAAAAAAAAAAAAAAAAAAAAAAAAAAAAAAAAAAAAAAAAAAAAAAAAAAAAAAAAAAAAAAAAAAAAAAAAAAAAAAAAAAAAAAAAAAAAAAAAAAAAAAAAAAAAAAAAAAAAAAAAAAAAAAAAAAAAAAAAAAAAAAAAAAAAAAAAAAAAAAAAAAAAAAAAAAAAAAAAAAAAAAAAAAAAAAAAAAAAAAAAAAAAAAAAAAAAAAAAAAAAAAAAAAAAAAAAAAAAAAAAAAAAAAAAAAAAAAAAAAAAAAAAAAAAAAAAAAAAAAAAAAAAAAAAAAAAAAAAAAAAAAAAAAAAAAAAAAAAAAAAAAAAAAAAAAAAAAAAAAAAAAAAAAAAAAAAAAAAAAAAAAAAAAAAAAAAAAAAAAAAAAAAAAAAAAAAAAAAAAAAAAAAAAAAAAAAAAAAAAAAAAAAAAAAAAAAAAAAAAAAAAAAAAAAAAAAAAAAAAAAAAAAAAAAAAAAAAAAAAAAAAAAAAAAAAAAAAAAAAAAAAAAAAAAAAAAAAAAAAAAAAAAAAAAAAAAAAAAAAAAAAAAAAAAAAAAAAAAAAAAAAAAAAAAAAAAAAAAAAAAAAAAAAAAAAAAAAAAAAAAAAAAAAAAAAAAAAAAAAAAAAAAAAAAAAAAAAAAAAAAAAAAAAAAAAAAAAAAAAAAAAAAAAAAAAAAAAAAAAAAAAAAAAAAAAAAAAAAAAAAAAAAAAAAAAAAAAAAAAAAAAAAAAAAAAAAAAAAAAAAAAAAAAAAAAAAAAAAAAAAAAAAAAAAAAAAAAAAAAAAAAAAAAAAAAAAAAAAAAAAAAAAAAAAAAAAAAAAAAAAAAAAAAAAAAAAAAAAAAAAAAAAAAAAAAAAAAAAAAAAAAAAAAAAAAAAAAAAAAAAAAAAAAAAAAAAAAAAAAAAAAAAAAAAAAAAAAAAAAAAAAAAAAAAAAAAAAAAAAAAAAAAAAAAAAAAAAAAAAAAAAAAAAAAAAAAAAAAAAAAAAAAAAAAAAAAAAAAAAAAAAAAAAAAAAAAAAAAAAAAAAAAAAAAAAAAAAAAAAAAAAAAAAAAAAAAAAAAAAAAAAAAAAAAAAAAAAAAAAAAAAAAAAAAAAAAAAAAAAAAAAAAAAAAAAAAAAAAAAAAAAAAAAAAAAAAAAAAAAAAAAAAAAAAAAAAAAAAAAAAAAAAAAAAAAAAAAAAAAAAAAAAAAAAAAAAAAAAAAAAAAAAAAAAAAAAAAAAAAAAAAAAAAAAAAAAAAAAAAAAAAAAAAAAAAAAAAAAAAAAAAAAAAAAAAAAAAAAAAAAAAAAAAAAAAAAAAAAAAAAAAAAAAAAAAAAAAAAAAAAAAAAAAAAAAAAAAAAAAAAAAAAAAAAAAAAAAAAAAAAAAAAAAAAAAAAAAAAAAAAAAAAAAAAAAAAAAAAAAAAAAAAAAAAAAAAAAAAAAAAAAAAAAAAAAAAAAAAAAAAAAAAAAAAAAAAAAAAAAAAAAAAAAAAAAAAAAAAAAAAAAAAAAAAAAAAAAAAAAAAAAAAAAAAAAAAAAAAAAAAAAAAAAAAAAAAAAAAAAAAAAAAAAAAAAAAAAAAAAAAAAAAAAAAAAAAAAAAAAAAAAAAAAAAAAAAAAAAAAAAAAAAAAAAAAAAAAAAAAAAAAAAAAAAAAAAAAAAAAAAAAAAAAAAAAAAAAAAAAAAAAAAAAAAAAAAAAAAAAAAAAAAAAAAAAAAAAAAAAAAAAAAAAAAAAAAAAAAAAAAAAAAAAAAAAAAAAAAAAAAAAAAAAAAAAAAAAAAAAAAAAAAAAAAAAAAAAAAAAAAAAAAAAAAAAAAAAAAAAAAAAAAAAAAAAAAAAAAAAAAAAAAAAAAAAAAAAAAAAAAAAAAAAAAAAAAAAAAAAAAAAAAAAAAAAAAAAAAAAAAAAAAAAAAAAAAAAAAAAAAAAAAAAAAAAAAAAAAAAAAAAAAAAAAAAAAAAAAAAAAAAAAAAAAAAAAAAAAAAAAAAAAAAAAAAAAAAAAAAAAAAAAAAAAAAAAAAAAAAAAAAAAAAAAAAAAAAAAAAAAAAAAAAAAAAAAAAAAAAAAAAAAAAAAAAAAAAAAAAAAAAAAAAAAAAAAAAAAAAAAAAAAAAAAAAAAAAAAAAAAAAAAAAAAAAAAAAAAAAAAAAAAAAAAAAAAAAAAAAAAAAAAAAAAAAAAAAAAAAAAAAAAAAAAAAAAAAAAAAAAAAAAAAAAAAAAAAAAAAAAAAAAAAAAAAAAAAAAAAAAAAAAAAAAAAAAAAAAAAAAAAAAAAAAAAAAAAAAAAAAAAAAAAAAAAAAAAAAAAAAAAAAAAAAAAAAAAAAAAAAAAAAAAAAAAAAAAAAAAAAAAAAAAAAAAAAAAAAAAAAAAAAAAAAAAAAAAAAAAAAAAAAAAAAAAAAAAAAAAAAAAAAAAAAAAAAAAAAAAAAAAAAAAAAAAAAAAAAAAAAAAAAAAAAAAAAAAAAAAAAAAAAAAAAAAAAAAAAAAAAAAAAAAAAAAAAAAAAAAAAAAAAAAAAAAAAAAAAAAAAAAAAAAAAAAAAAAAAAAAAAAAAAAAAAAAAAAAAAAAAAAAAAAAAAAAAAAAAAAAAAAAAAAAAAAAAAAAAAAAAAAAAAAAAAAAAAAAAAAAAAAAAAAAAAAAAAAAAAAAAAAAAAAAAAAAAAAAAAAAAAAAAAAAAAAAAAAAAAAAAAAAAAAAAAAAAAAAAAAAAAAAAAAAAAAAAAAAAAAAAAAAAAAAAAAAAAAAAAAAAAAAAAAAAAAAAAAAAAAAAAAAAAAAAAAAAAAAAAAAAAAAAAAAAAAAAAAAAAAAAAAAAAAAAAAAAAAAAAAAAAAAAAAAAAAAAAAAAAAAAAAAAAAAAAAAAAAAAAAAAAAAAAAAAAAAAAAAAAAAAAAAAAAAAAAAAAAAAAAAAAAAAAAAAAAAAAAAAAAAAAAAAAAAAAAAAAAAAAAAAAAAAAAAAAAAAAAAAAAAAAAAAAAAAAAAAAAAAAAAAAAAAAAAAAAAAAAAAAAAAAAAAAAAAAAAAAAAAAAAAAAAAAAAAAAAAAAAAAAAAAAAAAAAAAAAAAAAAAAAAAAAAAAAAAAAAAAAAAAAAAAAAAAAAAAAAAAAAAAAAAAAAAAAAAAAAAAAAAAAAAAAAAAAAAAAAAAAAAAAAAAAAAAAAAAAAAAAAAAAAAAAAAAAAAAAAAAAAAAAAAAAAAAAAAAAAAAAAAAAAAAAAAAAAAAAAAAAAAAAAAAAAAAAAAAAAAAAAAAAAAAAAAAAAAAAAAAAAAAAAAAAAAAAAAAAAAAAAAAAAAAAAAAAAAAAAAAAAAAAAAAAAAAAAAAAAAAAAAAAAAAAAAAAAAAAAAAAAAAAAAAAAAAAAAAAAAAAAAAAAAAAAAAAAAAAAAAAAAAAAAAAAAAAAAAAAAAAAAAAAAAAAAAAAAAAAAAAAAAAAAAAAAAAAAAAAAAAAAAAAAAAAAAAAAAAAAAAAAAAAAAAAAAAAAAAAAAAAAAAAAAAAAAAAAAAAAAAAAAAAAAAAAAAAAAAAAAAAAAAAAAAAAAAAAAAAAAAAAAAAAAAAAAAAAAAAAAAAAAAAAAAAAAAAAAAAAAAAAAAAAAAAAAAAAAAAAAAAAAAAAAAAAAAAAAAAAAAAAAAAAAAAAAAAAAAAAAAAAAAAAAAAAAAAAAAAAAAAAAAAAAAAAAAAAAAAAAAAAAAAAAAAAAAAAAAAAAAAAAAAAAAAAAAAAAAAAAAAAAAAAAAAAAAAAAAAAAAAAAAAAAAAAAAAAAAAAAAAAAAAAAAAAAAAAAAAAAAAAAAAAAAAAAAAAAAAAAAAAAAAAAAAAAAAAAAAAAAAAAAAAAAAAAAAAAAAAAAAAAAAAAAAAAAAAAAAAAAAAAAAAAAAAAAAAAAAAAAAAAAAAAAAAAAAAAAAAAAAAAAAAAAAAAAAAAAAAAAAAAAAAAAAAAAAAAAAAAAAAAAAAAAAAAAAAAAAAAAAAAAAAAAAAAAAAAAAAAAAAAAAAAAAAAAAAAAAAAAAAAAAAAAAAAAAAAAAAAAAAAAAAAAAAAAAAAAAAAAAAAAAAAAAAAAAAAAAAAAAAAAAAAAAAAAAAAAAAAAAAAAAAAAAAAAAAAAAAAAAAAAAAAAAAAAAAAAAAAAAAAAAAAAAAAAAAAAAAAAAAAAAAAAAAAAAAAAAAAAAAAAAAAAAAAAAAAAAAAAAAAAAAAAAAAAAAAAAAAAAAAAAAAAAAAAAAAAAAAAAAAAAAAAAAAAAAAAAAAAAAAAAAAAAAAAAAAAAAAAAAAAAAAAAAAAAAAAAAAAAAAAAAAAAAAAAAAAAAAAAAAAAAAAAAAAAAAAAAAAAAAAAAAAAAAAAAAAAAAAAAAAAAAAAAAAAAAAAAAAAAAAAAAAAAAAAAAAAAAAAAAAAAAAAAAAAAAAAAAAAAAAAAAAAAAAAAAAAAAAAAAAAAAAAAAAAAAAAAAAAAAAAAAAAAAAAAAAAAAAAAAAAAAAAAAAAAAAAAAAAAAAAAAAAAAAAAAAAAAAAAAAAAAAAAAAAA\",\"dtype\":\"float64\",\"shape\":[1674]},\"slot\":[\"day\",\"day\",\"day\",\"day\",\"day\",\"day\",\"day\",\"day\",\"day\",\"day\",\"day\",\"day\",\"day\",\"day\",\"day\",\"day\",\"day\",\"day\",\"day\",\"day\",\"day\",\"day\",\"day\",\"day\",\"day\",\"day\",\"day\",\"day\",\"day\",\"day\",\"day\",\"day\",\"day\",\"day\",\"day\",\"day\",\"day\",\"day\",\"day\",\"day\",\"day\",\"day\",\"day\",\"day\",\"day\",\"day\",\"day\",\"day\",\"day\",\"day\",\"day\",\"day\",\"day\",\"day\",\"day\",\"day\",\"day\",\"day\",\"day\",\"day\",\"day\",\"day\",\"day\",\"day\",\"day\",\"day\",\"day\",\"day\",\"day\",\"day\",\"day\",\"day\",\"day\",\"day\",\"day\",\"day\",\"day\",\"day\",\"day\",\"day\",\"day\",\"day\",\"day\",\"day\",\"day\",\"day\",\"day\",\"day\",\"day\",\"day\",\"day\",\"day\",\"day\",\"day\",\"day\",\"day\",\"day\",\"day\",\"day\",\"day\",\"day\",\"day\",\"day\",\"day\",\"day\",\"day\",\"day\",\"day\",\"day\",\"day\",\"day\",\"day\",\"day\",\"day\",\"day\",\"day\",\"day\",\"day\",\"day\",\"day\",\"day\",\"day\",\"day\",\"day\",\"day\",\"day\",\"day\",\"day\",\"day\",\"day\",\"day\",\"day\",\"day\",\"day\",\"day\",\"day\",\"day\",\"day\",\"day\",\"day\",\"day\",\"day\",\"day\",\"day\",\"day\",\"day\",\"day\",\"day\",\"day\",\"day\",\"day\",\"day\",\"day\",\"day\",\"day\",\"day\",\"day\",\"day\",\"day\",\"day\",\"day\",\"day\",\"day\",\"day\",\"day\",\"day\",\"day\",\"day\",\"day\",\"day\",\"day\",\"day\",\"day\",\"day\",\"day\",\"day\",\"day\",\"day\",\"day\",\"day\",\"day\",\"day\",\"day\",\"day\",\"day\",\"day\",\"day\",\"day\",\"day\",\"day\",\"day\",\"day\",\"day\",\"day\",\"day\",\"day\",\"day\",\"day\",\"day\",\"day\",\"day\",\"day\",\"day\",\"day\",\"day\",\"day\",\"day\",\"day\",\"day\",\"day\",\"day\",\"day\",\"day\",\"day\",\"day\",\"day\",\"day\",\"day\",\"day\",\"day\",\"day\",\"day\",\"day\",\"day\",\"day\",\"day\",\"day\",\"day\",\"day\",\"day\",\"day\",\"day\",\"day\",\"day\",\"day\",\"day\",\"day\",\"day\",\"day\",\"day\",\"day\",\"day\",\"day\",\"day\",\"day\",\"day\",\"day\",\"day\",\"day\",\"day\",\"day\",\"day\",\"day\",\"day\",\"day\",\"day\",\"day\",\"day\",\"day\",\"day\",\"day\",\"day\",\"day\",\"day\",\"day\",\"day\",\"day\",\"day\",\"day\",\"day\",\"day\",\"day\",\"day\",\"day\",\"day\",\"day\",\"day\",\"day\",\"day\",\"day\",\"day\",\"day\",\"day\",\"day\",\"day\",\"day\",\"day\",\"day\",\"day\",\"day\",\"day\",\"day\",\"day\",\"day\",\"day\",\"day\",\"day\",\"day\",\"day\",\"day\",\"day\",\"day\",\"day\",\"day\",\"day\",\"day\",\"day\",\"day\",\"day\",\"day\",\"day\",\"day\",\"day\",\"day\",\"day\",\"day\",\"day\",\"day\",\"day\",\"day\",\"day\",\"day\",\"day\",\"day\",\"day\",\"day\",\"day\",\"day\",\"day\",\"day\",\"day\",\"day\",\"day\",\"day\",\"day\",\"day\",\"day\",\"day\",\"day\",\"day\",\"day\",\"day\",\"day\",\"day\",\"day\",\"day\",\"day\",\"day\",\"day\",\"day\",\"day\",\"day\",\"day\",\"day\",\"day\",\"day\",\"day\",\"day\",\"day\",\"day\",\"day\",\"day\",\"day\",\"day\",\"day\",\"day\",\"day\",\"day\",\"day\",\"day\",\"day\",\"day\",\"day\",\"day\",\"day\",\"day\",\"day\",\"day\",\"day\",\"day\",\"day\",\"day\",\"day\",\"day\",\"day\",\"day\",\"day\",\"day\",\"day\",\"day\",\"day\",\"day\",\"day\",\"day\",\"day\",\"day\",\"day\",\"day\",\"day\",\"day\",\"day\",\"day\",\"day\",\"day\",\"day\",\"day\",\"day\",\"day\",\"day\",\"day\",\"day\",\"day\",\"day\",\"day\",\"day\",\"day\",\"day\",\"day\",\"day\",\"day\",\"day\",\"day\",\"day\",\"day\",\"day\",\"day\",\"day\",\"day\",\"day\",\"day\",\"day\",\"day\",\"day\",\"day\",\"day\",\"day\",\"day\",\"day\",\"day\",\"day\",\"day\",\"day\",\"day\",\"day\",\"day\",\"day\",\"day\",\"day\",\"day\",\"day\",\"day\",\"day\",\"day\",\"day\",\"day\",\"day\",\"day\",\"day\",\"day\",\"day\",\"day\",\"day\",\"day\",\"day\",\"day\",\"day\",\"day\",\"day\",\"day\",\"day\",\"day\",\"day\",\"day\",\"day\",\"day\",\"day\",\"day\",\"day\",\"day\",\"day\",\"day\",\"day\",\"day\",\"day\",\"day\",\"day\",\"day\",\"day\",\"day\",\"day\",\"day\",\"day\",\"day\",\"day\",\"day\",\"day\",\"day\",\"day\",\"day\",\"day\",\"day\",\"day\",\"day\",\"day\",\"day\",\"day\",\"day\",\"day\",\"day\",\"day\",\"day\",\"day\",\"day\",\"day\",\"day\",\"day\",\"day\",\"day\",\"day\",\"day\",\"day\",\"day\",\"day\",\"day\",\"day\",\"day\",\"day\",\"day\",\"day\",\"day\",\"day\",\"day\",\"day\",\"day\",\"day\",\"day\",\"day\",\"day\",\"day\",\"day\",\"day\",\"day\",\"day\",\"day\",\"day\",\"day\",\"day\",\"day\",\"day\",\"day\",\"day\",\"day\",\"day\",\"day\",\"day\",\"day\",\"day\",\"day\",\"day\",\"day\",\"day\",\"day\",\"day\",\"day\",\"day\",\"day\",\"day\",\"day\",\"day\",\"day\",\"day\",\"day\",\"day\",\"day\",\"day\",\"day\",\"day\",\"day\",\"day\",\"day\",\"day\",\"day\",\"day\",\"day\",\"day\",\"day\",\"day\",\"day\",\"day\",\"day\",\"day\",\"day\",\"day\",\"day\",\"day\",\"day\",\"day\",\"day\",\"day\",\"day\",\"day\",\"day\",\"day\",\"day\",\"day\",\"day\",\"day\",\"day\",\"day\",\"day\",\"day\",\"day\",\"day\",\"day\",\"day\",\"day\",\"day\",\"day\",\"day\",\"day\",\"day\",\"day\",\"day\",\"day\",\"day\",\"day\",\"day\",\"day\",\"day\",\"day\",\"day\",\"day\",\"day\",\"day\",\"day\",\"day\",\"day\",\"day\",\"day\",\"day\",\"day\",\"day\",\"day\",\"day\",\"day\",\"day\",\"day\",\"day\",\"day\",\"day\",\"day\",\"day\",\"day\",\"day\",\"day\",\"day\",\"day\",\"day\",\"day\",\"day\",\"day\",\"day\",\"day\",\"day\",\"day\",\"day\",\"day\",\"day\",\"day\",\"day\",\"day\",\"day\",\"day\",\"day\",\"day\",\"day\",\"day\",\"day\",\"day\",\"day\",\"day\",\"day\",\"day\",\"day\",\"day\",\"day\",\"day\",\"day\",\"day\",\"day\",\"day\",\"day\",\"day\",\"day\",\"day\",\"day\",\"day\",\"day\",\"day\",\"day\",\"day\",\"day\",\"day\",\"day\",\"day\",\"day\",\"day\",\"day\",\"day\",\"day\",\"day\",\"day\",\"day\",\"day\",\"day\",\"day\",\"day\",\"day\",\"day\",\"day\",\"day\",\"day\",\"day\",\"day\",\"day\",\"day\",\"day\",\"day\",\"day\",\"day\",\"day\",\"day\",\"day\",\"day\",\"day\",\"day\",\"day\",\"day\",\"day\",\"day\",\"day\",\"day\",\"day\",\"day\",\"day\",\"day\",\"day\",\"day\",\"day\",\"day\",\"day\",\"day\",\"day\",\"day\",\"day\",\"day\",\"day\",\"day\",\"day\",\"day\",\"day\",\"day\",\"day\",\"day\",\"day\",\"day\",\"day\",\"day\",\"day\",\"day\",\"day\",\"day\",\"day\",\"day\",\"day\",\"day\",\"day\",\"day\",\"day\",\"day\",\"day\",\"day\",\"day\",\"day\",\"day\",\"day\",\"day\",\"day\",\"day\",\"day\",\"day\",\"day\",\"day\",\"day\",\"day\",\"day\",\"day\",\"day\",\"day\",\"day\",\"day\",\"day\",\"day\",\"day\",\"day\",\"day\",\"day\",\"day\",\"day\",\"day\",\"day\",\"day\",\"day\",\"day\",\"day\",\"day\",\"day\",\"day\",\"day\",\"day\",\"day\",\"day\",\"day\",\"day\",\"day\",\"day\",\"day\",\"day\",\"day\",\"day\",\"day\",\"day\",\"day\",\"day\",\"day\",\"day\",\"day\",\"night\",\"night\",\"night\",\"night\",\"night\",\"night\",\"night\",\"night\",\"night\",\"night\",\"night\",\"night\",\"night\",\"night\",\"night\",\"night\",\"night\",\"night\",\"night\",\"night\",\"night\",\"night\",\"night\",\"night\",\"night\",\"night\",\"night\",\"night\",\"night\",\"night\",\"night\",\"night\",\"night\",\"night\",\"night\",\"night\",\"night\",\"night\",\"night\",\"night\",\"night\",\"night\",\"night\",\"night\",\"night\",\"night\",\"night\",\"night\",\"night\",\"night\",\"night\",\"night\",\"night\",\"night\",\"night\",\"night\",\"night\",\"night\",\"night\",\"night\",\"night\",\"night\",\"night\",\"night\",\"night\",\"night\",\"night\",\"night\",\"night\",\"night\",\"night\",\"night\",\"night\",\"night\",\"night\",\"night\",\"night\",\"night\",\"night\",\"night\",\"night\",\"night\",\"night\",\"night\",\"night\",\"night\",\"night\",\"night\",\"night\",\"night\",\"night\",\"night\",\"night\",\"night\",\"night\",\"night\",\"night\",\"night\",\"night\",\"night\",\"night\",\"night\",\"night\",\"night\",\"night\",\"night\",\"night\",\"night\",\"night\",\"night\",\"night\",\"night\",\"night\",\"night\",\"night\",\"night\",\"night\",\"night\",\"night\",\"night\",\"night\",\"night\",\"night\",\"night\",\"night\",\"night\",\"night\",\"night\",\"night\",\"night\",\"night\",\"night\",\"night\",\"night\",\"night\",\"night\",\"night\",\"night\",\"night\",\"night\",\"night\",\"night\",\"night\",\"night\",\"night\",\"night\",\"night\",\"night\",\"night\",\"night\",\"night\",\"night\",\"night\",\"night\",\"night\",\"night\",\"night\",\"night\",\"night\",\"night\",\"night\",\"night\",\"night\",\"night\",\"night\",\"night\",\"night\",\"night\",\"night\",\"night\",\"night\",\"night\",\"night\",\"night\",\"night\",\"night\",\"night\",\"night\",\"night\",\"night\",\"night\",\"night\",\"night\",\"night\",\"night\",\"night\",\"night\",\"night\",\"night\",\"night\",\"night\",\"night\",\"night\",\"night\",\"night\",\"night\",\"night\",\"night\",\"night\",\"night\",\"night\",\"night\",\"night\",\"night\",\"night\",\"night\",\"night\",\"night\",\"night\",\"night\",\"night\",\"night\",\"night\",\"night\",\"night\",\"night\",\"night\",\"night\",\"night\",\"night\",\"night\",\"night\",\"night\",\"night\",\"night\",\"night\",\"night\",\"night\",\"night\",\"night\",\"night\",\"night\",\"night\",\"night\",\"night\",\"night\",\"night\",\"night\",\"night\",\"night\",\"night\",\"night\",\"night\",\"night\",\"night\",\"night\",\"night\",\"night\",\"night\",\"night\",\"night\",\"night\",\"night\",\"night\",\"night\",\"night\",\"night\",\"night\",\"night\",\"night\",\"night\",\"night\",\"night\",\"night\",\"night\",\"night\",\"night\",\"night\",\"night\",\"night\",\"night\",\"night\",\"night\",\"night\",\"night\",\"night\",\"night\",\"night\",\"night\",\"night\",\"night\",\"night\",\"night\",\"night\",\"night\",\"night\",\"night\",\"night\",\"night\",\"night\",\"night\",\"night\",\"night\",\"night\",\"night\",\"night\",\"night\",\"night\",\"night\",\"night\",\"night\",\"night\",\"night\",\"night\",\"night\",\"night\",\"night\",\"night\",\"night\",\"night\",\"night\",\"night\",\"night\",\"night\",\"night\",\"night\",\"night\",\"night\",\"night\",\"night\",\"night\",\"night\",\"night\",\"night\",\"night\",\"night\",\"night\",\"night\",\"night\",\"night\",\"night\",\"night\",\"night\",\"night\",\"night\",\"night\",\"night\",\"night\",\"night\",\"night\",\"night\",\"night\",\"night\",\"night\",\"night\",\"night\",\"night\",\"night\",\"night\",\"night\",\"night\",\"night\",\"night\",\"night\",\"night\",\"night\",\"night\",\"night\",\"night\",\"night\",\"night\",\"night\",\"night\",\"night\",\"night\",\"night\",\"night\",\"night\",\"night\",\"night\",\"night\",\"night\",\"night\",\"night\",\"night\",\"night\",\"night\",\"night\",\"night\",\"night\",\"night\",\"night\",\"night\",\"night\",\"night\",\"night\",\"night\",\"night\",\"night\",\"night\",\"night\",\"night\",\"night\",\"night\",\"night\",\"night\",\"night\",\"night\",\"night\",\"night\",\"night\",\"night\",\"night\",\"night\",\"night\",\"night\",\"night\",\"night\",\"night\",\"night\",\"night\",\"night\",\"night\",\"night\",\"night\",\"night\",\"night\",\"night\",\"night\",\"night\",\"night\",\"night\",\"night\",\"night\",\"night\",\"night\",\"night\",\"night\",\"night\",\"night\",\"night\",\"night\",\"night\",\"night\",\"night\",\"night\",\"night\",\"night\",\"night\",\"night\",\"night\",\"night\",\"night\",\"night\",\"night\",\"night\",\"night\",\"night\",\"night\",\"night\",\"night\",\"night\",\"night\",\"night\",\"night\",\"night\",\"night\",\"night\",\"night\",\"night\",\"night\",\"night\",\"night\",\"night\",\"night\",\"night\",\"night\",\"night\",\"night\",\"night\",\"night\",\"night\",\"night\",\"night\",\"night\",\"night\",\"night\",\"night\",\"night\",\"night\",\"night\",\"night\",\"night\",\"night\",\"night\",\"night\",\"night\",\"night\",\"night\",\"night\",\"night\",\"night\",\"night\",\"night\",\"night\",\"night\",\"night\",\"night\",\"night\",\"night\",\"night\",\"night\",\"night\",\"night\",\"night\",\"night\",\"night\",\"night\",\"night\",\"night\",\"night\",\"night\",\"night\",\"night\",\"night\",\"night\",\"night\",\"night\",\"night\",\"night\",\"night\",\"night\",\"night\",\"night\",\"night\",\"night\",\"night\",\"night\",\"night\",\"night\",\"night\",\"night\",\"night\",\"night\",\"night\",\"night\",\"night\",\"night\",\"night\",\"night\",\"night\",\"night\",\"night\",\"night\",\"night\",\"night\",\"night\",\"night\",\"night\",\"night\",\"night\",\"night\",\"night\",\"night\",\"night\",\"night\",\"night\",\"night\",\"night\",\"night\",\"night\",\"night\",\"night\",\"night\",\"night\",\"night\",\"night\",\"night\",\"night\",\"night\",\"night\",\"night\",\"night\",\"night\",\"night\",\"night\",\"night\",\"night\",\"night\",\"night\",\"night\",\"night\",\"night\",\"night\",\"night\",\"night\",\"night\",\"night\",\"night\",\"night\",\"night\",\"night\",\"night\",\"night\",\"night\",\"night\",\"night\",\"night\",\"night\",\"night\",\"night\",\"night\",\"night\",\"night\",\"night\",\"night\",\"night\",\"night\",\"night\",\"night\",\"night\",\"night\",\"night\",\"night\",\"night\",\"night\",\"night\",\"night\",\"night\",\"night\",\"night\",\"night\",\"night\",\"night\",\"night\",\"night\",\"night\",\"night\",\"night\",\"night\",\"night\",\"night\",\"night\",\"night\",\"night\",\"night\",\"night\",\"night\",\"night\",\"night\",\"night\",\"night\",\"night\",\"night\",\"night\",\"night\",\"night\",\"night\",\"night\",\"night\",\"night\",\"night\",\"night\",\"night\",\"night\",\"night\",\"night\",\"night\",\"night\",\"night\",\"night\",\"night\",\"night\",\"night\",\"night\",\"night\",\"night\",\"night\",\"night\",\"night\",\"night\",\"night\",\"night\",\"night\",\"night\",\"night\",\"night\",\"night\",\"night\",\"night\",\"night\",\"night\",\"night\",\"night\",\"night\",\"night\",\"night\",\"night\",\"night\",\"night\",\"night\",\"night\",\"night\",\"night\",\"night\",\"night\",\"night\",\"night\",\"night\",\"night\",\"night\",\"night\",\"night\",\"night\",\"night\",\"night\",\"night\",\"night\",\"night\",\"night\",\"night\",\"night\",\"night\",\"night\",\"night\",\"night\",\"night\",\"night\",\"night\",\"night\",\"night\",\"night\",\"night\",\"night\",\"night\",\"night\",\"night\",\"night\",\"night\",\"night\",\"night\",\"night\",\"night\",\"night\",\"night\",\"night\",\"night\",\"night\",\"night\",\"night\",\"night\",\"night\",\"night\",\"night\",\"night\",\"night\",\"night\",\"night\",\"night\",\"night\",\"night\",\"night\",\"night\",\"night\",\"night\",\"night\",\"night\",\"night\",\"night\",\"night\",\"night\",\"night\",\"night\",\"night\",\"night\",\"night\",\"night\",\"night\",\"night\",\"night\",\"night\",\"night\",\"night\",\"night\",\"night\",\"night\",\"night\",\"night\",\"night\",\"night\",\"night\",\"night\",\"night\",\"night\",\"night\",\"night\",\"night\",\"night\",\"night\",\"night\",\"night\",\"night\",\"night\",\"night\",\"night\",\"night\",\"night\",\"night\",\"night\",\"night\",\"night\",\"night\",\"night\",\"night\",\"night\",\"night\",\"night\",\"night\",\"night\",\"night\",\"night\",\"night\",\"night\",\"night\",\"night\",\"night\",\"night\",\"night\",\"night\",\"night\",\"night\",\"night\",\"night\",\"night\",\"night\",\"night\",\"night\",\"night\",\"night\",\"night\",\"night\",\"night\",\"night\",\"night\",\"night\",\"night\",\"night\"],\"vre_day\":{\"__ndarray__\":\"AAAAAAAA8D8AAAAAAADwPwAAAAAAAPA/AAAAAAAA8D8AAAAAAADwPwAAAAAAAPA/AAAAAAAA8D8AAAAAAADwPwAAAAAAAPA/AAAAAAAA8D8AAAAAAADwPwAAAAAAAPA/AAAAAAAA8D8AAAAAAADwPwAAAAAAAPA/AAAAAAAA8D8AAAAAAADwPwAAAAAAAPA/AAAAAAAA8D8AAAAAAADwPwAAAAAAAPA/AAAAAAAA8D8AAAAAAADwPwAAAAAAAPA/AAAAAAAA8D8AAAAAAADwPwAAAAAAAPA/AAAAAAAA8D8AAAAAAADwPwAAAAAAAPA/AAAAAAAA8D8AAAAAAADwPwAAAAAAAPA/AAAAAAAA8D8AAAAAAADwPwAAAAAAAPA/AAAAAAAA8D8AAAAAAADwPwAAAAAAAPA/AAAAAAAA8D8AAAAAAADwPwAAAAAAAPA/AAAAAAAA8D8AAAAAAADwPwAAAAAAAPA/AAAAAAAA8D8AAAAAAADwPwAAAAAAAPA/AAAAAAAA8D8AAAAAAADwPwAAAAAAAPA/AAAAAAAA8D8AAAAAAADwPwAAAAAAAPA/AAAAAAAA8D8AAAAAAADwPwAAAAAAAPA/AAAAAAAA8D8AAAAAAADwPwAAAAAAAPA/AAAAAAAA8D8AAAAAAADwPwAAAAAAAPA/AAAAAAAA8D8AAAAAAADwPwAAAAAAAPA/AAAAAAAA8D8AAAAAAADwPwAAAAAAAPA/AAAAAAAA8D8AAAAAAADwPwAAAAAAAPA/AAAAAAAA8D8AAAAAAADwPwAAAAAAAPA/AAAAAAAA8D8AAAAAAADwPwAAAAAAAPA/AAAAAAAA8D8AAAAAAADwPwAAAAAAAPA/AAAAAAAA8D8AAAAAAADwPwAAAAAAAPA/AAAAAAAA8D8AAAAAAADwPwAAAAAAAPA/AAAAAAAA8D8AAAAAAADwPwAAAAAAAPA/AAAAAAAA8D8AAAAAAADwPwAAAAAAAPA/AAAAAAAAAEAAAAAAAAAAQAAAAAAAAABAAAAAAAAAAEAAAAAAAAAAQAAAAAAAAABAAAAAAAAAAEAAAAAAAAAAQAAAAAAAAABAAAAAAAAAAEAAAAAAAAAAQAAAAAAAAABAAAAAAAAAAEAAAAAAAAAAQAAAAAAAAABAAAAAAAAAAEAAAAAAAAAAQAAAAAAAAABAAAAAAAAAAEAAAAAAAAAAQAAAAAAAAABAAAAAAAAAAEAAAAAAAAAAQAAAAAAAAABAAAAAAAAAAEAAAAAAAAAAQAAAAAAAAABAAAAAAAAAAEAAAAAAAAAAQAAAAAAAAABAAAAAAAAAAEAAAAAAAAAAQAAAAAAAAABAAAAAAAAAAEAAAAAAAAAAQAAAAAAAAABAAAAAAAAAAEAAAAAAAAAAQAAAAAAAAABAAAAAAAAAAEAAAAAAAAAAQAAAAAAAAABAAAAAAAAAAEAAAAAAAAAAQAAAAAAAAABAAAAAAAAAAEAAAAAAAAAAQAAAAAAAAABAAAAAAAAAAEAAAAAAAAAAQAAAAAAAAABAAAAAAAAAAEAAAAAAAAAAQAAAAAAAAABAAAAAAAAAAEAAAAAAAAAAQAAAAAAAAABAAAAAAAAAAEAAAAAAAAAAQAAAAAAAAABAAAAAAAAAAEAAAAAAAAAAQAAAAAAAAABAAAAAAAAAAEAAAAAAAAAAQAAAAAAAAABAAAAAAAAAAEAAAAAAAAAAQAAAAAAAAABAAAAAAAAAAEAAAAAAAAAAQAAAAAAAAABAAAAAAAAAAEAAAAAAAAAAQAAAAAAAAABAAAAAAAAAAEAAAAAAAAAAQAAAAAAAAABAAAAAAAAAAEAAAAAAAAAAQAAAAAAAAABAAAAAAAAAAEAAAAAAAAAAQAAAAAAAAABAAAAAAAAAAEAAAAAAAAAAQAAAAAAAAABAAAAAAAAAAEAAAAAAAAAAQAAAAAAAAABAAAAAAAAAAEAAAAAAAAAAQAAAAAAAAABAAAAAAAAACEAAAAAAAAAIQAAAAAAAAAhAAAAAAAAACEAAAAAAAAAIQAAAAAAAAAhAAAAAAAAACEAAAAAAAAAIQAAAAAAAAAhAAAAAAAAACEAAAAAAAAAIQAAAAAAAAAhAAAAAAAAACEAAAAAAAAAIQAAAAAAAAAhAAAAAAAAACEAAAAAAAAAIQAAAAAAAAAhAAAAAAAAACEAAAAAAAAAIQAAAAAAAAAhAAAAAAAAACEAAAAAAAAAIQAAAAAAAAAhAAAAAAAAACEAAAAAAAAAIQAAAAAAAAAhAAAAAAAAACEAAAAAAAAAIQAAAAAAAAAhAAAAAAAAACEAAAAAAAAAIQAAAAAAAAAhAAAAAAAAACEAAAAAAAAAIQAAAAAAAAAhAAAAAAAAACEAAAAAAAAAIQAAAAAAAAAhAAAAAAAAACEAAAAAAAAAIQAAAAAAAAAhAAAAAAAAACEAAAAAAAAAIQAAAAAAAAAhAAAAAAAAACEAAAAAAAAAIQAAAAAAAAAhAAAAAAAAACEAAAAAAAAAIQAAAAAAAAAhAAAAAAAAACEAAAAAAAAAIQAAAAAAAAAhAAAAAAAAACEAAAAAAAAAIQAAAAAAAAAhAAAAAAAAACEAAAAAAAAAIQAAAAAAAAAhAAAAAAAAACEAAAAAAAAAIQAAAAAAAAAhAAAAAAAAACEAAAAAAAAAIQAAAAAAAAAhAAAAAAAAACEAAAAAAAAAIQAAAAAAAAAhAAAAAAAAACEAAAAAAAAAIQAAAAAAAAAhAAAAAAAAACEAAAAAAAAAIQAAAAAAAAAhAAAAAAAAACEAAAAAAAAAIQAAAAAAAAAhAAAAAAAAACEAAAAAAAAAIQAAAAAAAAAhAAAAAAAAACEAAAAAAAAAIQAAAAAAAAAhAAAAAAAAACEAAAAAAAAAIQAAAAAAAAAhAAAAAAAAACEAAAAAAAAAIQAAAAAAAAAhAAAAAAAAACEAAAAAAAAAIQAAAAAAAAAhAAAAAAAAAEEAAAAAAAAAQQAAAAAAAABBAAAAAAAAAEEAAAAAAAAAQQAAAAAAAABBAAAAAAAAAEEAAAAAAAAAQQAAAAAAAABBAAAAAAAAAEEAAAAAAAAAQQAAAAAAAABBAAAAAAAAAEEAAAAAAAAAQQAAAAAAAABBAAAAAAAAAEEAAAAAAAAAQQAAAAAAAABBAAAAAAAAAEEAAAAAAAAAQQAAAAAAAABBAAAAAAAAAEEAAAAAAAAAQQAAAAAAAABBAAAAAAAAAEEAAAAAAAAAQQAAAAAAAABBAAAAAAAAAEEAAAAAAAAAQQAAAAAAAABBAAAAAAAAAEEAAAAAAAAAQQAAAAAAAABBAAAAAAAAAEEAAAAAAAAAQQAAAAAAAABBAAAAAAAAAEEAAAAAAAAAQQAAAAAAAABBAAAAAAAAAEEAAAAAAAAAQQAAAAAAAABBAAAAAAAAAEEAAAAAAAAAQQAAAAAAAABBAAAAAAAAAEEAAAAAAAAAQQAAAAAAAABBAAAAAAAAAEEAAAAAAAAAQQAAAAAAAABBAAAAAAAAAEEAAAAAAAAAQQAAAAAAAABBAAAAAAAAAEEAAAAAAAAAQQAAAAAAAABBAAAAAAAAAEEAAAAAAAAAQQAAAAAAAABBAAAAAAAAAEEAAAAAAAAAQQAAAAAAAABBAAAAAAAAAEEAAAAAAAAAQQAAAAAAAABBAAAAAAAAAEEAAAAAAAAAQQAAAAAAAABBAAAAAAAAAEEAAAAAAAAAQQAAAAAAAABBAAAAAAAAAEEAAAAAAAAAQQAAAAAAAABBAAAAAAAAAEEAAAAAAAAAQQAAAAAAAABBAAAAAAAAAEEAAAAAAAAAQQAAAAAAAABBAAAAAAAAAEEAAAAAAAAAQQAAAAAAAABBAAAAAAAAAEEAAAAAAAAAQQAAAAAAAABBAAAAAAAAAEEAAAAAAAAAQQAAAAAAAABBAAAAAAAAAEEAAAAAAAAAQQAAAAAAAABBAAAAAAAAAFEAAAAAAAAAUQAAAAAAAABRAAAAAAAAAFEAAAAAAAAAUQAAAAAAAABRAAAAAAAAAFEAAAAAAAAAUQAAAAAAAABRAAAAAAAAAFEAAAAAAAAAUQAAAAAAAABRAAAAAAAAAFEAAAAAAAAAUQAAAAAAAABRAAAAAAAAAFEAAAAAAAAAUQAAAAAAAABRAAAAAAAAAFEAAAAAAAAAUQAAAAAAAABRAAAAAAAAAFEAAAAAAAAAUQAAAAAAAABRAAAAAAAAAFEAAAAAAAAAUQAAAAAAAABRAAAAAAAAAFEAAAAAAAAAUQAAAAAAAABRAAAAAAAAAFEAAAAAAAAAUQAAAAAAAABRAAAAAAAAAFEAAAAAAAAAUQAAAAAAAABRAAAAAAAAAFEAAAAAAAAAUQAAAAAAAABRAAAAAAAAAFEAAAAAAAAAUQAAAAAAAABRAAAAAAAAAFEAAAAAAAAAUQAAAAAAAABRAAAAAAAAAFEAAAAAAAAAUQAAAAAAAABRAAAAAAAAAFEAAAAAAAAAUQAAAAAAAABRAAAAAAAAAFEAAAAAAAAAUQAAAAAAAABRAAAAAAAAAFEAAAAAAAAAUQAAAAAAAABRAAAAAAAAAFEAAAAAAAAAUQAAAAAAAABRAAAAAAAAAFEAAAAAAAAAUQAAAAAAAABRAAAAAAAAAFEAAAAAAAAAUQAAAAAAAABRAAAAAAAAAFEAAAAAAAAAUQAAAAAAAABRAAAAAAAAAFEAAAAAAAAAUQAAAAAAAABRAAAAAAAAAFEAAAAAAAAAUQAAAAAAAABRAAAAAAAAAFEAAAAAAAAAUQAAAAAAAABRAAAAAAAAAFEAAAAAAAAAUQAAAAAAAABRAAAAAAAAAFEAAAAAAAAAUQAAAAAAAABRAAAAAAAAAFEAAAAAAAAAUQAAAAAAAABRAAAAAAAAAFEAAAAAAAAAUQAAAAAAAABRAAAAAAAAAFEAAAAAAAAAUQAAAAAAAABRAAAAAAAAAGEAAAAAAAAAYQAAAAAAAABhAAAAAAAAAGEAAAAAAAAAYQAAAAAAAABhAAAAAAAAAGEAAAAAAAAAYQAAAAAAAABhAAAAAAAAAGEAAAAAAAAAYQAAAAAAAABhAAAAAAAAAGEAAAAAAAAAYQAAAAAAAABhAAAAAAAAAGEAAAAAAAAAYQAAAAAAAABhAAAAAAAAAGEAAAAAAAAAYQAAAAAAAABhAAAAAAAAAGEAAAAAAAAAYQAAAAAAAABhAAAAAAAAAGEAAAAAAAAAYQAAAAAAAABhAAAAAAAAAGEAAAAAAAAAYQAAAAAAAABhAAAAAAAAAGEAAAAAAAAAYQAAAAAAAABhAAAAAAAAAGEAAAAAAAAAYQAAAAAAAABhAAAAAAAAAGEAAAAAAAAAYQAAAAAAAABhAAAAAAAAAGEAAAAAAAAAYQAAAAAAAABhAAAAAAAAAGEAAAAAAAAAYQAAAAAAAABhAAAAAAAAAGEAAAAAAAAAYQAAAAAAAABhAAAAAAAAAGEAAAAAAAAAYQAAAAAAAABhAAAAAAAAAGEAAAAAAAAAYQAAAAAAAABhAAAAAAAAAGEAAAAAAAAAYQAAAAAAAABhAAAAAAAAAGEAAAAAAAAAYQAAAAAAAABhAAAAAAAAAGEAAAAAAAAAYQAAAAAAAABhAAAAAAAAAGEAAAAAAAAAYQAAAAAAAABhAAAAAAAAAGEAAAAAAAAAYQAAAAAAAABhAAAAAAAAAGEAAAAAAAAAYQAAAAAAAABhAAAAAAAAAGEAAAAAAAAAYQAAAAAAAABhAAAAAAAAAGEAAAAAAAAAYQAAAAAAAABhAAAAAAAAAGEAAAAAAAAAYQAAAAAAAABhAAAAAAAAAGEAAAAAAAAAYQAAAAAAAABhAAAAAAAAAGEAAAAAAAAAYQAAAAAAAABhAAAAAAAAAGEAAAAAAAAAYQAAAAAAAABhAAAAAAAAAGEAAAAAAAAAYQAAAAAAAABhAAAAAAAAAHEAAAAAAAAAcQAAAAAAAABxAAAAAAAAAHEAAAAAAAAAcQAAAAAAAABxAAAAAAAAAHEAAAAAAAAAcQAAAAAAAABxAAAAAAAAAHEAAAAAAAAAcQAAAAAAAABxAAAAAAAAAHEAAAAAAAAAcQAAAAAAAABxAAAAAAAAAHEAAAAAAAAAcQAAAAAAAABxAAAAAAAAAHEAAAAAAAAAcQAAAAAAAABxAAAAAAAAAHEAAAAAAAAAcQAAAAAAAABxAAAAAAAAAHEAAAAAAAAAcQAAAAAAAABxAAAAAAAAAHEAAAAAAAAAcQAAAAAAAABxAAAAAAAAAHEAAAAAAAAAcQAAAAAAAABxAAAAAAAAAHEAAAAAAAAAcQAAAAAAAABxAAAAAAAAAHEAAAAAAAAAcQAAAAAAAABxAAAAAAAAAHEAAAAAAAAAcQAAAAAAAABxAAAAAAAAAHEAAAAAAAAAcQAAAAAAAABxAAAAAAAAAHEAAAAAAAAAcQAAAAAAAABxAAAAAAAAAHEAAAAAAAAAcQAAAAAAAABxAAAAAAAAAHEAAAAAAAAAcQAAAAAAAABxAAAAAAAAAHEAAAAAAAAAcQAAAAAAAABxAAAAAAAAAHEAAAAAAAAAcQAAAAAAAABxAAAAAAAAAHEAAAAAAAAAcQAAAAAAAABxAAAAAAAAAHEAAAAAAAAAcQAAAAAAAABxAAAAAAAAAHEAAAAAAAAAcQAAAAAAAABxAAAAAAAAAHEAAAAAAAAAcQAAAAAAAABxAAAAAAAAAHEAAAAAAAAAcQAAAAAAAABxAAAAAAAAAHEAAAAAAAAAcQAAAAAAAABxAAAAAAAAAHEAAAAAAAAAcQAAAAAAAABxAAAAAAAAAHEAAAAAAAAAcQAAAAAAAABxAAAAAAAAAHEAAAAAAAAAcQAAAAAAAABxAAAAAAAAAHEAAAAAAAAAcQAAAAAAAABxAAAAAAAAAHEAAAAAAAAAcQAAAAAAAABxAAAAAAAAAIEAAAAAAAAAgQAAAAAAAACBAAAAAAAAAIEAAAAAAAAAgQAAAAAAAACBAAAAAAAAAIEAAAAAAAAAgQAAAAAAAACBAAAAAAAAAIEAAAAAAAAAgQAAAAAAAACBAAAAAAAAAIEAAAAAAAAAgQAAAAAAAACBAAAAAAAAAIEAAAAAAAAAgQAAAAAAAACBAAAAAAAAAIEAAAAAAAAAgQAAAAAAAACBAAAAAAAAAIEAAAAAAAAAgQAAAAAAAACBAAAAAAAAAIEAAAAAAAAAgQAAAAAAAACBAAAAAAAAAIEAAAAAAAAAgQAAAAAAAACBAAAAAAAAAIEAAAAAAAAAgQAAAAAAAACBAAAAAAAAAIEAAAAAAAAAgQAAAAAAAACBAAAAAAAAAIEAAAAAAAAAgQAAAAAAAACBAAAAAAAAAIEAAAAAAAAAgQAAAAAAAACBAAAAAAAAAIEAAAAAAAAAgQAAAAAAAACBAAAAAAAAAIEAAAAAAAAAgQAAAAAAAACBAAAAAAAAAIEAAAAAAAAAgQAAAAAAAACBAAAAAAAAAIEAAAAAAAAAgQAAAAAAAACBAAAAAAAAAIEAAAAAAAAAgQAAAAAAAACBAAAAAAAAAIEAAAAAAAAAgQAAAAAAAACBAAAAAAAAAIEAAAAAAAAAgQAAAAAAAACBAAAAAAAAAIEAAAAAAAAAgQAAAAAAAACBAAAAAAAAAIEAAAAAAAAAgQAAAAAAAACBAAAAAAAAAIEAAAAAAAAAgQAAAAAAAACBAAAAAAAAAIEAAAAAAAAAgQAAAAAAAACBAAAAAAAAAIEAAAAAAAAAgQAAAAAAAACBAAAAAAAAAIEAAAAAAAAAgQAAAAAAAACBAAAAAAAAAIEAAAAAAAAAgQAAAAAAAACBAAAAAAAAAIEAAAAAAAAAgQAAAAAAAACBAAAAAAAAAIEAAAAAAAAAgQAAAAAAAACBAAAAAAAAAIEAAAAAAAAAgQAAAAAAAACBAAAAAAAAAIkAAAAAAAAAiQAAAAAAAACJAAAAAAAAAIkAAAAAAAAAiQAAAAAAAACJAAAAAAAAAIkAAAAAAAAAiQAAAAAAAACJAAAAAAAAAIkAAAAAAAAAiQAAAAAAAACJAAAAAAAAAIkAAAAAAAAAiQAAAAAAAACJAAAAAAAAAIkAAAAAAAAAiQAAAAAAAACJAAAAAAAAAIkAAAAAAAAAiQAAAAAAAACJAAAAAAAAAIkAAAAAAAAAiQAAAAAAAACJAAAAAAAAAIkAAAAAAAAAiQAAAAAAAACJAAAAAAAAAIkAAAAAAAAAiQAAAAAAAACJAAAAAAAAAIkAAAAAAAAAiQAAAAAAAACJAAAAAAAAAIkAAAAAAAAAiQAAAAAAAACJAAAAAAAAAIkAAAAAAAAAiQAAAAAAAACJAAAAAAAAAIkAAAAAAAAAiQAAAAAAAACJAAAAAAAAAIkAAAAAAAAAiQAAAAAAAACJAAAAAAAAAIkAAAAAAAAAiQAAAAAAAACJAAAAAAAAAIkAAAAAAAAAiQAAAAAAAACJAAAAAAAAAIkAAAAAAAAAiQAAAAAAAACJAAAAAAAAAIkAAAAAAAAAiQAAAAAAAACJAAAAAAAAAIkAAAAAAAAAiQAAAAAAAACJAAAAAAAAAIkAAAAAAAAAiQAAAAAAAACJAAAAAAAAAIkAAAAAAAAAiQAAAAAAAACJAAAAAAAAAIkAAAAAAAAAiQAAAAAAAACJAAAAAAAAAIkAAAAAAAAAiQAAAAAAAACJAAAAAAAAAIkAAAAAAAAAiQAAAAAAAACJAAAAAAAAAIkAAAAAAAAAiQAAAAAAAACJAAAAAAAAAIkAAAAAAAAAiQAAAAAAAACJAAAAAAAAAIkAAAAAAAAAiQAAAAAAAACJAAAAAAAAAIkAAAAAAAAAiQAAAAAAAACJAAAAAAAAAIkAAAAAAAAAiQAAAAAAAACJAAAAAAAAAIkAAAAAAAAAiQAAAAAAAACJAAAAAAAAA8D8AAAAAAADwPwAAAAAAAPA/AAAAAAAA8D8AAAAAAADwPwAAAAAAAPA/AAAAAAAA8D8AAAAAAADwPwAAAAAAAPA/AAAAAAAA8D8AAAAAAADwPwAAAAAAAPA/AAAAAAAA8D8AAAAAAADwPwAAAAAAAPA/AAAAAAAA8D8AAAAAAADwPwAAAAAAAPA/AAAAAAAA8D8AAAAAAADwPwAAAAAAAPA/AAAAAAAA8D8AAAAAAADwPwAAAAAAAPA/AAAAAAAA8D8AAAAAAADwPwAAAAAAAPA/AAAAAAAA8D8AAAAAAADwPwAAAAAAAPA/AAAAAAAA8D8AAAAAAADwPwAAAAAAAPA/AAAAAAAA8D8AAAAAAADwPwAAAAAAAPA/AAAAAAAA8D8AAAAAAADwPwAAAAAAAPA/AAAAAAAA8D8AAAAAAADwPwAAAAAAAPA/AAAAAAAA8D8AAAAAAADwPwAAAAAAAPA/AAAAAAAA8D8AAAAAAADwPwAAAAAAAPA/AAAAAAAA8D8AAAAAAADwPwAAAAAAAPA/AAAAAAAA8D8AAAAAAADwPwAAAAAAAPA/AAAAAAAA8D8AAAAAAADwPwAAAAAAAPA/AAAAAAAA8D8AAAAAAADwPwAAAAAAAPA/AAAAAAAA8D8AAAAAAADwPwAAAAAAAPA/AAAAAAAA8D8AAAAAAADwPwAAAAAAAPA/AAAAAAAA8D8AAAAAAADwPwAAAAAAAPA/AAAAAAAA8D8AAAAAAADwPwAAAAAAAPA/AAAAAAAA8D8AAAAAAADwPwAAAAAAAPA/AAAAAAAA8D8AAAAAAADwPwAAAAAAAPA/AAAAAAAA8D8AAAAAAADwPwAAAAAAAPA/AAAAAAAA8D8AAAAAAADwPwAAAAAAAPA/AAAAAAAA8D8AAAAAAADwPwAAAAAAAPA/AAAAAAAA8D8AAAAAAADwPwAAAAAAAPA/AAAAAAAA8D8AAAAAAADwPwAAAAAAAPA/AAAAAAAAAEAAAAAAAAAAQAAAAAAAAABAAAAAAAAAAEAAAAAAAAAAQAAAAAAAAABAAAAAAAAAAEAAAAAAAAAAQAAAAAAAAABAAAAAAAAAAEAAAAAAAAAAQAAAAAAAAABAAAAAAAAAAEAAAAAAAAAAQAAAAAAAAABAAAAAAAAAAEAAAAAAAAAAQAAAAAAAAABAAAAAAAAAAEAAAAAAAAAAQAAAAAAAAABAAAAAAAAAAEAAAAAAAAAAQAAAAAAAAABAAAAAAAAAAEAAAAAAAAAAQAAAAAAAAABAAAAAAAAAAEAAAAAAAAAAQAAAAAAAAABAAAAAAAAAAEAAAAAAAAAAQAAAAAAAAABAAAAAAAAAAEAAAAAAAAAAQAAAAAAAAABAAAAAAAAAAEAAAAAAAAAAQAAAAAAAAABAAAAAAAAAAEAAAAAAAAAAQAAAAAAAAABAAAAAAAAAAEAAAAAAAAAAQAAAAAAAAABAAAAAAAAAAEAAAAAAAAAAQAAAAAAAAABAAAAAAAAAAEAAAAAAAAAAQAAAAAAAAABAAAAAAAAAAEAAAAAAAAAAQAAAAAAAAABAAAAAAAAAAEAAAAAAAAAAQAAAAAAAAABAAAAAAAAAAEAAAAAAAAAAQAAAAAAAAABAAAAAAAAAAEAAAAAAAAAAQAAAAAAAAABAAAAAAAAAAEAAAAAAAAAAQAAAAAAAAABAAAAAAAAAAEAAAAAAAAAAQAAAAAAAAABAAAAAAAAAAEAAAAAAAAAAQAAAAAAAAABAAAAAAAAAAEAAAAAAAAAAQAAAAAAAAABAAAAAAAAAAEAAAAAAAAAAQAAAAAAAAABAAAAAAAAAAEAAAAAAAAAAQAAAAAAAAABAAAAAAAAAAEAAAAAAAAAAQAAAAAAAAABAAAAAAAAAAEAAAAAAAAAAQAAAAAAAAABAAAAAAAAAAEAAAAAAAAAAQAAAAAAAAABAAAAAAAAAAEAAAAAAAAAAQAAAAAAAAABAAAAAAAAACEAAAAAAAAAIQAAAAAAAAAhAAAAAAAAACEAAAAAAAAAIQAAAAAAAAAhAAAAAAAAACEAAAAAAAAAIQAAAAAAAAAhAAAAAAAAACEAAAAAAAAAIQAAAAAAAAAhAAAAAAAAACEAAAAAAAAAIQAAAAAAAAAhAAAAAAAAACEAAAAAAAAAIQAAAAAAAAAhAAAAAAAAACEAAAAAAAAAIQAAAAAAAAAhAAAAAAAAACEAAAAAAAAAIQAAAAAAAAAhAAAAAAAAACEAAAAAAAAAIQAAAAAAAAAhAAAAAAAAACEAAAAAAAAAIQAAAAAAAAAhAAAAAAAAACEAAAAAAAAAIQAAAAAAAAAhAAAAAAAAACEAAAAAAAAAIQAAAAAAAAAhAAAAAAAAACEAAAAAAAAAIQAAAAAAAAAhAAAAAAAAACEAAAAAAAAAIQAAAAAAAAAhAAAAAAAAACEAAAAAAAAAIQAAAAAAAAAhAAAAAAAAACEAAAAAAAAAIQAAAAAAAAAhAAAAAAAAACEAAAAAAAAAIQAAAAAAAAAhAAAAAAAAACEAAAAAAAAAIQAAAAAAAAAhAAAAAAAAACEAAAAAAAAAIQAAAAAAAAAhAAAAAAAAACEAAAAAAAAAIQAAAAAAAAAhAAAAAAAAACEAAAAAAAAAIQAAAAAAAAAhAAAAAAAAACEAAAAAAAAAIQAAAAAAAAAhAAAAAAAAACEAAAAAAAAAIQAAAAAAAAAhAAAAAAAAACEAAAAAAAAAIQAAAAAAAAAhAAAAAAAAACEAAAAAAAAAIQAAAAAAAAAhAAAAAAAAACEAAAAAAAAAIQAAAAAAAAAhAAAAAAAAACEAAAAAAAAAIQAAAAAAAAAhAAAAAAAAACEAAAAAAAAAIQAAAAAAAAAhAAAAAAAAACEAAAAAAAAAIQAAAAAAAAAhAAAAAAAAACEAAAAAAAAAIQAAAAAAAAAhAAAAAAAAACEAAAAAAAAAIQAAAAAAAAAhAAAAAAAAAEEAAAAAAAAAQQAAAAAAAABBAAAAAAAAAEEAAAAAAAAAQQAAAAAAAABBAAAAAAAAAEEAAAAAAAAAQQAAAAAAAABBAAAAAAAAAEEAAAAAAAAAQQAAAAAAAABBAAAAAAAAAEEAAAAAAAAAQQAAAAAAAABBAAAAAAAAAEEAAAAAAAAAQQAAAAAAAABBAAAAAAAAAEEAAAAAAAAAQQAAAAAAAABBAAAAAAAAAEEAAAAAAAAAQQAAAAAAAABBAAAAAAAAAEEAAAAAAAAAQQAAAAAAAABBAAAAAAAAAEEAAAAAAAAAQQAAAAAAAABBAAAAAAAAAEEAAAAAAAAAQQAAAAAAAABBAAAAAAAAAEEAAAAAAAAAQQAAAAAAAABBAAAAAAAAAEEAAAAAAAAAQQAAAAAAAABBAAAAAAAAAEEAAAAAAAAAQQAAAAAAAABBAAAAAAAAAEEAAAAAAAAAQQAAAAAAAABBAAAAAAAAAEEAAAAAAAAAQQAAAAAAAABBAAAAAAAAAEEAAAAAAAAAQQAAAAAAAABBAAAAAAAAAEEAAAAAAAAAQQAAAAAAAABBAAAAAAAAAEEAAAAAAAAAQQAAAAAAAABBAAAAAAAAAEEAAAAAAAAAQQAAAAAAAABBAAAAAAAAAEEAAAAAAAAAQQAAAAAAAABBAAAAAAAAAEEAAAAAAAAAQQAAAAAAAABBAAAAAAAAAEEAAAAAAAAAQQAAAAAAAABBAAAAAAAAAEEAAAAAAAAAQQAAAAAAAABBAAAAAAAAAEEAAAAAAAAAQQAAAAAAAABBAAAAAAAAAEEAAAAAAAAAQQAAAAAAAABBAAAAAAAAAEEAAAAAAAAAQQAAAAAAAABBAAAAAAAAAEEAAAAAAAAAQQAAAAAAAABBAAAAAAAAAEEAAAAAAAAAQQAAAAAAAABBAAAAAAAAAEEAAAAAAAAAQQAAAAAAAABBAAAAAAAAAEEAAAAAAAAAQQAAAAAAAABBAAAAAAAAAFEAAAAAAAAAUQAAAAAAAABRAAAAAAAAAFEAAAAAAAAAUQAAAAAAAABRAAAAAAAAAFEAAAAAAAAAUQAAAAAAAABRAAAAAAAAAFEAAAAAAAAAUQAAAAAAAABRAAAAAAAAAFEAAAAAAAAAUQAAAAAAAABRAAAAAAAAAFEAAAAAAAAAUQAAAAAAAABRAAAAAAAAAFEAAAAAAAAAUQAAAAAAAABRAAAAAAAAAFEAAAAAAAAAUQAAAAAAAABRAAAAAAAAAFEAAAAAAAAAUQAAAAAAAABRAAAAAAAAAFEAAAAAAAAAUQAAAAAAAABRAAAAAAAAAFEAAAAAAAAAUQAAAAAAAABRAAAAAAAAAFEAAAAAAAAAUQAAAAAAAABRAAAAAAAAAFEAAAAAAAAAUQAAAAAAAABRAAAAAAAAAFEAAAAAAAAAUQAAAAAAAABRAAAAAAAAAFEAAAAAAAAAUQAAAAAAAABRAAAAAAAAAFEAAAAAAAAAUQAAAAAAAABRAAAAAAAAAFEAAAAAAAAAUQAAAAAAAABRAAAAAAAAAFEAAAAAAAAAUQAAAAAAAABRAAAAAAAAAFEAAAAAAAAAUQAAAAAAAABRAAAAAAAAAFEAAAAAAAAAUQAAAAAAAABRAAAAAAAAAFEAAAAAAAAAUQAAAAAAAABRAAAAAAAAAFEAAAAAAAAAUQAAAAAAAABRAAAAAAAAAFEAAAAAAAAAUQAAAAAAAABRAAAAAAAAAFEAAAAAAAAAUQAAAAAAAABRAAAAAAAAAFEAAAAAAAAAUQAAAAAAAABRAAAAAAAAAFEAAAAAAAAAUQAAAAAAAABRAAAAAAAAAFEAAAAAAAAAUQAAAAAAAABRAAAAAAAAAFEAAAAAAAAAUQAAAAAAAABRAAAAAAAAAFEAAAAAAAAAUQAAAAAAAABRAAAAAAAAAFEAAAAAAAAAUQAAAAAAAABRAAAAAAAAAFEAAAAAAAAAUQAAAAAAAABRAAAAAAAAAGEAAAAAAAAAYQAAAAAAAABhAAAAAAAAAGEAAAAAAAAAYQAAAAAAAABhAAAAAAAAAGEAAAAAAAAAYQAAAAAAAABhAAAAAAAAAGEAAAAAAAAAYQAAAAAAAABhAAAAAAAAAGEAAAAAAAAAYQAAAAAAAABhAAAAAAAAAGEAAAAAAAAAYQAAAAAAAABhAAAAAAAAAGEAAAAAAAAAYQAAAAAAAABhAAAAAAAAAGEAAAAAAAAAYQAAAAAAAABhAAAAAAAAAGEAAAAAAAAAYQAAAAAAAABhAAAAAAAAAGEAAAAAAAAAYQAAAAAAAABhAAAAAAAAAGEAAAAAAAAAYQAAAAAAAABhAAAAAAAAAGEAAAAAAAAAYQAAAAAAAABhAAAAAAAAAGEAAAAAAAAAYQAAAAAAAABhAAAAAAAAAGEAAAAAAAAAYQAAAAAAAABhAAAAAAAAAGEAAAAAAAAAYQAAAAAAAABhAAAAAAAAAGEAAAAAAAAAYQAAAAAAAABhAAAAAAAAAGEAAAAAAAAAYQAAAAAAAABhAAAAAAAAAGEAAAAAAAAAYQAAAAAAAABhAAAAAAAAAGEAAAAAAAAAYQAAAAAAAABhAAAAAAAAAGEAAAAAAAAAYQAAAAAAAABhAAAAAAAAAGEAAAAAAAAAYQAAAAAAAABhAAAAAAAAAGEAAAAAAAAAYQAAAAAAAABhAAAAAAAAAGEAAAAAAAAAYQAAAAAAAABhAAAAAAAAAGEAAAAAAAAAYQAAAAAAAABhAAAAAAAAAGEAAAAAAAAAYQAAAAAAAABhAAAAAAAAAGEAAAAAAAAAYQAAAAAAAABhAAAAAAAAAGEAAAAAAAAAYQAAAAAAAABhAAAAAAAAAGEAAAAAAAAAYQAAAAAAAABhAAAAAAAAAGEAAAAAAAAAYQAAAAAAAABhAAAAAAAAAGEAAAAAAAAAYQAAAAAAAABhAAAAAAAAAGEAAAAAAAAAYQAAAAAAAABhAAAAAAAAAHEAAAAAAAAAcQAAAAAAAABxAAAAAAAAAHEAAAAAAAAAcQAAAAAAAABxAAAAAAAAAHEAAAAAAAAAcQAAAAAAAABxAAAAAAAAAHEAAAAAAAAAcQAAAAAAAABxAAAAAAAAAHEAAAAAAAAAcQAAAAAAAABxAAAAAAAAAHEAAAAAAAAAcQAAAAAAAABxAAAAAAAAAHEAAAAAAAAAcQAAAAAAAABxAAAAAAAAAHEAAAAAAAAAcQAAAAAAAABxAAAAAAAAAHEAAAAAAAAAcQAAAAAAAABxAAAAAAAAAHEAAAAAAAAAcQAAAAAAAABxAAAAAAAAAHEAAAAAAAAAcQAAAAAAAABxAAAAAAAAAHEAAAAAAAAAcQAAAAAAAABxAAAAAAAAAHEAAAAAAAAAcQAAAAAAAABxAAAAAAAAAHEAAAAAAAAAcQAAAAAAAABxAAAAAAAAAHEAAAAAAAAAcQAAAAAAAABxAAAAAAAAAHEAAAAAAAAAcQAAAAAAAABxAAAAAAAAAHEAAAAAAAAAcQAAAAAAAABxAAAAAAAAAHEAAAAAAAAAcQAAAAAAAABxAAAAAAAAAHEAAAAAAAAAcQAAAAAAAABxAAAAAAAAAHEAAAAAAAAAcQAAAAAAAABxAAAAAAAAAHEAAAAAAAAAcQAAAAAAAABxAAAAAAAAAHEAAAAAAAAAcQAAAAAAAABxAAAAAAAAAHEAAAAAAAAAcQAAAAAAAABxAAAAAAAAAHEAAAAAAAAAcQAAAAAAAABxAAAAAAAAAHEAAAAAAAAAcQAAAAAAAABxAAAAAAAAAHEAAAAAAAAAcQAAAAAAAABxAAAAAAAAAHEAAAAAAAAAcQAAAAAAAABxAAAAAAAAAHEAAAAAAAAAcQAAAAAAAABxAAAAAAAAAHEAAAAAAAAAcQAAAAAAAABxAAAAAAAAAHEAAAAAAAAAcQAAAAAAAABxAAAAAAAAAHEAAAAAAAAAcQAAAAAAAABxAAAAAAAAAIEAAAAAAAAAgQAAAAAAAACBAAAAAAAAAIEAAAAAAAAAgQAAAAAAAACBAAAAAAAAAIEAAAAAAAAAgQAAAAAAAACBAAAAAAAAAIEAAAAAAAAAgQAAAAAAAACBAAAAAAAAAIEAAAAAAAAAgQAAAAAAAACBAAAAAAAAAIEAAAAAAAAAgQAAAAAAAACBAAAAAAAAAIEAAAAAAAAAgQAAAAAAAACBAAAAAAAAAIEAAAAAAAAAgQAAAAAAAACBAAAAAAAAAIEAAAAAAAAAgQAAAAAAAACBAAAAAAAAAIEAAAAAAAAAgQAAAAAAAACBAAAAAAAAAIEAAAAAAAAAgQAAAAAAAACBAAAAAAAAAIEAAAAAAAAAgQAAAAAAAACBAAAAAAAAAIEAAAAAAAAAgQAAAAAAAACBAAAAAAAAAIEAAAAAAAAAgQAAAAAAAACBAAAAAAAAAIEAAAAAAAAAgQAAAAAAAACBAAAAAAAAAIEAAAAAAAAAgQAAAAAAAACBAAAAAAAAAIEAAAAAAAAAgQAAAAAAAACBAAAAAAAAAIEAAAAAAAAAgQAAAAAAAACBAAAAAAAAAIEAAAAAAAAAgQAAAAAAAACBAAAAAAAAAIEAAAAAAAAAgQAAAAAAAACBAAAAAAAAAIEAAAAAAAAAgQAAAAAAAACBAAAAAAAAAIEAAAAAAAAAgQAAAAAAAACBAAAAAAAAAIEAAAAAAAAAgQAAAAAAAACBAAAAAAAAAIEAAAAAAAAAgQAAAAAAAACBAAAAAAAAAIEAAAAAAAAAgQAAAAAAAACBAAAAAAAAAIEAAAAAAAAAgQAAAAAAAACBAAAAAAAAAIEAAAAAAAAAgQAAAAAAAACBAAAAAAAAAIEAAAAAAAAAgQAAAAAAAACBAAAAAAAAAIEAAAAAAAAAgQAAAAAAAACBAAAAAAAAAIEAAAAAAAAAgQAAAAAAAACBAAAAAAAAAIEAAAAAAAAAgQAAAAAAAACBAAAAAAAAAIkAAAAAAAAAiQAAAAAAAACJAAAAAAAAAIkAAAAAAAAAiQAAAAAAAACJAAAAAAAAAIkAAAAAAAAAiQAAAAAAAACJAAAAAAAAAIkAAAAAAAAAiQAAAAAAAACJAAAAAAAAAIkAAAAAAAAAiQAAAAAAAACJAAAAAAAAAIkAAAAAAAAAiQAAAAAAAACJAAAAAAAAAIkAAAAAAAAAiQAAAAAAAACJAAAAAAAAAIkAAAAAAAAAiQAAAAAAAACJAAAAAAAAAIkAAAAAAAAAiQAAAAAAAACJAAAAAAAAAIkAAAAAAAAAiQAAAAAAAACJAAAAAAAAAIkAAAAAAAAAiQAAAAAAAACJAAAAAAAAAIkAAAAAAAAAiQAAAAAAAACJAAAAAAAAAIkAAAAAAAAAiQAAAAAAAACJAAAAAAAAAIkAAAAAAAAAiQAAAAAAAACJAAAAAAAAAIkAAAAAAAAAiQAAAAAAAACJAAAAAAAAAIkAAAAAAAAAiQAAAAAAAACJAAAAAAAAAIkAAAAAAAAAiQAAAAAAAACJAAAAAAAAAIkAAAAAAAAAiQAAAAAAAACJAAAAAAAAAIkAAAAAAAAAiQAAAAAAAACJAAAAAAAAAIkAAAAAAAAAiQAAAAAAAACJAAAAAAAAAIkAAAAAAAAAiQAAAAAAAACJAAAAAAAAAIkAAAAAAAAAiQAAAAAAAACJAAAAAAAAAIkAAAAAAAAAiQAAAAAAAACJAAAAAAAAAIkAAAAAAAAAiQAAAAAAAACJAAAAAAAAAIkAAAAAAAAAiQAAAAAAAACJAAAAAAAAAIkAAAAAAAAAiQAAAAAAAACJAAAAAAAAAIkAAAAAAAAAiQAAAAAAAACJAAAAAAAAAIkAAAAAAAAAiQAAAAAAAACJAAAAAAAAAIkAAAAAAAAAiQAAAAAAAACJAAAAAAAAAIkAAAAAAAAAiQAAAAAAAACJAAAAAAAAAIkAAAAAAAAAiQAAAAAAAACJA\",\"dtype\":\"float64\",\"shape\":[1674]},\"vre_scale_none\":{\"__ndarray__\":\"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\",\"dtype\":\"float64\",\"shape\":[1674]}},\"selected\":{\"id\":\"15176\",\"type\":\"Selection\"},\"selection_policy\":{\"id\":\"15177\",\"type\":\"UnionRenderers\"}},\"id\":\"14265\",\"type\":\"ColumnDataSource\"},{\"attributes\":{},\"id\":\"14284\",\"type\":\"LinearScale\"},{\"attributes\":{\"fill_color\":\"rgba(255, 255, 179, 0.9)\",\"x\":{\"field\":\"vre_scale_none\"},\"y1\":{\"expr\":{\"id\":\"14313\",\"type\":\"Stack\"}},\"y2\":{\"expr\":{\"id\":\"14314\",\"type\":\"Stack\"}}},\"id\":\"14330\",\"type\":\"VArea\"},{\"attributes\":{\"text\":\"\"},\"id\":\"14577\",\"type\":\"Title\"},{\"attributes\":{\"source\":{\"id\":\"14267\",\"type\":\"ColumnDataSource\"}},\"id\":\"14657\",\"type\":\"CDSView\"},{\"attributes\":{},\"id\":\"14303\",\"type\":\"HelpTool\"},{\"attributes\":{\"label\":{\"value\":\"gas_p\"},\"renderers\":[{\"id\":\"14320\",\"type\":\"GlyphRenderer\"}]},\"id\":\"14328\",\"type\":\"LegendItem\"},{\"attributes\":{},\"id\":\"14579\",\"type\":\"BasicTickFormatter\"},{\"attributes\":{\"label\":{\"value\":\"phs_pchg\"},\"renderers\":[{\"id\":\"14656\",\"type\":\"GlyphRenderer\"}]},\"id\":\"14669\",\"type\":\"LegendItem\"},{\"attributes\":{\"data_source\":{\"id\":\"14266\",\"type\":\"ColumnDataSource\"},\"glyph\":{\"id\":\"14318\",\"type\":\"VArea\"},\"hover_glyph\":null,\"muted_glyph\":null,\"name\":\"gas_p\",\"nonselection_glyph\":{\"id\":\"14319\",\"type\":\"VArea\"},\"selection_glyph\":null,\"view\":{\"id\":\"14269\",\"type\":\"CDSView\"}},\"id\":\"14320\",\"type\":\"GlyphRenderer\"},{\"attributes\":{},\"id\":\"14323\",\"type\":\"BasicTickFormatter\"},{\"attributes\":{\"children\":[{\"id\":\"14531\",\"type\":\"MultiSelect\"},{\"id\":\"14532\",\"type\":\"MultiSelect\"}]},\"id\":\"14678\",\"type\":\"WidgetBox\"},{\"attributes\":{},\"id\":\"14581\",\"type\":\"BasicTickFormatter\"},{\"attributes\":{},\"id\":\"14286\",\"type\":\"LinearScale\"},{\"attributes\":{\"data_source\":{\"id\":\"14267\",\"type\":\"ColumnDataSource\"},\"glyph\":{\"id\":\"14362\",\"type\":\"VArea\"},\"hover_glyph\":null,\"muted_glyph\":null,\"name\":\"curt_p\",\"nonselection_glyph\":{\"id\":\"14363\",\"type\":\"VArea\"},\"selection_glyph\":null,\"view\":{\"id\":\"14271\",\"type\":\"CDSView\"}},\"id\":\"14364\",\"type\":\"GlyphRenderer\"},{\"attributes\":{\"children\":[{\"id\":\"14678\",\"type\":\"WidgetBox\"},{\"id\":\"14533\",\"subtype\":\"Figure\",\"type\":\"Plot\"}]},\"id\":\"14679\",\"type\":\"Row\"},{\"attributes\":{\"bottom_units\":\"screen\",\"fill_alpha\":{\"value\":0.5},\"fill_color\":{\"value\":\"lightgrey\"},\"left_units\":\"screen\",\"level\":\"overlay\",\"line_alpha\":{\"value\":1.0},\"line_color\":{\"value\":\"black\"},\"line_dash\":[4,4],\"line_width\":{\"value\":2},\"render_mode\":\"css\",\"right_units\":\"screen\",\"top_units\":\"screen\"},\"id\":\"14582\",\"type\":\"BoxAnnotation\"},{\"attributes\":{\"items\":[{\"id\":\"14584\",\"type\":\"LegendItem\"},{\"id\":\"14599\",\"type\":\"LegendItem\"},{\"id\":\"14614\",\"type\":\"LegendItem\"},{\"id\":\"14635\",\"type\":\"LegendItem\"},{\"id\":\"14652\",\"type\":\"LegendItem\"},{\"id\":\"14669\",\"type\":\"LegendItem\"}],\"visible\":false},\"id\":\"14583\",\"type\":\"Legend\"},{\"attributes\":{\"label\":{\"value\":\"gas_p\"},\"renderers\":[{\"id\":\"14574\",\"type\":\"GlyphRenderer\"}]},\"id\":\"14672\",\"type\":\"LegendItem\"},{\"attributes\":{\"active_drag\":\"auto\",\"active_inspect\":\"auto\",\"active_multi\":null,\"active_scroll\":\"auto\",\"active_tap\":\"auto\",\"tools\":[{\"id\":\"14298\",\"type\":\"PanTool\"},{\"id\":\"14299\",\"type\":\"WheelZoomTool\"},{\"id\":\"14300\",\"type\":\"BoxZoomTool\"},{\"id\":\"14301\",\"type\":\"SaveTool\"},{\"id\":\"14302\",\"type\":\"ResetTool\"},{\"id\":\"14303\",\"type\":\"HelpTool\"}]},\"id\":\"14304\",\"type\":\"Toolbar\"},{\"attributes\":{\"label\":{\"value\":\"phs_pdch\"},\"renderers\":[{\"id\":\"14588\",\"type\":\"GlyphRenderer\"}]},\"id\":\"14673\",\"type\":\"LegendItem\"},{\"attributes\":{\"label\":{\"value\":\"gas_p\"},\"renderers\":[{\"id\":\"14574\",\"type\":\"GlyphRenderer\"}]},\"id\":\"14584\",\"type\":\"LegendItem\"},{\"attributes\":{\"fill_color\":\"rgba(253, 180, 98, 0.9)\",\"x\":{\"field\":\"vre_scale_none\"},\"y1\":{\"expr\":{\"id\":\"14357\",\"type\":\"Stack\"}},\"y2\":{\"expr\":{\"id\":\"14358\",\"type\":\"Stack\"}}},\"id\":\"14375\",\"type\":\"VArea\"},{\"attributes\":{\"label\":{\"value\":\"curt_p\"},\"renderers\":[{\"id\":\"14624\",\"type\":\"GlyphRenderer\"}]},\"id\":\"14635\",\"type\":\"LegendItem\"},{\"attributes\":{\"label\":{\"value\":\"vre\"},\"renderers\":[{\"id\":\"14603\",\"type\":\"GlyphRenderer\"}]},\"id\":\"14674\",\"type\":\"LegendItem\"},{\"attributes\":{\"fill_alpha\":0.1,\"fill_color\":\"#1f77b4\",\"x\":{\"field\":\"vre_scale_none\"},\"y1\":{\"expr\":{\"id\":\"14357\",\"type\":\"Stack\"}},\"y2\":{\"expr\":{\"id\":\"14358\",\"type\":\"Stack\"}}},\"id\":\"14376\",\"type\":\"VArea\"},{\"attributes\":{\"label\":{\"value\":\"curt_p\"},\"renderers\":[{\"id\":\"14624\",\"type\":\"GlyphRenderer\"}]},\"id\":\"14675\",\"type\":\"LegendItem\"},{\"attributes\":{\"data_source\":{\"id\":\"14267\",\"type\":\"ColumnDataSource\"},\"glyph\":{\"id\":\"14375\",\"type\":\"VArea\"},\"hover_glyph\":null,\"muted_glyph\":null,\"name\":\"l\",\"nonselection_glyph\":{\"id\":\"14376\",\"type\":\"VArea\"},\"selection_glyph\":null,\"view\":{\"id\":\"14271\",\"type\":\"CDSView\"}},\"id\":\"14377\",\"type\":\"GlyphRenderer\"},{\"attributes\":{\"fill_alpha\":0.1,\"fill_color\":\"#1f77b4\",\"x\":{\"field\":\"vre_scale_none\"},\"y1\":{\"expr\":{\"id\":\"14438\",\"type\":\"Stack\"}},\"y2\":{\"expr\":{\"id\":\"14439\",\"type\":\"Stack\"}}},\"id\":\"14446\",\"type\":\"VArea\"},{\"attributes\":{\"label\":{\"value\":\"l\"},\"renderers\":[{\"id\":\"14639\",\"type\":\"GlyphRenderer\"}]},\"id\":\"14676\",\"type\":\"LegendItem\"},{\"attributes\":{\"data_source\":{\"id\":\"14266\",\"type\":\"ColumnDataSource\"},\"glyph\":{\"id\":\"14445\",\"type\":\"VArea\"},\"hover_glyph\":null,\"muted_glyph\":null,\"name\":\"gas_p\",\"nonselection_glyph\":{\"id\":\"14446\",\"type\":\"VArea\"},\"selection_glyph\":null,\"view\":{\"id\":\"14273\",\"type\":\"CDSView\"}},\"id\":\"14447\",\"type\":\"GlyphRenderer\"},{\"attributes\":{},\"id\":\"14386\",\"type\":\"Selection\"},{\"attributes\":{\"label\":{\"value\":\"phs_pchg\"},\"renderers\":[{\"id\":\"14656\",\"type\":\"GlyphRenderer\"}]},\"id\":\"14677\",\"type\":\"LegendItem\"},{\"attributes\":{\"fields\":[\"curt_p\",\"l\"]},\"id\":\"14359\",\"type\":\"Stack\"},{\"attributes\":{},\"id\":\"14387\",\"type\":\"UnionRenderers\"},{\"attributes\":{},\"id\":\"14450\",\"type\":\"BasicTickFormatter\"},{\"attributes\":{\"below\":[{\"id\":\"14288\",\"type\":\"LinearAxis\"}],\"center\":[{\"id\":\"14292\",\"type\":\"Grid\"},{\"id\":\"14297\",\"type\":\"Grid\"},{\"id\":\"14327\",\"type\":\"Legend\"}],\"left\":[{\"id\":\"14293\",\"type\":\"LinearAxis\"}],\"plot_height\":300,\"plot_width\":400,\"renderers\":[{\"id\":\"14320\",\"type\":\"GlyphRenderer\"},{\"id\":\"14332\",\"type\":\"GlyphRenderer\"},{\"id\":\"14345\",\"type\":\"GlyphRenderer\"},{\"id\":\"14364\",\"type\":\"GlyphRenderer\"},{\"id\":\"14377\",\"type\":\"GlyphRenderer\"},{\"id\":\"14392\",\"type\":\"GlyphRenderer\"}],\"title\":{\"id\":\"14278\",\"type\":\"Title\"},\"toolbar\":{\"id\":\"14304\",\"type\":\"Toolbar\"},\"toolbar_location\":null,\"x_range\":{\"id\":\"14280\",\"type\":\"DataRange1d\"},\"x_scale\":{\"id\":\"14284\",\"type\":\"LinearScale\"},\"y_range\":{\"id\":\"14282\",\"type\":\"DataRange1d\"},\"y_scale\":{\"id\":\"14286\",\"type\":\"LinearScale\"}},\"id\":\"14277\",\"subtype\":\"Figure\",\"type\":\"Plot\"},{\"attributes\":{\"children\":[[{\"id\":\"14277\",\"subtype\":\"Figure\",\"type\":\"Plot\"},0,0],[{\"id\":\"14404\",\"subtype\":\"Figure\",\"type\":\"Plot\"},0,1]]},\"id\":\"14702\",\"type\":\"GridBox\"},{\"attributes\":{\"label\":{\"value\":\"l\"},\"renderers\":[{\"id\":\"14377\",\"type\":\"GlyphRenderer\"}]},\"id\":\"14388\",\"type\":\"LegendItem\"},{\"attributes\":{},\"id\":\"14452\",\"type\":\"BasicTickFormatter\"},{\"attributes\":{\"tools\":[{\"id\":\"14298\",\"type\":\"PanTool\"},{\"id\":\"14299\",\"type\":\"WheelZoomTool\"},{\"id\":\"14300\",\"type\":\"BoxZoomTool\"},{\"id\":\"14301\",\"type\":\"SaveTool\"},{\"id\":\"14302\",\"type\":\"ResetTool\"},{\"id\":\"14303\",\"type\":\"HelpTool\"},{\"id\":\"14425\",\"type\":\"PanTool\"},{\"id\":\"14426\",\"type\":\"WheelZoomTool\"},{\"id\":\"14427\",\"type\":\"BoxZoomTool\"},{\"id\":\"14428\",\"type\":\"SaveTool\"},{\"id\":\"14429\",\"type\":\"ResetTool\"},{\"id\":\"14430\",\"type\":\"HelpTool\"}]},\"id\":\"14703\",\"type\":\"ProxyToolbar\"},{\"attributes\":{},\"id\":\"14553\",\"type\":\"WheelZoomTool\"},{\"attributes\":{\"bottom_units\":\"screen\",\"fill_alpha\":{\"value\":0.5},\"fill_color\":{\"value\":\"lightgrey\"},\"left_units\":\"screen\",\"level\":\"overlay\",\"line_alpha\":{\"value\":1.0},\"line_color\":{\"value\":\"black\"},\"line_dash\":[4,4],\"line_width\":{\"value\":2},\"render_mode\":\"css\",\"right_units\":\"screen\",\"top_units\":\"screen\"},\"id\":\"14453\",\"type\":\"BoxAnnotation\"},{\"attributes\":{\"column_name\":\"slot\",\"group\":\"night\"},\"id\":\"14274\",\"type\":\"GroupFilter\"},{\"attributes\":{\"toolbar\":{\"id\":\"14703\",\"type\":\"ProxyToolbar\"},\"toolbar_location\":\"above\"},\"id\":\"14704\",\"type\":\"ToolbarBox\"},{\"attributes\":{\"items\":[{\"id\":\"14455\",\"type\":\"LegendItem\"},{\"id\":\"14468\",\"type\":\"LegendItem\"},{\"id\":\"14481\",\"type\":\"LegendItem\"},{\"id\":\"14500\",\"type\":\"LegendItem\"},{\"id\":\"14515\",\"type\":\"LegendItem\"},{\"id\":\"14530\",\"type\":\"LegendItem\"}],\"visible\":false},\"id\":\"14454\",\"type\":\"Legend\"},{\"attributes\":{\"fill_color\":\"rgba(179, 222, 105, 0.9)\",\"x\":{\"field\":\"vre_scale_none\"},\"y1\":{\"expr\":{\"id\":\"14359\",\"type\":\"Stack\"}},\"y2\":{\"expr\":{\"id\":\"14360\",\"type\":\"Stack\"}}},\"id\":\"14390\",\"type\":\"VArea\"},{\"attributes\":{\"children\":[{\"id\":\"14704\",\"type\":\"ToolbarBox\"},{\"id\":\"14702\",\"type\":\"GridBox\"}]},\"id\":\"14705\",\"type\":\"Column\"},{\"attributes\":{\"data_source\":{\"id\":\"14266\",\"type\":\"ColumnDataSource\"},\"glyph\":{\"id\":\"14457\",\"type\":\"VArea\"},\"hover_glyph\":null,\"muted_glyph\":null,\"name\":\"phs_pdch\",\"nonselection_glyph\":{\"id\":\"14458\",\"type\":\"VArea\"},\"selection_glyph\":null,\"view\":{\"id\":\"14273\",\"type\":\"CDSView\"}},\"id\":\"14459\",\"type\":\"GlyphRenderer\"},{\"attributes\":{\"fill_alpha\":0.1,\"fill_color\":\"#1f77b4\",\"x\":{\"field\":\"vre_scale_none\"},\"y1\":{\"expr\":{\"id\":\"14359\",\"type\":\"Stack\"}},\"y2\":{\"expr\":{\"id\":\"14360\",\"type\":\"Stack\"}}},\"id\":\"14391\",\"type\":\"VArea\"},{\"attributes\":{\"data_source\":{\"id\":\"14267\",\"type\":\"ColumnDataSource\"},\"glyph\":{\"id\":\"14390\",\"type\":\"VArea\"},\"hover_glyph\":null,\"muted_glyph\":null,\"name\":\"phs_pchg\",\"nonselection_glyph\":{\"id\":\"14391\",\"type\":\"VArea\"},\"selection_glyph\":null,\"view\":{\"id\":\"14271\",\"type\":\"CDSView\"}},\"id\":\"14392\",\"type\":\"GlyphRenderer\"},{\"attributes\":{\"label\":{\"value\":\"phs_pdch\"},\"renderers\":[{\"id\":\"14459\",\"type\":\"GlyphRenderer\"}]},\"id\":\"14468\",\"type\":\"LegendItem\"},{\"attributes\":{\"label\":{\"value\":\"phs_pchg\"},\"renderers\":[{\"id\":\"14392\",\"type\":\"GlyphRenderer\"}]},\"id\":\"14403\",\"type\":\"LegendItem\"},{\"attributes\":{},\"id\":\"14552\",\"type\":\"PanTool\"},{\"attributes\":{},\"id\":\"15174\",\"type\":\"Selection\"},{\"attributes\":{\"fill_color\":\"rgba(190, 186, 218, 0.9)\",\"x\":{\"field\":\"vre_scale_none\"},\"y1\":{\"expr\":{\"id\":\"14442\",\"type\":\"Stack\"}},\"y2\":{\"expr\":{\"id\":\"14443\",\"type\":\"Stack\"}}},\"id\":\"14470\",\"type\":\"VArea\"},{\"attributes\":{},\"id\":\"15175\",\"type\":\"UnionRenderers\"},{\"attributes\":{\"text\":\"slot = night\"},\"id\":\"14405\",\"type\":\"Title\"},{\"attributes\":{\"fill_alpha\":0.1,\"fill_color\":\"#1f77b4\",\"x\":{\"field\":\"vre_scale_none\"},\"y1\":{\"expr\":{\"id\":\"14442\",\"type\":\"Stack\"}},\"y2\":{\"expr\":{\"id\":\"14443\",\"type\":\"Stack\"}}},\"id\":\"14471\",\"type\":\"VArea\"},{\"attributes\":{},\"id\":\"15176\",\"type\":\"Selection\"},{\"attributes\":{\"callback\":null},\"id\":\"14407\",\"type\":\"DataRange1d\"},{\"attributes\":{\"data_source\":{\"id\":\"14266\",\"type\":\"ColumnDataSource\"},\"glyph\":{\"id\":\"14470\",\"type\":\"VArea\"},\"hover_glyph\":null,\"muted_glyph\":null,\"name\":\"vre\",\"nonselection_glyph\":{\"id\":\"14471\",\"type\":\"VArea\"},\"selection_glyph\":null,\"view\":{\"id\":\"14273\",\"type\":\"CDSView\"}},\"id\":\"14472\",\"type\":\"GlyphRenderer\"},{\"attributes\":{},\"id\":\"15177\",\"type\":\"UnionRenderers\"},{\"attributes\":{\"callback\":null},\"id\":\"14409\",\"type\":\"DataRange1d\"},{\"attributes\":{\"label\":{\"value\":\"vre\"},\"renderers\":[{\"id\":\"14472\",\"type\":\"GlyphRenderer\"}]},\"id\":\"14481\",\"type\":\"LegendItem\"},{\"attributes\":{\"filters\":[{\"id\":\"14274\",\"type\":\"GroupFilter\"}],\"source\":{\"id\":\"14267\",\"type\":\"ColumnDataSource\"}},\"id\":\"14275\",\"type\":\"CDSView\"},{\"attributes\":{},\"id\":\"14411\",\"type\":\"LinearScale\"},{\"attributes\":{\"fields\":[]},\"id\":\"14482\",\"type\":\"Stack\"},{\"attributes\":{\"ticker\":{\"id\":\"14289\",\"type\":\"BasicTicker\"}},\"id\":\"14292\",\"type\":\"Grid\"},{\"attributes\":{},\"id\":\"14413\",\"type\":\"LinearScale\"},{\"attributes\":{\"fields\":[\"curt_p\"]},\"id\":\"14483\",\"type\":\"Stack\"},{\"attributes\":{\"dimension\":1,\"ticker\":{\"id\":\"14294\",\"type\":\"BasicTicker\"}},\"id\":\"14297\",\"type\":\"Grid\"},{\"attributes\":{\"axis_label\":\"vre_scale_none\",\"formatter\":{\"id\":\"14452\",\"type\":\"BasicTickFormatter\"},\"ticker\":{\"id\":\"14416\",\"type\":\"BasicTicker\"}},\"id\":\"14415\",\"type\":\"LinearAxis\"},{\"attributes\":{\"fields\":[\"curt_p\"]},\"id\":\"14484\",\"type\":\"Stack\"},{\"attributes\":{},\"id\":\"14416\",\"type\":\"BasicTicker\"},{\"attributes\":{\"column_name\":\"slot\",\"group\":\"night\"},\"id\":\"14272\",\"type\":\"GroupFilter\"},{\"attributes\":{\"fields\":[\"curt_p\",\"l\"]},\"id\":\"14485\",\"type\":\"Stack\"},{\"attributes\":{\"ticker\":{\"id\":\"14416\",\"type\":\"BasicTicker\"}},\"id\":\"14419\",\"type\":\"Grid\"},{\"attributes\":{\"fields\":[\"curt_p\",\"l\"]},\"id\":\"14486\",\"type\":\"Stack\"},{\"attributes\":{\"formatter\":{\"id\":\"14450\",\"type\":\"BasicTickFormatter\"},\"ticker\":{\"id\":\"14421\",\"type\":\"BasicTicker\"}},\"id\":\"14420\",\"type\":\"LinearAxis\"},{\"attributes\":{\"fields\":[\"curt_p\",\"l\",\"phs_pchg\"]},\"id\":\"14487\",\"type\":\"Stack\"},{\"attributes\":{\"click_policy\":\"mute\",\"items\":[{\"id\":\"14672\",\"type\":\"LegendItem\"},{\"id\":\"14673\",\"type\":\"LegendItem\"},{\"id\":\"14674\",\"type\":\"LegendItem\"},{\"id\":\"14675\",\"type\":\"LegendItem\"},{\"id\":\"14676\",\"type\":\"LegendItem\"},{\"id\":\"14677\",\"type\":\"LegendItem\"}],\"location\":[0.5,0],\"orientation\":\"horizontal\"},\"id\":\"14671\",\"type\":\"Legend\"},{\"attributes\":{},\"id\":\"14421\",\"type\":\"BasicTicker\"},{\"attributes\":{\"fields\":[]},\"id\":\"14565\",\"type\":\"Stack\"},{\"attributes\":{\"text\":\"slot = day\"},\"id\":\"14278\",\"type\":\"Title\"},{\"attributes\":{\"dimension\":1,\"ticker\":{\"id\":\"14421\",\"type\":\"BasicTicker\"}},\"id\":\"14424\",\"type\":\"Grid\"},{\"attributes\":{\"fill_color\":\"rgba(128, 177, 211, 0.9)\",\"x\":{\"field\":\"vre_scale_none\"},\"y1\":{\"expr\":{\"id\":\"14482\",\"type\":\"Stack\"}},\"y2\":{\"expr\":{\"id\":\"14483\",\"type\":\"Stack\"}}},\"id\":\"14489\",\"type\":\"VArea\"},{\"attributes\":{\"fill_alpha\":0.1,\"fill_color\":\"#1f77b4\",\"x\":{\"field\":\"vre_scale_none\"},\"y1\":{\"expr\":{\"id\":\"14482\",\"type\":\"Stack\"}},\"y2\":{\"expr\":{\"id\":\"14483\",\"type\":\"Stack\"}}},\"id\":\"14490\",\"type\":\"VArea\"},{\"attributes\":{\"fields\":[\"gas_p\"]},\"id\":\"14439\",\"type\":\"Stack\"},{\"attributes\":{\"data_source\":{\"id\":\"14267\",\"type\":\"ColumnDataSource\"},\"glyph\":{\"id\":\"14489\",\"type\":\"VArea\"},\"hover_glyph\":null,\"muted_glyph\":null,\"name\":\"curt_p\",\"nonselection_glyph\":{\"id\":\"14490\",\"type\":\"VArea\"},\"selection_glyph\":null,\"view\":{\"id\":\"14275\",\"type\":\"CDSView\"}},\"id\":\"14491\",\"type\":\"GlyphRenderer\"},{\"attributes\":{\"above\":[{\"id\":\"14671\",\"type\":\"Legend\"}],\"background_fill_alpha\":{\"value\":0},\"below\":[{\"id\":\"14542\",\"type\":\"LinearAxis\"}],\"border_fill_alpha\":{\"value\":0},\"center\":[{\"id\":\"14546\",\"type\":\"Grid\"},{\"id\":\"14551\",\"type\":\"Grid\"},{\"id\":\"14583\",\"type\":\"Legend\"}],\"left\":[{\"id\":\"14547\",\"type\":\"LinearAxis\"}],\"outline_line_color\":{\"value\":null},\"plot_height\":100,\"renderers\":[{\"id\":\"14574\",\"type\":\"GlyphRenderer\"},{\"id\":\"14588\",\"type\":\"GlyphRenderer\"},{\"id\":\"14603\",\"type\":\"GlyphRenderer\"},{\"id\":\"14624\",\"type\":\"GlyphRenderer\"},{\"id\":\"14639\",\"type\":\"GlyphRenderer\"},{\"id\":\"14656\",\"type\":\"GlyphRenderer\"}],\"title\":{\"id\":\"14577\",\"type\":\"Title\"},\"toolbar\":{\"id\":\"14558\",\"type\":\"Toolbar\"},\"toolbar_location\":null,\"x_range\":{\"id\":\"14534\",\"type\":\"DataRange1d\"},\"x_scale\":{\"id\":\"14538\",\"type\":\"LinearScale\"},\"y_range\":{\"id\":\"14536\",\"type\":\"DataRange1d\"},\"y_scale\":{\"id\":\"14540\",\"type\":\"LinearScale\"}},\"id\":\"14533\",\"subtype\":\"Figure\",\"type\":\"Plot\"},{\"attributes\":{\"active_drag\":\"auto\",\"active_inspect\":\"auto\",\"active_multi\":null,\"active_scroll\":\"auto\",\"active_tap\":\"auto\",\"tools\":[{\"id\":\"14425\",\"type\":\"PanTool\"},{\"id\":\"14426\",\"type\":\"WheelZoomTool\"},{\"id\":\"14427\",\"type\":\"BoxZoomTool\"},{\"id\":\"14428\",\"type\":\"SaveTool\"},{\"id\":\"14429\",\"type\":\"ResetTool\"},{\"id\":\"14430\",\"type\":\"HelpTool\"}]},\"id\":\"14431\",\"type\":\"Toolbar\"},{\"attributes\":{},\"id\":\"14294\",\"type\":\"BasicTicker\"},{\"attributes\":{\"label\":{\"value\":\"curt_p\"},\"renderers\":[{\"id\":\"14491\",\"type\":\"GlyphRenderer\"}]},\"id\":\"14500\",\"type\":\"LegendItem\"},{\"attributes\":{},\"id\":\"14425\",\"type\":\"PanTool\"},{\"attributes\":{\"fields\":[\"gas_p\"]},\"id\":\"14566\",\"type\":\"Stack\"},{\"attributes\":{},\"id\":\"14426\",\"type\":\"WheelZoomTool\"},{\"attributes\":{\"fill_color\":\"rgba(253, 180, 98, 0.9)\",\"x\":{\"field\":\"vre_scale_none\"},\"y1\":{\"expr\":{\"id\":\"14484\",\"type\":\"Stack\"}},\"y2\":{\"expr\":{\"id\":\"14485\",\"type\":\"Stack\"}}},\"id\":\"14502\",\"type\":\"VArea\"},{\"attributes\":{\"overlay\":{\"id\":\"14453\",\"type\":\"BoxAnnotation\"}},\"id\":\"14427\",\"type\":\"BoxZoomTool\"},{\"attributes\":{\"fields\":[]},\"id\":\"14311\",\"type\":\"Stack\"},{\"attributes\":{\"fill_alpha\":0.1,\"fill_color\":\"#1f77b4\",\"x\":{\"field\":\"vre_scale_none\"},\"y1\":{\"expr\":{\"id\":\"14484\",\"type\":\"Stack\"}},\"y2\":{\"expr\":{\"id\":\"14485\",\"type\":\"Stack\"}}},\"id\":\"14503\",\"type\":\"VArea\"},{\"attributes\":{},\"id\":\"14428\",\"type\":\"SaveTool\"},{\"attributes\":{\"formatter\":{\"id\":\"14323\",\"type\":\"BasicTickFormatter\"},\"ticker\":{\"id\":\"14294\",\"type\":\"BasicTicker\"}},\"id\":\"14293\",\"type\":\"LinearAxis\"},{\"attributes\":{\"data_source\":{\"id\":\"14267\",\"type\":\"ColumnDataSource\"},\"glyph\":{\"id\":\"14502\",\"type\":\"VArea\"},\"hover_glyph\":null,\"muted_glyph\":null,\"name\":\"l\",\"nonselection_glyph\":{\"id\":\"14503\",\"type\":\"VArea\"},\"selection_glyph\":null,\"view\":{\"id\":\"14275\",\"type\":\"CDSView\"}},\"id\":\"14504\",\"type\":\"GlyphRenderer\"},{\"attributes\":{},\"id\":\"14429\",\"type\":\"ResetTool\"},{\"attributes\":{\"label\":{\"value\":\"l\"},\"renderers\":[{\"id\":\"14504\",\"type\":\"GlyphRenderer\"}]},\"id\":\"14515\",\"type\":\"LegendItem\"},{\"attributes\":{},\"id\":\"14430\",\"type\":\"HelpTool\"},{\"attributes\":{\"dimension\":1,\"ticker\":{\"id\":\"14548\",\"type\":\"BasicTicker\"},\"visible\":false},\"id\":\"14551\",\"type\":\"Grid\"},{\"attributes\":{\"callback\":null},\"id\":\"14282\",\"type\":\"DataRange1d\"},{\"attributes\":{\"fill_color\":\"rgba(179, 222, 105, 0.9)\",\"x\":{\"field\":\"vre_scale_none\"},\"y1\":{\"expr\":{\"id\":\"14486\",\"type\":\"Stack\"}},\"y2\":{\"expr\":{\"id\":\"14487\",\"type\":\"Stack\"}}},\"id\":\"14517\",\"type\":\"VArea\"},{\"attributes\":{\"fields\":[\"gas_p\"]},\"id\":\"14440\",\"type\":\"Stack\"},{\"attributes\":{\"fields\":[\"gas_p\",\"phs_pdch\"]},\"id\":\"14441\",\"type\":\"Stack\"},{\"attributes\":{\"fill_alpha\":0.1,\"fill_color\":\"#1f77b4\",\"x\":{\"field\":\"vre_scale_none\"},\"y1\":{\"expr\":{\"id\":\"14486\",\"type\":\"Stack\"}},\"y2\":{\"expr\":{\"id\":\"14487\",\"type\":\"Stack\"}}},\"id\":\"14518\",\"type\":\"VArea\"},{\"attributes\":{\"fields\":[]},\"id\":\"14438\",\"type\":\"Stack\"},{\"attributes\":{\"filters\":[{\"id\":\"14272\",\"type\":\"GroupFilter\"}],\"source\":{\"id\":\"14266\",\"type\":\"ColumnDataSource\"}},\"id\":\"14273\",\"type\":\"CDSView\"},{\"attributes\":{\"below\":[{\"id\":\"14415\",\"type\":\"LinearAxis\"}],\"center\":[{\"id\":\"14419\",\"type\":\"Grid\"},{\"id\":\"14424\",\"type\":\"Grid\"},{\"id\":\"14454\",\"type\":\"Legend\"}],\"left\":[{\"id\":\"14420\",\"type\":\"LinearAxis\"}],\"plot_height\":300,\"plot_width\":400,\"renderers\":[{\"id\":\"14447\",\"type\":\"GlyphRenderer\"},{\"id\":\"14459\",\"type\":\"GlyphRenderer\"},{\"id\":\"14472\",\"type\":\"GlyphRenderer\"},{\"id\":\"14491\",\"type\":\"GlyphRenderer\"},{\"id\":\"14504\",\"type\":\"GlyphRenderer\"},{\"id\":\"14519\",\"type\":\"GlyphRenderer\"}],\"title\":{\"id\":\"14405\",\"type\":\"Title\"},\"toolbar\":{\"id\":\"14431\",\"type\":\"Toolbar\"},\"toolbar_location\":null,\"x_range\":{\"id\":\"14407\",\"type\":\"DataRange1d\"},\"x_scale\":{\"id\":\"14411\",\"type\":\"LinearScale\"},\"y_range\":{\"id\":\"14409\",\"type\":\"DataRange1d\"},\"y_scale\":{\"id\":\"14413\",\"type\":\"LinearScale\"}},\"id\":\"14404\",\"subtype\":\"Figure\",\"type\":\"Plot\"},{\"attributes\":{\"data_source\":{\"id\":\"14267\",\"type\":\"ColumnDataSource\"},\"glyph\":{\"id\":\"14517\",\"type\":\"VArea\"},\"hover_glyph\":null,\"muted_glyph\":null,\"name\":\"phs_pchg\",\"nonselection_glyph\":{\"id\":\"14518\",\"type\":\"VArea\"},\"selection_glyph\":null,\"view\":{\"id\":\"14275\",\"type\":\"CDSView\"}},\"id\":\"14519\",\"type\":\"GlyphRenderer\"},{\"attributes\":{\"fields\":[\"gas_p\",\"phs_pdch\"]},\"id\":\"14442\",\"type\":\"Stack\"},{\"attributes\":{\"label\":{\"value\":\"phs_pchg\"},\"renderers\":[{\"id\":\"14519\",\"type\":\"GlyphRenderer\"}]},\"id\":\"14530\",\"type\":\"LegendItem\"},{\"attributes\":{\"fields\":[\"gas_p\",\"phs_pdch\",\"vre\"]},\"id\":\"14443\",\"type\":\"Stack\"},{\"attributes\":{},\"id\":\"14298\",\"type\":\"PanTool\"},{\"attributes\":{\"label\":{\"value\":\"gas_p\"},\"renderers\":[{\"id\":\"14447\",\"type\":\"GlyphRenderer\"}]},\"id\":\"14455\",\"type\":\"LegendItem\"},{\"attributes\":{\"fill_color\":\"rgba(141, 211, 199, 0.9)\",\"x\":{\"field\":\"vre_scale_none\"},\"y1\":{\"expr\":{\"id\":\"14438\",\"type\":\"Stack\"}},\"y2\":{\"expr\":{\"id\":\"14439\",\"type\":\"Stack\"}}},\"id\":\"14445\",\"type\":\"VArea\"}],\"root_ids\":[\"14706\"]},\"title\":\"Bokeh Application\",\"version\":\"1.3.4\"}};\n",
       "  var render_items = [{\"docid\":\"30430198-1d31-48f6-9775-8809d89921b2\",\"roots\":{\"14706\":\"91504ba0-429a-47eb-9c48-3d67dfe64793\"}}];\n",
       "  root.Bokeh.embed.embed_items_notebook(docs_json, render_items);\n",
       "\n",
       "  }\n",
       "  if (root.Bokeh !== undefined) {\n",
       "    embed_document(root);\n",
       "  } else {\n",
       "    var attempts = 0;\n",
       "    var timer = setInterval(function(root) {\n",
       "      if (root.Bokeh !== undefined) {\n",
       "        embed_document(root);\n",
       "        clearInterval(timer);\n",
       "      }\n",
       "      attempts++;\n",
       "      if (attempts > 100) {\n",
       "        console.log(\"Bokeh: ERROR: Unable to run BokehJS code because BokehJS library is missing\");\n",
       "        clearInterval(timer);\n",
       "      }\n",
       "    }, 10, root)\n",
       "  }\n",
       "})(window);"
      ],
      "application/vnd.bokehjs_exec.v0+json": ""
     },
     "metadata": {
      "application/vnd.bokehjs_exec.v0+json": {
       "id": "14706"
      }
     },
     "output_type": "display_data"
    }
   ],
   "source": [
    "import evaluator.plotting as plotting\n",
    "from bokeh.io import show, output_notebook\n",
    "output_notebook(verbose=False)\n",
    "\n",
    "balplot = plotting.BalancePlot(ev, ind_axx='vre_scale_none', ind_pltx='slot', ind_plty=None)\n",
    "show(balplot._get_layout())"
   ]
  },
  {
   "cell_type": "markdown",
   "metadata": {},
   "source": [
    "The evaluator results can also be used to determine relevant constraint combinations for further analysis. Based on the plots above, we might be interested in the optimal solution corresponding to the parameter values `vre_day == 9`, `eff_phs_non == 0.5` and `vre_scale_none == 1`."
   ]
  },
  {
   "cell_type": "code",
   "execution_count": 66,
   "metadata": {},
   "outputs": [
    {
     "data": {
      "text/html": [
       "<div>\n",
       "<style scoped>\n",
       "    .dataframe tbody tr th:only-of-type {\n",
       "        vertical-align: middle;\n",
       "    }\n",
       "\n",
       "    .dataframe tbody tr th {\n",
       "        vertical-align: top;\n",
       "    }\n",
       "\n",
       "    .dataframe thead th {\n",
       "        text-align: right;\n",
       "    }\n",
       "</style>\n",
       "<table border=\"1\" class=\"dataframe\">\n",
       "  <thead>\n",
       "    <tr style=\"text-align: right;\">\n",
       "      <th></th>\n",
       "      <th>vre_scale_none</th>\n",
       "      <th>vre_day</th>\n",
       "      <th>eff_phs_none</th>\n",
       "      <th>idx</th>\n",
       "      <th>func</th>\n",
       "      <th>lambd</th>\n",
       "      <th>is_optimum</th>\n",
       "    </tr>\n",
       "  </thead>\n",
       "  <tbody>\n",
       "    <tr>\n",
       "      <th>1132</th>\n",
       "      <td>1.0</td>\n",
       "      <td>9.0</td>\n",
       "      <td>0.5</td>\n",
       "      <td>3</td>\n",
       "      <td>curt_p_day_lam_plot</td>\n",
       "      <td>0.000000</td>\n",
       "      <td>True</td>\n",
       "    </tr>\n",
       "    <tr>\n",
       "      <th>9070</th>\n",
       "      <td>1.0</td>\n",
       "      <td>9.0</td>\n",
       "      <td>0.5</td>\n",
       "      <td>3</td>\n",
       "      <td>curt_p_night_lam_plot</td>\n",
       "      <td>0.000000</td>\n",
       "      <td>True</td>\n",
       "    </tr>\n",
       "    <tr>\n",
       "      <th>17008</th>\n",
       "      <td>1.0</td>\n",
       "      <td>9.0</td>\n",
       "      <td>0.5</td>\n",
       "      <td>3</td>\n",
       "      <td>gas_p_day_lam_plot</td>\n",
       "      <td>3.799434</td>\n",
       "      <td>True</td>\n",
       "    </tr>\n",
       "    <tr>\n",
       "      <th>24946</th>\n",
       "      <td>1.0</td>\n",
       "      <td>9.0</td>\n",
       "      <td>0.5</td>\n",
       "      <td>3</td>\n",
       "      <td>gas_p_night_lam_plot</td>\n",
       "      <td>7.600283</td>\n",
       "      <td>True</td>\n",
       "    </tr>\n",
       "    <tr>\n",
       "      <th>32884</th>\n",
       "      <td>1.0</td>\n",
       "      <td>9.0</td>\n",
       "      <td>0.5</td>\n",
       "      <td>3</td>\n",
       "      <td>phs_e_day_lam_plot</td>\n",
       "      <td>1.979499</td>\n",
       "      <td>True</td>\n",
       "    </tr>\n",
       "    <tr>\n",
       "      <th>40822</th>\n",
       "      <td>1.0</td>\n",
       "      <td>9.0</td>\n",
       "      <td>0.5</td>\n",
       "      <td>3</td>\n",
       "      <td>phs_e_night_lam_plot</td>\n",
       "      <td>0.000000</td>\n",
       "      <td>True</td>\n",
       "    </tr>\n",
       "    <tr>\n",
       "      <th>48760</th>\n",
       "      <td>1.0</td>\n",
       "      <td>9.0</td>\n",
       "      <td>0.5</td>\n",
       "      <td>3</td>\n",
       "      <td>phs_pchg_day_lam_plot</td>\n",
       "      <td>2.799434</td>\n",
       "      <td>True</td>\n",
       "    </tr>\n",
       "    <tr>\n",
       "      <th>56698</th>\n",
       "      <td>1.0</td>\n",
       "      <td>9.0</td>\n",
       "      <td>0.5</td>\n",
       "      <td>3</td>\n",
       "      <td>phs_pchg_night_lam_plot</td>\n",
       "      <td>0.000000</td>\n",
       "      <td>True</td>\n",
       "    </tr>\n",
       "    <tr>\n",
       "      <th>64636</th>\n",
       "      <td>1.0</td>\n",
       "      <td>9.0</td>\n",
       "      <td>0.5</td>\n",
       "      <td>3</td>\n",
       "      <td>phs_pdch_day_lam_plot</td>\n",
       "      <td>0.000000</td>\n",
       "      <td>True</td>\n",
       "    </tr>\n",
       "    <tr>\n",
       "      <th>72574</th>\n",
       "      <td>1.0</td>\n",
       "      <td>9.0</td>\n",
       "      <td>0.5</td>\n",
       "      <td>3</td>\n",
       "      <td>phs_pdch_night_lam_plot</td>\n",
       "      <td>1.399717</td>\n",
       "      <td>True</td>\n",
       "    </tr>\n",
       "    <tr>\n",
       "      <th>80512</th>\n",
       "      <td>1.0</td>\n",
       "      <td>9.0</td>\n",
       "      <td>0.5</td>\n",
       "      <td>3</td>\n",
       "      <td>pi_supply_day_lam_plot</td>\n",
       "      <td>3.799434</td>\n",
       "      <td>True</td>\n",
       "    </tr>\n",
       "    <tr>\n",
       "      <th>88450</th>\n",
       "      <td>1.0</td>\n",
       "      <td>9.0</td>\n",
       "      <td>0.5</td>\n",
       "      <td>3</td>\n",
       "      <td>pi_supply_night_lam_plot</td>\n",
       "      <td>7.600283</td>\n",
       "      <td>True</td>\n",
       "    </tr>\n",
       "    <tr>\n",
       "      <th>96388</th>\n",
       "      <td>1.0</td>\n",
       "      <td>9.0</td>\n",
       "      <td>0.5</td>\n",
       "      <td>3</td>\n",
       "      <td>tc_lam_plot</td>\n",
       "      <td>36.101980</td>\n",
       "      <td>True</td>\n",
       "    </tr>\n",
       "  </tbody>\n",
       "</table>\n",
       "</div>"
      ],
      "text/plain": [
       "       vre_scale_none  vre_day  eff_phs_none  idx                      func  \\\n",
       "1132              1.0      9.0           0.5    3       curt_p_day_lam_plot   \n",
       "9070              1.0      9.0           0.5    3     curt_p_night_lam_plot   \n",
       "17008             1.0      9.0           0.5    3        gas_p_day_lam_plot   \n",
       "24946             1.0      9.0           0.5    3      gas_p_night_lam_plot   \n",
       "32884             1.0      9.0           0.5    3        phs_e_day_lam_plot   \n",
       "40822             1.0      9.0           0.5    3      phs_e_night_lam_plot   \n",
       "48760             1.0      9.0           0.5    3     phs_pchg_day_lam_plot   \n",
       "56698             1.0      9.0           0.5    3   phs_pchg_night_lam_plot   \n",
       "64636             1.0      9.0           0.5    3     phs_pdch_day_lam_plot   \n",
       "72574             1.0      9.0           0.5    3   phs_pdch_night_lam_plot   \n",
       "80512             1.0      9.0           0.5    3    pi_supply_day_lam_plot   \n",
       "88450             1.0      9.0           0.5    3  pi_supply_night_lam_plot   \n",
       "96388             1.0      9.0           0.5    3               tc_lam_plot   \n",
       "\n",
       "           lambd  is_optimum  \n",
       "1132    0.000000        True  \n",
       "9070    0.000000        True  \n",
       "17008   3.799434        True  \n",
       "24946   7.600283        True  \n",
       "32884   1.979499        True  \n",
       "40822   0.000000        True  \n",
       "48760   2.799434        True  \n",
       "56698   0.000000        True  \n",
       "64636   0.000000        True  \n",
       "72574   1.399717        True  \n",
       "80512   3.799434        True  \n",
       "88450   7.600283        True  \n",
       "96388  36.101980        True  "
      ]
     },
     "metadata": {},
     "output_type": "display_data"
    }
   ],
   "source": [
    "df_slct = ev.df_exp.query('is_optimum'\n",
    "                          ' and vre_day == 9'\n",
    "                          ' and eff_phs_none == 0.5'\n",
    "                          ' and vre_scale_none == 1')\n",
    "display(df_slct[ev.x_name + ['idx', 'func', 'lambd', 'is_optimum']])"
   ]
  },
  {
   "cell_type": "markdown",
   "metadata": {},
   "source": [
    "The index of the corresponding constraint combination is thus 3. \n",
    "\n",
    "Again, we can print the results using the `Model.print_results` function to obtain the corresponding closed-form symbolic solutions."
   ]
  },
  {
   "cell_type": "code",
   "execution_count": 72,
   "metadata": {
    "scrolled": false
   },
   "outputs": [
    {
     "name": "stdout",
     "output_type": "stream",
     "text": [
      "******************** curt_p_day ********************\n",
      "0\n",
      "******************** curt_p_night ********************\n",
      "0\n",
      "******************** gas_p_day ********************\n",
      "eff_phs_none**(-0.5)*(-eff_phs_none**0.5*(0.001*eff_phs_none**0.5 + vc0_gas_none)*(eff_phs_none**2.0 + 1) + eff_phs_none**1.5*(eff_phs_none**1.0*(vc0_gas_none - vc1_gas_none*(-l_day + vre_day*vre_scale_none)) + 0.001*eff_phs_none**1.5 + vc0_gas_none - vc1_gas_none*(-l_night + vre_night*vre_scale_none)))/(vc1_gas_none*(eff_phs_none**2.0 + 1))\n",
      "******************** gas_p_night ********************\n",
      "1.0*(1.0*eff_phs_none**1.0*l_day*vc1_gas_none + 1.0*eff_phs_none**1.0*vc0_gas_none - 1.0*eff_phs_none**1.0*vc1_gas_none*vre_day*vre_scale_none + 0.001*eff_phs_none**1.5 - 1.0*eff_phs_none**2.0*vc0_gas_none + 1.0*l_night*vc1_gas_none - 1.0*vc1_gas_none*vre_night*vre_scale_none)/(vc1_gas_none*(eff_phs_none**2.0 + 1))\n",
      "******************** lb_curt_pos_p_day ********************\n",
      "w_none*(0.001*eff_phs_none**0.5*(eff_phs_none**2.0 + 1) - eff_phs_none**1.0*(eff_phs_none**1.0*(vc0_gas_none - vc1_gas_none*(-l_day + vre_day*vre_scale_none)) + 0.001*eff_phs_none**1.5 + vc0_gas_none - vc1_gas_none*(-l_night + vre_night*vre_scale_none)))/(eff_phs_none**2.0 + 1)\n",
      "******************** lb_curt_pos_p_night ********************\n",
      "-w_none*(eff_phs_none**1.0*(vc0_gas_none + vc1_gas_none*(l_day - vre_day*vre_scale_none)) + 0.001*eff_phs_none**1.5 + vc0_gas_none + vc1_gas_none*(l_night - vre_night*vre_scale_none))/(eff_phs_none**2.0 + 1)\n",
      "******************** lb_phs_pos_e_night ********************\n",
      "-0.00200000000000000\n",
      "******************** lb_phs_pos_pchg_night ********************\n",
      "w_none*(eff_phs_none**1.0 - 1)*(eff_phs_none**1.0*(vc0_gas_none + vc1_gas_none*(l_day - vre_day*vre_scale_none)) + 0.001*eff_phs_none**1.5 + vc0_gas_none + vc1_gas_none*(l_night - vre_night*vre_scale_none))/(eff_phs_none**2.0 + 1)\n",
      "******************** lb_phs_pos_pdch_day ********************\n",
      "eff_phs_none**(-1.5)*w_none*(1 - eff_phs_none**1.0)*(0.001*eff_phs_none**1.0*(eff_phs_none**2.0 + 1) - eff_phs_none**1.5*(eff_phs_none**1.0*(vc0_gas_none - vc1_gas_none*(-l_day + vre_day*vre_scale_none)) + 0.001*eff_phs_none**1.5 + vc0_gas_none - vc1_gas_none*(-l_night + vre_night*vre_scale_none)))/(eff_phs_none**2.0 + 1)\n",
      "******************** phs_e_day ********************\n",
      "eff_phs_none**0.5*w_none*(eff_phs_none**1.0*(eff_phs_none**1.0*(vc0_gas_none - vc1_gas_none*(-l_day + vre_day*vre_scale_none)) + 0.001*eff_phs_none**1.5 + vc0_gas_none - vc1_gas_none*(-l_night + vre_night*vre_scale_none)) - (eff_phs_none**2.0 + 1)*(0.001*eff_phs_none**0.5 + vc0_gas_none + vc1_gas_none*(l_day - vre_day*vre_scale_none)))/(vc1_gas_none*(eff_phs_none**2.0 + 1))\n",
      "******************** phs_e_night ********************\n",
      "0\n",
      "******************** phs_pchg_day ********************\n",
      "eff_phs_none**(-0.5)*(-eff_phs_none**0.5*(eff_phs_none**2.0 + 1)*(0.001*eff_phs_none**0.5 + vc0_gas_none - vc1_gas_none*(-l_day + vre_day*vre_scale_none)) + eff_phs_none**1.5*(eff_phs_none**1.0*(vc0_gas_none - vc1_gas_none*(-l_day + vre_day*vre_scale_none)) + 0.001*eff_phs_none**1.5 + vc0_gas_none - vc1_gas_none*(-l_night + vre_night*vre_scale_none)))/(vc1_gas_none*(eff_phs_none**2.0 + 1))\n",
      "******************** phs_pchg_night ********************\n",
      "0\n",
      "******************** phs_pdch_day ********************\n",
      "0\n",
      "******************** phs_pdch_night ********************\n",
      "eff_phs_none**1.0*(eff_phs_none**1.0*(eff_phs_none**1.0*(vc0_gas_none - vc1_gas_none*(-l_day + vre_day*vre_scale_none)) + 0.001*eff_phs_none**1.5 + vc0_gas_none - vc1_gas_none*(-l_night + vre_night*vre_scale_none)) - (eff_phs_none**2.0 + 1)*(0.001*eff_phs_none**0.5 + vc0_gas_none + vc1_gas_none*(l_day - vre_day*vre_scale_none)))/(vc1_gas_none*(eff_phs_none**2.0 + 1))\n",
      "******************** pi_phs_pwrerg_day ********************\n",
      "eff_phs_none**(-0.5)*(0.001*eff_phs_none**0.5*(eff_phs_none**2.0 + 1) - eff_phs_none**1.0*(eff_phs_none**1.0*(vc0_gas_none - vc1_gas_none*(-l_day + vre_day*vre_scale_none)) + 0.001*eff_phs_none**1.5 + vc0_gas_none - vc1_gas_none*(-l_night + vre_night*vre_scale_none)))/(eff_phs_none**2.0 + 1)\n",
      "******************** pi_phs_pwrerg_night ********************\n",
      "-eff_phs_none**0.5*(eff_phs_none**1.0*(vc0_gas_none + vc1_gas_none*(l_day - vre_day*vre_scale_none)) + 0.001*eff_phs_none**1.5 + vc0_gas_none + vc1_gas_none*(l_night - vre_night*vre_scale_none))/(eff_phs_none**2.0 + 1)\n",
      "******************** pi_supply_day ********************\n",
      "w_none*(-0.001*eff_phs_none**0.5*(eff_phs_none**2.0 + 1) + eff_phs_none**1.0*(eff_phs_none**1.0*(vc0_gas_none - vc1_gas_none*(-l_day + vre_day*vre_scale_none)) + 0.001*eff_phs_none**1.5 + vc0_gas_none - vc1_gas_none*(-l_night + vre_night*vre_scale_none)))/(eff_phs_none**2.0 + 1)\n",
      "******************** pi_supply_night ********************\n",
      "w_none*(eff_phs_none**1.0*(vc0_gas_none + vc1_gas_none*(l_day - vre_day*vre_scale_none)) + 0.001*eff_phs_none**1.5 + vc0_gas_none + vc1_gas_none*(l_night - vre_night*vre_scale_none))/(eff_phs_none**2.0 + 1)\n"
     ]
    }
   ],
   "source": [
    "m.print_results(m.df_comb, idx=df_slct.idx.tolist()[0])"
   ]
  }
 ],
 "metadata": {
  "kernelspec": {
   "display_name": "Python (symenerggy)",
   "language": "python",
   "name": "symenergy_new"
  },
  "language_info": {
   "codemirror_mode": {
    "name": "ipython",
    "version": 3
   },
   "file_extension": ".py",
   "mimetype": "text/x-python",
   "name": "python",
   "nbconvert_exporter": "python",
   "pygments_lexer": "ipython3",
   "version": "3.6.8"
  }
 },
 "nbformat": 4,
 "nbformat_minor": 2
}
