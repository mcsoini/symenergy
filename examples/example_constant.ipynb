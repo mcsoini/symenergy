{
 "cells": [
  {
   "cell_type": "raw",
   "metadata": {},
   "source": [
    "=============================================\n",
    "Example 1: Two plants, constant supply curves\n",
    "=============================================\n",
    "\n",
    "This example shows the application of SymEnergy to a system with\n",
    "\n",
    "* two time slots\n",
    "* two power plants\n",
    "* storage capacity\n",
    "\n",
    "Power plant cost supply curves are constant. A similar example was discussed in detail in `<https://doi.org/10.1016/j.eneco.2019.104495>`_\n",
    "\n",
    "On the technical side, this example demonstrates the adjustment of model parameters at various stages."
   ]
  },
  {
   "cell_type": "code",
   "execution_count": 33,
   "metadata": {
    "scrolled": true
   },
   "outputs": [],
   "source": [
    "from symenergy import logger\n",
    "logger.setLevel('ERROR')\n",
    "import symenergy.core.model as model"
   ]
  },
  {
   "cell_type": "raw",
   "metadata": {},
   "source": [
    "Model initialization\n",
    "====================\n",
    "\n",
    "* The model structure is initialized. See the documentation section :ref:`sect_comps` for further details on their parameters and initialization.\n",
    "* Parameter *values* (``load``, ``vre``, ``vc0``, ``capacity`` etc.) are insignificant at this stage as long as they are ``!=None``. They represent default values and define the model structure.\n",
    "* `m.generate_solve()`` loads the solved model results from the corresponding pickle file if a model with the same structure (variables and multipliers) was solved earlier. The method call ``m.cache.delete()`` would delete this file and forces the model to re-solve.\n",
    "* ``nthread`` is the number of cores used for parallelized solving using Python's multiprocessing.\n",
    "* ``curtailment=True`` adds curtailment variables to each of the model's time slots.\n",
    "* Storage operation is limited to day-time charging and night-time discharging, as defined by the ``slots_map`` parameter (see :ref:`label_theory_components_storage`)."
   ]
  },
  {
   "cell_type": "code",
   "execution_count": 34,
   "metadata": {
    "scrolled": true
   },
   "outputs": [],
   "source": [
    "m = model.Model(curtailment=True, slot_weight=12)\n",
    "\n",
    "m.add_slot(name='day', load=5000, vre=8500)\n",
    "m.add_slot(name='night', load=4500, vre=850)\n",
    "m.add_plant(name='n', vc0=10, capacity=3500, fcom=9, cap_ret=True)\n",
    "m.add_plant(name='g', vc0=90)\n",
    "m.add_storage(name='phs', eff=0.75, capacity=1, energy_capacity=1, slots_map={'chg': ['day'] , 'dch': ['night']})\n",
    "\n",
    "#m.cache.delete()\n",
    "m.generate_solve()"
   ]
  },
  {
   "cell_type": "raw",
   "metadata": {},
   "source": [
    "Example results\n",
    "---------------\n",
    "\n",
    "The model attribute `m.df_comb` is a DataFrame containing all mathematically feasible solutions of the optimization problem. It is indexed by the constraint combinations (columns `act_...` and `idx`).\n",
    "\n",
    "For any existing index ``idx`` we can print the results for each variable using the convenience function ``m.print_results``:"
   ]
  },
  {
   "cell_type": "code",
   "execution_count": 35,
   "metadata": {
    "scrolled": false
   },
   "outputs": [
    {
     "name": "stdout",
     "output_type": "stream",
     "text": [
      "******************** curt_p_day ********************\n",
      "0\n",
      "******************** curt_p_night ********************\n",
      "0\n",
      "******************** g_p_day ********************\n",
      "0\n",
      "******************** g_p_night ********************\n",
      "eff_phs_none**1.0*(l_day - vre_day*vre_scale_none) + l_night - vre_night*vre_scale_none\n",
      "******************** lb_curt_pos_p_day ********************\n",
      "eff_phs_none**0.5*w_none*(ec_phs_none - eff_phs_none**0.5*vc0_g_none)\n",
      "******************** lb_curt_pos_p_night ********************\n",
      "-vc0_g_none*w_none\n",
      "******************** lb_g_pos_p_day ********************\n",
      "w_none*(-ec_phs_none*eff_phs_none**0.5 + eff_phs_none**1.0*vc0_g_none - vc0_g_none)\n",
      "******************** lb_n_pos_C_ret_none ********************\n",
      "fcom_n_none\n",
      "******************** lb_n_pos_p_day ********************\n",
      "w_none*(-ec_phs_none*eff_phs_none**0.5 + eff_phs_none**1.0*vc0_g_none - vc0_n_none)\n",
      "******************** lb_n_pos_p_night ********************\n",
      "w_none*(vc0_g_none - vc0_n_none)\n",
      "******************** n_C_ret_none ********************\n",
      "0\n",
      "******************** n_p_day ********************\n",
      "0\n",
      "******************** n_p_night ********************\n",
      "0\n",
      "******************** phs_e_none ********************\n",
      "eff_phs_none**0.5*w_none*(-l_day + vre_day*vre_scale_none)\n",
      "******************** phs_pchg_day ********************\n",
      "-l_day + vre_day*vre_scale_none\n",
      "******************** phs_pdch_night ********************\n",
      "eff_phs_none**1.0*(-l_day + vre_day*vre_scale_none)\n",
      "******************** pi_phs_pwrerg_chg_none ********************\n",
      "ec_phs_none - eff_phs_none**0.5*vc0_g_none\n",
      "******************** pi_phs_pwrerg_dch_none ********************\n",
      "eff_phs_none**0.5*vc0_g_none\n",
      "******************** pi_supply_day ********************\n",
      "eff_phs_none**0.5*(-ec_phs_none + eff_phs_none**0.5*vc0_g_none)\n",
      "******************** pi_supply_night ********************\n",
      "vc0_g_none\n"
     ]
    }
   ],
   "source": [
    "m.print_results(218)"
   ]
  },
  {
   "cell_type": "raw",
   "metadata": {},
   "source": [
    "This constraint combination corresponds the combination of active and inactive constraints shown below:\n",
    "\n",
    "* The power output from the plant *n* is zero (``act_lb_n_pos_p_day == True``, ``act_lb_n_pos_p_night == True``)\n",
    "* The capacity retirement of *n* is zero (``act_lb_n_pos_C_ret_none == True``)\n",
    "* Consequently, none of the *n* capacity constraints are binding.\n",
    "* Day-time power production from *g* us zero (``act_lb_g_pos_p_day == True``)\n",
    "* Storage operation is non-zero (``act_lb_phs_pos_... == False``) and not capacity-constrained (``act_lb_phs_..._cap_... == False``)\n",
    "* Curtailment is zero during both time slots (``act_lb_curt_pos_p_... == True``)"
   ]
  },
  {
   "cell_type": "code",
   "execution_count": 36,
   "metadata": {},
   "outputs": [
    {
     "data": {
      "text/plain": [
       "act_lb_n_pos_p_day              True\n",
       "act_lb_n_pos_p_night            True\n",
       "act_lb_n_pos_C_ret_none         True\n",
       "act_lb_n_p_cap_C_day           False\n",
       "act_lb_n_p_cap_C_night         False\n",
       "act_lb_n_C_ret_cap_C_none      False\n",
       "act_lb_g_pos_p_day              True\n",
       "act_lb_g_pos_p_night           False\n",
       "act_lb_phs_pos_pchg_day        False\n",
       "act_lb_phs_pos_e_none          False\n",
       "act_lb_phs_pos_pdch_night      False\n",
       "act_lb_phs_pchg_cap_C_day      False\n",
       "act_lb_phs_pdch_cap_C_night    False\n",
       "act_lb_phs_e_cap_E_none        False\n",
       "act_lb_curt_pos_p_day           True\n",
       "act_lb_curt_pos_p_night         True\n",
       "Name: 218, dtype: object"
      ]
     },
     "metadata": {},
     "output_type": "display_data"
    }
   ],
   "source": [
    "display(m.df_comb.set_index('idx').loc[218, m.constrs_cols_neq].T)"
   ]
  },
  {
   "cell_type": "raw",
   "metadata": {},
   "source": [
    "All model parameters are gathered in the ``m.parameters`` collection. Their attributes can be accessed by calling the ``Parameters`` instance."
   ]
  },
  {
   "cell_type": "code",
   "execution_count": 37,
   "metadata": {},
   "outputs": [
    {
     "data": {
      "text/plain": [
       "[('vc0_n_none', 10),\n",
       " ('fcom_n_none', 9),\n",
       " ('C_n_none', 3500),\n",
       " ('vc0_g_none', 90),\n",
       " ('l_day', 5000),\n",
       " ('vre_day', 8500),\n",
       " ('w_none', 12),\n",
       " ('l_night', 4500),\n",
       " ('vre_night', 850),\n",
       " ('ec_phs_none', 1e-12),\n",
       " ('eff_phs_none', 0.75),\n",
       " ('C_phs_none', 1),\n",
       " ('E_phs_none', 1),\n",
       " ('vre_scale_none', 1)]"
      ]
     },
     "execution_count": 37,
     "metadata": {},
     "output_type": "execute_result"
    }
   ],
   "source": [
    "m.parameters(('name', 'value'))"
   ]
  },
  {
   "cell_type": "raw",
   "metadata": {},
   "source": [
    "Similarly, constraints and their expressions are stored in instances of the ``Variables`` class (of the model and the components). For example, the storage's inequality constraint names, multiplier symbols, and expressions can be accessed as follows:"
   ]
  },
  {
   "cell_type": "code",
   "execution_count": 38,
   "metadata": {},
   "outputs": [
    {
     "data": {
      "text/plain": [
       "[('phs_pos_pchg_day', lb_phs_pos_pchg_day, phs_pchg_day),\n",
       " ('phs_pos_e_none', lb_phs_pos_e_none, phs_e_none),\n",
       " ('phs_pos_pdch_night', lb_phs_pos_pdch_night, phs_pdch_night),\n",
       " ('phs_pchg_cap_C_day', lb_phs_pchg_cap_C_day, -C_phs_none + phs_pchg_day),\n",
       " ('phs_pdch_cap_C_night',\n",
       "  lb_phs_pdch_cap_C_night,\n",
       "  -C_phs_none + phs_pdch_night),\n",
       " ('phs_e_cap_E_none', lb_phs_e_cap_E_none, -E_phs_none + phs_e_none)]"
      ]
     },
     "execution_count": 38,
     "metadata": {},
     "output_type": "execute_result"
    }
   ],
   "source": [
    "m.comps['phs'].constraints(('name', 'mlt', 'expr_0'), is_equality_constraint=False)"
   ]
  },
  {
   "cell_type": "raw",
   "metadata": {},
   "source": [
    "Evaluation\n",
    "==========\n",
    "\n",
    "The closed-form analytical solutions are evaluated for selected combinations of parameter values. This allows to\n",
    "\n",
    "* plot the results\n",
    "* identify relevant constraint combinations\n",
    "\n",
    "Adjustment of model parameters\n",
    "------------------------------\n",
    "\n",
    "Model parameters can be freely adjusted prior to the :class:`symenergy.evaluator.Evaluator` initialization. Here we set the *total* VRE production to 100% of the total load. This fixed VRE production profile is scaled below using the internal ``vre_scale`` model parameter."
   ]
  },
  {
   "cell_type": "code",
   "execution_count": 39,
   "metadata": {},
   "outputs": [],
   "source": [
    "vre_day = 1      # relative VRE production night\n",
    "vre_night = 0.1  # relative VRE production night\n",
    "tot_l = m.slots['day'].l.value + m.slots['night'].l.value  # total load\n",
    "\n",
    "m.slots['day'].vre.value = vre_day / (vre_day + vre_night) * tot_l\n",
    "m.slots['night'].vre.value = vre_night / (vre_day + vre_night) * tot_l"
   ]
  },
  {
   "cell_type": "raw",
   "metadata": {},
   "source": [
    "Initialize evaluator instance and define model parameter values\n",
    "---------------------------------------------------------------\n",
    "\n",
    "The ``x_vals`` argument defines for which parameter values the solutions are evaluated. For each value combination the optimal constraint combination is identified."
   ]
  },
  {
   "cell_type": "code",
   "execution_count": 40,
   "metadata": {},
   "outputs": [],
   "source": [
    "import symenergy.evaluator.evaluator as evaluator\n",
    "import numpy as np\n",
    "\n",
    "phs_C_max = m.slots['day'].l.value * 0.5  # <-- 50% of maximum load\n",
    "\n",
    "x_vals = {m.vre_scale: np.linspace(0, 1, 21),\n",
    "          m.comps['phs'].C: [0, phs_C_max],\n",
    "          m.comps['phs'].E: [None], # <-- set later\n",
    "          m.comps['phs'].eff: [0.75, 0.9],\n",
    "          m.comps['n'].C: [2000, 4000, 5000]}\n",
    "\n",
    "ev = evaluator.Evaluator(m, x_vals=x_vals, drop_non_optimum=False)\n",
    "ev.cache_lambd.delete()\n",
    "ev.get_evaluated_lambdas_parallel()"
   ]
  },
  {
   "cell_type": "raw",
   "metadata": {},
   "source": [
    "The ``ev.get_evaluated_lambdas_parallel()`` call generates a DataFrame ``df_lam_func`` attribute which contains functions for each model variable and constraint combination. These functions only depend on the parameters defined by the ``x_vals`` argument. As an example, the daytime charging power under constraint combination 3330 can be printed as follows:"
   ]
  },
  {
   "cell_type": "code",
   "execution_count": 41,
   "metadata": {},
   "outputs": [
    {
     "name": "stdout",
     "output_type": "stream",
     "text": [
      "def _98610945ede4c0de22cac7687d8a3aa3(vre_scale_none,C_phs_none,E_phs_none,eff_phs_none,C_n_none):\n",
      "    return((1/12)*E_phs_none*eff_phs_none**(-0.5))\n",
      "\n"
     ]
    }
   ],
   "source": [
    "import inspect\n",
    "print(inspect.getsource(\n",
    "ev.df_lam_func.set_index(['idx', 'func']).loc[(3330, 'phs_pchg_day'), 'lambd_func']))"
   ]
  },
  {
   "cell_type": "raw",
   "metadata": {},
   "source": [
    "Definition of interdependent parameter values\n",
    "---------------------------------------------\n",
    "\n",
    "The ``ev.df_x_vals`` attribute corresponds to the table constructed from all combinations of parameter values defined in the `x_vals` attribute:"
   ]
  },
  {
   "cell_type": "code",
   "execution_count": 42,
   "metadata": {},
   "outputs": [
    {
     "data": {
      "text/html": [
       "<div>\n",
       "<style scoped>\n",
       "    .dataframe tbody tr th:only-of-type {\n",
       "        vertical-align: middle;\n",
       "    }\n",
       "\n",
       "    .dataframe tbody tr th {\n",
       "        vertical-align: top;\n",
       "    }\n",
       "\n",
       "    .dataframe thead th {\n",
       "        text-align: right;\n",
       "    }\n",
       "</style>\n",
       "<table border=\"1\" class=\"dataframe\">\n",
       "  <thead>\n",
       "    <tr style=\"text-align: right;\">\n",
       "      <th></th>\n",
       "      <th>vre_scale_none</th>\n",
       "      <th>C_phs_none</th>\n",
       "      <th>E_phs_none</th>\n",
       "      <th>eff_phs_none</th>\n",
       "      <th>C_n_none</th>\n",
       "    </tr>\n",
       "  </thead>\n",
       "  <tbody>\n",
       "    <tr>\n",
       "      <th>0</th>\n",
       "      <td>0.0</td>\n",
       "      <td>0.0</td>\n",
       "      <td>None</td>\n",
       "      <td>0.75</td>\n",
       "      <td>2000</td>\n",
       "    </tr>\n",
       "    <tr>\n",
       "      <th>1</th>\n",
       "      <td>0.0</td>\n",
       "      <td>0.0</td>\n",
       "      <td>None</td>\n",
       "      <td>0.75</td>\n",
       "      <td>4000</td>\n",
       "    </tr>\n",
       "    <tr>\n",
       "      <th>2</th>\n",
       "      <td>0.0</td>\n",
       "      <td>0.0</td>\n",
       "      <td>None</td>\n",
       "      <td>0.75</td>\n",
       "      <td>5000</td>\n",
       "    </tr>\n",
       "    <tr>\n",
       "      <th>3</th>\n",
       "      <td>0.0</td>\n",
       "      <td>0.0</td>\n",
       "      <td>None</td>\n",
       "      <td>0.90</td>\n",
       "      <td>2000</td>\n",
       "    </tr>\n",
       "    <tr>\n",
       "      <th>4</th>\n",
       "      <td>0.0</td>\n",
       "      <td>0.0</td>\n",
       "      <td>None</td>\n",
       "      <td>0.90</td>\n",
       "      <td>4000</td>\n",
       "    </tr>\n",
       "  </tbody>\n",
       "</table>\n",
       "</div>"
      ],
      "text/plain": [
       "   vre_scale_none  C_phs_none E_phs_none  eff_phs_none  C_n_none\n",
       "0             0.0         0.0       None          0.75      2000\n",
       "1             0.0         0.0       None          0.75      4000\n",
       "2             0.0         0.0       None          0.75      5000\n",
       "3             0.0         0.0       None          0.90      2000\n",
       "4             0.0         0.0       None          0.90      4000"
      ]
     },
     "execution_count": 42,
     "metadata": {},
     "output_type": "execute_result"
    }
   ],
   "source": [
    "ev.df_x_vals.head()"
   ]
  },
  {
   "cell_type": "raw",
   "metadata": {},
   "source": [
    "The functions in the ``ev.df_lam_func`` table are evaluated for each of these table's rows. Prior to this evaluation, the ``df_x_vals`` table can be modified. This allows to\n",
    "\n",
    "* filter irrelevant parameter combinations \n",
    "* define certain logically connected parameter values. In this example, two types of storage are considered:\n",
    "\n",
    "  * high efficiency (90%) storage with small discharge duration of (4 hours)\n",
    "  * storage with lower round-trip efficiency (75%) but higher energy capacity (14 hours duration)"
   ]
  },
  {
   "cell_type": "code",
   "execution_count": 43,
   "metadata": {},
   "outputs": [
    {
     "name": "stdout",
     "output_type": "stream",
     "text": [
      "   vre_scale_none  C_phs_none  E_phs_none  eff_phs_none  C_n_none\n",
      "0             0.0         0.0         0.0          0.75      2000\n",
      "1             0.0         0.0         0.0          0.75      4000\n",
      "2             0.0         0.0         0.0          0.75      5000\n",
      "3             0.0         0.0         0.0          0.90      2000\n",
      "4             0.0         0.0         0.0          0.90      4000\n",
      "5             0.0         0.0         0.0          0.90      5000\n",
      "6             0.0      2500.0     35000.0          0.75      2000\n",
      "7             0.0      2500.0     35000.0          0.75      4000\n",
      "8             0.0      2500.0     35000.0          0.75      5000\n",
      "9             0.0      2500.0     10000.0          0.90      2000\n",
      "Length:  252\n"
     ]
    }
   ],
   "source": [
    "dd_90 = 4\n",
    "dd_75 = 14 \n",
    "\n",
    "ev.df_x_vals['E_phs_none'] = ev.df_x_vals.C_phs_none\n",
    "ev.df_x_vals.loc[ev.df_x_vals.eff_phs_none == 0.90, 'E_phs_none'] *= dd_90\n",
    "ev.df_x_vals.loc[ev.df_x_vals.eff_phs_none == 0.75, 'E_phs_none'] *= dd_75\n",
    "\n",
    "mask_vre = (ev.df_x_vals.vre_scale_none.isin(np.linspace(0, 1, 11))\n",
    "            | ev.df_x_vals.vre_scale_none.isin(np.linspace(0.55, 0.75, 21)))\n",
    "mask_phs = (ev.df_x_vals.C_phs_none.isin(np.linspace(0, phs_C_max, 6)))\n",
    "\n",
    "ev.df_x_vals = ev.df_x_vals.loc[mask_vre | mask_phs]\n",
    "\n",
    "print(ev.df_x_vals.head(10))\n",
    "print('Length: ', len(ev.df_x_vals))"
   ]
  },
  {
   "cell_type": "raw",
   "metadata": {},
   "source": [
    "Evaluate results for all entries of the `Evaluator.df_x_vals table`\n",
    "-------------------------------------------------------------------"
   ]
  },
  {
   "cell_type": "code",
   "execution_count": 44,
   "metadata": {
    "scrolled": false
   },
   "outputs": [],
   "source": [
    "ev.cache_eval.delete()\n",
    "ev.expand_to_x_vals_parallel()"
   ]
  },
  {
   "cell_type": "raw",
   "metadata": {},
   "source": [
    "Simple energy balance plot with and without storage for day and night\n"
   ]
  },
  {
   "cell_type": "code",
   "execution_count": 45,
   "metadata": {
    "scrolled": false
   },
   "outputs": [
    {
     "data": {
      "image/png": "[encoded data removed]",
      "text/plain": [
       "<Figure size 1080x576 with 4 Axes>"
      ]
     },
     "metadata": {
      "needs_background": "light"
     },
     "output_type": "display_data"
    }
   ],
   "source": [
    "import matplotlib.pyplot as plt\n",
    "df = ev.df_bal\n",
    "df = df.loc[-df.func_no_slot.str.contains('tc', 'lam')\n",
    "           & df.eff_phs_none.isin([0.9])\n",
    "           & df.C_n_none.isin([4000])\n",
    "           & -df.slot.isin(['global'])\n",
    "           ]\n",
    "\n",
    "df['lambd'] = df.lambd.astype(float)\n",
    "df['vre_scale_none'] = df.vre_scale_none.apply(lambda x: round(x*10000)/10000)\n",
    "\n",
    "dfpv = df.pivot_table(columns='func_no_slot', values='lambd', index=['C_phs_none', 'slot', 'vre_scale_none'])\n",
    "\n",
    "list_slot = dfpv.index.get_level_values('slot').unique()\n",
    "list_c_phs = dfpv.index.get_level_values('C_phs_none').unique()\n",
    "\n",
    "fig, axarr = plt.subplots(len(list_slot), len(list_c_phs), sharex=True, sharey=True,\n",
    "                          gridspec_kw={'wspace': 0.1,}, figsize=(15,8))\n",
    "list_slot\n",
    "for nslot, slot in enumerate(list_slot):\n",
    "    for nc_phs, c_phs in enumerate(list_c_phs):\n",
    "\n",
    "        ax = axarr[nslot][nc_phs]\n",
    "        dfpv.loc[(c_phs, slot)].plot.bar(ax=ax, legend=False, use_index=True, stacked=True, width=1)\n",
    "        \n",
    "        ax.set_title('C_phs=%s, %s'%(c_phs, slot))\n",
    "\n",
    "        \n",
    "leg = ax.legend(ncol=3)"
   ]
  },
  {
   "cell_type": "raw",
   "metadata": {},
   "source": [
    "Impact of storage on baseload production by constraint combination\n",
    "------------------------------------------------------------------\n",
    "\n",
    "Using a slightly more involved analysis the impact of storage on the production from baseload plants can be plotted. The data series correspond to the least-cost constraint combinations which are active for certain parameters."
   ]
  },
  {
   "cell_type": "code",
   "execution_count": 46,
   "metadata": {},
   "outputs": [
    {
     "data": {
      "image/png": "[encoded data removed]",
      "text/plain": [
       "<Figure size 1080x576 with 6 Axes>"
      ]
     },
     "metadata": {
      "needs_background": "light"
     },
     "output_type": "display_data"
    }
   ],
   "source": [
    "df = ev.df_exp\n",
    "df = df.loc[df.func.str.contains('n_p_')\n",
    "           & df.is_optimum.isin([True])\n",
    "           & -df.slot.isin(['global'])]\n",
    "\n",
    "dfdiff = df.pivot_table(index=[x for x in ev.x_name if not x in ['E_phs_none', 'C_phs_none']] + ['func'],\n",
    "                        values='lambd', columns='C_phs_none')\n",
    "dfdiff['diff'] = dfdiff[2500] - dfdiff[0]\n",
    "\n",
    "dfcc = df.loc[df.C_phs_none == 2500].set_index(dfdiff.index.names)['idx']\n",
    "dfdiff = dfdiff.reset_index().join(dfcc, on=dfdiff.index.names)\n",
    "\n",
    "dfpv = dfdiff.pivot_table(index=['eff_phs_none', 'C_n_none', 'vre_scale_none'], \n",
    "                          columns='idx', values='diff')\n",
    "\n",
    "list_eff = dfpv.index.get_level_values('eff_phs_none').unique()\n",
    "list_c_n = dfpv.index.get_level_values('C_n_none').unique()\n",
    "\n",
    "fig, axarr = plt.subplots(len(list_eff), len(list_c_n), sharex=True, sharey=True,\n",
    "                          gridspec_kw={'wspace': 0.1,}, figsize=(15,8))\n",
    "\n",
    "for neff, eff in enumerate(list_eff):\n",
    "    for nc_n, c_n in enumerate(list_c_n):\n",
    "\n",
    "        ax = axarr[neff][nc_n] if isinstance(axarr, np.ndarray) else axarr\n",
    "        dfpv.loc[(eff, c_n)].plot(ax=ax, legend=False, marker='.',use_index=True, stacked=False, linewidth=1)\n",
    "        \n",
    "        ax.set_title('C_phs_none=%s, %s'%(eff, c_n))\n",
    "        ax.set_ylabel('Storage impact')"
   ]
  }
 ],
 "metadata": {
  "kernelspec": {
   "display_name": "Python 3",
   "language": "python",
   "name": "python3"
  },
  "language_info": {
   "codemirror_mode": {
    "name": "ipython",
    "version": 3
   },
   "file_extension": ".py",
   "mimetype": "text/x-python",
   "name": "python",
   "nbconvert_exporter": "python",
   "pygments_lexer": "ipython3",
   "version": "3.6.8"
  }
 },
 "nbformat": 4,
 "nbformat_minor": 2
}
