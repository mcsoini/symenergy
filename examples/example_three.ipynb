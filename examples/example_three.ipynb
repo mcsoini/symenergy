{
 "cells": [
  {
   "cell_type": "markdown",
   "metadata": {},
   "source": [
    "# Example 3: Three plants\n",
    "_______\n",
    "\n",
    "This illustrates storage impact in a 3 power plant/2 time slot system with constant supply curves."
   ]
  },
  {
   "cell_type": "code",
   "execution_count": 1,
   "metadata": {
    "scrolled": true
   },
   "outputs": [],
   "source": [
    "import numpy as np\n",
    "import pandas as pd\n",
    "import matplotlib.pyplot as plt\n",
    "\n",
    "import symenergy.core.model as model\n",
    "import symenergy.evaluator.evaluator as evaluator\n",
    "\n",
    "pd.options.mode.chained_assignment = None"
   ]
  },
  {
   "cell_type": "markdown",
   "metadata": {},
   "source": [
    "## Initialize model\n",
    "The model structure is initialized.\n",
    "\n",
    "Parameter values are insignificant at this stage as long as they are !=None. They represent default values and define the model structure.\n",
    "\n",
    "`Model.generate_solve()` loads the solved model results from the corresponding pickle file if a model with the same structure (variables and multipliers) has been solved before.\n",
    "\n",
    "`nthread` is the number of cores used for parallelized solving."
   ]
  },
  {
   "cell_type": "code",
   "execution_count": 4,
   "metadata": {},
   "outputs": [
    {
     "name": "stdout",
     "output_type": "stream",
     "text": [
      "Loading from pickle file /mnt/data/Dropbox/SHARED_REPOS/symenergy/cache/5796EF37D4C6.pickle.\n"
     ]
    }
   ],
   "source": [
    "m = model.Model(curtailment=True, nthreads=7)\n",
    "\n",
    "m.add_slot(name='day', load=4.5, vre=3)\n",
    "m.add_slot(name='night', load=5, vre=0.5)\n",
    "\n",
    "m.add_plant(name='n', vc0=1, vc1=None, slots=m.slots, capacity=3, fcom=10, cap_ret=True)\n",
    "m.add_plant(name='c', vc0=1, vc1=1, slots=m.slots, capacity=3, fcom=10, cap_ret=True)\n",
    "m.add_plant(name='g', vc0=2, vc1=1, slots=m.slots)\n",
    "\n",
    "m.add_storage(name='phs', eff=0.75, slots=m.slots, capacity=0.5, energy_capacity=1,\n",
    "              slots_map={'day': 'chg', 'night': 'dch'})\n",
    "\n",
    "m.generate_solve()\n"
   ]
  },
  {
   "cell_type": "markdown",
   "metadata": {},
   "source": [
    "## Initialize evaluator instance, set model parameters and parameter sweep values.\n",
    "The model results are evaluated for all combinations of the iterables' values in the `x_vals` argument.\n",
    "\n",
    "The `Evaluator.df_x_vals` instance attribute is modified after initialization to\n",
    "* filter model runs\n",
    "* set the storage energy capacity `E_phs` in dependence on the efficiency `eff_phs` (i.e. the storage type)"
   ]
  },
  {
   "cell_type": "code",
   "execution_count": 12,
   "metadata": {},
   "outputs": [
    {
     "name": "stdout",
     "output_type": "stream",
     "text": [
      "   vre_scale  C_phs        E_phs\n",
      "0       0.00    500   583.333333\n",
      "1       0.00   2500  2916.666667\n",
      "2       0.00      0     0.000000\n",
      "3       0.05    500   583.333333\n",
      "4       0.05   2500  2916.666667\n",
      "5       0.05      0     0.000000\n",
      "6       0.10    500   583.333333\n",
      "7       0.10   2500  2916.666667\n",
      "8       0.10      0     0.000000\n",
      "9       0.15    500   583.333333\n",
      "Length:  63\n"
     ]
    }
   ],
   "source": [
    "m.slots['day'].l.value = 10000\n",
    "m.slots['night'].l.value = 8000\n",
    "m.slots['day'].vre.value = 1\n",
    "m.slots['night'].vre.value = 0.1\n",
    "\n",
    "vre_day = 1\n",
    "vre_night = 0.1\n",
    "tot_l = m.slots['day'].l.value + m.slots['night'].l.value\n",
    "\n",
    "m.slots['day'].vre.value = vre_day / (vre_day + vre_night) * tot_l\n",
    "m.slots['night'].vre.value = vre_night / (vre_day + vre_night) * tot_l\n",
    "\n",
    "m.comps['n'].C.value = 3500\n",
    "m.comps['c'].C.value = 3500\n",
    "\n",
    "\n",
    "list_params = [\n",
    " {\n",
    "  \"fc_new\": 7.4,\n",
    "  \"pp\": \"c\",\n",
    "  \"vc_tot_max\": 32.6,\n",
    "  \"vc_tot_min\": 21.4\n",
    " },\n",
    " {\n",
    "  \"fc_new\": 4.7,\n",
    "  \"pp\": \"g\",\n",
    "  \"vc_tot_max\": 101.4,\n",
    "  \"vc_tot_min\": 51.4\n",
    " },\n",
    " {\n",
    "  \"fc_new\": 9.1,\n",
    "  \"pp\": \"n\",\n",
    "  \"vc_tot_max\": 9.6,\n",
    "  \"vc_tot_min\": 9.6\n",
    " }\n",
    "]\n",
    "dict_params = {par['pp']: par for par in list_params}\n",
    "dict_params = {key: {par: val for par, val in params.items() if not par == 'pp'}\n",
    "               for key, params in dict_params.items()}\n",
    "dict_params = {key: val for key, val in dict_params.items()}\n",
    "\n",
    "for pp, params in dict_params.items():\n",
    "\n",
    "    fcom, vcmax, vcmin = params.values()\n",
    "\n",
    "    ref_cap = (m.comps[pp].C.value if hasattr(m.comps[pp], 'C')\n",
    "                                   else m.slots['day'].l.value)\n",
    "\n",
    "    m.comps[pp].vc0.value = vcmin\n",
    "    if hasattr(m.comps[pp], 'vc1'):\n",
    "        m.comps[pp].vc1.value = (vcmax - vcmin) / ref_cap\n",
    "    if hasattr(m.comps[pp], 'fcom'):\n",
    "        m.comps[pp].fcom.value = fcom\n",
    "\n",
    "dd_75 = 14\n",
    "\n",
    "phs_C_max = m.slots['day'].l.value * 0.5\n",
    "vre_scale_max = m.slots['day'].vre.value\n",
    "\n",
    "x_vals = {m.vre_scale: np.linspace(0, 1, 21),\n",
    "          m.comps['phs'].C: [500, 2500, 0],\n",
    "          m.comps['phs'].E: [500, 2500, 0]\n",
    "          }\n",
    "\n",
    "ev = evaluator.Evaluator(m, x_vals, drop_non_optimum=True)\n",
    "\n",
    "ev.df_x_vals = ev.df_x_vals.loc[ev.df_x_vals.C_phs == ev.df_x_vals.E_phs]\n",
    "ev.df_x_vals.loc[:, 'E_phs'] *= dd_75/12\n",
    "\n",
    "print(ev.df_x_vals.head(10))\n",
    "print('Length: ', len(ev.df_x_vals))"
   ]
  },
  {
   "cell_type": "markdown",
   "metadata": {},
   "source": [
    "## Generate functions from the symenergy results\n",
    "This evaluates the results using the fixed parameters and returns functions with arguments corresponding to the columns in the `Evaluator.df_x_vals` table.\n",
    "\n",
    "**Note: Takes a while.**"
   ]
  },
  {
   "cell_type": "code",
   "execution_count": 13,
   "metadata": {},
   "outputs": [
    {
     "name": "stdout",
     "output_type": "stream",
     "text": [
      "Extracting solution for n_C_ret_None...substituting...lambdify...done.\n",
      "Extracting solution for n_p_day...substituting...lambdify...done.\n",
      "Extracting solution for n_p_night...substituting...lambdify...done.\n",
      "Extracting solution for c_C_ret_None...substituting...lambdify...done.\n",
      "Extracting solution for c_p_day...substituting...lambdify...done.\n",
      "Extracting solution for c_p_night...substituting...lambdify...done.\n",
      "Extracting solution for g_p_day...substituting...lambdify...done.\n",
      "Extracting solution for g_p_night...substituting...lambdify...done.\n",
      "Extracting solution for phs_e_None...substituting...lambdify...done.\n",
      "Extracting solution for phs_p_day...substituting...lambdify...done.\n",
      "Extracting solution for phs_p_night...substituting...lambdify...done.\n",
      "Extracting solution for curt_p_day...substituting...lambdify...done.\n",
      "Extracting solution for curt_p_night...substituting...lambdify...done.\n",
      "Extracting solution for pi_load_day...substituting...lambdify...done.\n",
      "Extracting solution for pi_load_night...substituting...lambdify...done.\n",
      "Extracting solution for tc...substituting...lambdify...done.\n"
     ]
    }
   ],
   "source": [
    "ev.get_evaluated_lambdas(skip_multipliers=True)"
   ]
  },
  {
   "cell_type": "markdown",
   "metadata": {},
   "source": [
    "## Evaluate results for all entries of the `Evaluator.df_x_vals table`\n",
    "**Note: Depending on the size of the model and the `df_x_vals` table this takes a while.**"
   ]
  },
  {
   "cell_type": "code",
   "execution_count": 14,
   "metadata": {
    "scrolled": false
   },
   "outputs": [
    {
     "name": "stdout",
     "output_type": "stream",
     "text": [
      "0 {'vre_scale': 0.0, 'C_phs': 500.0, 'E_phs': 583.3333333333334} -> 37.138548135757446\n",
      "0 {'vre_scale': 0.0, 'C_phs': 500.0, 'E_phs': 583.3333333333334} -> 39.425577878952026\n",
      "1 {'vre_scale': 0.0, 'C_phs': 2500.0, 'E_phs': 2916.666666666667} -> 38.035043716430664\n",
      "2 {'vre_scale': 0.0, 'C_phs': 0.0, 'E_phs': 0.0} -> 37.34807252883911\n",
      "3 {'vre_scale': 0.05, 'C_phs': 500.0, 'E_phs': 583.3333333333334} -> 37.5744047164917\n",
      "4 {'vre_scale': 0.05, 'C_phs': 2500.0, 'E_phs': 2916.666666666667} -> 37.027801513671875\n",
      "5 {'vre_scale': 0.05, 'C_phs': 0.0, 'E_phs': 0.0} -> 40.55328440666199\n",
      "6 {'vre_scale': 0.1, 'C_phs': 500.0, 'E_phs': 583.3333333333334} -> 41.32857966423035\n",
      "7 {'vre_scale': 0.1, 'C_phs': 2500.0, 'E_phs': 2916.666666666667} -> 38.00553035736084\n",
      "8 {'vre_scale': 0.1, 'C_phs': 0.0, 'E_phs': 0.0} -> 38.51243829727173\n",
      "9 {'vre_scale': 0.15000000000000002, 'C_phs': 500.0, 'E_phs': 583.3333333333334} -> 35.15053629875183\n",
      "10 {'vre_scale': 0.15000000000000002, 'C_phs': 2500.0, 'E_phs': 2916.666666666667} -> 36.58846139907837\n",
      "11 {'vre_scale': 0.15000000000000002, 'C_phs': 0.0, 'E_phs': 0.0} -> 41.71695017814636\n",
      "12 {'vre_scale': 0.2, 'C_phs': 500.0, 'E_phs': 583.3333333333334} -> 38.225258111953735\n",
      "13 {'vre_scale': 0.2, 'C_phs': 2500.0, 'E_phs': 2916.666666666667} -> 37.05142331123352\n",
      "14 {'vre_scale': 0.2, 'C_phs': 0.0, 'E_phs': 0.0} -> 33.91359233856201\n",
      "15 {'vre_scale': 0.25, 'C_phs': 500.0, 'E_phs': 583.3333333333334} -> 34.881107330322266\n",
      "16 {'vre_scale': 0.25, 'C_phs': 2500.0, 'E_phs': 2916.666666666667} -> 37.6711585521698\n",
      "17 {'vre_scale': 0.25, 'C_phs': 0.0, 'E_phs': 0.0} -> 33.824397563934326\n",
      "18 {'vre_scale': 0.30000000000000004, 'C_phs': 500.0, 'E_phs': 583.3333333333334} -> 33.946287631988525\n",
      "19 {'vre_scale': 0.30000000000000004, 'C_phs': 2500.0, 'E_phs': 2916.666666666667} -> 33.74530601501465\n",
      "20 {'vre_scale': 0.30000000000000004, 'C_phs': 0.0, 'E_phs': 0.0} -> 33.65125322341919\n",
      "21 {'vre_scale': 0.35000000000000003, 'C_phs': 500.0, 'E_phs': 583.3333333333334} -> 33.66145348548889\n",
      "22 {'vre_scale': 0.35000000000000003, 'C_phs': 2500.0, 'E_phs': 2916.666666666667} -> 33.39013600349426\n",
      "23 {'vre_scale': 0.35000000000000003, 'C_phs': 0.0, 'E_phs': 0.0} -> 33.816755294799805\n",
      "24 {'vre_scale': 0.4, 'C_phs': 500.0, 'E_phs': 583.3333333333334} -> 33.481560945510864\n",
      "25 {'vre_scale': 0.4, 'C_phs': 2500.0, 'E_phs': 2916.666666666667} -> 34.22426414489746\n",
      "26 {'vre_scale': 0.4, 'C_phs': 0.0, 'E_phs': 0.0} -> 34.067776918411255\n",
      "27 {'vre_scale': 0.45, 'C_phs': 500.0, 'E_phs': 583.3333333333334} -> 33.64021348953247\n",
      "28 {'vre_scale': 0.45, 'C_phs': 2500.0, 'E_phs': 2916.666666666667} -> 33.94785475730896\n",
      "29 {'vre_scale': 0.45, 'C_phs': 0.0, 'E_phs': 0.0} -> 33.581159353256226\n",
      "30 {'vre_scale': 0.5, 'C_phs': 500.0, 'E_phs': 583.3333333333334} -> 33.38445830345154\n",
      "31 {'vre_scale': 0.5, 'C_phs': 2500.0, 'E_phs': 2916.666666666667} -> 33.44392919540405\n",
      "32 {'vre_scale': 0.5, 'C_phs': 0.0, 'E_phs': 0.0} -> 34.18740725517273\n",
      "33 {'vre_scale': 0.55, 'C_phs': 500.0, 'E_phs': 583.3333333333334} -> 33.65300989151001\n",
      "34 {'vre_scale': 0.55, 'C_phs': 2500.0, 'E_phs': 2916.666666666667} -> 33.563719749450684\n",
      "35 {'vre_scale': 0.55, 'C_phs': 0.0, 'E_phs': 0.0} -> 33.447654247283936\n",
      "36 {'vre_scale': 0.6000000000000001, 'C_phs': 500.0, 'E_phs': 583.3333333333334} -> 33.65185880661011\n",
      "37 {'vre_scale': 0.6000000000000001, 'C_phs': 2500.0, 'E_phs': 2916.666666666667} -> 33.55936670303345\n",
      "38 {'vre_scale': 0.6000000000000001, 'C_phs': 0.0, 'E_phs': 0.0} -> 33.26279926300049\n",
      "39 {'vre_scale': 0.65, 'C_phs': 500.0, 'E_phs': 583.3333333333334} -> 33.53756022453308\n",
      "40 {'vre_scale': 0.65, 'C_phs': 2500.0, 'E_phs': 2916.666666666667} -> 33.467045545578\n",
      "41 {'vre_scale': 0.65, 'C_phs': 0.0, 'E_phs': 0.0} -> 33.95728158950806\n",
      "42 {'vre_scale': 0.7000000000000001, 'C_phs': 500.0, 'E_phs': 583.3333333333334} -> 33.72528123855591\n",
      "43 {'vre_scale': 0.7000000000000001, 'C_phs': 2500.0, 'E_phs': 2916.666666666667} -> 34.09279799461365\n",
      "44 {'vre_scale': 0.7000000000000001, 'C_phs': 0.0, 'E_phs': 0.0} -> 33.76942253112793\n",
      "45 {'vre_scale': 0.75, 'C_phs': 500.0, 'E_phs': 583.3333333333334} -> 34.05946111679077\n",
      "46 {'vre_scale': 0.75, 'C_phs': 2500.0, 'E_phs': 2916.666666666667} -> 33.48754811286926\n",
      "47 {'vre_scale': 0.75, 'C_phs': 0.0, 'E_phs': 0.0} -> 33.436068534851074\n",
      "48 {'vre_scale': 0.8, 'C_phs': 500.0, 'E_phs': 583.3333333333334} -> 33.48305702209473\n",
      "49 {'vre_scale': 0.8, 'C_phs': 2500.0, 'E_phs': 2916.666666666667} -> 33.802497148513794\n",
      "50 {'vre_scale': 0.8, 'C_phs': 0.0, 'E_phs': 0.0} -> 33.62150979042053\n",
      "51 {'vre_scale': 0.8500000000000001, 'C_phs': 500.0, 'E_phs': 583.3333333333334} -> 33.69990825653076\n",
      "52 {'vre_scale': 0.8500000000000001, 'C_phs': 2500.0, 'E_phs': 2916.666666666667} -> 33.702852964401245\n",
      "53 {'vre_scale': 0.8500000000000001, 'C_phs': 0.0, 'E_phs': 0.0} -> 33.32653331756592\n",
      "54 {'vre_scale': 0.9, 'C_phs': 500.0, 'E_phs': 583.3333333333334} -> 33.356940507888794\n",
      "55 {'vre_scale': 0.9, 'C_phs': 2500.0, 'E_phs': 2916.666666666667} -> 33.62983298301697\n",
      "56 {'vre_scale': 0.9, 'C_phs': 0.0, 'E_phs': 0.0} -> 33.36001396179199\n",
      "57 {'vre_scale': 0.9500000000000001, 'C_phs': 500.0, 'E_phs': 583.3333333333334} -> 33.78842210769653\n",
      "58 {'vre_scale': 0.9500000000000001, 'C_phs': 2500.0, 'E_phs': 2916.666666666667} -> 34.33293414115906\n",
      "59 {'vre_scale': 0.9500000000000001, 'C_phs': 0.0, 'E_phs': 0.0} -> 33.68103075027466\n",
      "60 {'vre_scale': 1.0, 'C_phs': 500.0, 'E_phs': 583.3333333333334} -> 33.62791085243225\n",
      "61 {'vre_scale': 1.0, 'C_phs': 2500.0, 'E_phs': 2916.666666666667} -> 33.714242458343506\n",
      "62 {'vre_scale': 1.0, 'C_phs': 0.0, 'E_phs': 0.0} -> 33.379926443099976\n"
     ]
    }
   ],
   "source": [
    "ev.expand_to_x_vals(verbose=True)"
   ]
  },
  {
   "cell_type": "markdown",
   "metadata": {},
   "source": [
    "## Add additional columns to the `Evaluator.df_exp` table\n",
    "Variables are not indexed by time slot names. The `Evaluator.map_func_to_slot` method expands the `Evaluator.df_exp` table by additional columns with variable names and time slots names."
   ]
  },
  {
   "cell_type": "code",
   "execution_count": 15,
   "metadata": {},
   "outputs": [
    {
     "name": "stdout",
     "output_type": "stream",
     "text": [
      "map_func_to_slot\n"
     ]
    }
   ],
   "source": [
    "ev.map_func_to_slot()"
   ]
  },
  {
   "cell_type": "markdown",
   "metadata": {},
   "source": [
    "## Build supply table `Evaluator.df_bal`\n",
    "This includes the demand to the result demand and adjusts the signs, such that demand, charging, and curtailment are negative. \n"
   ]
  },
  {
   "cell_type": "code",
   "execution_count": 16,
   "metadata": {},
   "outputs": [
    {
     "name": "stdout",
     "output_type": "stream",
     "text": [
      "   C_phs       E_phs                                         const_comb  \\\n",
      "0  500.0  583.333333  act_lb_n_pos_p_day=0, act_lb_n_pos_p_night=0, ...   \n",
      "1  500.0  583.333333  act_lb_n_pos_p_day=0, act_lb_n_pos_p_night=0, ...   \n",
      "2  500.0  583.333333  act_lb_n_pos_p_day=0, act_lb_n_pos_p_night=0, ...   \n",
      "3  500.0  583.333333  act_lb_n_pos_p_day=0, act_lb_n_pos_p_night=0, ...   \n",
      "4  500.0  583.333333  act_lb_n_pos_p_day=0, act_lb_n_pos_p_night=0, ...   \n",
      "\n",
      "                    func func_no_slot   lambd    slot  vre_scale  \n",
      "0  n_C_ret_None_lam_plot      n_C_ret     0.0  global        0.0  \n",
      "1       n_p_day_lam_plot          n_p  3500.0     day        0.0  \n",
      "2     n_p_night_lam_plot          n_p  3500.0   night        0.0  \n",
      "3  c_C_ret_None_lam_plot      c_C_ret     0.0  global        0.0  \n",
      "4       c_p_day_lam_plot          c_p  3500.0     day        0.0  \n"
     ]
    }
   ],
   "source": [
    "ev.build_supply_table()\n",
    "\n",
    "print(ev.df_bal.head(5))"
   ]
  },
  {
   "cell_type": "markdown",
   "metadata": {},
   "source": [
    "## Impact of storage on peak, mid, and baseload production"
   ]
  },
  {
   "cell_type": "code",
   "execution_count": 47,
   "metadata": {},
   "outputs": [
    {
     "data": {
      "image/png": "[encoded data removed]",
      "text/plain": [
       "<Figure size 1080x504 with 2 Axes>"
      ]
     },
     "metadata": {
      "needs_background": "light"
     },
     "output_type": "display_data"
    }
   ],
   "source": [
    "df = ev.df_exp\n",
    "df = df.loc[df.func.str.contains('n_p_|g_p_|curt|c_p_')\n",
    "           & df.is_optimum.isin([True])\n",
    "           & -df.slot.isin(['global'])]\n",
    "\n",
    "\n",
    "dfdiff = df.pivot_table(index=[x for x in ev.x_name\n",
    "                               if not x in ['E_phs', 'C_phs']] + ['func_no_slot'],\n",
    "                        values='lambd', columns='C_phs')\n",
    "for c_phs in [2500, 500]:\n",
    "    dfdiff['diff%d'%c_phs] = dfdiff[c_phs] - dfdiff[0]\n",
    "dfdiff.head(10)\n",
    "\n",
    "\n",
    "dfdiff = dfdiff[['diff2500', 'diff500']].stack().rename('diff').reset_index()\n",
    "\n",
    "dfpv = dfdiff.pivot_table(index=['C_phs', 'vre_scale'],\n",
    "                          values='diff',\n",
    "                          columns=['func_no_slot'])\n",
    "\n",
    "list_c_phs = dfpv.index.get_level_values('C_phs').unique()\n",
    "\n",
    "fig, axarr = plt.subplots(1, len(list_c_phs), sharey=False, \n",
    "                          gridspec_kw={'wspace': 0.1,},\n",
    "                          figsize=(15,7))\n",
    "\n",
    "for nc_phs, c_phs in enumerate(reversed(list_c_phs)):\n",
    "\n",
    "    ax = axarr[nc_phs]\n",
    "    dfpv.loc[(c_phs)].plot(ax=ax, legend=False, marker='.',\n",
    "                           use_index=True, stacked=False, width=1)\n",
    "\n",
    "    ax.set_title('c_phs=%s'%(c_phs))\n",
    "\n",
    "axarr[0].set_ylabel('Storage impact') \n",
    "leg = ax.legend(title='Plant/Curtailment')"
   ]
  }
 ],
 "metadata": {
  "kernelspec": {
   "display_name": "Python 3",
   "language": "python",
   "name": "python3"
  },
  "language_info": {
   "codemirror_mode": {
    "name": "ipython",
    "version": 3
   },
   "file_extension": ".py",
   "mimetype": "text/x-python",
   "name": "python",
   "nbconvert_exporter": "python",
   "pygments_lexer": "ipython3",
   "version": "3.6.8"
  }
 },
 "nbformat": 4,
 "nbformat_minor": 2
}
